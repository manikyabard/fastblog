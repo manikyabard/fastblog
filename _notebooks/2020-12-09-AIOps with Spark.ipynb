{
 "cells": [
  {
   "cell_type": "markdown",
   "metadata": {},
   "source": [
    "# \"AIOps with Spark\"\n",
    "> \"Forecasting metrics values for Cloud resources, to find anomalies, and optimize costs\"\n",
    "\n",
    "- toc: true\n",
    "- branch: master\n",
    "- badges: false\n",
    "- comments: true\n",
    "- categories: [data-analysis]"
   ]
  },
  {
   "cell_type": "markdown",
   "metadata": {},
   "source": [
    "## Introduction"
   ]
  },
  {
   "cell_type": "markdown",
   "metadata": {},
   "source": [
    "Everyday people perform various computational processes which demand a lot of online resources throughout the day, month or the year. The amount of data produced per day is massive, and it is important to know the exact usage of resources through this time to make it available to the users as an when required, thereby improving the efficiency.\n",
    "In the following project, we make use of certain dev-ops output data and analyze the variation in the performance throughout the day by performing a time series analysis on the data using spark RDDs.\n",
    "Apache Spark is a unified analytical engine used for big data and machine learning purposes developed at UC Berkeley in 2009. They also founded Databricks from Azure in 2013, which we use here to execute our program\n"
   ]
  },
  {
   "cell_type": "markdown",
   "metadata": {},
   "source": [
    "## Architecture"
   ]
  },
  {
   "cell_type": "markdown",
   "metadata": {},
   "source": [
    "![](my_icons/Bigdataintro.png)"
   ]
  },
  {
   "cell_type": "markdown",
   "metadata": {},
   "source": [
    "## Importing required libraries"
   ]
  },
  {
   "cell_type": "code",
   "execution_count": 0,
   "metadata": {
    "application/vnd.databricks.v1+cell": {
     "inputWidgets": {},
     "nuid": "b8b50ce0-1bff-41bb-a470-693974521299",
     "showTitle": false,
     "title": ""
    }
   },
   "outputs": [
    {
     "data": {
      "text/html": [
       "<style scoped>\n",
       "  .ansiout {\n",
       "    display: block;\n",
       "    unicode-bidi: embed;\n",
       "    white-space: pre-wrap;\n",
       "    word-wrap: break-word;\n",
       "    word-break: break-all;\n",
       "    font-family: \"Source Code Pro\", \"Menlo\", monospace;;\n",
       "    font-size: 13px;\n",
       "    color: #555;\n",
       "    margin-left: 4px;\n",
       "    line-height: 19px;\n",
       "  }\n",
       "</style>\n",
       "<div class=\"ansiout\">Importing plotly failed. Interactive plots will not work.\n",
       "</div>"
      ]
     },
     "metadata": {
      "application/vnd.databricks.v1+output": {
       "addedWidgets": {},
       "arguments": {},
       "data": "<div class=\"ansiout\">Importing plotly failed. Interactive plots will not work.\n</div>",
       "datasetInfos": [],
       "removedWidgets": [],
       "type": "html"
      }
     },
     "output_type": "display_data"
    }
   ],
   "source": [
    "\n",
    "import numpy as np\n",
    "import pandas as pd\n",
    "from fbprophet import Prophet\n",
    "from pyspark import SparkConf\n",
    "from pyspark.sql import SparkSession\n",
    "from pyspark.sql.functions import collect_list, struct\n",
    "from pyspark.sql.types import FloatType, StructField, StructType, StringType, TimestampType\n",
    "from sklearn.metrics import mean_squared_error\n",
    "from pathlib import Path"
   ]
  },
  {
   "cell_type": "markdown",
   "metadata": {},
   "source": [
    "Defining path where data is stored."
   ]
  },
  {
   "cell_type": "code",
   "execution_count": 0,
   "metadata": {
    "application/vnd.databricks.v1+cell": {
     "inputWidgets": {},
     "nuid": "292d0e17-f61c-4c1c-8add-9fdf58cec2a8",
     "showTitle": false,
     "title": ""
    }
   },
   "outputs": [
    {
     "data": {
      "text/html": [
       "<style scoped>\n",
       "  .ansiout {\n",
       "    display: block;\n",
       "    unicode-bidi: embed;\n",
       "    white-space: pre-wrap;\n",
       "    word-wrap: break-word;\n",
       "    word-break: break-all;\n",
       "    font-family: \"Source Code Pro\", \"Menlo\", monospace;;\n",
       "    font-size: 13px;\n",
       "    color: #555;\n",
       "    margin-left: 4px;\n",
       "    line-height: 19px;\n",
       "  }\n",
       "</style>\n",
       "<div class=\"ansiout\"></div>"
      ]
     },
     "metadata": {
      "application/vnd.databricks.v1+output": {
       "addedWidgets": {},
       "arguments": {},
       "data": "<div class=\"ansiout\"></div>",
       "datasetInfos": [],
       "removedWidgets": [],
       "type": "html"
      }
     },
     "output_type": "display_data"
    }
   ],
   "source": [
    "path = Path(\"/FileStore/tables/\")\n",
    "file_name = \"i_0a1c7dc126cb6ac8b_CPUUtilization.csv\""
   ]
  },
  {
   "cell_type": "code",
   "execution_count": 0,
   "metadata": {
    "application/vnd.databricks.v1+cell": {
     "inputWidgets": {},
     "nuid": "e291cfd7-6552-4e5e-9f96-3bf33a619f07",
     "showTitle": false,
     "title": ""
    }
   },
   "outputs": [
    {
     "data": {
      "text/html": [
       "<style scoped>\n",
       "  .ansiout {\n",
       "    display: block;\n",
       "    unicode-bidi: embed;\n",
       "    white-space: pre-wrap;\n",
       "    word-wrap: break-word;\n",
       "    word-break: break-all;\n",
       "    font-family: \"Source Code Pro\", \"Menlo\", monospace;;\n",
       "    font-size: 13px;\n",
       "    color: #555;\n",
       "    margin-left: 4px;\n",
       "    line-height: 19px;\n",
       "  }\n",
       "</style>\n",
       "<div class=\"ansiout\">Out[2]: &#39;0.14.1&#39;</div>"
      ]
     },
     "metadata": {
      "application/vnd.databricks.v1+output": {
       "addedWidgets": {},
       "arguments": {},
       "data": "<div class=\"ansiout\">Out[2]: &#39;0.14.1&#39;</div>",
       "datasetInfos": [],
       "removedWidgets": [],
       "type": "html"
      }
     },
     "output_type": "display_data"
    }
   ],
   "source": [
    "import pyarrow\n",
    "pyarrow.__version__"
   ]
  },
  {
   "cell_type": "markdown",
   "metadata": {},
   "source": [
    "## Defining Helper Functions"
   ]
  },
  {
   "cell_type": "markdown",
   "metadata": {},
   "source": [
    "Retrieves the data from path and cleans it."
   ]
  },
  {
   "cell_type": "code",
   "execution_count": null,
   "metadata": {
    "application/vnd.databricks.v1+cell": {
     "inputWidgets": {},
     "nuid": "4e9c6381-448d-4421-8748-ef202c0d0e83",
     "showTitle": false,
     "title": ""
    }
   },
   "outputs": [],
   "source": [
    "def retrieve_data(file_name):\n",
    "    \"\"\"Load sample data from ./data/original-input.csv as a pyspark.sql.DataFrame.\"\"\"\n",
    "#     df = (spark.read\n",
    "#           .option(\"header\", \"true\")\n",
    "#           .option(\"inferSchema\", value=True)\n",
    "#           .csv(\"./data/input.csv\"))\n",
    "    df = spark.read.option(\"header\", \"true\").option(\"inferSchema\", value=True).format(\"csv\").load(file_name)\n",
    "\n",
    "    # Drop any null values incase they exist\n",
    "    df = df.dropna()\n",
    "\n",
    "    # Rename timestamp to ds and total to y for fbprophet\n",
    "    df = df.select(\n",
    "        df['timestamp'].alias('ds'),\n",
    "        df['service_name'],\n",
    "        df['value'].cast(FloatType()).alias('y'),\n",
    "        df['metric_name']\n",
    "    )\n",
    "\n",
    "    return df"
   ]
  },
  {
   "cell_type": "markdown",
   "metadata": {},
   "source": [
    "Retrieves the data as a stream from path."
   ]
  },
  {
   "cell_type": "code",
   "execution_count": null,
   "metadata": {
    "application/vnd.databricks.v1+cell": {
     "inputWidgets": {},
     "nuid": "4e9c6381-448d-4421-8748-ef202c0d0e83",
     "showTitle": false,
     "title": ""
    }
   },
   "outputs": [],
   "source": [
    "def retrieve_datastream(file_name):\n",
    "  schema = spark.read.option(\"header\", \"true\").option(\"inferSchema\", value=True).format(\"csv\").load(file_name).schema\n",
    "\n",
    "  streamingInputDF = (\n",
    "    spark\n",
    "      .readStream\n",
    "      .schema(schema)\n",
    "      .option(\"header\", \"true\").format(\"csv\").load(file_name))\n",
    "\n",
    "\n",
    "  streamingCountsDF = (\n",
    "    streamingInputDF\n",
    "      .groupBy(\n",
    "        streamingInputDF.value,\n",
    "        window(streamingInputDF.timestamp, \"1 hour\"))\n",
    "      .count()\n",
    "  )\n",
    "  "
   ]
  },
  {
   "cell_type": "markdown",
   "metadata": {},
   "source": [
    "Function to convert each of the sql rows into a Python dictionary. We append each element to a single dictionalry and convert the final output into a pandas dataframe"
   ]
  },
  {
   "cell_type": "code",
   "execution_count": null,
   "metadata": {
    "application/vnd.databricks.v1+cell": {
     "inputWidgets": {},
     "nuid": "4e9c6381-448d-4421-8748-ef202c0d0e83",
     "showTitle": false,
     "title": ""
    }
   },
   "outputs": [],
   "source": [
    "def transform_data(row):\n",
    "    \"\"\"Transform data from pyspark.sql.Row to python dict to be used in rdd.\"\"\"\n",
    "    data = row['data']\n",
    "    app = row['service_name']\n",
    "    mt = row['metric_name']\n",
    "\n",
    "    # Transform [pyspark.sql.Dataframe.Row] -> [dict]\n",
    "    data_dicts = []\n",
    "    for d in data:\n",
    "        data_dicts.append(d.asDict())\n",
    "\n",
    "    # Convert into pandas dataframe for fbprophet\n",
    "    data = pd.DataFrame(data_dicts)\n",
    "    data['ds'] = pd.to_datetime(data['ds'])\n",
    "\n",
    "    return {\n",
    "        'service_name': app,\n",
    "        'metric_name': mt,\n",
    "        'data': data\n",
    "    }"
   ]
  },
  {
   "cell_type": "markdown",
   "metadata": {},
   "source": [
    "Function used to split the data into training dataset and a testing dataset. The reference used to split would be the value of the timestamp. We initialize a 'max_datetime' variable to set a threshold for the split."
   ]
  },
  {
   "cell_type": "code",
   "execution_count": null,
   "metadata": {
    "application/vnd.databricks.v1+cell": {
     "inputWidgets": {},
     "nuid": "4e9c6381-448d-4421-8748-ef202c0d0e83",
     "showTitle": false,
     "title": ""
    }
   },
   "outputs": [],
   "source": [
    "def partition_data(d):\n",
    "    \"\"\"Split data into training and testing based on timestamp.\"\"\"\n",
    "    # Extract data from pd.Dataframe\n",
    "    data = d['data']\n",
    "\n",
    "    # Find max timestamp and extract timestamp for start of day\n",
    "    max_datetime = pd.to_datetime(max(data['ds']))\n",
    "#     start_datetime = max_datetime.replace(hour=00, minute=00, second=00)\n",
    "    start_datetime = '10/10/20 00:00'\n",
    "    # Extract training data\n",
    "    train_data = data[data['ds'] < start_datetime]\n",
    "\n",
    "    # Account for zeros in data while still applying uniform transform\n",
    "#     train_data['y'] = train_data['y'].apply(lambda x: np.log(x + 1))\n",
    "\n",
    "    # Assign train/test split\n",
    "    d['test_data'] = data.loc[(data['ds'] >= start_datetime)\n",
    "                              & (data['ds'] <= max_datetime)]\n",
    "    d['train_data'] = train_data\n",
    "\n",
    "    return d"
   ]
  },
  {
   "cell_type": "markdown",
   "metadata": {},
   "source": [
    "Function that is used to create a prophet model out if the data we input into it. Prophet takes in certain arguments as shown below and outputs a time series analysis for the same."
   ]
  },
  {
   "cell_type": "code",
   "execution_count": null,
   "metadata": {
    "application/vnd.databricks.v1+cell": {
     "inputWidgets": {},
     "nuid": "4e9c6381-448d-4421-8748-ef202c0d0e83",
     "showTitle": false,
     "title": ""
    }
   },
   "outputs": [],
   "source": [
    "def create_model(d):\n",
    "    \"\"\"Create Prophet model using each input grid parameter set.\"\"\"\n",
    "    m = Prophet()\n",
    "    d['model'] = m\n",
    "\n",
    "    return d"
   ]
  },
  {
   "cell_type": "markdown",
   "metadata": {},
   "source": [
    "Once we have the Prophet model initialized we can fit the training dataset from our previous function and train the model."
   ]
  },
  {
   "cell_type": "code",
   "execution_count": null,
   "metadata": {
    "application/vnd.databricks.v1+cell": {
     "inputWidgets": {},
     "nuid": "4e9c6381-448d-4421-8748-ef202c0d0e83",
     "showTitle": false,
     "title": ""
    }
   },
   "outputs": [],
   "source": [
    "def train_model(d):\n",
    "    \"\"\"Fit the model using the training data.\"\"\"\n",
    "    model = d['model']\n",
    "    train_data = d['train_data']\n",
    "    model.fit(train_data)\n",
    "    d['model'] = model\n",
    "\n",
    "    return d"
   ]
  },
  {
   "cell_type": "markdown",
   "metadata": {},
   "source": [
    "Function used to test if the trained model is able to perform smoothly and forecast the right values for the same."
   ]
  },
  {
   "cell_type": "code",
   "execution_count": null,
   "metadata": {
    "application/vnd.databricks.v1+cell": {
     "inputWidgets": {},
     "nuid": "4e9c6381-448d-4421-8748-ef202c0d0e83",
     "showTitle": false,
     "title": ""
    }
   },
   "outputs": [],
   "source": [
    "def test_model(d):\n",
    "    \"\"\"Run the forecast method on the model to make future predictions.\"\"\"\n",
    "    test_data = d['test_data']\n",
    "    model = d['model']\n",
    "    t = test_data['ds']\n",
    "    t = pd.DataFrame(t)\n",
    "    t.columns = ['ds']\n",
    "\n",
    "    predictions = model.predict(t)\n",
    "    d['predictions'] = predictions\n",
    "\n",
    "    return d"
   ]
  },
  {
   "cell_type": "markdown",
   "metadata": {},
   "source": [
    "Function to forecast the data values upto a certain defined threshold."
   ]
  },
  {
   "cell_type": "code",
   "execution_count": null,
   "metadata": {
    "application/vnd.databricks.v1+cell": {
     "inputWidgets": {},
     "nuid": "4e9c6381-448d-4421-8748-ef202c0d0e83",
     "showTitle": false,
     "title": ""
    }
   },
   "outputs": [],
   "source": [
    "def make_forecast(d):\n",
    "    \"\"\"Execute the forecast method on the model to make future predictions.\"\"\"\n",
    "    model = d['model']\n",
    "    future = model.make_future_dataframe(\n",
    "        periods=576, freq='5min', include_history=False)\n",
    "    future = pd.DataFrame(future['ds'].apply(pd.DateOffset(1)))\n",
    "    forecast = model.predict(future)\n",
    "    d['forecast'] = forecast\n",
    "    \n",
    "\n",
    "    return d"
   ]
  },
  {
   "cell_type": "markdown",
   "metadata": {},
   "source": [
    "Function used to normalize all the values of our data."
   ]
  },
  {
   "cell_type": "code",
   "execution_count": null,
   "metadata": {
    "application/vnd.databricks.v1+cell": {
     "inputWidgets": {},
     "nuid": "4e9c6381-448d-4421-8748-ef202c0d0e83",
     "showTitle": false,
     "title": ""
    }
   },
   "outputs": [],
   "source": [
    "def normalize_predictions(d):\n",
    "    \"\"\"Normalize predictions using np.exp().\"\"\"\n",
    "    predictions = d['predictions']\n",
    "#     predictions['yhat'] = np.exp(predictions['yhat']) - 1\n",
    "    d['predictions'] = predictions\n",
    "    return d"
   ]
  },
  {
   "cell_type": "markdown",
   "metadata": {},
   "source": [
    "Function used to normalize the values of our forecasted data. As mentioned below, since certain values tend to infinity, we replace these values with None using lambda functions."
   ]
  },
  {
   "cell_type": "code",
   "execution_count": null,
   "metadata": {
    "application/vnd.databricks.v1+cell": {
     "inputWidgets": {},
     "nuid": "4e9c6381-448d-4421-8748-ef202c0d0e83",
     "showTitle": false,
     "title": ""
    }
   },
   "outputs": [],
   "source": [
    "def normalize_forecast(d):\n",
    "    \"\"\"Normalize predictions using np.exp().\n",
    "    Note:  np.exp(>709.782) = inf, so replace value with None\n",
    "    \"\"\"\n",
    "    forecast = d['forecast']\n",
    "#     forecast['yhat'] = forecast['yhat'].apply(\n",
    "#         lambda x: np.exp(x) - 1 if x < 709.782 else None)\n",
    "#     forecast['yhat_lower'] = forecast['yhat_lower'].apply(\n",
    "#         lambda x: np.exp(x) - 1 if x < 709.782 else None)\n",
    "#     forecast['yhat_upper'] = forecast['yhat_upper'].apply(\n",
    "#         lambda x: np.exp(x) - 1 if x < 709.782 else None)\n",
    "    d['forecast'] = forecast\n",
    "    return d"
   ]
  },
  {
   "cell_type": "markdown",
   "metadata": {},
   "source": [
    "Function used to calculate the mean squared error of the given test data with respect to the predicted outcomes."
   ]
  },
  {
   "cell_type": "code",
   "execution_count": null,
   "metadata": {
    "application/vnd.databricks.v1+cell": {
     "inputWidgets": {},
     "nuid": "4e9c6381-448d-4421-8748-ef202c0d0e83",
     "showTitle": false,
     "title": ""
    }
   },
   "outputs": [],
   "source": [
    "def calc_error(d):\n",
    "    \"\"\"Calculate error using mse (mean squared error).\"\"\"\n",
    "    test_data = d['test_data']\n",
    "    predictions = d['predictions']\n",
    "    results = mean_squared_error(test_data['y'], predictions['yhat'])\n",
    "    d['mse'] = results\n",
    "\n",
    "    return d"
   ]
  },
  {
   "cell_type": "markdown",
   "metadata": {},
   "source": [
    "Function used to return a table of all the previously calculated values of our forecast and our mean square errors."
   ]
  },
  {
   "cell_type": "code",
   "execution_count": null,
   "metadata": {
    "application/vnd.databricks.v1+cell": {
     "inputWidgets": {},
     "nuid": "4e9c6381-448d-4421-8748-ef202c0d0e83",
     "showTitle": false,
     "title": ""
    }
   },
   "outputs": [],
   "source": [
    "def reduce_data_scope(d):\n",
    "    \"\"\"Return a tuple (service_name + , + metric_type, {}).\"\"\"\n",
    "    return (\n",
    "        d['service_name'] + ',' + d['metric_name'],\n",
    "        {\n",
    "            'forecast': d['forecast'],\n",
    "            'mse': d['mse'],\n",
    "        },\n",
    "    )"
   ]
  },
  {
   "cell_type": "markdown",
   "metadata": {},
   "source": [
    "Function to Flatten rdd into tuple which will be converted into a dataframe.Row.\n",
    "    Checks each float to see if it is a np datatype, since it could be None.\n",
    "    If it is an np datatype then it will convert to scalar python datatype\n",
    "    so that it can be persisted into a database, since most dont know how to\n",
    "    interpret np python datatypes."
   ]
  },
  {
   "cell_type": "code",
   "execution_count": 0,
   "metadata": {
    "application/vnd.databricks.v1+cell": {
     "inputWidgets": {},
     "nuid": "4e9c6381-448d-4421-8748-ef202c0d0e83",
     "showTitle": false,
     "title": ""
    }
   },
   "outputs": [
    {
     "data": {
      "text/html": [
       "<style scoped>\n",
       "  .ansiout {\n",
       "    display: block;\n",
       "    unicode-bidi: embed;\n",
       "    white-space: pre-wrap;\n",
       "    word-wrap: break-word;\n",
       "    word-break: break-all;\n",
       "    font-family: \"Source Code Pro\", \"Menlo\", monospace;;\n",
       "    font-size: 13px;\n",
       "    color: #555;\n",
       "    margin-left: 4px;\n",
       "    line-height: 19px;\n",
       "  }\n",
       "</style>\n",
       "<div class=\"ansiout\"></div>"
      ]
     },
     "metadata": {
      "application/vnd.databricks.v1+output": {
       "addedWidgets": {},
       "arguments": {},
       "data": "<div class=\"ansiout\"></div>",
       "datasetInfos": [],
       "removedWidgets": [],
       "type": "html"
      }
     },
     "output_type": "display_data"
    }
   ],
   "source": [
    "def expand_predictions(d):\n",
    "    \"\"\"Flatten rdd into tuple which will be converted into a dataframe.Row.\n",
    "    Checks each float to see if it is a np datatype, since it could be None.\n",
    "    If it is an np datatype then it will convert to scalar python datatype\n",
    "    so that it can be persisted into a database, since most dont know how to\n",
    "    interpret np python datatypes.\n",
    "    \"\"\"\n",
    "    service_metric, data = d\n",
    "    service, metric = service_metric.split(',')\n",
    "    return [\n",
    "        (\n",
    "            service,\n",
    "            metric,\n",
    "            p['ds'].to_pydatetime(),\n",
    "            np.asscalar(p['yhat']) if isinstance(\n",
    "                p['yhat'], np.generic) else p['yhat'],\n",
    "            np.asscalar(p['yhat_lower']) if isinstance(\n",
    "                p['yhat_lower'], np.generic) else p['yhat_lower'],\n",
    "            np.asscalar(p['yhat_upper']) if isinstance(\n",
    "                p['yhat_upper'], np.generic) else p['yhat_upper'],\n",
    "            np.asscalar(data['mse']) if isinstance(\n",
    "                data['mse'], np.generic) else data['mse'],\n",
    "        ) for i, p in data['forecast'].iterrows()\n",
    "    ]"
   ]
  },
  {
   "cell_type": "code",
   "execution_count": 0,
   "metadata": {
    "application/vnd.databricks.v1+cell": {
     "inputWidgets": {},
     "nuid": "7e17149e-c3a0-4b23-8e2c-1ee49fa7cf83",
     "showTitle": false,
     "title": ""
    }
   },
   "outputs": [
    {
     "data": {
      "text/html": [
       "<style scoped>\n",
       "  .ansiout {\n",
       "    display: block;\n",
       "    unicode-bidi: embed;\n",
       "    white-space: pre-wrap;\n",
       "    word-wrap: break-word;\n",
       "    word-break: break-all;\n",
       "    font-family: \"Source Code Pro\", \"Menlo\", monospace;;\n",
       "    font-size: 13px;\n",
       "    color: #555;\n",
       "    margin-left: 4px;\n",
       "    line-height: 19px;\n",
       "  }\n",
       "</style>\n",
       "<div class=\"ansiout\"></div>"
      ]
     },
     "metadata": {
      "application/vnd.databricks.v1+output": {
       "addedWidgets": {},
       "arguments": {},
       "data": "<div class=\"ansiout\"></div>",
       "datasetInfos": [],
       "removedWidgets": [],
       "type": "html"
      }
     },
     "output_type": "display_data"
    }
   ],
   "source": [
    "file_name = \"/FileStore/tables/i_0a1c7dc126cb6ac8b_CPUUtilization.csv\""
   ]
  },
  {
   "cell_type": "markdown",
   "metadata": {},
   "source": [
    "Reading the csv file from the databricks file system (dbfs)."
   ]
  },
  {
   "cell_type": "code",
   "execution_count": 0,
   "metadata": {
    "application/vnd.databricks.v1+cell": {
     "inputWidgets": {},
     "nuid": "f777a207-0b77-4490-a69e-105078b18447",
     "showTitle": false,
     "title": ""
    }
   },
   "outputs": [
    {
     "data": {
      "text/html": [
       "<style scoped>\n",
       "  .ansiout {\n",
       "    display: block;\n",
       "    unicode-bidi: embed;\n",
       "    white-space: pre-wrap;\n",
       "    word-wrap: break-word;\n",
       "    word-break: break-all;\n",
       "    font-family: \"Source Code Pro\", \"Menlo\", monospace;;\n",
       "    font-size: 13px;\n",
       "    color: #555;\n",
       "    margin-left: 4px;\n",
       "    line-height: 19px;\n",
       "  }\n",
       "</style>\n",
       "<div class=\"ansiout\"></div>"
      ]
     },
     "metadata": {
      "application/vnd.databricks.v1+output": {
       "addedWidgets": {},
       "arguments": {},
       "data": "<div class=\"ansiout\"></div>",
       "datasetInfos": [
        {
         "name": "df1",
         "schema": {
          "fields": [
           {
            "metadata": {},
            "name": "_c0",
            "nullable": true,
            "type": "integer"
           },
           {
            "metadata": {},
            "name": "provider",
            "nullable": true,
            "type": "string"
           },
           {
            "metadata": {},
            "name": "service_name",
            "nullable": true,
            "type": "string"
           },
           {
            "metadata": {},
            "name": "account_id",
            "nullable": true,
            "type": "long"
           },
           {
            "metadata": {},
            "name": "region",
            "nullable": true,
            "type": "string"
           },
           {
            "metadata": {},
            "name": "resource_id",
            "nullable": true,
            "type": "string"
           },
           {
            "metadata": {},
            "name": "asset_id",
            "nullable": true,
            "type": "string"
           },
           {
            "metadata": {},
            "name": "timestamp",
            "nullable": true,
            "type": "string"
           },
           {
            "metadata": {},
            "name": "value",
            "nullable": true,
            "type": "double"
           },
           {
            "metadata": {},
            "name": "unit",
            "nullable": true,
            "type": "string"
           },
           {
            "metadata": {},
            "name": "metric_name",
            "nullable": true,
            "type": "string"
           },
           {
            "metadata": {},
            "name": "statistic",
            "nullable": true,
            "type": "string"
           }
          ],
          "type": "struct"
         },
         "tableIdentifier": null,
         "typeStr": "pyspark.sql.dataframe.DataFrame"
        }
       ],
       "removedWidgets": [],
       "type": "html"
      }
     },
     "output_type": "display_data"
    }
   ],
   "source": [
    "df1 = spark.read.format(\"csv\").load(file_name, header=\"true\", inferSchema=\"true\")"
   ]
  },
  {
   "cell_type": "markdown",
   "metadata": {},
   "source": [
    "The below function registers a table to make it accessible via SQL content as shown below."
   ]
  },
  {
   "cell_type": "code",
   "execution_count": 0,
   "metadata": {
    "application/vnd.databricks.v1+cell": {
     "inputWidgets": {},
     "nuid": "5cb06d2d-15b9-42ba-bb20-8016dad69910",
     "showTitle": false,
     "title": ""
    }
   },
   "outputs": [
    {
     "data": {
      "text/html": [
       "<style scoped>\n",
       "  .ansiout {\n",
       "    display: block;\n",
       "    unicode-bidi: embed;\n",
       "    white-space: pre-wrap;\n",
       "    word-wrap: break-word;\n",
       "    word-break: break-all;\n",
       "    font-family: \"Source Code Pro\", \"Menlo\", monospace;;\n",
       "    font-size: 13px;\n",
       "    color: #555;\n",
       "    margin-left: 4px;\n",
       "    line-height: 19px;\n",
       "  }\n",
       "</style>\n",
       "<div class=\"ansiout\"></div>"
      ]
     },
     "metadata": {
      "application/vnd.databricks.v1+output": {
       "addedWidgets": {},
       "arguments": {},
       "data": "<div class=\"ansiout\"></div>",
       "datasetInfos": [],
       "removedWidgets": [],
       "type": "html"
      }
     },
     "output_type": "display_data"
    }
   ],
   "source": [
    "df1.createOrReplaceTempView(\"data_ec2\")"
   ]
  },
  {
   "cell_type": "code",
   "execution_count": null,
   "metadata": {},
   "outputs": [],
   "source": [
    "%sql\n",
    "select timestamp, value from data_ec2 where metric_name = 'CPUUtilization';"
   ]
  },
  {
   "cell_type": "code",
   "execution_count": 0,
   "metadata": {
    "application/vnd.databricks.v1+cell": {
     "inputWidgets": {},
     "nuid": "b106098e-e1af-458a-9422-fd3ee53d8551",
     "showTitle": false,
     "title": ""
    }
   },
   "outputs": [
    {
     "data": {
      "text/html": [
       "<style scoped>\n",
       "  .table-result-container {\n",
       "    max-height: 300px;\n",
       "    overflow: auto;\n",
       "  }\n",
       "  table, th, td {\n",
       "    border: 1px solid black;\n",
       "    border-collapse: collapse;\n",
       "  }\n",
       "  th, td {\n",
       "    padding: 5px;\n",
       "  }\n",
       "  th {\n",
       "    text-align: left;\n",
       "  }\n",
       "</style><div class='table-result-container'><table class='table-result'><thead style='background-color: white'><tr><th>timestamp</th><th>value</th></tr></thead><tbody><tr><td>2020-09-08 00:00:00</td><td>3.569324812430564</td></tr><tr><td>2020-09-08 00:05:00</td><td>3.43524590166937</td></tr><tr><td>2020-09-08 00:10:00</td><td>4.18107344632663</td></tr><tr><td>2020-09-08 00:15:00</td><td>4.4329860145721245</td></tr><tr><td>2020-09-08 00:20:00</td><td>4.668259701784014</td></tr><tr><td>2020-09-08 00:25:00</td><td>5.538135593236124</td></tr><tr><td>2020-09-08 00:30:00</td><td>5.103107344648038</td></tr><tr><td>2020-09-08 00:35:00</td><td>6.304621654133174</td></tr><tr><td>2020-09-08 00:40:00</td><td>6.843243493578017</td></tr><tr><td>2020-09-08 00:45:00</td><td>7.64604982864135</td></tr><tr><td>2020-09-08 00:50:00</td><td>9.934356765784065</td></tr><tr><td>2020-09-08 00:55:00</td><td>7.732791516146368</td></tr><tr><td>2020-09-08 01:00:00</td><td>7.566666666651143</td></tr><tr><td>2020-09-08 01:05:00</td><td>7.600004630930743</td></tr><tr><td>2020-09-08 01:10:00</td><td>7.859016393488171</td></tr><tr><td>2020-09-08 01:15:00</td><td>7.464994905961616</td></tr><tr><td>2020-09-08 01:20:00</td><td>7.9740668703959185</td></tr><tr><td>2020-09-08 01:25:00</td><td>8.396045197772205</td></tr><tr><td>2020-09-08 01:30:00</td><td>8.000842826711132</td></tr><tr><td>2020-09-08 01:35:00</td><td>8.231990367679726</td></tr><tr><td>2020-09-08 01:40:00</td><td>8.766666666682188</td></tr><tr><td>2020-09-08 01:45:00</td><td>9.187978142045466</td></tr><tr><td>2020-09-08 01:50:00</td><td>9.347740113056435</td></tr><tr><td>2020-09-08 01:55:00</td><td>10.366666666620084</td></tr><tr><td>2020-09-08 02:00:00</td><td>9.050000000046566</td></tr><tr><td>2020-09-08 02:05:00</td><td>9.831647679911063</td></tr><tr><td>2020-09-08 02:10:00</td><td>11.13333333330228</td></tr><tr><td>2020-09-08 02:15:00</td><td>10.433333333348871</td></tr><tr><td>2020-09-08 02:20:00</td><td>10.473946466579255</td></tr><tr><td>2020-09-08 02:25:00</td><td>11.450000000031059</td></tr><tr><td>2020-09-08 02:30:00</td><td>11.049999999968978</td></tr><tr><td>2020-09-08 02:35:00</td><td>12.08333333333334</td></tr><tr><td>2020-09-08 02:40:00</td><td>11.58333333333334</td></tr><tr><td>2020-09-08 02:45:00</td><td>11.99999999999998</td></tr><tr><td>2020-09-08 02:50:00</td><td>12.16878299527722</td></tr><tr><td>2020-09-08 02:55:00</td><td>12.20989163661126</td></tr><tr><td>2020-09-08 03:00:00</td><td>12.43112438634206</td></tr><tr><td>2020-09-08 03:05:00</td><td>12.21666666671324</td></tr><tr><td>2020-09-08 03:10:00</td><td>12.57322404366954</td></tr><tr><td>2020-09-08 03:15:00</td><td>12.02711864412988</td></tr><tr><td>2020-09-08 03:20:00</td><td>13.0694961563255</td></tr><tr><td>2020-09-08 03:25:00</td><td>13.283333333286759</td></tr><tr><td>2020-09-08 03:30:00</td><td>11.95794665187854</td></tr><tr><td>2020-09-08 03:35:00</td><td>13.06666666665114</td></tr><tr><td>2020-09-08 03:40:00</td><td>12.24078447717008</td></tr><tr><td>2020-09-08 03:45:00</td><td>12.26666666668218</td></tr><tr><td>2020-09-08 03:50:00</td><td>13.326502732270962</td></tr><tr><td>2020-09-08 03:55:00</td><td>13.0813559321568</td></tr><tr><td>2020-09-08 04:00:00</td><td>12.97540983608084</td></tr><tr><td>2020-09-08 04:05:00</td><td>13.1129943502667</td></tr><tr><td>2020-09-08 04:10:00</td><td>13.021191071608461</td></tr><tr><td>2020-09-08 04:15:00</td><td>13.41666666666666</td></tr><tr><td>2020-09-08 04:20:00</td><td>11.983333333317841</td></tr><tr><td>2020-09-08 04:25:00</td><td>13.200000000031043</td></tr><tr><td>2020-09-08 04:30:00</td><td>13.29999999996898</td></tr><tr><td>2020-09-08 04:35:00</td><td>11.71666666671324</td></tr><tr><td>2020-09-08 04:40:00</td><td>12.93952486795602</td></tr><tr><td>2020-09-08 04:45:00</td><td>12.345081967259679</td></tr><tr><td>2020-09-08 04:50:00</td><td>11.804519774026561</td></tr><tr><td>2020-09-08 04:55:00</td><td>12.62119107154764</td></tr><tr><td>2020-09-08 05:00:00</td><td>11.372784106726595</td></tr><tr><td>2020-09-08 05:05:00</td><td>12.533333333286759</td></tr><tr><td>2020-09-08 05:10:00</td><td>10.46994535519125</td></tr><tr><td>2020-09-08 05:15:00</td><td>11.660294526303861</td></tr><tr><td>2020-09-08 05:20:00</td><td>11.81937575250832</td></tr><tr><td>2020-09-08 05:25:00</td><td>11.23316198942598</td></tr><tr><td>2020-09-08 05:30:00</td><td>11.535421876478974</td></tr><tr><td>2020-09-08 05:35:00</td><td>10.205765490367954</td></tr><tr><td>2020-09-08 05:40:00</td><td>12.03447253866738</td></tr><tr><td>2020-09-08 05:45:00</td><td>11.40837732706584</td></tr><tr><td>2020-09-08 05:50:00</td><td>10.383333333302293</td></tr><tr><td>2020-09-08 05:55:00</td><td>11.237278873823335</td></tr><tr><td>2020-09-08 06:00:00</td><td>11.133333333302321</td></tr><tr><td>2020-09-08 06:05:00</td><td>11.233333333317798</td></tr><tr><td>2020-09-08 06:10:00</td><td>11.100000000015541</td></tr><tr><td>2020-09-08 06:15:00</td><td>10.956830601093396</td></tr><tr><td>2020-09-08 06:20:00</td><td>10.85084745761186</td></tr><tr><td>2020-09-08 06:25:00</td><td>10.027720663177178</td></tr><tr><td>2020-09-08 06:30:00</td><td>11.175118088373665</td></tr><tr><td>2020-09-08 06:35:00</td><td>9.399999999984473</td></tr><tr><td>2020-09-08 06:40:00</td><td>10.919991664350684</td></tr><tr><td>2020-09-08 06:45:00</td><td>12.97704918034338</td></tr><tr><td>2020-09-08 06:50:00</td><td>11.2220338982422</td></tr><tr><td>2020-09-08 06:55:00</td><td>12.6166666666977</td></tr><tr><td>2020-09-08 07:00:00</td><td>11.8500000000155</td></tr><tr><td>2020-09-08 07:05:00</td><td>12.21666666663562</td></tr><tr><td>2020-09-08 07:10:00</td><td>13.100000000015521</td></tr><tr><td>2020-09-08 07:15:00</td><td>12.08385662684128</td></tr><tr><td>2020-09-08 07:20:00</td><td>12.27014911551004</td></tr><tr><td>2020-09-08 07:25:00</td><td>11.800393627829061</td></tr><tr><td>2020-09-08 07:30:00</td><td>11.83050847460682</td></tr><tr><td>2020-09-08 07:35:00</td><td>12.07429378526416</td></tr><tr><td>2020-09-08 07:40:00</td><td>12.700000000031059</td></tr><tr><td>2020-09-08 07:45:00</td><td>11.554894878175357</td></tr><tr><td>2020-09-08 07:50:00</td><td>11.26666666668218</td></tr><tr><td>2020-09-08 07:55:00</td><td>10.511628230080202</td></tr><tr><td>2020-09-08 08:00:00</td><td>10.480601092911176</td></tr><tr><td>2020-09-08 08:05:00</td><td>10.58208761689933</td></tr><tr><td>2020-09-08 08:10:00</td><td>10.250000000000007</td></tr><tr><td>2020-09-08 08:15:00</td><td>10.751912568337056</td></tr><tr><td>2020-09-08 08:20:00</td><td>9.465819209055063</td></tr><tr><td>2020-09-08 08:25:00</td><td>10.581420764980999</td></tr><tr><td>2020-09-08 08:30:00</td><td>10.052259887021433</td></tr><tr><td>2020-09-08 08:35:00</td><td>9.666666666666654</td></tr><tr><td>2020-09-08 08:40:00</td><td>9.537431693974309</td></tr><tr><td>2020-09-08 08:45:00</td><td>8.759447068614383</td></tr><tr><td>2020-09-08 08:50:00</td><td>9.800000000046563</td></tr><tr><td>2020-09-08 08:55:00</td><td>8.268782995293547</td></tr><tr><td>2020-09-08 09:00:00</td><td>9.133759377573336</td></tr><tr><td>2020-09-08 09:05:00</td><td>8.716666666635614</td></tr><tr><td>2020-09-08 09:10:00</td><td>9.80000000004657</td></tr><tr><td>2020-09-08 09:15:00</td><td>8.416666666666666</td></tr><tr><td>2020-09-08 09:20:00</td><td>7.839344262248514</td></tr><tr><td>2020-09-08 09:25:00</td><td>8.31440677969206</td></tr><tr><td>2020-09-08 09:30:00</td><td>7.442349726745166</td></tr><tr><td>2020-09-08 09:35:00</td><td>7.993317588265794</td></tr><tr><td>2020-09-08 09:40:00</td><td>8.097892933237476</td></tr><tr><td>2020-09-08 09:45:00</td><td>7.279188663470798</td></tr><tr><td>2020-09-08 09:50:00</td><td>7.200000000031042</td></tr><tr><td>2020-09-08 09:55:00</td><td>7.566666666651146</td></tr><tr><td>2020-09-08 10:00:00</td><td>7.25</td></tr><tr><td>2020-09-08 10:05:00</td><td>7.695350560370592</td></tr><tr><td>2020-09-08 10:10:00</td><td>6.799999999968955</td></tr><tr><td>2020-09-08 10:15:00</td><td>7.149999999984476</td></tr><tr><td>2020-09-08 10:20:00</td><td>7.3833333333799</td></tr><tr><td>2020-09-08 10:25:00</td><td>7.3833333333022875</td></tr><tr><td>2020-09-08 10:30:00</td><td>7.166666666666669</td></tr><tr><td>2020-09-08 10:35:00</td><td>6.833509308140623</td></tr><tr><td>2020-09-08 10:40:00</td><td>7.345623784400354</td></tr><tr><td>2020-09-08 10:45:00</td><td>7.46838010555511</td></tr><tr><td>2020-09-08 10:50:00</td><td>7.25</td></tr><tr><td>2020-09-08 10:55:00</td><td>7.466666666713232</td></tr><tr><td>2020-09-08 11:00:00</td><td>7.916666666666666</td></tr><tr><td>2020-09-08 11:05:00</td><td>8.997165879412488</td></tr><tr><td>2020-09-08 11:10:00</td><td>8.58333333333333</td></tr><tr><td>2020-09-08 11:15:00</td><td>8.687876261861987</td></tr><tr><td>2020-09-08 11:20:00</td><td>8.684843011962503</td></tr><tr><td>2020-09-08 11:25:00</td><td>8.319899046015255</td></tr><tr><td>2020-09-08 11:30:00</td><td>8.816666666728759</td></tr><tr><td>2020-09-08 11:35:00</td><td>8.31835695098887</td></tr><tr><td>2020-09-08 11:40:00</td><td>8.717657682657295</td></tr><tr><td>2020-09-08 11:45:00</td><td>9.053278688524586</td></tr><tr><td>2020-09-08 11:50:00</td><td>8.31073446330709</td></tr><tr><td>2020-09-08 11:55:00</td><td>9.572279336836274</td></tr><tr><td>2020-09-08 12:00:00</td><td>9.183333333348859</td></tr><tr><td>2020-09-08 12:05:00</td><td>8.639617486307483</td></tr><tr><td>2020-09-08 12:10:00</td><td>10.035621005818665</td></tr><tr><td>2020-09-08 12:15:00</td><td>8.561299435060345</td></tr><tr><td>2020-09-08 12:20:00</td><td>9.216666666635614</td></tr><tr><td>2020-09-08 12:25:00</td><td>8.494567935538187</td></tr><tr><td>2020-09-08 12:30:00</td><td>8.732064462413287</td></tr><tr><td>2020-09-08 12:35:00</td><td>8.949999999953432</td></tr><tr><td>2020-09-08 12:40:00</td><td>8.58350467722568</td></tr><tr><td>2020-09-08 12:45:00</td><td>9.316666666651146</td></tr><tr><td>2020-09-08 12:50:00</td><td>8.665726590719135</td></tr><tr><td>2020-09-08 12:55:00</td><td>9.050000000046571</td></tr><tr><td>2020-09-08 13:00:00</td><td>8.399999999984471</td></tr><tr><td>2020-09-08 13:05:00</td><td>8.702584051109552</td></tr><tr><td>2020-09-08 13:10:00</td><td>8.34113179585449</td></tr><tr><td>2020-09-08 13:15:00</td><td>8.76666666668219</td></tr><tr><td>2020-09-08 13:20:00</td><td>8.683333333348852</td></tr><tr><td>2020-09-08 13:25:00</td><td>8.68952486798707</td></tr><tr><td>2020-09-08 13:30:00</td><td>9.296327683631333</td></tr><tr><td>2020-09-08 13:35:00</td><td>9.127174215104745</td></tr><tr><td>2020-09-08 13:40:00</td><td>8.799999999968955</td></tr><tr><td>2020-09-08 13:45:00</td><td>9.37402519216776</td></tr><tr><td>2020-09-08 13:50:00</td><td>8.616101694915518</td></tr><tr><td>2020-09-08 13:55:00</td><td>8.333333333333334</td></tr><tr><td>2020-09-08 14:00:00</td><td>8.533333333364379</td></tr><tr><td>2020-09-08 14:05:00</td><td>8.481147540984146</td></tr><tr><td>2020-09-08 14:10:00</td><td>8.979661016902588</td></tr><tr><td>2020-09-08 14:15:00</td><td>8.327572473834271</td></tr><tr><td>2020-09-08 14:20:00</td><td>9.220399185005622</td></tr><tr><td>2020-09-08 14:25:00</td><td>9.25050013892695</td></tr><tr><td>2020-09-08 14:30:00</td><td>8.335671945910901</td></tr><tr><td>2020-09-08 14:35:00</td><td>9.404644808758695</td></tr><tr><td>2020-09-08 14:40:00</td><td>9.3353616745074</td></tr><tr><td>2020-09-08 14:45:00</td><td>8.816666666651148</td></tr><tr><td>2020-09-08 14:50:00</td><td>10.34147448369891</td></tr><tr><td>2020-09-08 14:55:00</td><td>8.948907103777799</td></tr><tr><td>2020-09-08 15:00:00</td><td>9.909132166388297</td></tr><tr><td>2020-09-08 15:05:00</td><td>9.433333333271246</td></tr><tr><td>2020-09-08 15:10:00</td><td>10.06666666672876</td></tr><tr><td>2020-09-08 15:15:00</td><td>9.983333333317805</td></tr><tr><td>2020-09-08 15:20:00</td><td>10.066666666651146</td></tr><tr><td>2020-09-08 15:25:00</td><td>9.534926368467259</td></tr><tr><td>2020-09-08 15:30:00</td><td>9.138649624898392</td></tr><tr><td>2020-09-08 15:35:00</td><td>9.912230249111722</td></tr><tr><td>2020-09-08 15:40:00</td><td>9.933333333348846</td></tr><tr><td>2020-09-08 15:45:00</td><td>9.6166666666201</td></tr><tr><td>2020-09-08 15:50:00</td><td>8.78546355472061</td></tr><tr><td>2020-09-08 15:55:00</td><td>9.036612021889763</td></tr><tr><td>2020-09-08 16:00:00</td><td>9.437366861100966</td></tr><tr><td>2020-09-08 16:05:00</td><td>8.86987126056587</td></tr><tr><td>2020-09-08 16:10:00</td><td>8.799999999968952</td></tr><tr><td>2020-09-08 16:15:00</td><td>9.22017227012263</td></tr><tr><td>2020-09-08 16:20:00</td><td>8.60000000001552</td></tr><tr><td>2020-09-08 16:25:00</td><td>9.083333333333337</td></tr><tr><td>2020-09-08 16:30:00</td><td>8.499999999999998</td></tr><tr><td>2020-09-08 16:35:00</td><td>8.373497267744801</td></tr><tr><td>2020-09-08 16:40:00</td><td>8.67966101693363</td></tr><tr><td>2020-09-08 16:45:00</td><td>7.916666666666666</td></tr><tr><td>2020-09-08 16:50:00</td><td>8.180707603978822</td></tr><tr><td>2020-09-08 16:55:00</td><td>7.6499999999844785</td></tr><tr><td>2020-09-08 17:00:00</td><td>7.541807909589243</td></tr><tr><td>2020-09-08 17:05:00</td><td>7.599175696969425</td></tr><tr><td>2020-09-08 17:10:00</td><td>7.356779661016423</td></tr><tr><td>2020-09-08 17:15:00</td><td>6.910655737719677</td></tr><tr><td>2020-09-08 17:20:00</td><td>6.419774011283915</td></tr><tr><td>2020-09-08 17:25:00</td><td>6.799999999968955</td></tr><tr><td>2020-09-08 17:30:00</td><td>6.262396962133865</td></tr><tr><td>2020-09-08 17:35:00</td><td>5.82083912196227</td></tr><tr><td>2020-09-08 17:40:00</td><td>6.114207650319792</td></tr><tr><td>2020-09-08 17:45:00</td><td>5.255367231622368</td></tr><tr><td>2020-09-08 17:50:00</td><td>5.416666666666666</td></tr><tr><td>2020-09-08 17:55:00</td><td>5.218634805950116</td></tr><tr><td>2020-09-08 18:00:00</td><td>5.452852644284857</td></tr><tr><td>2020-09-08 18:05:00</td><td>5.616231360577329</td></tr><tr><td>2020-09-08 18:10:00</td><td>5.233333333317812</td></tr><tr><td>2020-09-08 18:15:00</td><td>4.464360470468716</td></tr><tr><td>2020-09-08 18:20:00</td><td>4.114059460993466</td></tr><tr><td>2020-09-08 18:25:00</td><td>22.349481337408257</td></tr><tr><td>2020-09-08 18:30:00</td><td>16.00245901636266</td></tr><tr><td>2020-09-08 18:35:00</td><td>9.97655367233268</td></tr><tr><td>2020-09-08 18:40:00</td><td>24.12326109101379</td></tr><tr><td>2020-09-08 18:45:00</td><td>5.564207650273226</td></tr><tr><td>2020-09-08 18:50:00</td><td>4.4531073446482905</td></tr><tr><td>2020-09-08 18:55:00</td><td>4.1040983606878</td></tr><tr><td>2020-09-08 19:00:00</td><td>3.2796610169649383</td></tr><tr><td>2020-09-08 19:05:00</td><td>4.044642030178823</td></tr><tr><td>2020-09-08 19:10:00</td><td>4.9531073446482905</td></tr><tr><td>2020-09-08 19:15:00</td><td>5.499999999999999</td></tr><tr><td>2020-09-08 19:20:00</td><td>5.31562007963597</td></tr><tr><td>2020-09-08 19:25:00</td><td>4.216666666635624</td></tr><tr><td>2020-09-08 19:30:00</td><td>3.251245716402206</td></tr><tr><td>2020-09-08 19:35:00</td><td>3.4495044920187965</td></tr><tr><td>2020-09-08 19:40:00</td><td>3.449999999953434</td></tr><tr><td>2020-09-08 19:45:00</td><td>4.066666666728754</td></tr><tr><td>2020-09-08 19:50:00</td><td>2.9071038251366117</td></tr><tr><td>2020-09-08 19:55:00</td><td>3.135917384428392</td></tr><tr><td>2020-09-08 20:00:00</td><td>2.85960451978927</td></tr><tr><td>2020-09-08 20:05:00</td><td>2.7333333333178116</td></tr><tr><td>2020-09-08 20:10:00</td><td>2.9500000000310456</td></tr><tr><td>2020-09-08 20:15:00</td><td>2.78333333328677</td></tr><tr><td>2020-09-08 20:20:00</td><td>2.499448920995802</td></tr><tr><td>2020-09-08 20:25:00</td><td>2.6333333333799</td></tr><tr><td>2020-09-08 20:30:00</td><td>2.516666666604578</td></tr><tr><td>2020-09-08 20:35:00</td><td>2.8500000000155223</td></tr><tr><td>2020-09-08 20:40:00</td><td>3.500000000000002</td></tr><tr><td>2020-09-08 20:45:00</td><td>2.454019635129886</td></tr><tr><td>2020-09-08 20:50:00</td><td>2.5098870056497162</td></tr><tr><td>2020-09-08 20:55:00</td><td>2.7666666666045803</td></tr><tr><td>2020-09-08 21:00:00</td><td>2.687204779120056</td></tr><tr><td>2020-09-08 21:05:00</td><td>3.631735667361044</td></tr><tr><td>2020-09-08 21:10:00</td><td>3.6166666666201026</td></tr><tr><td>2020-09-08 21:15:00</td><td>2.683333333348858</td></tr><tr><td>2020-09-08 21:20:00</td><td>2.591279985197116</td></tr><tr><td>2020-09-08 21:25:00</td><td>2.422598870056762</td></tr><tr><td>2020-09-08 21:30:00</td><td>2.4666666666356223</td></tr><tr><td>2020-09-08 21:35:00</td><td>2.583333333333334</td></tr><tr><td>2020-09-08 21:40:00</td><td>2.333333333333332</td></tr><tr><td>2020-09-08 21:45:00</td><td>2.7333333333178116</td></tr><tr><td>2020-09-08 21:50:00</td><td>2.813883486215386</td></tr><tr><td>2020-09-08 21:55:00</td><td>2.2833333332867682</td></tr><tr><td>2020-09-08 22:00:00</td><td>2.623770491849844</td></tr><tr><td>2020-09-08 22:05:00</td><td>3.144720755734182</td></tr><tr><td>2020-09-08 22:10:00</td><td>2.6000000000155223</td></tr><tr><td>2020-09-08 22:15:00</td><td>2.497216819487946</td></tr><tr><td>2020-09-08 22:20:00</td><td>2.5499999999689558</td></tr><tr><td>2020-09-08 22:25:00</td><td>2.416666666666668</td></tr><tr><td>2020-09-08 22:30:00</td><td>2.30765027320776</td></tr><tr><td>2020-09-08 22:35:00</td><td>2.8412568306003196</td></tr><tr><td>2020-09-08 22:40:00</td><td>2.716666666713234</td></tr><tr><td>2020-09-08 22:45:00</td><td>2.783333333286768</td></tr><tr><td>2020-09-08 22:50:00</td><td>2.7686579605590844</td></tr><tr><td>2020-09-08 22:55:00</td><td>2.462471056821334</td></tr><tr><td>2020-09-08 23:00:00</td><td>2.9499999999534343</td></tr><tr><td>2020-09-08 23:05:00</td><td>2.683333333348856</td></tr><tr><td>2020-09-08 23:10:00</td><td>2.600000000015524</td></tr><tr><td>2020-09-08 23:15:00</td><td>2.889617486323786</td></tr><tr><td>2020-09-08 23:20:00</td><td>2.8751412429688976</td></tr><tr><td>2020-09-08 23:25:00</td><td>2.988797814207396</td></tr><tr><td>2020-09-08 23:30:00</td><td>3.0423728813085757</td></tr><tr><td>2020-09-08 23:35:00</td><td>3.050324164166228</td></tr><tr><td>2020-09-08 23:40:00</td><td>3.00117162174757</td></tr><tr><td>2020-09-08 23:45:00</td><td>3.399999999984478</td></tr><tr><td>2020-09-08 23:50:00</td><td>2.90029637860946</td></tr><tr><td>2020-09-08 23:55:00</td><td>3.5333333333643764</td></tr><tr><td>2020-09-09 00:00:00</td><td>3.3666666666201004</td></tr><tr><td>2020-09-09 00:05:00</td><td>4.052357136227578</td></tr><tr><td>2020-09-09 00:10:00</td><td>4.264406779661281</td></tr><tr><td>2020-09-09 00:15:00</td><td>4.033333333364376</td></tr><tr><td>2020-09-09 00:20:00</td><td>3.883333333302288</td></tr><tr><td>2020-09-09 00:25:00</td><td>4.47019079378583</td></tr><tr><td>2020-09-09 00:30:00</td><td>5.683333333348854</td></tr><tr><td>2020-09-09 00:35:00</td><td>5.7333333333178125</td></tr><tr><td>2020-09-09 00:40:00</td><td>6.166666666666666</td></tr><tr><td>2020-09-09 00:45:00</td><td>7.302727609489338</td></tr><tr><td>2020-09-09 00:50:00</td><td>8.899999999984486</td></tr><tr><td>2020-09-09 00:55:00</td><td>7.5666666667287545</td></tr><tr><td>2020-09-09 01:00:00</td><td>7.493169398846033</td></tr><tr><td>2020-09-09 01:05:00</td><td>7.808761693095748</td></tr><tr><td>2020-09-09 01:10:00</td><td>8.82113550058598</td></tr><tr><td>2020-09-09 01:15:00</td><td>8.051718069881563</td></tr><tr><td>2020-09-09 01:20:00</td><td>8.679860146275894</td></tr><tr><td>2020-09-09 01:25:00</td><td>9.031179957426616</td></tr><tr><td>2020-09-09 01:30:00</td><td>9.083333333333334</td></tr><tr><td>2020-09-09 01:35:00</td><td>8.71587014908289</td></tr><tr><td>2020-09-09 01:40:00</td><td>8.388797814208413</td></tr><tr><td>2020-09-09 01:45:00</td><td>9.060734463308409</td></tr><tr><td>2020-09-09 01:50:00</td><td>9.005325553394977</td></tr><tr><td>2020-09-09 01:55:00</td><td>9.51860702048367</td></tr><tr><td>2020-09-09 02:00:00</td><td>9.76666666668219</td></tr><tr><td>2020-09-09 02:05:00</td><td>10.416666666666675</td></tr><tr><td>2020-09-09 02:10:00</td><td>10.73936278591248</td></tr><tr><td>2020-09-09 02:15:00</td><td>12.02118644066218</td></tr><tr><td>2020-09-09 02:20:00</td><td>11.02153375939258</td></tr><tr><td>2020-09-09 02:25:00</td><td>11.100000000015498</td></tr><tr><td>2020-09-09 02:30:00</td><td>11.67786885242874</td></tr><tr><td>2020-09-09 02:35:00</td><td>11.70367231638444</td></tr><tr><td>2020-09-09 02:40:00</td><td>11.908196721343021</td></tr><tr><td>2020-09-09 02:45:00</td><td>12.072881355963238</td></tr><tr><td>2020-09-09 02:50:00</td><td>11.91499490594766</td></tr><tr><td>2020-09-09 02:55:00</td><td>11.9854496619271</td></tr><tr><td>2020-09-09 03:00:00</td><td>13.3463276836621</td></tr><tr><td>2020-09-09 03:05:00</td><td>11.933333333348859</td></tr><tr><td>2020-09-09 03:10:00</td><td>13.1166666666201</td></tr><tr><td>2020-09-09 03:15:00</td><td>13.5581967213275</td></tr><tr><td>2020-09-09 03:20:00</td><td>13.513411132737081</td></tr><tr><td>2020-09-09 03:25:00</td><td>13.0577243678942</td></tr><tr><td>2020-09-09 03:30:00</td><td>12.70056960262136</td></tr><tr><td>2020-09-09 03:35:00</td><td>12.933333333348878</td></tr><tr><td>2020-09-09 03:40:00</td><td>12.5276743540167</td></tr><tr><td>2020-09-09 03:45:00</td><td>13.466666666635621</td></tr><tr><td>2020-09-09 03:50:00</td><td>13.774168750564382</td></tr><tr><td>2020-09-09 03:55:00</td><td>12.33954802264542</td></tr><tr><td>2020-09-09 04:00:00</td><td>12.68268500506168</td></tr><tr><td>2020-09-09 04:05:00</td><td>13.019232194097219</td></tr><tr><td>2020-09-09 04:10:00</td><td>12.70000000003104</td></tr><tr><td>2020-09-09 04:15:00</td><td>12.3162684078753</td></tr><tr><td>2020-09-09 04:20:00</td><td>12.16666666666666</td></tr><tr><td>2020-09-09 04:25:00</td><td>12.966666666713241</td></tr><tr><td>2020-09-09 04:30:00</td><td>12.4799527646434</td></tr><tr><td>2020-09-09 04:35:00</td><td>11.8208900620693</td></tr><tr><td>2020-09-09 04:40:00</td><td>12.983310178737819</td></tr><tr><td>2020-09-09 04:45:00</td><td>12.65904417889074</td></tr><tr><td>2020-09-09 04:50:00</td><td>11.98434750399942</td></tr><tr><td>2020-09-09 04:55:00</td><td>12.353306473956382</td></tr><tr><td>2020-09-09 05:00:00</td><td>12.853602852659241</td></tr><tr><td>2020-09-09 05:05:00</td><td>12.78141613414316</td></tr><tr><td>2020-09-09 05:10:00</td><td>13.25</td></tr><tr><td>2020-09-09 05:15:00</td><td>12.82819301658022</td></tr><tr><td>2020-09-09 05:20:00</td><td>11.610864128938937</td></tr><tr><td>2020-09-09 05:25:00</td><td>11.76659720286466</td></tr><tr><td>2020-09-09 05:30:00</td><td>12.06666666672876</td></tr><tr><td>2020-09-09 05:35:00</td><td>11.367013985320218</td></tr><tr><td>2020-09-09 05:40:00</td><td>13.02923497266284</td></tr><tr><td>2020-09-09 05:45:00</td><td>11.406214689296574</td></tr><tr><td>2020-09-09 05:50:00</td><td>10.686241548592761</td></tr><tr><td>2020-09-09 05:55:00</td><td>12.622506251688979</td></tr><tr><td>2020-09-09 06:00:00</td><td>12.08333333333334</td></tr><tr><td>2020-09-09 06:05:00</td><td>11.76787533575566</td></tr><tr><td>2020-09-09 06:10:00</td><td>12.48333333331782</td></tr><tr><td>2020-09-09 06:15:00</td><td>12.831124386404138</td></tr><tr><td>2020-09-09 06:20:00</td><td>12.40227841069964</td></tr><tr><td>2020-09-09 06:25:00</td><td>11.666615726559169</td></tr><tr><td>2020-09-09 06:30:00</td><td>11.216666666713232</td></tr><tr><td>2020-09-09 06:35:00</td><td>10.332342317310859</td></tr><tr><td>2020-09-09 06:40:00</td><td>10.786889876770552</td></tr><tr><td>2020-09-09 06:45:00</td><td>11.050000000046579</td></tr><tr><td>2020-09-09 06:50:00</td><td>10.433333333348841</td></tr><tr><td>2020-09-09 06:55:00</td><td>10.613216634233735</td></tr><tr><td>2020-09-09 07:00:00</td><td>10.181073446312158</td></tr><tr><td>2020-09-09 07:05:00</td><td>10.118579234957153</td></tr><tr><td>2020-09-09 07:10:00</td><td>10.553709363728203</td></tr><tr><td>2020-09-09 07:15:00</td><td>9.66274891173656</td></tr><tr><td>2020-09-09 07:20:00</td><td>10.516666666682175</td></tr><tr><td>2020-09-09 07:25:00</td><td>10.387288135591412</td></tr><tr><td>2020-09-09 07:30:00</td><td>10.155084745716405</td></tr><tr><td>2020-09-09 07:35:00</td><td>10.468681115170634</td></tr><tr><td>2020-09-09 07:40:00</td><td>11.23333333331782</td></tr><tr><td>2020-09-09 07:45:00</td><td>10.841090117655293</td></tr><tr><td>2020-09-09 07:50:00</td><td>10.331073446296626</td></tr><tr><td>2020-09-09 07:55:00</td><td>10.676785218133485</td></tr><tr><td>2020-09-09 08:00:00</td><td>10.69890710377781</td></tr><tr><td>2020-09-09 08:05:00</td><td>10.962021857923759</td></tr><tr><td>2020-09-09 08:10:00</td><td>10.639566546278651</td></tr><tr><td>2020-09-09 08:15:00</td><td>11.01120218580685</td></tr><tr><td>2020-09-09 08:20:00</td><td>9.8777947577723</td></tr><tr><td>2020-09-09 08:25:00</td><td>10.41666666666666</td></tr><tr><td>2020-09-09 08:30:00</td><td>10.112494211385023</td></tr><tr><td>2020-09-09 08:35:00</td><td>10.64978234693142</td></tr><tr><td>2020-09-09 08:40:00</td><td>10.416666666666668</td></tr><tr><td>2020-09-09 08:45:00</td><td>9.66666666666666</td></tr><tr><td>2020-09-09 08:50:00</td><td>10.526229508180435</td></tr><tr><td>2020-09-09 08:55:00</td><td>8.92731777351718</td></tr><tr><td>2020-09-09 09:00:00</td><td>9.266666666604578</td></tr><tr><td>2020-09-09 09:05:00</td><td>9.065990552993195</td></tr><tr><td>2020-09-09 09:10:00</td><td>9.533333333286773</td></tr><tr><td>2020-09-09 09:15:00</td><td>8.466666666713234</td></tr><tr><td>2020-09-09 09:20:00</td><td>8.316666666651145</td></tr><tr><td>2020-09-09 09:25:00</td><td>7.4931693989223715</td></tr><tr><td>2020-09-09 09:30:00</td><td>7.596202648867662</td></tr><tr><td>2020-09-09 09:35:00</td><td>7.6499999999844785</td></tr><tr><td>2020-09-09 09:40:00</td><td>7.87153375940891</td></tr><tr><td>2020-09-09 09:45:00</td><td>7.066666666651145</td></tr><tr><td>2020-09-09 09:50:00</td><td>6.933333333348858</td></tr><tr><td>2020-09-09 09:55:00</td><td>6.983333333317811</td></tr><tr><td>2020-09-09 10:00:00</td><td>6.749999999999997</td></tr><tr><td>2020-09-09 10:05:00</td><td>7.246397147355514</td></tr><tr><td>2020-09-09 10:10:00</td><td>7.044808743153878</td></tr><tr><td>2020-09-09 10:15:00</td><td>6.9545197740268225</td></tr><tr><td>2020-09-09 10:20:00</td><td>7.326502732255703</td></tr><tr><td>2020-09-09 10:25:00</td><td>7.3567750301022325</td></tr><tr><td>2020-09-09 10:30:00</td><td>7.25</td></tr><tr><td>2020-09-09 10:35:00</td><td>7.283333333286768</td></tr><tr><td>2020-09-09 10:40:00</td><td>7.295832175651421</td></tr><tr><td>2020-09-09 10:45:00</td><td>7.916666666666666</td></tr><tr><td>2020-09-09 10:50:00</td><td>8.049532277453414</td></tr><tr><td>2020-09-09 10:55:00</td><td>7.966717606710796</td></tr><tr><td>2020-09-09 11:00:00</td><td>7.916666666666666</td></tr><tr><td>2020-09-09 11:05:00</td><td>8.865453366706209</td></tr><tr><td>2020-09-09 11:10:00</td><td>8.666666666666668</td></tr><tr><td>2020-09-09 11:15:00</td><td>8.683333333348859</td></tr><tr><td>2020-09-09 11:20:00</td><td>8.899999999984477</td></tr><tr><td>2020-09-09 11:25:00</td><td>9.033333333364379</td></tr><tr><td>2020-09-09 11:30:00</td><td>9.129068259670978</td></tr><tr><td>2020-09-09 11:35:00</td><td>8.450000000031045</td></tr><tr><td>2020-09-09 11:40:00</td><td>9.399999999984477</td></tr><tr><td>2020-09-09 11:45:00</td><td>8.741511530996107</td></tr><tr><td>2020-09-09 11:50:00</td><td>8.201417060248462</td></tr><tr><td>2020-09-09 11:55:00</td><td>9.273719551727337</td></tr><tr><td>2020-09-09 12:00:00</td><td>9.306608317109596</td></tr><tr><td>2020-09-09 12:05:00</td><td>8.850000000015523</td></tr><tr><td>2020-09-09 12:10:00</td><td>9.083333333333332</td></tr><tr><td>2020-09-09 12:15:00</td><td>7.73472260811557</td></tr><tr><td>2020-09-09 12:20:00</td><td>7.966666666713235</td></tr><tr><td>2020-09-09 12:25:00</td><td>8.292155228286576</td></tr><tr><td>2020-09-09 12:30:00</td><td>8.396327683646863</td></tr><tr><td>2020-09-09 12:35:00</td><td>8.816666666651146</td></tr><tr><td>2020-09-09 12:40:00</td><td>8.337829952765437</td></tr><tr><td>2020-09-09 12:45:00</td><td>8.5</td></tr><tr><td>2020-09-09 12:50:00</td><td>8.156830601109181</td></tr><tr><td>2020-09-09 12:55:00</td><td>8.713559321971022</td></tr><tr><td>2020-09-09 13:00:00</td><td>8.850000000015513</td></tr><tr><td>2020-09-09 13:05:00</td><td>8.316666666651146</td></tr><tr><td>2020-09-09 13:10:00</td><td>8.411827359452733</td></tr><tr><td>2020-09-09 13:15:00</td><td>7.433333333348855</td></tr><tr><td>2020-09-09 13:20:00</td><td>8.5</td></tr><tr><td>2020-09-09 13:25:00</td><td>8.533333333364379</td></tr><tr><td>2020-09-09 13:30:00</td><td>8.124316939875442</td></tr><tr><td>2020-09-09 13:35:00</td><td>8.15861813463623</td></tr><tr><td>2020-09-09 13:40:00</td><td>7.357103825182923</td></tr><tr><td>2020-09-09 13:45:00</td><td>8.226831527228748</td></tr><tr><td>2020-09-09 13:50:00</td><td>7.470514957905493</td></tr><tr><td>2020-09-09 13:55:00</td><td>8.418204130777593</td></tr><tr><td>2020-09-09 14:00:00</td><td>7.64501250345869</td></tr><tr><td>2020-09-09 14:05:00</td><td>7.466638881139387</td></tr><tr><td>2020-09-09 14:10:00</td><td>8.050000000046566</td></tr><tr><td>2020-09-09 14:15:00</td><td>8.049999999968954</td></tr><tr><td>2020-09-09 14:20:00</td><td>8.392349726776208</td></tr><tr><td>2020-09-09 14:25:00</td><td>8.63721867190039</td></tr><tr><td>2020-09-09 14:30:00</td><td>8.552903584297148</td></tr><tr><td>2020-09-09 14:35:00</td><td>8.90156524959136</td></tr><tr><td>2020-09-09 14:40:00</td><td>8.716666666682983</td></tr><tr><td>2020-09-09 14:45:00</td><td>8.469945355191257</td></tr><tr><td>2020-09-09 14:50:00</td><td>9.082986014633693</td></tr><tr><td>2020-09-09 14:55:00</td><td>7.943317588217914</td></tr><tr><td>2020-09-09 15:00:00</td><td>9.220765027321894</td></tr><tr><td>2020-09-09 15:05:00</td><td>8.446327683615811</td></tr><tr><td>2020-09-09 15:10:00</td><td>8.899999999984479</td></tr><tr><td>2020-09-09 15:15:00</td><td>9.033333333364371</td></tr><tr><td>2020-09-09 15:20:00</td><td>8.972631286470016</td></tr><tr><td>2020-09-09 15:25:00</td><td>9.37823932575311</td></tr><tr><td>2020-09-09 15:30:00</td><td>9.08435213485227</td></tr><tr><td>2020-09-09 15:35:00</td><td>9.483333333317812</td></tr><tr><td>2020-09-09 15:40:00</td><td>9.169380383440103</td></tr><tr><td>2020-09-09 15:45:00</td><td>8.73333333331781</td></tr><tr><td>2020-09-09 15:50:00</td><td>6.983333333317812</td></tr><tr><td>2020-09-09 15:55:00</td><td>9.351018801534469</td></tr><tr><td>2020-09-09 16:00:00</td><td>8.853996480519632</td></tr><tr><td>2020-09-09 16:05:00</td><td>8.609419283151023</td></tr><tr><td>2020-09-09 16:10:00</td><td>8.586612021858716</td></tr><tr><td>2020-09-09 16:15:00</td><td>8.63333333330229</td></tr><tr><td>2020-09-09 16:20:00</td><td>7.784532740607384</td></tr><tr><td>2020-09-09 16:25:00</td><td>8.016666666604575</td></tr><tr><td>2020-09-09 16:30:00</td><td>8.266666666682188</td></tr><tr><td>2020-09-09 16:35:00</td><td>7.696424932882513</td></tr><tr><td>2020-09-09 16:40:00</td><td>7.967866073878634</td></tr><tr><td>2020-09-09 16:45:00</td><td>7.471436510186718</td></tr><tr><td>2020-09-09 16:50:00</td><td>5.683333333271245</td></tr><tr><td>2020-09-09 16:55:00</td><td>5.183333333348854</td></tr><tr><td>2020-09-09 17:00:00</td><td>6.08261554135408</td></tr><tr><td>2020-09-09 17:05:00</td><td>7.350000000015524</td></tr><tr><td>2020-09-09 17:10:00</td><td>7.1499999999844785</td></tr><tr><td>2020-09-09 17:15:00</td><td>6.483333333317812</td></tr><tr><td>2020-09-09 17:20:00</td><td>6.216666666713232</td></tr><tr><td>2020-09-09 17:25:00</td><td>6.1128415300236</td></tr><tr><td>2020-09-09 17:30:00</td><td>5.4287163100874185</td></tr><tr><td>2020-09-09 17:35:00</td><td>4.587431694004341</td></tr><tr><td>2020-09-09 17:40:00</td><td>5.936440677966099</td></tr><tr><td>2020-09-09 17:45:00</td><td>4.850000000030791</td></tr><tr><td>2020-09-09 17:50:00</td><td>4.899435028216752</td></tr><tr><td>2020-09-09 17:55:00</td><td>5.324492914681454</td></tr><tr><td>2020-09-09 18:00:00</td><td>5.152732240421118</td></tr><tr><td>2020-09-09 18:05:00</td><td>4.46939890716566</td></tr><tr><td>2020-09-09 18:10:00</td><td>4.984060387112242</td></tr><tr><td>2020-09-09 18:15:00</td><td>4.666574048360996</td></tr><tr><td>2020-09-09 18:20:00</td><td>4.312994350251704</td></tr><tr><td>2020-09-09 18:25:00</td><td>22.292085764563176</td></tr><tr><td>2020-09-09 18:30:00</td><td>18.0107298323756</td></tr><tr><td>2020-09-09 18:35:00</td><td>11.847540983637362</td></tr><tr><td>2020-09-09 18:40:00</td><td>24.16440677964444</td></tr><tr><td>2020-09-09 18:45:00</td><td>3.899999999984476</td></tr><tr><td>2020-09-09 18:50:00</td><td>3.714152079249966</td></tr><tr><td>2020-09-09 18:55:00</td><td>4.648050384426578</td></tr><tr><td>2020-09-09 19:00:00</td><td>3.13333333330229</td></tr><tr><td>2020-09-09 19:05:00</td><td>3.75</td></tr><tr><td>2020-09-09 19:10:00</td><td>3.5333333333643764</td></tr><tr><td>2020-09-09 19:15:00</td><td>3.3904371584544224</td></tr><tr><td>2020-09-09 19:20:00</td><td>4.37658145778104</td></tr><tr><td>2020-09-09 19:25:00</td><td>3.5989580439008177</td></tr><tr><td>2020-09-09 19:30:00</td><td>3.133333333379902</td></tr><tr><td>2020-09-09 19:35:00</td><td>3.349999999937912</td></tr><tr><td>2020-09-09 19:40:00</td><td>2.733333333395422</td></tr><tr><td>2020-09-09 19:45:00</td><td>3.083657497452994</td></tr><tr><td>2020-09-09 19:50:00</td><td>3.235917384443914</td></tr><tr><td>2020-09-09 19:55:00</td><td>3.117838288366354</td></tr><tr><td>2020-09-09 20:00:00</td><td>3.0</td></tr><tr><td>2020-09-09 20:05:00</td><td>2.8186579606056497</td></tr><tr><td>2020-09-09 20:10:00</td><td>2.65087061219208</td></tr><tr><td>2020-09-09 20:15:00</td><td>2.3666666666201017</td></tr><tr><td>2020-09-09 20:20:00</td><td>2.6333287024636416</td></tr><tr><td>2020-09-09 20:25:00</td><td>2.7336297119427924</td></tr><tr><td>2020-09-09 20:30:00</td><td>2.416666666666668</td></tr><tr><td>2020-09-09 20:35:00</td><td>2.683912197847218</td></tr><tr><td>2020-09-09 20:40:00</td><td>2.8666666666201</td></tr><tr><td>2020-09-09 20:45:00</td><td>2.233333333395422</td></tr><tr><td>2020-09-09 20:50:00</td><td>2.7833333332867705</td></tr><tr><td>2020-09-09 20:55:00</td><td>2.68506992684705</td></tr><tr><td>2020-09-09 21:00:00</td><td>2.816398073522916</td></tr><tr><td>2020-09-09 21:05:00</td><td>3.0353940909822343</td></tr><tr><td>2020-09-09 21:10:00</td><td>2.338029082152704</td></tr><tr><td>2020-09-09 21:15:00</td><td>2.4584745762398876</td></tr><tr><td>2020-09-09 21:20:00</td><td>2.690677966117482</td></tr><tr><td>2020-09-09 21:25:00</td><td>2.3663702880748003</td></tr><tr><td>2020-09-09 21:30:00</td><td>2.367509493330434</td></tr><tr><td>2020-09-09 21:35:00</td><td>2.3666666666977116</td></tr><tr><td>2020-09-09 21:40:00</td><td>2.3333333333333335</td></tr><tr><td>2020-09-09 21:45:00</td><td>2.601143836267096</td></tr><tr><td>2020-09-09 21:50:00</td><td>2.631096600876862</td></tr><tr><td>2020-09-09 21:55:00</td><td>2.324590163933918</td></tr><tr><td>2020-09-09 22:00:00</td><td>2.69570250997277</td></tr><tr><td>2020-09-09 22:05:00</td><td>2.549999999968958</td></tr><tr><td>2020-09-09 22:10:00</td><td>2.316666666651146</td></tr><tr><td>2020-09-09 22:15:00</td><td>2.51666666668219</td></tr><tr><td>2020-09-09 22:20:00</td><td>2.716143373206302</td></tr><tr><td>2020-09-09 22:25:00</td><td>2.465295915500784</td></tr><tr><td>2020-09-09 22:30:00</td><td>2.358469945386236</td></tr><tr><td>2020-09-09 22:35:00</td><td>2.5242937852478557</td></tr><tr><td>2020-09-09 22:40:00</td><td>2.900000000062088</td></tr><tr><td>2020-09-09 22:45:00</td><td>2.785296841668978</td></tr><tr><td>2020-09-09 22:50:00</td><td>2.8166666666511455</td></tr><tr><td>2020-09-09 22:55:00</td><td>2.2833333333643777</td></tr><tr><td>2020-09-09 23:00:00</td><td>3.166666666666666</td></tr><tr><td>2020-09-09 23:05:00</td><td>2.722946188740858</td></tr><tr><td>2020-09-09 23:10:00</td><td>2.508192090395218</td></tr><tr><td>2020-09-09 23:15:00</td><td>2.600023154596534</td></tr><tr><td>2020-09-09 23:20:00</td><td>2.549999999968958</td></tr><tr><td>2020-09-09 23:25:00</td><td>2.637552097852292</td></tr><tr><td>2020-09-09 23:30:00</td><td>2.682810039841926</td></tr><tr><td>2020-09-09 23:35:00</td><td>2.9631610632298484</td></tr><tr><td>2020-09-09 23:40:00</td><td>3.033365749777386</td></tr><tr><td>2020-09-09 23:45:00</td><td>3.1336574974219498</td></tr><tr><td>2020-09-09 23:50:00</td><td>3.188996943609404</td></tr><tr><td>2020-09-09 23:55:00</td><td>3.3390710382668862</td></tr><tr><td>2020-09-10 00:00:00</td><td>3.361299434966162</td></tr><tr><td>2020-09-10 00:05:00</td><td>3.53333333336438</td></tr><tr><td>2020-09-10 00:10:00</td><td>3.7216912104878097</td></tr><tr><td>2020-09-10 00:15:00</td><td>3.7680929888105306</td></tr><tr><td>2020-09-10 00:20:00</td><td>4.416666666666668</td></tr><tr><td>2020-09-10 00:25:00</td><td>5.350875243154134</td></tr><tr><td>2020-09-10 00:30:00</td><td>4.3129943502517065</td></tr><tr><td>2020-09-10 00:35:00</td><td>5.149999999984478</td></tr><tr><td>2020-09-10 00:40:00</td><td>5.633333333379898</td></tr><tr><td>2020-09-10 00:45:00</td><td>9.615226451792177</td></tr><tr><td>2020-09-10 00:50:00</td><td>7.534745762727129</td></tr><tr><td>2020-09-10 00:55:00</td><td>6.561998703340689</td></tr><tr><td>2020-09-10 01:00:00</td><td>7.196049828610303</td></tr><tr><td>2020-09-10 01:05:00</td><td>7.172825784926029</td></tr><tr><td>2020-09-10 01:10:00</td><td>7.75</td></tr><tr><td>2020-09-10 01:15:00</td><td>7.683055478388108</td></tr><tr><td>2020-09-10 01:20:00</td><td>8.283333333364379</td></tr><tr><td>2020-09-10 01:25:00</td><td>8.502537741965634</td></tr><tr><td>2020-09-10 01:30:00</td><td>8.950199129341737</td></tr><tr><td>2020-09-10 01:35:00</td><td>8.582092247845836</td></tr><tr><td>2020-09-10 01:40:00</td><td>8.816245253371894</td></tr><tr><td>2020-09-10 01:45:00</td><td>8.548212466393514</td></tr><tr><td>2020-09-10 01:50:00</td><td>8.740163934441242</td></tr><tr><td>2020-09-10 01:55:00</td><td>8.931272575697879</td></tr><tr><td>2020-09-10 02:00:00</td><td>10.466666666635629</td></tr><tr><td>2020-09-10 02:05:00</td><td>9.881073446375295</td></tr><tr><td>2020-09-10 02:10:00</td><td>9.76557377046051</td></tr><tr><td>2020-09-10 02:15:00</td><td>10.501694915300556</td></tr><tr><td>2020-09-10 02:20:00</td><td>10.166666666666666</td></tr><tr><td>2020-09-10 02:25:00</td><td>10.30000000000106</td></tr><tr><td>2020-09-10 02:30:00</td><td>11.133801055817028</td></tr><tr><td>2020-09-10 02:35:00</td><td>11.13644067798138</td></tr><tr><td>2020-09-10 02:40:00</td><td>11.324733722313457</td></tr><tr><td>2020-09-10 02:45:00</td><td>11.76666666668222</td></tr><tr><td>2020-09-10 02:50:00</td><td>11.449999999953432</td></tr><tr><td>2020-09-10 02:55:00</td><td>11.3666666666977</td></tr><tr><td>2020-09-10 03:00:00</td><td>13.147939242364561</td></tr><tr><td>2020-09-10 03:05:00</td><td>12.0</td></tr><tr><td>2020-09-10 03:10:00</td><td>12.081003982586939</td></tr><tr><td>2020-09-10 03:15:00</td><td>12.522603500987</td></tr><tr><td>2020-09-10 03:20:00</td><td>12.18142076499652</td></tr><tr><td>2020-09-10 03:25:00</td><td>12.5287904048044</td></tr><tr><td>2020-09-10 03:30:00</td><td>12.21666666663562</td></tr><tr><td>2020-09-10 03:35:00</td><td>12.833384273410582</td></tr><tr><td>2020-09-10 03:40:00</td><td>12.665972029267921</td></tr><tr><td>2020-09-10 03:45:00</td><td>12.56666666665116</td></tr><tr><td>2020-09-10 03:50:00</td><td>13.479234972722859</td></tr><tr><td>2020-09-10 03:55:00</td><td>12.26177178842872</td></tr><tr><td>2020-09-10 04:00:00</td><td>13.109322033883041</td></tr><tr><td>2020-09-10 04:05:00</td><td>13.70000000003104</td></tr><tr><td>2020-09-10 04:10:00</td><td>13.01256830598064</td></tr><tr><td>2020-09-10 04:15:00</td><td>12.974293785326239</td></tr><tr><td>2020-09-10 04:20:00</td><td>12.929012688726399</td></tr><tr><td>2020-09-10 04:25:00</td><td>12.6166666666201</td></tr><tr><td>2020-09-10 04:30:00</td><td>12.61319347970186</td></tr><tr><td>2020-09-10 04:35:00</td><td>10.99734185421902</td></tr><tr><td>2020-09-10 04:40:00</td><td>12.16448550523214</td></tr><tr><td>2020-09-10 04:45:00</td><td>12.314110401020761</td></tr><tr><td>2020-09-10 04:50:00</td><td>11.274793924253744</td></tr><tr><td>2020-09-10 04:55:00</td><td>12.76174863384876</td></tr><tr><td>2020-09-10 05:00:00</td><td>11.885417245548</td></tr><tr><td>2020-09-10 05:05:00</td><td>12.0</td></tr><tr><td>2020-09-10 05:10:00</td><td>11.983333333317798</td></tr><tr><td>2020-09-10 05:15:00</td><td>12.533333333364359</td></tr><tr><td>2020-09-10 05:20:00</td><td>11.484083541708522</td></tr><tr><td>2020-09-10 05:25:00</td><td>10.833333333333341</td></tr><tr><td>2020-09-10 05:30:00</td><td>11.100000000015502</td></tr><tr><td>2020-09-10 05:35:00</td><td>11.133333333302279</td></tr><tr><td>2020-09-10 05:40:00</td><td>11.862568306072522</td></tr><tr><td>2020-09-10 05:45:00</td><td>11.05815504303646</td></tr><tr><td>2020-09-10 05:50:00</td><td>10.690020376015628</td></tr><tr><td>2020-09-10 05:55:00</td><td>12.170834491062319</td></tr><tr><td>2020-09-10 06:00:00</td><td>11.40412614615196</td></tr><tr><td>2020-09-10 06:05:00</td><td>10.565573770507081</td></tr><tr><td>2020-09-10 06:10:00</td><td>11.181392979546622</td></tr><tr><td>2020-09-10 06:15:00</td><td>10.014406779645507</td></tr><tr><td>2020-09-10 06:20:00</td><td>10.487635454309686</td></tr><tr><td>2020-09-10 06:25:00</td><td>10.90282485870996</td></tr><tr><td>2020-09-10 06:30:00</td><td>10.383333333379891</td></tr><tr><td>2020-09-10 06:35:00</td><td>10.23333333331782</td></tr><tr><td>2020-09-10 06:40:00</td><td>10.96666666663562</td></tr><tr><td>2020-09-10 06:45:00</td><td>11.10286190610084</td></tr><tr><td>2020-09-10 06:50:00</td><td>10.812568305994375</td></tr><tr><td>2020-09-10 06:55:00</td><td>10.885245901639344</td></tr><tr><td>2020-09-10 07:00:00</td><td>10.91420765027504</td></tr><tr><td>2020-09-10 07:05:00</td><td>10.871186440679029</td></tr><tr><td>2020-09-10 07:10:00</td><td>11.415573770522618</td></tr><tr><td>2020-09-10 07:15:00</td><td>11.22203389832114</td></tr><tr><td>2020-09-10 07:20:00</td><td>11.549999999968941</td></tr><tr><td>2020-09-10 07:25:00</td><td>11.6333333333799</td></tr><tr><td>2020-09-10 07:30:00</td><td>10.648342132058222</td></tr><tr><td>2020-09-10 07:35:00</td><td>10.6333333333023</td></tr><tr><td>2020-09-10 07:40:00</td><td>10.567907752136572</td></tr><tr><td>2020-09-10 07:45:00</td><td>10.482786885261692</td></tr><tr><td>2020-09-10 07:50:00</td><td>10.056131332794724</td></tr><tr><td>2020-09-10 07:55:00</td><td>11.133333333302302</td></tr><tr><td>2020-09-10 08:00:00</td><td>10.162549782379017</td></tr><tr><td>2020-09-10 08:05:00</td><td>10.380508474591272</td></tr><tr><td>2020-09-10 08:10:00</td><td>11.45101417055612</td></tr><tr><td>2020-09-10 08:15:00</td><td>10.301639344263318</td></tr><tr><td>2020-09-10 08:20:00</td><td>10.153098082830798</td></tr><tr><td>2020-09-10 08:25:00</td><td>10.68333333334887</td></tr><tr><td>2020-09-10 08:30:00</td><td>9.639617486339052</td></tr><tr><td>2020-09-10 08:35:00</td><td>10.07086690745903</td></tr><tr><td>2020-09-10 08:40:00</td><td>9.735593220370284</td></tr><tr><td>2020-09-10 08:45:00</td><td>9.449032138508874</td></tr><tr><td>2020-09-10 08:50:00</td><td>10.731647679895545</td></tr><tr><td>2020-09-10 08:55:00</td><td>10.573719551743377</td></tr><tr><td>2020-09-10 09:00:00</td><td>9.756923219410742</td></tr><tr><td>2020-09-10 09:05:00</td><td>9.37513661200736</td></tr><tr><td>2020-09-10 09:10:00</td><td>9.38808002224419</td></tr><tr><td>2020-09-10 09:15:00</td><td>8.550000000046566</td></tr><tr><td>2020-09-10 09:20:00</td><td>8.416666666666666</td></tr><tr><td>2020-09-10 09:25:00</td><td>8.583333333333332</td></tr><tr><td>2020-09-10 09:30:00</td><td>8.0</td></tr><tr><td>2020-09-10 09:35:00</td><td>7.702208946884417</td></tr><tr><td>2020-09-10 09:40:00</td><td>8.149999999984477</td></tr><tr><td>2020-09-10 09:45:00</td><td>7.416666666666666</td></tr><tr><td>2020-09-10 09:50:00</td><td>7.201125312616831</td></tr><tr><td>2020-09-10 09:55:00</td><td>7.565541354063804</td></tr><tr><td>2020-09-10 10:00:00</td><td>7.254987496526821</td></tr><tr><td>2020-09-10 10:05:00</td><td>7.300023154627063</td></tr><tr><td>2020-09-10 10:10:00</td><td>7.5765027321793665</td></tr><tr><td>2020-09-10 10:15:00</td><td>7.383333333379899</td></tr><tr><td>2020-09-10 10:20:00</td><td>7.404519773980255</td></tr><tr><td>2020-09-10 10:25:00</td><td>7.815092155214852</td></tr><tr><td>2020-09-10 10:30:00</td><td>7.45685375573497</td></tr><tr><td>2020-09-10 10:35:00</td><td>7.805932203343263</td></tr><tr><td>2020-09-10 10:40:00</td><td>7.461651384690176</td></tr><tr><td>2020-09-10 10:45:00</td><td>7.59999999993791</td></tr><tr><td>2020-09-10 10:50:00</td><td>7.883333333379897</td></tr><tr><td>2020-09-10 10:55:00</td><td>7.544808743153877</td></tr><tr><td>2020-09-10 11:00:00</td><td>8.39378531076577</td></tr><tr><td>2020-09-10 11:05:00</td><td>9.26844956929533</td></tr><tr><td>2020-09-10 11:10:00</td><td>8.84999999998395</td></tr><tr><td>2020-09-10 11:15:00</td><td>9.301792164536188</td></tr><tr><td>2020-09-10 11:20:00</td><td>8.737978142014414</td></tr><tr><td>2020-09-10 11:25:00</td><td>9.436866722300298</td></tr><tr><td>2020-09-10 11:30:00</td><td>9.433333333271229</td></tr><tr><td>2020-09-10 11:35:00</td><td>8.416666666666666</td></tr><tr><td>2020-09-10 11:40:00</td><td>9.979753635330642</td></tr><tr><td>2020-09-10 11:45:00</td><td>9.216666666635629</td></tr><tr><td>2020-09-10 11:50:00</td><td>7.947434472570494</td></tr><tr><td>2020-09-10 11:55:00</td><td>9.768426414683265</td></tr><tr><td>2020-09-10 12:00:00</td><td>9.747860516811006</td></tr><tr><td>2020-09-10 12:05:00</td><td>8.816666666728755</td></tr><tr><td>2020-09-10 12:10:00</td><td>9.304816152603951</td></tr><tr><td>2020-09-10 12:15:00</td><td>8.446860238986837</td></tr><tr><td>2020-09-10 12:20:00</td><td>8.23333333331781</td></tr><tr><td>2020-09-10 12:25:00</td><td>8.183333333348852</td></tr><tr><td>2020-09-10 12:30:00</td><td>8.283333333286768</td></tr><tr><td>2020-09-10 12:35:00</td><td>8.450000000031043</td></tr><tr><td>2020-09-10 12:40:00</td><td>8.816666666651148</td></tr><tr><td>2020-09-10 12:45:00</td><td>8.683333333348855</td></tr><tr><td>2020-09-10 12:50:00</td><td>8.585718255070852</td></tr><tr><td>2020-09-10 12:55:00</td><td>8.949999999953437</td></tr><tr><td>2020-09-10 13:00:00</td><td>8.288797814269227</td></tr><tr><td>2020-09-10 13:05:00</td><td>8.714971751350868</td></tr><tr><td>2020-09-10 13:10:00</td><td>8.683333333348855</td></tr><tr><td>2020-09-10 13:15:00</td><td>8.583333333333334</td></tr><tr><td>2020-09-10 13:20:00</td><td>9.085171806982911</td></tr><tr><td>2020-09-10 13:25:00</td><td>8.633333333379898</td></tr><tr><td>2020-09-10 13:30:00</td><td>8.333333333333332</td></tr><tr><td>2020-09-10 13:35:00</td><td>8.398758914498295</td></tr><tr><td>2020-09-10 13:40:00</td><td>7.833333333333334</td></tr><tr><td>2020-09-10 13:45:00</td><td>8.416666666666668</td></tr><tr><td>2020-09-10 13:50:00</td><td>7.916666666666666</td></tr><tr><td>2020-09-10 13:55:00</td><td>8.283333333286768</td></tr><tr><td>2020-09-10 14:00:00</td><td>8.26666666668219</td></tr><tr><td>2020-09-10 14:05:00</td><td>8.23333333331781</td></tr><tr><td>2020-09-10 14:10:00</td><td>8.15000000006208</td></tr><tr><td>2020-09-10 14:15:00</td><td>8.5</td></tr><tr><td>2020-09-10 14:20:00</td><td>8.049999999968955</td></tr><tr><td>2020-09-10 14:25:00</td><td>8.633333333302291</td></tr><tr><td>2020-09-10 14:30:00</td><td>8.184768917305295</td></tr><tr><td>2020-09-10 14:35:00</td><td>9.134379920394796</td></tr><tr><td>2020-09-10 14:40:00</td><td>8.791530054628783</td></tr><tr><td>2020-09-10 14:45:00</td><td>8.65677966098537</td></tr><tr><td>2020-09-10 14:50:00</td><td>9.566666666651134</td></tr><tr><td>2020-09-10 14:55:00</td><td>8.6333333333799</td></tr><tr><td>2020-09-10 15:00:00</td><td>9.184153005433691</td></tr><tr><td>2020-09-10 15:05:00</td><td>9.062994350313533</td></tr><tr><td>2020-09-10 15:10:00</td><td>8.605464480844038</td></tr><tr><td>2020-09-10 15:15:00</td><td>8.893220339013837</td></tr><tr><td>2020-09-10 15:20:00</td><td>9.234153005480257</td></tr><tr><td>2020-09-10 15:25:00</td><td>9.469774011237089</td></tr><tr><td>2020-09-10 15:30:00</td><td>8.900000000062079</td></tr><tr><td>2020-09-10 15:35:00</td><td>8.919945355144693</td></tr><tr><td>2020-09-10 15:40:00</td><td>9.24774011304091</td></tr><tr><td>2020-09-10 15:45:00</td><td>8.899999999984479</td></tr><tr><td>2020-09-10 15:50:00</td><td>9.133333333302279</td></tr><tr><td>2020-09-10 15:55:00</td><td>8.55000000004656</td></tr><tr><td>2020-09-10 16:00:00</td><td>8.504644808696606</td></tr><tr><td>2020-09-10 16:05:00</td><td>8.600944706879819</td></tr><tr><td>2020-09-10 16:10:00</td><td>7.944632768361318</td></tr><tr><td>2020-09-10 16:15:00</td><td>8.850000000015523</td></tr><tr><td>2020-09-10 16:20:00</td><td>8.199999999953434</td></tr><tr><td>2020-09-10 16:25:00</td><td>7.8631193850451355</td></tr><tr><td>2020-09-10 16:30:00</td><td>8.445651569911828</td></tr><tr><td>2020-09-10 16:35:00</td><td>7.883333333302289</td></tr><tr><td>2020-09-10 16:40:00</td><td>7.963137908645732</td></tr><tr><td>2020-09-10 16:45:00</td><td>7.781916273070385</td></tr><tr><td>2020-09-10 16:50:00</td><td>7.516666666682188</td></tr><tr><td>2020-09-10 16:55:00</td><td>7.447666018307908</td></tr><tr><td>2020-09-10 17:00:00</td><td>7.414406779707585</td></tr><tr><td>2020-09-10 17:05:00</td><td>7.649999999984478</td></tr><tr><td>2020-09-10 17:10:00</td><td>7.128118921907752</td></tr><tr><td>2020-09-10 17:15:00</td><td>6.825581179924535</td></tr><tr><td>2020-09-10 17:20:00</td><td>6.428961748665687</td></tr><tr><td>2020-09-10 17:25:00</td><td>6.348462535904358</td></tr><tr><td>2020-09-10 17:30:00</td><td>6.416916736115392</td></tr><tr><td>2020-09-10 17:35:00</td><td>5.951166990862358</td></tr><tr><td>2020-09-10 17:40:00</td><td>5.733333333317808</td></tr><tr><td>2020-09-10 17:45:00</td><td>5.45113920528875</td></tr><tr><td>2020-09-10 17:50:00</td><td>5.600000000015522</td></tr><tr><td>2020-09-10 17:55:00</td><td>5.692354357706945</td></tr><tr><td>2020-09-10 18:00:00</td><td>5.666666666666666</td></tr><tr><td>2020-09-10 18:05:00</td><td>4.836065573769976</td></tr><tr><td>2020-09-10 18:10:00</td><td>5.147513198096092</td></tr><tr><td>2020-09-10 18:15:00</td><td>4.922478466239072</td></tr><tr><td>2020-09-10 18:20:00</td><td>4.551366120204074</td></tr><tr><td>2020-09-10 18:25:00</td><td>24.39090951191722</td></tr><tr><td>2020-09-10 18:30:00</td><td>19.83588959894742</td></tr><tr><td>2020-09-10 18:35:00</td><td>11.554519774012087</td></tr><tr><td>2020-09-10 18:40:00</td><td>24.58609335931329</td></tr><tr><td>2020-09-10 18:45:00</td><td>4.649999999984478</td></tr><tr><td>2020-09-10 18:50:00</td><td>4.516666666682189</td></tr><tr><td>2020-09-10 18:55:00</td><td>4.750000000000001</td></tr><tr><td>2020-09-10 19:00:00</td><td>3.615370010139896</td></tr><tr><td>2020-09-10 19:05:00</td><td>3.817884597636278</td></tr><tr><td>2020-09-10 19:10:00</td><td>3.7999999999689544</td></tr><tr><td>2020-09-10 19:15:00</td><td>3.616666666697712</td></tr><tr><td>2020-09-10 19:20:00</td><td>3.6333333333022906</td></tr><tr><td>2020-09-10 19:25:00</td><td>3.218968231885756</td></tr><tr><td>2020-09-10 19:30:00</td><td>3.61666666669771</td></tr><tr><td>2020-09-10 19:35:00</td><td>3.400916921352034</td></tr><tr><td>2020-09-10 19:40:00</td><td>3.0399879596642156</td></tr><tr><td>2020-09-10 19:45:00</td><td>3.365254237225784</td></tr><tr><td>2020-09-10 19:50:00</td><td>3.050000000046568</td></tr><tr><td>2020-09-10 19:55:00</td><td>2.865031953274566</td></tr><tr><td>2020-09-10 20:00:00</td><td>3.1703713994607443</td></tr><tr><td>2020-09-10 20:05:00</td><td>2.9071038251366117</td></tr><tr><td>2020-09-10 20:10:00</td><td>2.723742706353628</td></tr><tr><td>2020-09-10 20:15:00</td><td>2.966990830755286</td></tr><tr><td>2020-09-10 20:20:00</td><td>2.633333333379902</td></tr><tr><td>2020-09-10 20:25:00</td><td>2.9508428266637656</td></tr><tr><td>2020-09-10 20:30:00</td><td>2.6333333333799</td></tr><tr><td>2020-09-10 20:35:00</td><td>2.5999999999379138</td></tr><tr><td>2020-09-10 20:40:00</td><td>2.999995369083742</td></tr><tr><td>2020-09-10 20:45:00</td><td>2.5519449847660978</td></tr><tr><td>2020-09-10 20:50:00</td><td>2.6000000000155237</td></tr><tr><td>2020-09-10 20:55:00</td><td>2.5499999999689584</td></tr><tr><td>2020-09-10 21:00:00</td><td>2.627618782963696</td></tr><tr><td>2020-09-10 21:05:00</td><td>2.9265536723163836</td></tr><tr><td>2020-09-10 21:10:00</td><td>2.500041678245008</td></tr><tr><td>2020-09-10 21:15:00</td><td>2.5458321756519355</td></tr><tr><td>2020-09-10 21:20:00</td><td>2.599698990476352</td></tr><tr><td>2020-09-10 21:25:00</td><td>2.685250532493506</td></tr><tr><td>2020-09-10 21:30:00</td><td>2.716944521672942</td></tr><tr><td>2020-09-10 21:35:00</td><td>2.825136612021858</td></tr><tr><td>2020-09-10 21:40:00</td><td>2.679776789863528</td></tr><tr><td>2020-09-10 21:45:00</td><td>2.7186996387562097</td></tr><tr><td>2020-09-10 21:50:00</td><td>2.6110308419181303</td></tr><tr><td>2020-09-10 21:55:00</td><td>2.4655506158808</td></tr><tr><td>2020-09-10 22:00:00</td><td>2.633333333379902</td></tr><tr><td>2020-09-10 22:05:00</td><td>2.604149300670612</td></tr><tr><td>2020-09-10 22:10:00</td><td>2.498036491618544</td></tr><tr><td>2020-09-10 22:15:00</td><td>2.416666666666668</td></tr><tr><td>2020-09-10 22:20:00</td><td>2.9166666666666696</td></tr><tr><td>2020-09-10 22:25:00</td><td>2.6310966009544723</td></tr><tr><td>2020-09-10 22:30:00</td><td>2.466662035719364</td></tr><tr><td>2020-09-10 22:35:00</td><td>4.188029082183492</td></tr><tr><td>2020-09-10 22:40:00</td><td>3.0423728813085757</td></tr><tr><td>2020-09-10 22:45:00</td><td>3.00003241641301</td></tr><tr><td>2020-09-10 22:50:00</td><td>3.131545799806296</td></tr><tr><td>2020-09-10 22:55:00</td><td>2.682810039841926</td></tr><tr><td>2020-09-10 23:00:00</td><td>3.315578401392276</td></tr><tr><td>2020-09-10 23:05:00</td><td>3.033333333286768</td></tr><tr><td>2020-09-10 23:10:00</td><td>2.834504955080904</td></tr><tr><td>2020-09-10 23:15:00</td><td>3.083333333333334</td></tr><tr><td>2020-09-10 23:20:00</td><td>2.716666666713234</td></tr><tr><td>2020-09-10 23:25:00</td><td>2.957650273193508</td></tr><tr><td>2020-09-10 23:30:00</td><td>2.959887005680762</td></tr><tr><td>2020-09-10 23:35:00</td><td>3.2166666666356223</td></tr><tr><td>2020-09-10 23:40:00</td><td>3.2161896823662537</td></tr><tr><td>2020-09-10 23:45:00</td><td>3.316666666651146</td></tr><tr><td>2020-09-10 23:50:00</td><td>3.1804575345163824</td></tr><tr><td>2020-09-10 23:55:00</td><td>3.7352459016383235</td></tr><tr><td>2020-09-11 00:00:00</td><td>3.8612531258056917</td></tr><tr><td>2020-09-11 00:05:00</td><td>3.8890432528017143</td></tr><tr><td>2020-09-11 00:10:00</td><td>3.9833333333178103</td></tr><tr><td>2020-09-11 00:15:00</td><td>4.951366120188554</td></tr><tr><td>2020-09-11 00:20:00</td><td>4.9485968324708</td></tr><tr><td>2020-09-11 00:25:00</td><td>5.71624988427263</td></tr><tr><td>2020-09-11 00:30:00</td><td>5.366666666620103</td></tr><tr><td>2020-09-11 00:35:00</td><td>6.05116699087788</td></tr><tr><td>2020-09-11 00:40:00</td><td>6.699999999953434</td></tr><tr><td>2020-09-11 00:45:00</td><td>8.499999999999991</td></tr><tr><td>2020-09-11 00:50:00</td><td>8.650476984363545</td></tr><tr><td>2020-09-11 00:55:00</td><td>7.3833333333022875</td></tr><tr><td>2020-09-11 01:00:00</td><td>6.878243956702212</td></tr><tr><td>2020-09-11 01:05:00</td><td>7.24743447253945</td></tr><tr><td>2020-09-11 01:10:00</td><td>7.383333333302289</td></tr><tr><td>2020-09-11 01:15:00</td><td>7.350000000015522</td></tr><tr><td>2020-09-11 01:20:00</td><td>7.866666666697709</td></tr><tr><td>2020-09-11 01:25:00</td><td>7.602236732363577</td></tr><tr><td>2020-09-11 01:30:00</td><td>7.916171158656491</td></tr><tr><td>2020-09-11 01:35:00</td><td>7.966666666713232</td></tr><tr><td>2020-09-11 01:40:00</td><td>8.01666666668219</td></tr><tr><td>2020-09-11 01:45:00</td><td>8.766666666604578</td></tr><tr><td>2020-09-11 01:50:00</td><td>8.183333333348854</td></tr><tr><td>2020-09-11 01:55:00</td><td>9.21738445869352</td></tr><tr><td>2020-09-11 02:00:00</td><td>8.816666666651145</td></tr><tr><td>2020-09-11 02:05:00</td><td>10.066666666651129</td></tr><tr><td>2020-09-11 02:10:00</td><td>10.3795267203853</td></tr><tr><td>2020-09-11 02:15:00</td><td>9.887232564616273</td></tr><tr><td>2020-09-11 02:20:00</td><td>10.692118180991217</td></tr><tr><td>2020-09-11 02:25:00</td><td>10.298833009138677</td></tr><tr><td>2020-09-11 02:30:00</td><td>11.10000000001552</td></tr><tr><td>2020-09-11 02:35:00</td><td>11.993613966827642</td></tr><tr><td>2020-09-11 02:40:00</td><td>11.68333333334886</td></tr><tr><td>2020-09-11 02:45:00</td><td>12.03333333328676</td></tr><tr><td>2020-09-11 02:50:00</td><td>12.033333333364359</td></tr><tr><td>2020-09-11 02:55:00</td><td>11.950000000031041</td></tr><tr><td>2020-09-11 03:00:00</td><td>13.0332685004794</td></tr><tr><td>2020-09-11 03:05:00</td><td>12.27442345097362</td></tr><tr><td>2020-09-11 03:10:00</td><td>12.51666666668218</td></tr><tr><td>2020-09-11 03:15:00</td><td>12.71189682316006</td></tr><tr><td>2020-09-11 03:20:00</td><td>12.700000000031041</td></tr><tr><td>2020-09-11 03:25:00</td><td>13.518055941403139</td></tr><tr><td>2020-09-11 03:30:00</td><td>12.2718810780757</td></tr><tr><td>2020-09-11 03:35:00</td><td>13.7833333333644</td></tr><tr><td>2020-09-11 03:40:00</td><td>12.40219042324966</td></tr><tr><td>2020-09-11 03:45:00</td><td>12.56666666665116</td></tr><tr><td>2020-09-11 03:50:00</td><td>13.1166666666977</td></tr><tr><td>2020-09-11 03:55:00</td><td>12.700000000031041</td></tr><tr><td>2020-09-11 04:00:00</td><td>12.799999999968959</td></tr><tr><td>2020-09-11 04:05:00</td><td>13.41666666666666</td></tr><tr><td>2020-09-11 04:10:00</td><td>13.385079188634041</td></tr><tr><td>2020-09-11 04:15:00</td><td>13.2721311476023</td></tr><tr><td>2020-09-11 04:20:00</td><td>12.48272205240332</td></tr><tr><td>2020-09-11 04:25:00</td><td>13.643553764951259</td></tr><tr><td>2020-09-11 04:30:00</td><td>13.11666666662012</td></tr><tr><td>2020-09-11 04:35:00</td><td>11.19028433822736</td></tr><tr><td>2020-09-11 04:40:00</td><td>13.27905436698716</td></tr><tr><td>2020-09-11 04:45:00</td><td>12.20621468926554</td></tr><tr><td>2020-09-11 04:50:00</td><td>11.82322867461604</td></tr><tr><td>2020-09-11 04:55:00</td><td>11.8500000000155</td></tr><tr><td>2020-09-11 05:00:00</td><td>11.2333333333178</td></tr><tr><td>2020-09-11 05:05:00</td><td>11.642896174879422</td></tr><tr><td>2020-09-11 05:10:00</td><td>11.52740112992824</td></tr><tr><td>2020-09-11 05:15:00</td><td>12.5333333333644</td></tr><tr><td>2020-09-11 05:20:00</td><td>11.86999629525038</td></tr><tr><td>2020-09-11 05:25:00</td><td>11.359322033883062</td></tr><tr><td>2020-09-11 05:30:00</td><td>11.964754098360899</td></tr><tr><td>2020-09-11 05:35:00</td><td>10.999087709580005</td></tr><tr><td>2020-09-11 05:40:00</td><td>12.766208205985219</td></tr><tr><td>2020-09-11 05:45:00</td><td>11.36666666662008</td></tr><tr><td>2020-09-11 05:50:00</td><td>10.91666666666668</td></tr><tr><td>2020-09-11 05:55:00</td><td>11.992349726807</td></tr><tr><td>2020-09-11 06:00:00</td><td>11.189172918418006</td></tr><tr><td>2020-09-11 06:05:00</td><td>10.88455589512498</td></tr><tr><td>2020-09-11 06:10:00</td><td>12.52330276927146</td></tr><tr><td>2020-09-11 06:15:00</td><td>10.733333333395418</td></tr><tr><td>2020-09-11 06:20:00</td><td>11.04756876907199</td></tr><tr><td>2020-09-11 06:25:00</td><td>11.04999999996896</td></tr><tr><td>2020-09-11 06:30:00</td><td>11.266666666682202</td></tr><tr><td>2020-09-11 06:35:00</td><td>9.905237565973746</td></tr><tr><td>2020-09-11 06:40:00</td><td>10.882879503567619</td></tr><tr><td>2020-09-11 06:45:00</td><td>10.71949152544003</td></tr><tr><td>2020-09-11 06:50:00</td><td>10.833333333333325</td></tr><tr><td>2020-09-11 06:55:00</td><td>11.133333333379905</td></tr><tr><td>2020-09-11 07:00:00</td><td>10.014499397919582</td></tr><tr><td>2020-09-11 07:05:00</td><td>10.566666666728763</td></tr><tr><td>2020-09-11 07:10:00</td><td>10.56693989064932</td></tr><tr><td>2020-09-11 07:15:00</td><td>10.278077243678785</td></tr><tr><td>2020-09-11 07:20:00</td><td>10.423738075391848</td></tr><tr><td>2020-09-11 07:25:00</td><td>10.701787533604396</td></tr><tr><td>2020-09-11 07:30:00</td><td>10.653079559121778</td></tr><tr><td>2020-09-11 07:35:00</td><td>10.95000000003103</td></tr><tr><td>2020-09-11 07:40:00</td><td>10.56542095024871</td></tr><tr><td>2020-09-11 07:45:00</td><td>10.548462535858544</td></tr><tr><td>2020-09-11 07:50:00</td><td>10.51666666668218</td></tr><tr><td>2020-09-11 07:55:00</td><td>10.166666666666657</td></tr><tr><td>2020-09-11 08:00:00</td><td>10.830601092926706</td></tr><tr><td>2020-09-11 08:05:00</td><td>10.152259886959344</td></tr><tr><td>2020-09-11 08:10:00</td><td>10.547522459987073</td></tr><tr><td>2020-09-11 08:15:00</td><td>10.698115217174959</td></tr><tr><td>2020-09-11 08:20:00</td><td>10.013841807893554</td></tr><tr><td>2020-09-11 08:25:00</td><td>10.966666666713222</td></tr><tr><td>2020-09-11 08:30:00</td><td>9.829387792904685</td></tr><tr><td>2020-09-11 08:35:00</td><td>10.516666666604586</td></tr><tr><td>2020-09-11 08:40:00</td><td>10.483606557392312</td></tr><tr><td>2020-09-11 08:45:00</td><td>9.831920904002157</td></tr><tr><td>2020-09-11 08:50:00</td><td>10.698087431678704</td></tr><tr><td>2020-09-11 08:55:00</td><td>8.922307122333287</td></tr><tr><td>2020-09-11 09:00:00</td><td>10.333333333333327</td></tr><tr><td>2020-09-11 09:05:00</td><td>9.666666666666652</td></tr><tr><td>2020-09-11 09:10:00</td><td>9.483333333317805</td></tr><tr><td>2020-09-11 09:15:00</td><td>8.969945355191257</td></tr><tr><td>2020-09-11 09:20:00</td><td>8.828813559369127</td></tr><tr><td>2020-09-11 09:25:00</td><td>9.368250439890982</td></tr><tr><td>2020-09-11 09:30:00</td><td>9.700000000031043</td></tr><tr><td>2020-09-11 09:35:00</td><td>9.818306010944237</td></tr><tr><td>2020-09-11 09:40:00</td><td>9.464406779598923</td></tr><tr><td>2020-09-11 09:45:00</td><td>8.90000000006209</td></tr><tr><td>2020-09-11 09:50:00</td><td>8.631471705072219</td></tr><tr><td>2020-09-11 09:55:00</td><td>8.73529684169847</td></tr><tr><td>2020-09-11 10:00:00</td><td>8.586690747428289</td></tr><tr><td>2020-09-11 10:05:00</td><td>8.456900064863346</td></tr><tr><td>2020-09-11 10:10:00</td><td>8.649999999984479</td></tr><tr><td>2020-09-11 10:15:00</td><td>8.507103825167402</td></tr><tr><td>2020-09-11 10:20:00</td><td>8.397740112947782</td></tr><tr><td>2020-09-11 10:25:00</td><td>8.182638695948027</td></tr><tr><td>2020-09-11 10:30:00</td><td>8.733504677210158</td></tr><tr><td>2020-09-11 10:35:00</td><td>8.55546448087508</td></tr><tr><td>2020-09-11 10:40:00</td><td>8.07742428457109</td></tr><tr><td>2020-09-11 10:50:00</td><td>9.033333333364379</td></tr><tr><td>2020-09-11 10:55:00</td><td>8.233333333317809</td></tr><tr><td>2020-09-11 11:00:00</td><td>8.71395758085656</td></tr><tr><td>2020-09-11 11:05:00</td><td>8.36815782156976</td></tr><tr><td>2020-09-11 11:15:00</td><td>8.724124756915707</td></tr><tr><td>2020-09-11 11:20:00</td><td>8.708196721295447</td></tr><tr><td>2020-09-11 11:25:00</td><td>9.198786700010556</td></tr></tbody></table>Showing the first 1000 rows.</div>"
      ]
     },
     "metadata": {
      "application/vnd.databricks.v1+output": {
       "addedWidgets": {},
       "aggData": [
        [
         "2020-09-08 00:00:00",
         3.569324812430564
        ],
        [
         "2020-09-08 00:05:00",
         3.43524590166937
        ],
        [
         "2020-09-08 00:10:00",
         4.18107344632663
        ],
        [
         "2020-09-08 00:15:00",
         4.4329860145721245
        ],
        [
         "2020-09-08 00:20:00",
         4.668259701784014
        ],
        [
         "2020-09-08 00:25:00",
         5.538135593236124
        ],
        [
         "2020-09-08 00:30:00",
         5.103107344648038
        ],
        [
         "2020-09-08 00:35:00",
         6.304621654133174
        ],
        [
         "2020-09-08 00:40:00",
         6.843243493578017
        ],
        [
         "2020-09-08 00:45:00",
         7.64604982864135
        ],
        [
         "2020-09-08 00:50:00",
         9.934356765784065
        ],
        [
         "2020-09-08 00:55:00",
         7.732791516146368
        ],
        [
         "2020-09-08 01:00:00",
         7.566666666651143
        ],
        [
         "2020-09-08 01:05:00",
         7.600004630930743
        ],
        [
         "2020-09-08 01:10:00",
         7.859016393488171
        ],
        [
         "2020-09-08 01:15:00",
         7.464994905961616
        ],
        [
         "2020-09-08 01:20:00",
         7.9740668703959185
        ],
        [
         "2020-09-08 01:25:00",
         8.396045197772205
        ],
        [
         "2020-09-08 01:30:00",
         8.000842826711132
        ],
        [
         "2020-09-08 01:35:00",
         8.231990367679726
        ],
        [
         "2020-09-08 01:40:00",
         8.766666666682188
        ],
        [
         "2020-09-08 01:45:00",
         9.187978142045466
        ],
        [
         "2020-09-08 01:50:00",
         9.347740113056435
        ],
        [
         "2020-09-08 01:55:00",
         10.366666666620084
        ],
        [
         "2020-09-08 02:00:00",
         9.050000000046566
        ],
        [
         "2020-09-08 02:05:00",
         9.831647679911063
        ],
        [
         "2020-09-08 02:10:00",
         11.13333333330228
        ],
        [
         "2020-09-08 02:15:00",
         10.433333333348871
        ],
        [
         "2020-09-08 02:20:00",
         10.473946466579255
        ],
        [
         "2020-09-08 02:25:00",
         11.450000000031059
        ],
        [
         "2020-09-08 02:30:00",
         11.049999999968978
        ],
        [
         "2020-09-08 02:35:00",
         12.08333333333334
        ],
        [
         "2020-09-08 02:40:00",
         11.58333333333334
        ],
        [
         "2020-09-08 02:45:00",
         11.99999999999998
        ],
        [
         "2020-09-08 02:50:00",
         12.16878299527722
        ],
        [
         "2020-09-08 02:55:00",
         12.20989163661126
        ],
        [
         "2020-09-08 03:00:00",
         12.43112438634206
        ],
        [
         "2020-09-08 03:05:00",
         12.21666666671324
        ],
        [
         "2020-09-08 03:10:00",
         12.57322404366954
        ],
        [
         "2020-09-08 03:15:00",
         12.02711864412988
        ],
        [
         "2020-09-08 03:20:00",
         13.0694961563255
        ],
        [
         "2020-09-08 03:25:00",
         13.283333333286759
        ],
        [
         "2020-09-08 03:30:00",
         11.95794665187854
        ],
        [
         "2020-09-08 03:35:00",
         13.06666666665114
        ],
        [
         "2020-09-08 03:40:00",
         12.24078447717008
        ],
        [
         "2020-09-08 03:45:00",
         12.26666666668218
        ],
        [
         "2020-09-08 03:50:00",
         13.326502732270962
        ],
        [
         "2020-09-08 03:55:00",
         13.0813559321568
        ],
        [
         "2020-09-08 04:00:00",
         12.97540983608084
        ],
        [
         "2020-09-08 04:05:00",
         13.1129943502667
        ],
        [
         "2020-09-08 04:10:00",
         13.021191071608461
        ],
        [
         "2020-09-08 04:15:00",
         13.41666666666666
        ],
        [
         "2020-09-08 04:20:00",
         11.983333333317841
        ],
        [
         "2020-09-08 04:25:00",
         13.200000000031043
        ],
        [
         "2020-09-08 04:30:00",
         13.29999999996898
        ],
        [
         "2020-09-08 04:35:00",
         11.71666666671324
        ],
        [
         "2020-09-08 04:40:00",
         12.93952486795602
        ],
        [
         "2020-09-08 04:45:00",
         12.345081967259679
        ],
        [
         "2020-09-08 04:50:00",
         11.804519774026561
        ],
        [
         "2020-09-08 04:55:00",
         12.62119107154764
        ],
        [
         "2020-09-08 05:00:00",
         11.372784106726595
        ],
        [
         "2020-09-08 05:05:00",
         12.533333333286759
        ],
        [
         "2020-09-08 05:10:00",
         10.46994535519125
        ],
        [
         "2020-09-08 05:15:00",
         11.660294526303861
        ],
        [
         "2020-09-08 05:20:00",
         11.81937575250832
        ],
        [
         "2020-09-08 05:25:00",
         11.23316198942598
        ],
        [
         "2020-09-08 05:30:00",
         11.535421876478974
        ],
        [
         "2020-09-08 05:35:00",
         10.205765490367954
        ],
        [
         "2020-09-08 05:40:00",
         12.03447253866738
        ],
        [
         "2020-09-08 05:45:00",
         11.40837732706584
        ],
        [
         "2020-09-08 05:50:00",
         10.383333333302293
        ],
        [
         "2020-09-08 05:55:00",
         11.237278873823335
        ],
        [
         "2020-09-08 06:00:00",
         11.133333333302321
        ],
        [
         "2020-09-08 06:05:00",
         11.233333333317798
        ],
        [
         "2020-09-08 06:10:00",
         11.100000000015541
        ],
        [
         "2020-09-08 06:15:00",
         10.956830601093396
        ],
        [
         "2020-09-08 06:20:00",
         10.85084745761186
        ],
        [
         "2020-09-08 06:25:00",
         10.027720663177178
        ],
        [
         "2020-09-08 06:30:00",
         11.175118088373665
        ],
        [
         "2020-09-08 06:35:00",
         9.399999999984473
        ],
        [
         "2020-09-08 06:40:00",
         10.919991664350684
        ],
        [
         "2020-09-08 06:45:00",
         12.97704918034338
        ],
        [
         "2020-09-08 06:50:00",
         11.2220338982422
        ],
        [
         "2020-09-08 06:55:00",
         12.6166666666977
        ],
        [
         "2020-09-08 07:00:00",
         11.8500000000155
        ],
        [
         "2020-09-08 07:05:00",
         12.21666666663562
        ],
        [
         "2020-09-08 07:10:00",
         13.100000000015521
        ],
        [
         "2020-09-08 07:15:00",
         12.08385662684128
        ],
        [
         "2020-09-08 07:20:00",
         12.27014911551004
        ],
        [
         "2020-09-08 07:25:00",
         11.800393627829061
        ],
        [
         "2020-09-08 07:30:00",
         11.83050847460682
        ],
        [
         "2020-09-08 07:35:00",
         12.07429378526416
        ],
        [
         "2020-09-08 07:40:00",
         12.700000000031059
        ],
        [
         "2020-09-08 07:45:00",
         11.554894878175357
        ],
        [
         "2020-09-08 07:50:00",
         11.26666666668218
        ],
        [
         "2020-09-08 07:55:00",
         10.511628230080202
        ],
        [
         "2020-09-08 08:00:00",
         10.480601092911176
        ],
        [
         "2020-09-08 08:05:00",
         10.58208761689933
        ],
        [
         "2020-09-08 08:10:00",
         10.250000000000007
        ],
        [
         "2020-09-08 08:15:00",
         10.751912568337056
        ],
        [
         "2020-09-08 08:20:00",
         9.465819209055063
        ],
        [
         "2020-09-08 08:25:00",
         10.581420764980999
        ],
        [
         "2020-09-08 08:30:00",
         10.052259887021433
        ],
        [
         "2020-09-08 08:35:00",
         9.666666666666654
        ],
        [
         "2020-09-08 08:40:00",
         9.537431693974309
        ],
        [
         "2020-09-08 08:45:00",
         8.759447068614383
        ],
        [
         "2020-09-08 08:50:00",
         9.800000000046563
        ],
        [
         "2020-09-08 08:55:00",
         8.268782995293547
        ],
        [
         "2020-09-08 09:00:00",
         9.133759377573336
        ],
        [
         "2020-09-08 09:05:00",
         8.716666666635614
        ],
        [
         "2020-09-08 09:10:00",
         9.80000000004657
        ],
        [
         "2020-09-08 09:15:00",
         8.416666666666666
        ],
        [
         "2020-09-08 09:20:00",
         7.839344262248514
        ],
        [
         "2020-09-08 09:25:00",
         8.31440677969206
        ],
        [
         "2020-09-08 09:30:00",
         7.442349726745166
        ],
        [
         "2020-09-08 09:35:00",
         7.993317588265794
        ],
        [
         "2020-09-08 09:40:00",
         8.097892933237476
        ],
        [
         "2020-09-08 09:45:00",
         7.279188663470798
        ],
        [
         "2020-09-08 09:50:00",
         7.200000000031042
        ],
        [
         "2020-09-08 09:55:00",
         7.566666666651146
        ],
        [
         "2020-09-08 10:00:00",
         7.25
        ],
        [
         "2020-09-08 10:05:00",
         7.695350560370592
        ],
        [
         "2020-09-08 10:10:00",
         6.799999999968955
        ],
        [
         "2020-09-08 10:15:00",
         7.149999999984476
        ],
        [
         "2020-09-08 10:20:00",
         7.3833333333799
        ],
        [
         "2020-09-08 10:25:00",
         7.3833333333022875
        ],
        [
         "2020-09-08 10:30:00",
         7.166666666666669
        ],
        [
         "2020-09-08 10:35:00",
         6.833509308140623
        ],
        [
         "2020-09-08 10:40:00",
         7.345623784400354
        ],
        [
         "2020-09-08 10:45:00",
         7.46838010555511
        ],
        [
         "2020-09-08 10:50:00",
         7.25
        ],
        [
         "2020-09-08 10:55:00",
         7.466666666713232
        ],
        [
         "2020-09-08 11:00:00",
         7.916666666666666
        ],
        [
         "2020-09-08 11:05:00",
         8.997165879412488
        ],
        [
         "2020-09-08 11:10:00",
         8.58333333333333
        ],
        [
         "2020-09-08 11:15:00",
         8.687876261861987
        ],
        [
         "2020-09-08 11:20:00",
         8.684843011962503
        ],
        [
         "2020-09-08 11:25:00",
         8.319899046015255
        ],
        [
         "2020-09-08 11:30:00",
         8.816666666728759
        ],
        [
         "2020-09-08 11:35:00",
         8.31835695098887
        ],
        [
         "2020-09-08 11:40:00",
         8.717657682657295
        ],
        [
         "2020-09-08 11:45:00",
         9.053278688524586
        ],
        [
         "2020-09-08 11:50:00",
         8.31073446330709
        ],
        [
         "2020-09-08 11:55:00",
         9.572279336836274
        ],
        [
         "2020-09-08 12:00:00",
         9.183333333348859
        ],
        [
         "2020-09-08 12:05:00",
         8.639617486307483
        ],
        [
         "2020-09-08 12:10:00",
         10.035621005818665
        ],
        [
         "2020-09-08 12:15:00",
         8.561299435060345
        ],
        [
         "2020-09-08 12:20:00",
         9.216666666635614
        ],
        [
         "2020-09-08 12:25:00",
         8.494567935538187
        ],
        [
         "2020-09-08 12:30:00",
         8.732064462413287
        ],
        [
         "2020-09-08 12:35:00",
         8.949999999953432
        ],
        [
         "2020-09-08 12:40:00",
         8.58350467722568
        ],
        [
         "2020-09-08 12:45:00",
         9.316666666651146
        ],
        [
         "2020-09-08 12:50:00",
         8.665726590719135
        ],
        [
         "2020-09-08 12:55:00",
         9.050000000046571
        ],
        [
         "2020-09-08 13:00:00",
         8.399999999984471
        ],
        [
         "2020-09-08 13:05:00",
         8.702584051109552
        ],
        [
         "2020-09-08 13:10:00",
         8.34113179585449
        ],
        [
         "2020-09-08 13:15:00",
         8.76666666668219
        ],
        [
         "2020-09-08 13:20:00",
         8.683333333348852
        ],
        [
         "2020-09-08 13:25:00",
         8.68952486798707
        ],
        [
         "2020-09-08 13:30:00",
         9.296327683631333
        ],
        [
         "2020-09-08 13:35:00",
         9.127174215104745
        ],
        [
         "2020-09-08 13:40:00",
         8.799999999968955
        ],
        [
         "2020-09-08 13:45:00",
         9.37402519216776
        ],
        [
         "2020-09-08 13:50:00",
         8.616101694915518
        ],
        [
         "2020-09-08 13:55:00",
         8.333333333333334
        ],
        [
         "2020-09-08 14:00:00",
         8.533333333364379
        ],
        [
         "2020-09-08 14:05:00",
         8.481147540984146
        ],
        [
         "2020-09-08 14:10:00",
         8.979661016902588
        ],
        [
         "2020-09-08 14:15:00",
         8.327572473834271
        ],
        [
         "2020-09-08 14:20:00",
         9.220399185005622
        ],
        [
         "2020-09-08 14:25:00",
         9.25050013892695
        ],
        [
         "2020-09-08 14:30:00",
         8.335671945910901
        ],
        [
         "2020-09-08 14:35:00",
         9.404644808758695
        ],
        [
         "2020-09-08 14:40:00",
         9.3353616745074
        ],
        [
         "2020-09-08 14:45:00",
         8.816666666651148
        ],
        [
         "2020-09-08 14:50:00",
         10.34147448369891
        ],
        [
         "2020-09-08 14:55:00",
         8.948907103777799
        ],
        [
         "2020-09-08 15:00:00",
         9.909132166388297
        ],
        [
         "2020-09-08 15:05:00",
         9.433333333271246
        ],
        [
         "2020-09-08 15:10:00",
         10.06666666672876
        ],
        [
         "2020-09-08 15:15:00",
         9.983333333317805
        ],
        [
         "2020-09-08 15:20:00",
         10.066666666651146
        ],
        [
         "2020-09-08 15:25:00",
         9.534926368467259
        ],
        [
         "2020-09-08 15:30:00",
         9.138649624898392
        ],
        [
         "2020-09-08 15:35:00",
         9.912230249111722
        ],
        [
         "2020-09-08 15:40:00",
         9.933333333348846
        ],
        [
         "2020-09-08 15:45:00",
         9.6166666666201
        ],
        [
         "2020-09-08 15:50:00",
         8.78546355472061
        ],
        [
         "2020-09-08 15:55:00",
         9.036612021889763
        ],
        [
         "2020-09-08 16:00:00",
         9.437366861100966
        ],
        [
         "2020-09-08 16:05:00",
         8.86987126056587
        ],
        [
         "2020-09-08 16:10:00",
         8.799999999968952
        ],
        [
         "2020-09-08 16:15:00",
         9.22017227012263
        ],
        [
         "2020-09-08 16:20:00",
         8.60000000001552
        ],
        [
         "2020-09-08 16:25:00",
         9.083333333333337
        ],
        [
         "2020-09-08 16:30:00",
         8.499999999999998
        ],
        [
         "2020-09-08 16:35:00",
         8.373497267744801
        ],
        [
         "2020-09-08 16:40:00",
         8.67966101693363
        ],
        [
         "2020-09-08 16:45:00",
         7.916666666666666
        ],
        [
         "2020-09-08 16:50:00",
         8.180707603978822
        ],
        [
         "2020-09-08 16:55:00",
         7.6499999999844785
        ],
        [
         "2020-09-08 17:00:00",
         7.541807909589243
        ],
        [
         "2020-09-08 17:05:00",
         7.599175696969425
        ],
        [
         "2020-09-08 17:10:00",
         7.356779661016423
        ],
        [
         "2020-09-08 17:15:00",
         6.910655737719677
        ],
        [
         "2020-09-08 17:20:00",
         6.419774011283915
        ],
        [
         "2020-09-08 17:25:00",
         6.799999999968955
        ],
        [
         "2020-09-08 17:30:00",
         6.262396962133865
        ],
        [
         "2020-09-08 17:35:00",
         5.82083912196227
        ],
        [
         "2020-09-08 17:40:00",
         6.114207650319792
        ],
        [
         "2020-09-08 17:45:00",
         5.255367231622368
        ],
        [
         "2020-09-08 17:50:00",
         5.416666666666666
        ],
        [
         "2020-09-08 17:55:00",
         5.218634805950116
        ],
        [
         "2020-09-08 18:00:00",
         5.452852644284857
        ],
        [
         "2020-09-08 18:05:00",
         5.616231360577329
        ],
        [
         "2020-09-08 18:10:00",
         5.233333333317812
        ],
        [
         "2020-09-08 18:15:00",
         4.464360470468716
        ],
        [
         "2020-09-08 18:20:00",
         4.114059460993466
        ],
        [
         "2020-09-08 18:25:00",
         22.349481337408257
        ],
        [
         "2020-09-08 18:30:00",
         16.00245901636266
        ],
        [
         "2020-09-08 18:35:00",
         9.97655367233268
        ],
        [
         "2020-09-08 18:40:00",
         24.12326109101379
        ],
        [
         "2020-09-08 18:45:00",
         5.564207650273226
        ],
        [
         "2020-09-08 18:50:00",
         4.4531073446482905
        ],
        [
         "2020-09-08 18:55:00",
         4.1040983606878
        ],
        [
         "2020-09-08 19:00:00",
         3.2796610169649383
        ],
        [
         "2020-09-08 19:05:00",
         4.044642030178823
        ],
        [
         "2020-09-08 19:10:00",
         4.9531073446482905
        ],
        [
         "2020-09-08 19:15:00",
         5.499999999999999
        ],
        [
         "2020-09-08 19:20:00",
         5.31562007963597
        ],
        [
         "2020-09-08 19:25:00",
         4.216666666635624
        ],
        [
         "2020-09-08 19:30:00",
         3.251245716402206
        ],
        [
         "2020-09-08 19:35:00",
         3.4495044920187965
        ],
        [
         "2020-09-08 19:40:00",
         3.449999999953434
        ],
        [
         "2020-09-08 19:45:00",
         4.066666666728754
        ],
        [
         "2020-09-08 19:50:00",
         2.9071038251366117
        ],
        [
         "2020-09-08 19:55:00",
         3.135917384428392
        ],
        [
         "2020-09-08 20:00:00",
         2.85960451978927
        ],
        [
         "2020-09-08 20:05:00",
         2.7333333333178116
        ],
        [
         "2020-09-08 20:10:00",
         2.9500000000310456
        ],
        [
         "2020-09-08 20:15:00",
         2.78333333328677
        ],
        [
         "2020-09-08 20:20:00",
         2.499448920995802
        ],
        [
         "2020-09-08 20:25:00",
         2.6333333333799
        ],
        [
         "2020-09-08 20:30:00",
         2.516666666604578
        ],
        [
         "2020-09-08 20:35:00",
         2.8500000000155223
        ],
        [
         "2020-09-08 20:40:00",
         3.500000000000002
        ],
        [
         "2020-09-08 20:45:00",
         2.454019635129886
        ],
        [
         "2020-09-08 20:50:00",
         2.5098870056497162
        ],
        [
         "2020-09-08 20:55:00",
         2.7666666666045803
        ],
        [
         "2020-09-08 21:00:00",
         2.687204779120056
        ],
        [
         "2020-09-08 21:05:00",
         3.631735667361044
        ],
        [
         "2020-09-08 21:10:00",
         3.6166666666201026
        ],
        [
         "2020-09-08 21:15:00",
         2.683333333348858
        ],
        [
         "2020-09-08 21:20:00",
         2.591279985197116
        ],
        [
         "2020-09-08 21:25:00",
         2.422598870056762
        ],
        [
         "2020-09-08 21:30:00",
         2.4666666666356223
        ],
        [
         "2020-09-08 21:35:00",
         2.583333333333334
        ],
        [
         "2020-09-08 21:40:00",
         2.333333333333332
        ],
        [
         "2020-09-08 21:45:00",
         2.7333333333178116
        ],
        [
         "2020-09-08 21:50:00",
         2.813883486215386
        ],
        [
         "2020-09-08 21:55:00",
         2.2833333332867682
        ],
        [
         "2020-09-08 22:00:00",
         2.623770491849844
        ],
        [
         "2020-09-08 22:05:00",
         3.144720755734182
        ],
        [
         "2020-09-08 22:10:00",
         2.6000000000155223
        ],
        [
         "2020-09-08 22:15:00",
         2.497216819487946
        ],
        [
         "2020-09-08 22:20:00",
         2.5499999999689558
        ],
        [
         "2020-09-08 22:25:00",
         2.416666666666668
        ],
        [
         "2020-09-08 22:30:00",
         2.30765027320776
        ],
        [
         "2020-09-08 22:35:00",
         2.8412568306003196
        ],
        [
         "2020-09-08 22:40:00",
         2.716666666713234
        ],
        [
         "2020-09-08 22:45:00",
         2.783333333286768
        ],
        [
         "2020-09-08 22:50:00",
         2.7686579605590844
        ],
        [
         "2020-09-08 22:55:00",
         2.462471056821334
        ],
        [
         "2020-09-08 23:00:00",
         2.9499999999534343
        ],
        [
         "2020-09-08 23:05:00",
         2.683333333348856
        ],
        [
         "2020-09-08 23:10:00",
         2.600000000015524
        ],
        [
         "2020-09-08 23:15:00",
         2.889617486323786
        ],
        [
         "2020-09-08 23:20:00",
         2.8751412429688976
        ],
        [
         "2020-09-08 23:25:00",
         2.988797814207396
        ],
        [
         "2020-09-08 23:30:00",
         3.0423728813085757
        ],
        [
         "2020-09-08 23:35:00",
         3.050324164166228
        ],
        [
         "2020-09-08 23:40:00",
         3.00117162174757
        ],
        [
         "2020-09-08 23:45:00",
         3.399999999984478
        ],
        [
         "2020-09-08 23:50:00",
         2.90029637860946
        ],
        [
         "2020-09-08 23:55:00",
         3.5333333333643764
        ],
        [
         "2020-09-09 00:00:00",
         3.3666666666201004
        ],
        [
         "2020-09-09 00:05:00",
         4.052357136227578
        ],
        [
         "2020-09-09 00:10:00",
         4.264406779661281
        ],
        [
         "2020-09-09 00:15:00",
         4.033333333364376
        ],
        [
         "2020-09-09 00:20:00",
         3.883333333302288
        ],
        [
         "2020-09-09 00:25:00",
         4.47019079378583
        ],
        [
         "2020-09-09 00:30:00",
         5.683333333348854
        ],
        [
         "2020-09-09 00:35:00",
         5.7333333333178125
        ],
        [
         "2020-09-09 00:40:00",
         6.166666666666666
        ],
        [
         "2020-09-09 00:45:00",
         7.302727609489338
        ],
        [
         "2020-09-09 00:50:00",
         8.899999999984486
        ],
        [
         "2020-09-09 00:55:00",
         7.5666666667287545
        ],
        [
         "2020-09-09 01:00:00",
         7.493169398846033
        ],
        [
         "2020-09-09 01:05:00",
         7.808761693095748
        ],
        [
         "2020-09-09 01:10:00",
         8.82113550058598
        ],
        [
         "2020-09-09 01:15:00",
         8.051718069881563
        ],
        [
         "2020-09-09 01:20:00",
         8.679860146275894
        ],
        [
         "2020-09-09 01:25:00",
         9.031179957426616
        ],
        [
         "2020-09-09 01:30:00",
         9.083333333333334
        ],
        [
         "2020-09-09 01:35:00",
         8.71587014908289
        ],
        [
         "2020-09-09 01:40:00",
         8.388797814208413
        ],
        [
         "2020-09-09 01:45:00",
         9.060734463308409
        ],
        [
         "2020-09-09 01:50:00",
         9.005325553394977
        ],
        [
         "2020-09-09 01:55:00",
         9.51860702048367
        ],
        [
         "2020-09-09 02:00:00",
         9.76666666668219
        ],
        [
         "2020-09-09 02:05:00",
         10.416666666666675
        ],
        [
         "2020-09-09 02:10:00",
         10.73936278591248
        ],
        [
         "2020-09-09 02:15:00",
         12.02118644066218
        ],
        [
         "2020-09-09 02:20:00",
         11.02153375939258
        ],
        [
         "2020-09-09 02:25:00",
         11.100000000015498
        ],
        [
         "2020-09-09 02:30:00",
         11.67786885242874
        ],
        [
         "2020-09-09 02:35:00",
         11.70367231638444
        ],
        [
         "2020-09-09 02:40:00",
         11.908196721343021
        ],
        [
         "2020-09-09 02:45:00",
         12.072881355963238
        ],
        [
         "2020-09-09 02:50:00",
         11.91499490594766
        ],
        [
         "2020-09-09 02:55:00",
         11.9854496619271
        ],
        [
         "2020-09-09 03:00:00",
         13.3463276836621
        ],
        [
         "2020-09-09 03:05:00",
         11.933333333348859
        ],
        [
         "2020-09-09 03:10:00",
         13.1166666666201
        ],
        [
         "2020-09-09 03:15:00",
         13.5581967213275
        ],
        [
         "2020-09-09 03:20:00",
         13.513411132737081
        ],
        [
         "2020-09-09 03:25:00",
         13.0577243678942
        ],
        [
         "2020-09-09 03:30:00",
         12.70056960262136
        ],
        [
         "2020-09-09 03:35:00",
         12.933333333348878
        ],
        [
         "2020-09-09 03:40:00",
         12.5276743540167
        ],
        [
         "2020-09-09 03:45:00",
         13.466666666635621
        ],
        [
         "2020-09-09 03:50:00",
         13.774168750564382
        ],
        [
         "2020-09-09 03:55:00",
         12.33954802264542
        ],
        [
         "2020-09-09 04:00:00",
         12.68268500506168
        ],
        [
         "2020-09-09 04:05:00",
         13.019232194097219
        ],
        [
         "2020-09-09 04:10:00",
         12.70000000003104
        ],
        [
         "2020-09-09 04:15:00",
         12.3162684078753
        ],
        [
         "2020-09-09 04:20:00",
         12.16666666666666
        ],
        [
         "2020-09-09 04:25:00",
         12.966666666713241
        ],
        [
         "2020-09-09 04:30:00",
         12.4799527646434
        ],
        [
         "2020-09-09 04:35:00",
         11.8208900620693
        ],
        [
         "2020-09-09 04:40:00",
         12.983310178737819
        ],
        [
         "2020-09-09 04:45:00",
         12.65904417889074
        ],
        [
         "2020-09-09 04:50:00",
         11.98434750399942
        ],
        [
         "2020-09-09 04:55:00",
         12.353306473956382
        ],
        [
         "2020-09-09 05:00:00",
         12.853602852659241
        ],
        [
         "2020-09-09 05:05:00",
         12.78141613414316
        ],
        [
         "2020-09-09 05:10:00",
         13.25
        ],
        [
         "2020-09-09 05:15:00",
         12.82819301658022
        ],
        [
         "2020-09-09 05:20:00",
         11.610864128938937
        ],
        [
         "2020-09-09 05:25:00",
         11.76659720286466
        ],
        [
         "2020-09-09 05:30:00",
         12.06666666672876
        ],
        [
         "2020-09-09 05:35:00",
         11.367013985320218
        ],
        [
         "2020-09-09 05:40:00",
         13.02923497266284
        ],
        [
         "2020-09-09 05:45:00",
         11.406214689296574
        ],
        [
         "2020-09-09 05:50:00",
         10.686241548592761
        ],
        [
         "2020-09-09 05:55:00",
         12.622506251688979
        ],
        [
         "2020-09-09 06:00:00",
         12.08333333333334
        ],
        [
         "2020-09-09 06:05:00",
         11.76787533575566
        ],
        [
         "2020-09-09 06:10:00",
         12.48333333331782
        ],
        [
         "2020-09-09 06:15:00",
         12.831124386404138
        ],
        [
         "2020-09-09 06:20:00",
         12.40227841069964
        ],
        [
         "2020-09-09 06:25:00",
         11.666615726559169
        ],
        [
         "2020-09-09 06:30:00",
         11.216666666713232
        ],
        [
         "2020-09-09 06:35:00",
         10.332342317310859
        ],
        [
         "2020-09-09 06:40:00",
         10.786889876770552
        ],
        [
         "2020-09-09 06:45:00",
         11.050000000046579
        ],
        [
         "2020-09-09 06:50:00",
         10.433333333348841
        ],
        [
         "2020-09-09 06:55:00",
         10.613216634233735
        ],
        [
         "2020-09-09 07:00:00",
         10.181073446312158
        ],
        [
         "2020-09-09 07:05:00",
         10.118579234957153
        ],
        [
         "2020-09-09 07:10:00",
         10.553709363728203
        ],
        [
         "2020-09-09 07:15:00",
         9.66274891173656
        ],
        [
         "2020-09-09 07:20:00",
         10.516666666682175
        ],
        [
         "2020-09-09 07:25:00",
         10.387288135591412
        ],
        [
         "2020-09-09 07:30:00",
         10.155084745716405
        ],
        [
         "2020-09-09 07:35:00",
         10.468681115170634
        ],
        [
         "2020-09-09 07:40:00",
         11.23333333331782
        ],
        [
         "2020-09-09 07:45:00",
         10.841090117655293
        ],
        [
         "2020-09-09 07:50:00",
         10.331073446296626
        ],
        [
         "2020-09-09 07:55:00",
         10.676785218133485
        ],
        [
         "2020-09-09 08:00:00",
         10.69890710377781
        ],
        [
         "2020-09-09 08:05:00",
         10.962021857923759
        ],
        [
         "2020-09-09 08:10:00",
         10.639566546278651
        ],
        [
         "2020-09-09 08:15:00",
         11.01120218580685
        ],
        [
         "2020-09-09 08:20:00",
         9.8777947577723
        ],
        [
         "2020-09-09 08:25:00",
         10.41666666666666
        ],
        [
         "2020-09-09 08:30:00",
         10.112494211385023
        ],
        [
         "2020-09-09 08:35:00",
         10.64978234693142
        ],
        [
         "2020-09-09 08:40:00",
         10.416666666666668
        ],
        [
         "2020-09-09 08:45:00",
         9.66666666666666
        ],
        [
         "2020-09-09 08:50:00",
         10.526229508180435
        ],
        [
         "2020-09-09 08:55:00",
         8.92731777351718
        ],
        [
         "2020-09-09 09:00:00",
         9.266666666604578
        ],
        [
         "2020-09-09 09:05:00",
         9.065990552993195
        ],
        [
         "2020-09-09 09:10:00",
         9.533333333286773
        ],
        [
         "2020-09-09 09:15:00",
         8.466666666713234
        ],
        [
         "2020-09-09 09:20:00",
         8.316666666651145
        ],
        [
         "2020-09-09 09:25:00",
         7.4931693989223715
        ],
        [
         "2020-09-09 09:30:00",
         7.596202648867662
        ],
        [
         "2020-09-09 09:35:00",
         7.6499999999844785
        ],
        [
         "2020-09-09 09:40:00",
         7.87153375940891
        ],
        [
         "2020-09-09 09:45:00",
         7.066666666651145
        ],
        [
         "2020-09-09 09:50:00",
         6.933333333348858
        ],
        [
         "2020-09-09 09:55:00",
         6.983333333317811
        ],
        [
         "2020-09-09 10:00:00",
         6.749999999999997
        ],
        [
         "2020-09-09 10:05:00",
         7.246397147355514
        ],
        [
         "2020-09-09 10:10:00",
         7.044808743153878
        ],
        [
         "2020-09-09 10:15:00",
         6.9545197740268225
        ],
        [
         "2020-09-09 10:20:00",
         7.326502732255703
        ],
        [
         "2020-09-09 10:25:00",
         7.3567750301022325
        ],
        [
         "2020-09-09 10:30:00",
         7.25
        ],
        [
         "2020-09-09 10:35:00",
         7.283333333286768
        ],
        [
         "2020-09-09 10:40:00",
         7.295832175651421
        ],
        [
         "2020-09-09 10:45:00",
         7.916666666666666
        ],
        [
         "2020-09-09 10:50:00",
         8.049532277453414
        ],
        [
         "2020-09-09 10:55:00",
         7.966717606710796
        ],
        [
         "2020-09-09 11:00:00",
         7.916666666666666
        ],
        [
         "2020-09-09 11:05:00",
         8.865453366706209
        ],
        [
         "2020-09-09 11:10:00",
         8.666666666666668
        ],
        [
         "2020-09-09 11:15:00",
         8.683333333348859
        ],
        [
         "2020-09-09 11:20:00",
         8.899999999984477
        ],
        [
         "2020-09-09 11:25:00",
         9.033333333364379
        ],
        [
         "2020-09-09 11:30:00",
         9.129068259670978
        ],
        [
         "2020-09-09 11:35:00",
         8.450000000031045
        ],
        [
         "2020-09-09 11:40:00",
         9.399999999984477
        ],
        [
         "2020-09-09 11:45:00",
         8.741511530996107
        ],
        [
         "2020-09-09 11:50:00",
         8.201417060248462
        ],
        [
         "2020-09-09 11:55:00",
         9.273719551727337
        ],
        [
         "2020-09-09 12:00:00",
         9.306608317109596
        ],
        [
         "2020-09-09 12:05:00",
         8.850000000015523
        ],
        [
         "2020-09-09 12:10:00",
         9.083333333333332
        ],
        [
         "2020-09-09 12:15:00",
         7.73472260811557
        ],
        [
         "2020-09-09 12:20:00",
         7.966666666713235
        ],
        [
         "2020-09-09 12:25:00",
         8.292155228286576
        ],
        [
         "2020-09-09 12:30:00",
         8.396327683646863
        ],
        [
         "2020-09-09 12:35:00",
         8.816666666651146
        ],
        [
         "2020-09-09 12:40:00",
         8.337829952765437
        ],
        [
         "2020-09-09 12:45:00",
         8.5
        ],
        [
         "2020-09-09 12:50:00",
         8.156830601109181
        ],
        [
         "2020-09-09 12:55:00",
         8.713559321971022
        ],
        [
         "2020-09-09 13:00:00",
         8.850000000015513
        ],
        [
         "2020-09-09 13:05:00",
         8.316666666651146
        ],
        [
         "2020-09-09 13:10:00",
         8.411827359452733
        ],
        [
         "2020-09-09 13:15:00",
         7.433333333348855
        ],
        [
         "2020-09-09 13:20:00",
         8.5
        ],
        [
         "2020-09-09 13:25:00",
         8.533333333364379
        ],
        [
         "2020-09-09 13:30:00",
         8.124316939875442
        ],
        [
         "2020-09-09 13:35:00",
         8.15861813463623
        ],
        [
         "2020-09-09 13:40:00",
         7.357103825182923
        ],
        [
         "2020-09-09 13:45:00",
         8.226831527228748
        ],
        [
         "2020-09-09 13:50:00",
         7.470514957905493
        ],
        [
         "2020-09-09 13:55:00",
         8.418204130777593
        ],
        [
         "2020-09-09 14:00:00",
         7.64501250345869
        ],
        [
         "2020-09-09 14:05:00",
         7.466638881139387
        ],
        [
         "2020-09-09 14:10:00",
         8.050000000046566
        ],
        [
         "2020-09-09 14:15:00",
         8.049999999968954
        ],
        [
         "2020-09-09 14:20:00",
         8.392349726776208
        ],
        [
         "2020-09-09 14:25:00",
         8.63721867190039
        ],
        [
         "2020-09-09 14:30:00",
         8.552903584297148
        ],
        [
         "2020-09-09 14:35:00",
         8.90156524959136
        ],
        [
         "2020-09-09 14:40:00",
         8.716666666682983
        ],
        [
         "2020-09-09 14:45:00",
         8.469945355191257
        ],
        [
         "2020-09-09 14:50:00",
         9.082986014633693
        ],
        [
         "2020-09-09 14:55:00",
         7.943317588217914
        ],
        [
         "2020-09-09 15:00:00",
         9.220765027321894
        ],
        [
         "2020-09-09 15:05:00",
         8.446327683615811
        ],
        [
         "2020-09-09 15:10:00",
         8.899999999984479
        ],
        [
         "2020-09-09 15:15:00",
         9.033333333364371
        ],
        [
         "2020-09-09 15:20:00",
         8.972631286470016
        ],
        [
         "2020-09-09 15:25:00",
         9.37823932575311
        ],
        [
         "2020-09-09 15:30:00",
         9.08435213485227
        ],
        [
         "2020-09-09 15:35:00",
         9.483333333317812
        ],
        [
         "2020-09-09 15:40:00",
         9.169380383440103
        ],
        [
         "2020-09-09 15:45:00",
         8.73333333331781
        ],
        [
         "2020-09-09 15:50:00",
         6.983333333317812
        ],
        [
         "2020-09-09 15:55:00",
         9.351018801534469
        ],
        [
         "2020-09-09 16:00:00",
         8.853996480519632
        ],
        [
         "2020-09-09 16:05:00",
         8.609419283151023
        ],
        [
         "2020-09-09 16:10:00",
         8.586612021858716
        ],
        [
         "2020-09-09 16:15:00",
         8.63333333330229
        ],
        [
         "2020-09-09 16:20:00",
         7.784532740607384
        ],
        [
         "2020-09-09 16:25:00",
         8.016666666604575
        ],
        [
         "2020-09-09 16:30:00",
         8.266666666682188
        ],
        [
         "2020-09-09 16:35:00",
         7.696424932882513
        ],
        [
         "2020-09-09 16:40:00",
         7.967866073878634
        ],
        [
         "2020-09-09 16:45:00",
         7.471436510186718
        ],
        [
         "2020-09-09 16:50:00",
         5.683333333271245
        ],
        [
         "2020-09-09 16:55:00",
         5.183333333348854
        ],
        [
         "2020-09-09 17:00:00",
         6.08261554135408
        ],
        [
         "2020-09-09 17:05:00",
         7.350000000015524
        ],
        [
         "2020-09-09 17:10:00",
         7.1499999999844785
        ],
        [
         "2020-09-09 17:15:00",
         6.483333333317812
        ],
        [
         "2020-09-09 17:20:00",
         6.216666666713232
        ],
        [
         "2020-09-09 17:25:00",
         6.1128415300236
        ],
        [
         "2020-09-09 17:30:00",
         5.4287163100874185
        ],
        [
         "2020-09-09 17:35:00",
         4.587431694004341
        ],
        [
         "2020-09-09 17:40:00",
         5.936440677966099
        ],
        [
         "2020-09-09 17:45:00",
         4.850000000030791
        ],
        [
         "2020-09-09 17:50:00",
         4.899435028216752
        ],
        [
         "2020-09-09 17:55:00",
         5.324492914681454
        ],
        [
         "2020-09-09 18:00:00",
         5.152732240421118
        ],
        [
         "2020-09-09 18:05:00",
         4.46939890716566
        ],
        [
         "2020-09-09 18:10:00",
         4.984060387112242
        ],
        [
         "2020-09-09 18:15:00",
         4.666574048360996
        ],
        [
         "2020-09-09 18:20:00",
         4.312994350251704
        ],
        [
         "2020-09-09 18:25:00",
         22.292085764563176
        ],
        [
         "2020-09-09 18:30:00",
         18.0107298323756
        ],
        [
         "2020-09-09 18:35:00",
         11.847540983637362
        ],
        [
         "2020-09-09 18:40:00",
         24.16440677964444
        ],
        [
         "2020-09-09 18:45:00",
         3.899999999984476
        ],
        [
         "2020-09-09 18:50:00",
         3.714152079249966
        ],
        [
         "2020-09-09 18:55:00",
         4.648050384426578
        ],
        [
         "2020-09-09 19:00:00",
         3.13333333330229
        ],
        [
         "2020-09-09 19:05:00",
         3.75
        ],
        [
         "2020-09-09 19:10:00",
         3.5333333333643764
        ],
        [
         "2020-09-09 19:15:00",
         3.3904371584544224
        ],
        [
         "2020-09-09 19:20:00",
         4.37658145778104
        ],
        [
         "2020-09-09 19:25:00",
         3.5989580439008177
        ],
        [
         "2020-09-09 19:30:00",
         3.133333333379902
        ],
        [
         "2020-09-09 19:35:00",
         3.349999999937912
        ],
        [
         "2020-09-09 19:40:00",
         2.733333333395422
        ],
        [
         "2020-09-09 19:45:00",
         3.083657497452994
        ],
        [
         "2020-09-09 19:50:00",
         3.235917384443914
        ],
        [
         "2020-09-09 19:55:00",
         3.117838288366354
        ],
        [
         "2020-09-09 20:00:00",
         3
        ],
        [
         "2020-09-09 20:05:00",
         2.8186579606056497
        ],
        [
         "2020-09-09 20:10:00",
         2.65087061219208
        ],
        [
         "2020-09-09 20:15:00",
         2.3666666666201017
        ],
        [
         "2020-09-09 20:20:00",
         2.6333287024636416
        ],
        [
         "2020-09-09 20:25:00",
         2.7336297119427924
        ],
        [
         "2020-09-09 20:30:00",
         2.416666666666668
        ],
        [
         "2020-09-09 20:35:00",
         2.683912197847218
        ],
        [
         "2020-09-09 20:40:00",
         2.8666666666201
        ],
        [
         "2020-09-09 20:45:00",
         2.233333333395422
        ],
        [
         "2020-09-09 20:50:00",
         2.7833333332867705
        ],
        [
         "2020-09-09 20:55:00",
         2.68506992684705
        ],
        [
         "2020-09-09 21:00:00",
         2.816398073522916
        ],
        [
         "2020-09-09 21:05:00",
         3.0353940909822343
        ],
        [
         "2020-09-09 21:10:00",
         2.338029082152704
        ],
        [
         "2020-09-09 21:15:00",
         2.4584745762398876
        ],
        [
         "2020-09-09 21:20:00",
         2.690677966117482
        ],
        [
         "2020-09-09 21:25:00",
         2.3663702880748003
        ],
        [
         "2020-09-09 21:30:00",
         2.367509493330434
        ],
        [
         "2020-09-09 21:35:00",
         2.3666666666977116
        ],
        [
         "2020-09-09 21:40:00",
         2.3333333333333335
        ],
        [
         "2020-09-09 21:45:00",
         2.601143836267096
        ],
        [
         "2020-09-09 21:50:00",
         2.631096600876862
        ],
        [
         "2020-09-09 21:55:00",
         2.324590163933918
        ],
        [
         "2020-09-09 22:00:00",
         2.69570250997277
        ],
        [
         "2020-09-09 22:05:00",
         2.549999999968958
        ],
        [
         "2020-09-09 22:10:00",
         2.316666666651146
        ],
        [
         "2020-09-09 22:15:00",
         2.51666666668219
        ],
        [
         "2020-09-09 22:20:00",
         2.716143373206302
        ],
        [
         "2020-09-09 22:25:00",
         2.465295915500784
        ],
        [
         "2020-09-09 22:30:00",
         2.358469945386236
        ],
        [
         "2020-09-09 22:35:00",
         2.5242937852478557
        ],
        [
         "2020-09-09 22:40:00",
         2.900000000062088
        ],
        [
         "2020-09-09 22:45:00",
         2.785296841668978
        ],
        [
         "2020-09-09 22:50:00",
         2.8166666666511455
        ],
        [
         "2020-09-09 22:55:00",
         2.2833333333643777
        ],
        [
         "2020-09-09 23:00:00",
         3.166666666666666
        ],
        [
         "2020-09-09 23:05:00",
         2.722946188740858
        ],
        [
         "2020-09-09 23:10:00",
         2.508192090395218
        ],
        [
         "2020-09-09 23:15:00",
         2.600023154596534
        ],
        [
         "2020-09-09 23:20:00",
         2.549999999968958
        ],
        [
         "2020-09-09 23:25:00",
         2.637552097852292
        ],
        [
         "2020-09-09 23:30:00",
         2.682810039841926
        ],
        [
         "2020-09-09 23:35:00",
         2.9631610632298484
        ],
        [
         "2020-09-09 23:40:00",
         3.033365749777386
        ],
        [
         "2020-09-09 23:45:00",
         3.1336574974219498
        ],
        [
         "2020-09-09 23:50:00",
         3.188996943609404
        ],
        [
         "2020-09-09 23:55:00",
         3.3390710382668862
        ],
        [
         "2020-09-10 00:00:00",
         3.361299434966162
        ],
        [
         "2020-09-10 00:05:00",
         3.53333333336438
        ],
        [
         "2020-09-10 00:10:00",
         3.7216912104878097
        ],
        [
         "2020-09-10 00:15:00",
         3.7680929888105306
        ],
        [
         "2020-09-10 00:20:00",
         4.416666666666668
        ],
        [
         "2020-09-10 00:25:00",
         5.350875243154134
        ],
        [
         "2020-09-10 00:30:00",
         4.3129943502517065
        ],
        [
         "2020-09-10 00:35:00",
         5.149999999984478
        ],
        [
         "2020-09-10 00:40:00",
         5.633333333379898
        ],
        [
         "2020-09-10 00:45:00",
         9.615226451792177
        ],
        [
         "2020-09-10 00:50:00",
         7.534745762727129
        ],
        [
         "2020-09-10 00:55:00",
         6.561998703340689
        ],
        [
         "2020-09-10 01:00:00",
         7.196049828610303
        ],
        [
         "2020-09-10 01:05:00",
         7.172825784926029
        ],
        [
         "2020-09-10 01:10:00",
         7.75
        ],
        [
         "2020-09-10 01:15:00",
         7.683055478388108
        ],
        [
         "2020-09-10 01:20:00",
         8.283333333364379
        ],
        [
         "2020-09-10 01:25:00",
         8.502537741965634
        ],
        [
         "2020-09-10 01:30:00",
         8.950199129341737
        ],
        [
         "2020-09-10 01:35:00",
         8.582092247845836
        ],
        [
         "2020-09-10 01:40:00",
         8.816245253371894
        ],
        [
         "2020-09-10 01:45:00",
         8.548212466393514
        ],
        [
         "2020-09-10 01:50:00",
         8.740163934441242
        ],
        [
         "2020-09-10 01:55:00",
         8.931272575697879
        ],
        [
         "2020-09-10 02:00:00",
         10.466666666635629
        ],
        [
         "2020-09-10 02:05:00",
         9.881073446375295
        ],
        [
         "2020-09-10 02:10:00",
         9.76557377046051
        ],
        [
         "2020-09-10 02:15:00",
         10.501694915300556
        ],
        [
         "2020-09-10 02:20:00",
         10.166666666666666
        ],
        [
         "2020-09-10 02:25:00",
         10.30000000000106
        ],
        [
         "2020-09-10 02:30:00",
         11.133801055817028
        ],
        [
         "2020-09-10 02:35:00",
         11.13644067798138
        ],
        [
         "2020-09-10 02:40:00",
         11.324733722313457
        ],
        [
         "2020-09-10 02:45:00",
         11.76666666668222
        ],
        [
         "2020-09-10 02:50:00",
         11.449999999953432
        ],
        [
         "2020-09-10 02:55:00",
         11.3666666666977
        ],
        [
         "2020-09-10 03:00:00",
         13.147939242364561
        ],
        [
         "2020-09-10 03:05:00",
         12
        ],
        [
         "2020-09-10 03:10:00",
         12.081003982586939
        ],
        [
         "2020-09-10 03:15:00",
         12.522603500987
        ],
        [
         "2020-09-10 03:20:00",
         12.18142076499652
        ],
        [
         "2020-09-10 03:25:00",
         12.5287904048044
        ],
        [
         "2020-09-10 03:30:00",
         12.21666666663562
        ],
        [
         "2020-09-10 03:35:00",
         12.833384273410582
        ],
        [
         "2020-09-10 03:40:00",
         12.665972029267921
        ],
        [
         "2020-09-10 03:45:00",
         12.56666666665116
        ],
        [
         "2020-09-10 03:50:00",
         13.479234972722859
        ],
        [
         "2020-09-10 03:55:00",
         12.26177178842872
        ],
        [
         "2020-09-10 04:00:00",
         13.109322033883041
        ],
        [
         "2020-09-10 04:05:00",
         13.70000000003104
        ],
        [
         "2020-09-10 04:10:00",
         13.01256830598064
        ],
        [
         "2020-09-10 04:15:00",
         12.974293785326239
        ],
        [
         "2020-09-10 04:20:00",
         12.929012688726399
        ],
        [
         "2020-09-10 04:25:00",
         12.6166666666201
        ],
        [
         "2020-09-10 04:30:00",
         12.61319347970186
        ],
        [
         "2020-09-10 04:35:00",
         10.99734185421902
        ],
        [
         "2020-09-10 04:40:00",
         12.16448550523214
        ],
        [
         "2020-09-10 04:45:00",
         12.314110401020761
        ],
        [
         "2020-09-10 04:50:00",
         11.274793924253744
        ],
        [
         "2020-09-10 04:55:00",
         12.76174863384876
        ],
        [
         "2020-09-10 05:00:00",
         11.885417245548
        ],
        [
         "2020-09-10 05:05:00",
         12
        ],
        [
         "2020-09-10 05:10:00",
         11.983333333317798
        ],
        [
         "2020-09-10 05:15:00",
         12.533333333364359
        ],
        [
         "2020-09-10 05:20:00",
         11.484083541708522
        ],
        [
         "2020-09-10 05:25:00",
         10.833333333333341
        ],
        [
         "2020-09-10 05:30:00",
         11.100000000015502
        ],
        [
         "2020-09-10 05:35:00",
         11.133333333302279
        ],
        [
         "2020-09-10 05:40:00",
         11.862568306072522
        ],
        [
         "2020-09-10 05:45:00",
         11.05815504303646
        ],
        [
         "2020-09-10 05:50:00",
         10.690020376015628
        ],
        [
         "2020-09-10 05:55:00",
         12.170834491062319
        ],
        [
         "2020-09-10 06:00:00",
         11.40412614615196
        ],
        [
         "2020-09-10 06:05:00",
         10.565573770507081
        ],
        [
         "2020-09-10 06:10:00",
         11.181392979546622
        ],
        [
         "2020-09-10 06:15:00",
         10.014406779645507
        ],
        [
         "2020-09-10 06:20:00",
         10.487635454309686
        ],
        [
         "2020-09-10 06:25:00",
         10.90282485870996
        ],
        [
         "2020-09-10 06:30:00",
         10.383333333379891
        ],
        [
         "2020-09-10 06:35:00",
         10.23333333331782
        ],
        [
         "2020-09-10 06:40:00",
         10.96666666663562
        ],
        [
         "2020-09-10 06:45:00",
         11.10286190610084
        ],
        [
         "2020-09-10 06:50:00",
         10.812568305994375
        ],
        [
         "2020-09-10 06:55:00",
         10.885245901639344
        ],
        [
         "2020-09-10 07:00:00",
         10.91420765027504
        ],
        [
         "2020-09-10 07:05:00",
         10.871186440679029
        ],
        [
         "2020-09-10 07:10:00",
         11.415573770522618
        ],
        [
         "2020-09-10 07:15:00",
         11.22203389832114
        ],
        [
         "2020-09-10 07:20:00",
         11.549999999968941
        ],
        [
         "2020-09-10 07:25:00",
         11.6333333333799
        ],
        [
         "2020-09-10 07:30:00",
         10.648342132058222
        ],
        [
         "2020-09-10 07:35:00",
         10.6333333333023
        ],
        [
         "2020-09-10 07:40:00",
         10.567907752136572
        ],
        [
         "2020-09-10 07:45:00",
         10.482786885261692
        ],
        [
         "2020-09-10 07:50:00",
         10.056131332794724
        ],
        [
         "2020-09-10 07:55:00",
         11.133333333302302
        ],
        [
         "2020-09-10 08:00:00",
         10.162549782379017
        ],
        [
         "2020-09-10 08:05:00",
         10.380508474591272
        ],
        [
         "2020-09-10 08:10:00",
         11.45101417055612
        ],
        [
         "2020-09-10 08:15:00",
         10.301639344263318
        ],
        [
         "2020-09-10 08:20:00",
         10.153098082830798
        ],
        [
         "2020-09-10 08:25:00",
         10.68333333334887
        ],
        [
         "2020-09-10 08:30:00",
         9.639617486339052
        ],
        [
         "2020-09-10 08:35:00",
         10.07086690745903
        ],
        [
         "2020-09-10 08:40:00",
         9.735593220370284
        ],
        [
         "2020-09-10 08:45:00",
         9.449032138508874
        ],
        [
         "2020-09-10 08:50:00",
         10.731647679895545
        ],
        [
         "2020-09-10 08:55:00",
         10.573719551743377
        ],
        [
         "2020-09-10 09:00:00",
         9.756923219410742
        ],
        [
         "2020-09-10 09:05:00",
         9.37513661200736
        ],
        [
         "2020-09-10 09:10:00",
         9.38808002224419
        ],
        [
         "2020-09-10 09:15:00",
         8.550000000046566
        ],
        [
         "2020-09-10 09:20:00",
         8.416666666666666
        ],
        [
         "2020-09-10 09:25:00",
         8.583333333333332
        ],
        [
         "2020-09-10 09:30:00",
         8
        ],
        [
         "2020-09-10 09:35:00",
         7.702208946884417
        ],
        [
         "2020-09-10 09:40:00",
         8.149999999984477
        ],
        [
         "2020-09-10 09:45:00",
         7.416666666666666
        ],
        [
         "2020-09-10 09:50:00",
         7.201125312616831
        ],
        [
         "2020-09-10 09:55:00",
         7.565541354063804
        ],
        [
         "2020-09-10 10:00:00",
         7.254987496526821
        ],
        [
         "2020-09-10 10:05:00",
         7.300023154627063
        ],
        [
         "2020-09-10 10:10:00",
         7.5765027321793665
        ],
        [
         "2020-09-10 10:15:00",
         7.383333333379899
        ],
        [
         "2020-09-10 10:20:00",
         7.404519773980255
        ],
        [
         "2020-09-10 10:25:00",
         7.815092155214852
        ],
        [
         "2020-09-10 10:30:00",
         7.45685375573497
        ],
        [
         "2020-09-10 10:35:00",
         7.805932203343263
        ],
        [
         "2020-09-10 10:40:00",
         7.461651384690176
        ],
        [
         "2020-09-10 10:45:00",
         7.59999999993791
        ],
        [
         "2020-09-10 10:50:00",
         7.883333333379897
        ],
        [
         "2020-09-10 10:55:00",
         7.544808743153877
        ],
        [
         "2020-09-10 11:00:00",
         8.39378531076577
        ],
        [
         "2020-09-10 11:05:00",
         9.26844956929533
        ],
        [
         "2020-09-10 11:10:00",
         8.84999999998395
        ],
        [
         "2020-09-10 11:15:00",
         9.301792164536188
        ],
        [
         "2020-09-10 11:20:00",
         8.737978142014414
        ],
        [
         "2020-09-10 11:25:00",
         9.436866722300298
        ],
        [
         "2020-09-10 11:30:00",
         9.433333333271229
        ],
        [
         "2020-09-10 11:35:00",
         8.416666666666666
        ],
        [
         "2020-09-10 11:40:00",
         9.979753635330642
        ],
        [
         "2020-09-10 11:45:00",
         9.216666666635629
        ],
        [
         "2020-09-10 11:50:00",
         7.947434472570494
        ],
        [
         "2020-09-10 11:55:00",
         9.768426414683265
        ],
        [
         "2020-09-10 12:00:00",
         9.747860516811006
        ],
        [
         "2020-09-10 12:05:00",
         8.816666666728755
        ],
        [
         "2020-09-10 12:10:00",
         9.304816152603951
        ],
        [
         "2020-09-10 12:15:00",
         8.446860238986837
        ],
        [
         "2020-09-10 12:20:00",
         8.23333333331781
        ],
        [
         "2020-09-10 12:25:00",
         8.183333333348852
        ],
        [
         "2020-09-10 12:30:00",
         8.283333333286768
        ],
        [
         "2020-09-10 12:35:00",
         8.450000000031043
        ],
        [
         "2020-09-10 12:40:00",
         8.816666666651148
        ],
        [
         "2020-09-10 12:45:00",
         8.683333333348855
        ],
        [
         "2020-09-10 12:50:00",
         8.585718255070852
        ],
        [
         "2020-09-10 12:55:00",
         8.949999999953437
        ],
        [
         "2020-09-10 13:00:00",
         8.288797814269227
        ],
        [
         "2020-09-10 13:05:00",
         8.714971751350868
        ],
        [
         "2020-09-10 13:10:00",
         8.683333333348855
        ],
        [
         "2020-09-10 13:15:00",
         8.583333333333334
        ],
        [
         "2020-09-10 13:20:00",
         9.085171806982911
        ],
        [
         "2020-09-10 13:25:00",
         8.633333333379898
        ],
        [
         "2020-09-10 13:30:00",
         8.333333333333332
        ],
        [
         "2020-09-10 13:35:00",
         8.398758914498295
        ],
        [
         "2020-09-10 13:40:00",
         7.833333333333334
        ],
        [
         "2020-09-10 13:45:00",
         8.416666666666668
        ],
        [
         "2020-09-10 13:50:00",
         7.916666666666666
        ],
        [
         "2020-09-10 13:55:00",
         8.283333333286768
        ],
        [
         "2020-09-10 14:00:00",
         8.26666666668219
        ],
        [
         "2020-09-10 14:05:00",
         8.23333333331781
        ],
        [
         "2020-09-10 14:10:00",
         8.15000000006208
        ],
        [
         "2020-09-10 14:15:00",
         8.5
        ],
        [
         "2020-09-10 14:20:00",
         8.049999999968955
        ],
        [
         "2020-09-10 14:25:00",
         8.633333333302291
        ],
        [
         "2020-09-10 14:30:00",
         8.184768917305295
        ],
        [
         "2020-09-10 14:35:00",
         9.134379920394796
        ],
        [
         "2020-09-10 14:40:00",
         8.791530054628783
        ],
        [
         "2020-09-10 14:45:00",
         8.65677966098537
        ],
        [
         "2020-09-10 14:50:00",
         9.566666666651134
        ],
        [
         "2020-09-10 14:55:00",
         8.6333333333799
        ],
        [
         "2020-09-10 15:00:00",
         9.184153005433691
        ],
        [
         "2020-09-10 15:05:00",
         9.062994350313533
        ],
        [
         "2020-09-10 15:10:00",
         8.605464480844038
        ],
        [
         "2020-09-10 15:15:00",
         8.893220339013837
        ],
        [
         "2020-09-10 15:20:00",
         9.234153005480257
        ],
        [
         "2020-09-10 15:25:00",
         9.469774011237089
        ],
        [
         "2020-09-10 15:30:00",
         8.900000000062079
        ],
        [
         "2020-09-10 15:35:00",
         8.919945355144693
        ],
        [
         "2020-09-10 15:40:00",
         9.24774011304091
        ],
        [
         "2020-09-10 15:45:00",
         8.899999999984479
        ],
        [
         "2020-09-10 15:50:00",
         9.133333333302279
        ],
        [
         "2020-09-10 15:55:00",
         8.55000000004656
        ],
        [
         "2020-09-10 16:00:00",
         8.504644808696606
        ],
        [
         "2020-09-10 16:05:00",
         8.600944706879819
        ],
        [
         "2020-09-10 16:10:00",
         7.944632768361318
        ],
        [
         "2020-09-10 16:15:00",
         8.850000000015523
        ],
        [
         "2020-09-10 16:20:00",
         8.199999999953434
        ],
        [
         "2020-09-10 16:25:00",
         7.8631193850451355
        ],
        [
         "2020-09-10 16:30:00",
         8.445651569911828
        ],
        [
         "2020-09-10 16:35:00",
         7.883333333302289
        ],
        [
         "2020-09-10 16:40:00",
         7.963137908645732
        ],
        [
         "2020-09-10 16:45:00",
         7.781916273070385
        ],
        [
         "2020-09-10 16:50:00",
         7.516666666682188
        ],
        [
         "2020-09-10 16:55:00",
         7.447666018307908
        ],
        [
         "2020-09-10 17:00:00",
         7.414406779707585
        ],
        [
         "2020-09-10 17:05:00",
         7.649999999984478
        ],
        [
         "2020-09-10 17:10:00",
         7.128118921907752
        ],
        [
         "2020-09-10 17:15:00",
         6.825581179924535
        ],
        [
         "2020-09-10 17:20:00",
         6.428961748665687
        ],
        [
         "2020-09-10 17:25:00",
         6.348462535904358
        ],
        [
         "2020-09-10 17:30:00",
         6.416916736115392
        ],
        [
         "2020-09-10 17:35:00",
         5.951166990862358
        ],
        [
         "2020-09-10 17:40:00",
         5.733333333317808
        ],
        [
         "2020-09-10 17:45:00",
         5.45113920528875
        ],
        [
         "2020-09-10 17:50:00",
         5.600000000015522
        ],
        [
         "2020-09-10 17:55:00",
         5.692354357706945
        ],
        [
         "2020-09-10 18:00:00",
         5.666666666666666
        ],
        [
         "2020-09-10 18:05:00",
         4.836065573769976
        ],
        [
         "2020-09-10 18:10:00",
         5.147513198096092
        ],
        [
         "2020-09-10 18:15:00",
         4.922478466239072
        ],
        [
         "2020-09-10 18:20:00",
         4.551366120204074
        ],
        [
         "2020-09-10 18:25:00",
         24.39090951191722
        ],
        [
         "2020-09-10 18:30:00",
         19.83588959894742
        ],
        [
         "2020-09-10 18:35:00",
         11.554519774012087
        ],
        [
         "2020-09-10 18:40:00",
         24.58609335931329
        ],
        [
         "2020-09-10 18:45:00",
         4.649999999984478
        ],
        [
         "2020-09-10 18:50:00",
         4.516666666682189
        ],
        [
         "2020-09-10 18:55:00",
         4.750000000000001
        ],
        [
         "2020-09-10 19:00:00",
         3.615370010139896
        ],
        [
         "2020-09-10 19:05:00",
         3.817884597636278
        ],
        [
         "2020-09-10 19:10:00",
         3.7999999999689544
        ],
        [
         "2020-09-10 19:15:00",
         3.616666666697712
        ],
        [
         "2020-09-10 19:20:00",
         3.6333333333022906
        ],
        [
         "2020-09-10 19:25:00",
         3.218968231885756
        ],
        [
         "2020-09-10 19:30:00",
         3.61666666669771
        ],
        [
         "2020-09-10 19:35:00",
         3.400916921352034
        ],
        [
         "2020-09-10 19:40:00",
         3.0399879596642156
        ],
        [
         "2020-09-10 19:45:00",
         3.365254237225784
        ],
        [
         "2020-09-10 19:50:00",
         3.050000000046568
        ],
        [
         "2020-09-10 19:55:00",
         2.865031953274566
        ],
        [
         "2020-09-10 20:00:00",
         3.1703713994607443
        ],
        [
         "2020-09-10 20:05:00",
         2.9071038251366117
        ],
        [
         "2020-09-10 20:10:00",
         2.723742706353628
        ],
        [
         "2020-09-10 20:15:00",
         2.966990830755286
        ],
        [
         "2020-09-10 20:20:00",
         2.633333333379902
        ],
        [
         "2020-09-10 20:25:00",
         2.9508428266637656
        ],
        [
         "2020-09-10 20:30:00",
         2.6333333333799
        ],
        [
         "2020-09-10 20:35:00",
         2.5999999999379138
        ],
        [
         "2020-09-10 20:40:00",
         2.999995369083742
        ],
        [
         "2020-09-10 20:45:00",
         2.5519449847660978
        ],
        [
         "2020-09-10 20:50:00",
         2.6000000000155237
        ],
        [
         "2020-09-10 20:55:00",
         2.5499999999689584
        ],
        [
         "2020-09-10 21:00:00",
         2.627618782963696
        ],
        [
         "2020-09-10 21:05:00",
         2.9265536723163836
        ],
        [
         "2020-09-10 21:10:00",
         2.500041678245008
        ],
        [
         "2020-09-10 21:15:00",
         2.5458321756519355
        ],
        [
         "2020-09-10 21:20:00",
         2.599698990476352
        ],
        [
         "2020-09-10 21:25:00",
         2.685250532493506
        ],
        [
         "2020-09-10 21:30:00",
         2.716944521672942
        ],
        [
         "2020-09-10 21:35:00",
         2.825136612021858
        ],
        [
         "2020-09-10 21:40:00",
         2.679776789863528
        ],
        [
         "2020-09-10 21:45:00",
         2.7186996387562097
        ],
        [
         "2020-09-10 21:50:00",
         2.6110308419181303
        ],
        [
         "2020-09-10 21:55:00",
         2.4655506158808
        ],
        [
         "2020-09-10 22:00:00",
         2.633333333379902
        ],
        [
         "2020-09-10 22:05:00",
         2.604149300670612
        ],
        [
         "2020-09-10 22:10:00",
         2.498036491618544
        ],
        [
         "2020-09-10 22:15:00",
         2.416666666666668
        ],
        [
         "2020-09-10 22:20:00",
         2.9166666666666696
        ],
        [
         "2020-09-10 22:25:00",
         2.6310966009544723
        ],
        [
         "2020-09-10 22:30:00",
         2.466662035719364
        ],
        [
         "2020-09-10 22:35:00",
         4.188029082183492
        ],
        [
         "2020-09-10 22:40:00",
         3.0423728813085757
        ],
        [
         "2020-09-10 22:45:00",
         3.00003241641301
        ],
        [
         "2020-09-10 22:50:00",
         3.131545799806296
        ],
        [
         "2020-09-10 22:55:00",
         2.682810039841926
        ],
        [
         "2020-09-10 23:00:00",
         3.315578401392276
        ],
        [
         "2020-09-10 23:05:00",
         3.033333333286768
        ],
        [
         "2020-09-10 23:10:00",
         2.834504955080904
        ],
        [
         "2020-09-10 23:15:00",
         3.083333333333334
        ],
        [
         "2020-09-10 23:20:00",
         2.716666666713234
        ],
        [
         "2020-09-10 23:25:00",
         2.957650273193508
        ],
        [
         "2020-09-10 23:30:00",
         2.959887005680762
        ],
        [
         "2020-09-10 23:35:00",
         3.2166666666356223
        ],
        [
         "2020-09-10 23:40:00",
         3.2161896823662537
        ],
        [
         "2020-09-10 23:45:00",
         3.316666666651146
        ],
        [
         "2020-09-10 23:50:00",
         3.1804575345163824
        ],
        [
         "2020-09-10 23:55:00",
         3.7352459016383235
        ],
        [
         "2020-09-11 00:00:00",
         3.8612531258056917
        ],
        [
         "2020-09-11 00:05:00",
         3.8890432528017143
        ],
        [
         "2020-09-11 00:10:00",
         3.9833333333178103
        ],
        [
         "2020-09-11 00:15:00",
         4.951366120188554
        ],
        [
         "2020-09-11 00:20:00",
         4.9485968324708
        ],
        [
         "2020-09-11 00:25:00",
         5.71624988427263
        ],
        [
         "2020-09-11 00:30:00",
         5.366666666620103
        ],
        [
         "2020-09-11 00:35:00",
         6.05116699087788
        ],
        [
         "2020-09-11 00:40:00",
         6.699999999953434
        ],
        [
         "2020-09-11 00:45:00",
         8.499999999999991
        ],
        [
         "2020-09-11 00:50:00",
         8.650476984363545
        ],
        [
         "2020-09-11 00:55:00",
         7.3833333333022875
        ],
        [
         "2020-09-11 01:00:00",
         6.878243956702212
        ],
        [
         "2020-09-11 01:05:00",
         7.24743447253945
        ],
        [
         "2020-09-11 01:10:00",
         7.383333333302289
        ],
        [
         "2020-09-11 01:15:00",
         7.350000000015522
        ],
        [
         "2020-09-11 01:20:00",
         7.866666666697709
        ],
        [
         "2020-09-11 01:25:00",
         7.602236732363577
        ],
        [
         "2020-09-11 01:30:00",
         7.916171158656491
        ],
        [
         "2020-09-11 01:35:00",
         7.966666666713232
        ],
        [
         "2020-09-11 01:40:00",
         8.01666666668219
        ],
        [
         "2020-09-11 01:45:00",
         8.766666666604578
        ],
        [
         "2020-09-11 01:50:00",
         8.183333333348854
        ],
        [
         "2020-09-11 01:55:00",
         9.21738445869352
        ],
        [
         "2020-09-11 02:00:00",
         8.816666666651145
        ],
        [
         "2020-09-11 02:05:00",
         10.066666666651129
        ],
        [
         "2020-09-11 02:10:00",
         10.3795267203853
        ],
        [
         "2020-09-11 02:15:00",
         9.887232564616273
        ],
        [
         "2020-09-11 02:20:00",
         10.692118180991217
        ],
        [
         "2020-09-11 02:25:00",
         10.298833009138677
        ],
        [
         "2020-09-11 02:30:00",
         11.10000000001552
        ],
        [
         "2020-09-11 02:35:00",
         11.993613966827642
        ],
        [
         "2020-09-11 02:40:00",
         11.68333333334886
        ],
        [
         "2020-09-11 02:45:00",
         12.03333333328676
        ],
        [
         "2020-09-11 02:50:00",
         12.033333333364359
        ],
        [
         "2020-09-11 02:55:00",
         11.950000000031041
        ],
        [
         "2020-09-11 03:00:00",
         13.0332685004794
        ],
        [
         "2020-09-11 03:05:00",
         12.27442345097362
        ],
        [
         "2020-09-11 03:10:00",
         12.51666666668218
        ],
        [
         "2020-09-11 03:15:00",
         12.71189682316006
        ],
        [
         "2020-09-11 03:20:00",
         12.700000000031041
        ],
        [
         "2020-09-11 03:25:00",
         13.518055941403139
        ],
        [
         "2020-09-11 03:30:00",
         12.2718810780757
        ],
        [
         "2020-09-11 03:35:00",
         13.7833333333644
        ],
        [
         "2020-09-11 03:40:00",
         12.40219042324966
        ],
        [
         "2020-09-11 03:45:00",
         12.56666666665116
        ],
        [
         "2020-09-11 03:50:00",
         13.1166666666977
        ],
        [
         "2020-09-11 03:55:00",
         12.700000000031041
        ],
        [
         "2020-09-11 04:00:00",
         12.799999999968959
        ],
        [
         "2020-09-11 04:05:00",
         13.41666666666666
        ],
        [
         "2020-09-11 04:10:00",
         13.385079188634041
        ],
        [
         "2020-09-11 04:15:00",
         13.2721311476023
        ],
        [
         "2020-09-11 04:20:00",
         12.48272205240332
        ],
        [
         "2020-09-11 04:25:00",
         13.643553764951259
        ],
        [
         "2020-09-11 04:30:00",
         13.11666666662012
        ],
        [
         "2020-09-11 04:35:00",
         11.19028433822736
        ],
        [
         "2020-09-11 04:40:00",
         13.27905436698716
        ],
        [
         "2020-09-11 04:45:00",
         12.20621468926554
        ],
        [
         "2020-09-11 04:50:00",
         11.82322867461604
        ],
        [
         "2020-09-11 04:55:00",
         11.8500000000155
        ],
        [
         "2020-09-11 05:00:00",
         11.2333333333178
        ],
        [
         "2020-09-11 05:05:00",
         11.642896174879422
        ],
        [
         "2020-09-11 05:10:00",
         11.52740112992824
        ],
        [
         "2020-09-11 05:15:00",
         12.5333333333644
        ],
        [
         "2020-09-11 05:20:00",
         11.86999629525038
        ],
        [
         "2020-09-11 05:25:00",
         11.359322033883062
        ],
        [
         "2020-09-11 05:30:00",
         11.964754098360899
        ],
        [
         "2020-09-11 05:35:00",
         10.999087709580005
        ],
        [
         "2020-09-11 05:40:00",
         12.766208205985219
        ],
        [
         "2020-09-11 05:45:00",
         11.36666666662008
        ],
        [
         "2020-09-11 05:50:00",
         10.91666666666668
        ],
        [
         "2020-09-11 05:55:00",
         11.992349726807
        ],
        [
         "2020-09-11 06:00:00",
         11.189172918418006
        ],
        [
         "2020-09-11 06:05:00",
         10.88455589512498
        ],
        [
         "2020-09-11 06:10:00",
         12.52330276927146
        ],
        [
         "2020-09-11 06:15:00",
         10.733333333395418
        ],
        [
         "2020-09-11 06:20:00",
         11.04756876907199
        ],
        [
         "2020-09-11 06:25:00",
         11.04999999996896
        ],
        [
         "2020-09-11 06:30:00",
         11.266666666682202
        ],
        [
         "2020-09-11 06:35:00",
         9.905237565973746
        ],
        [
         "2020-09-11 06:40:00",
         10.882879503567619
        ],
        [
         "2020-09-11 06:45:00",
         10.71949152544003
        ],
        [
         "2020-09-11 06:50:00",
         10.833333333333325
        ],
        [
         "2020-09-11 06:55:00",
         11.133333333379905
        ],
        [
         "2020-09-11 07:00:00",
         10.014499397919582
        ],
        [
         "2020-09-11 07:05:00",
         10.566666666728763
        ],
        [
         "2020-09-11 07:10:00",
         10.56693989064932
        ],
        [
         "2020-09-11 07:15:00",
         10.278077243678785
        ],
        [
         "2020-09-11 07:20:00",
         10.423738075391848
        ],
        [
         "2020-09-11 07:25:00",
         10.701787533604396
        ],
        [
         "2020-09-11 07:30:00",
         10.653079559121778
        ],
        [
         "2020-09-11 07:35:00",
         10.95000000003103
        ],
        [
         "2020-09-11 07:40:00",
         10.56542095024871
        ],
        [
         "2020-09-11 07:45:00",
         10.548462535858544
        ],
        [
         "2020-09-11 07:50:00",
         10.51666666668218
        ],
        [
         "2020-09-11 07:55:00",
         10.166666666666657
        ],
        [
         "2020-09-11 08:00:00",
         10.830601092926706
        ],
        [
         "2020-09-11 08:05:00",
         10.152259886959344
        ],
        [
         "2020-09-11 08:10:00",
         10.547522459987073
        ],
        [
         "2020-09-11 08:15:00",
         10.698115217174959
        ],
        [
         "2020-09-11 08:20:00",
         10.013841807893554
        ],
        [
         "2020-09-11 08:25:00",
         10.966666666713222
        ],
        [
         "2020-09-11 08:30:00",
         9.829387792904685
        ],
        [
         "2020-09-11 08:35:00",
         10.516666666604586
        ],
        [
         "2020-09-11 08:40:00",
         10.483606557392312
        ],
        [
         "2020-09-11 08:45:00",
         9.831920904002157
        ],
        [
         "2020-09-11 08:50:00",
         10.698087431678704
        ],
        [
         "2020-09-11 08:55:00",
         8.922307122333287
        ],
        [
         "2020-09-11 09:00:00",
         10.333333333333327
        ],
        [
         "2020-09-11 09:05:00",
         9.666666666666652
        ],
        [
         "2020-09-11 09:10:00",
         9.483333333317805
        ],
        [
         "2020-09-11 09:15:00",
         8.969945355191257
        ],
        [
         "2020-09-11 09:20:00",
         8.828813559369127
        ],
        [
         "2020-09-11 09:25:00",
         9.368250439890982
        ],
        [
         "2020-09-11 09:30:00",
         9.700000000031043
        ],
        [
         "2020-09-11 09:35:00",
         9.818306010944237
        ],
        [
         "2020-09-11 09:40:00",
         9.464406779598923
        ],
        [
         "2020-09-11 09:45:00",
         8.90000000006209
        ],
        [
         "2020-09-11 09:50:00",
         8.631471705072219
        ],
        [
         "2020-09-11 09:55:00",
         8.73529684169847
        ],
        [
         "2020-09-11 10:00:00",
         8.586690747428289
        ],
        [
         "2020-09-11 10:05:00",
         8.456900064863346
        ],
        [
         "2020-09-11 10:10:00",
         8.649999999984479
        ],
        [
         "2020-09-11 10:15:00",
         8.507103825167402
        ],
        [
         "2020-09-11 10:20:00",
         8.397740112947782
        ],
        [
         "2020-09-11 10:25:00",
         8.182638695948027
        ],
        [
         "2020-09-11 10:30:00",
         8.733504677210158
        ],
        [
         "2020-09-11 10:35:00",
         8.55546448087508
        ],
        [
         "2020-09-11 10:40:00",
         8.07742428457109
        ],
        [
         "2020-09-11 10:50:00",
         9.033333333364379
        ],
        [
         "2020-09-11 10:55:00",
         8.233333333317809
        ],
        [
         "2020-09-11 11:00:00",
         8.71395758085656
        ],
        [
         "2020-09-11 11:05:00",
         8.36815782156976
        ],
        [
         "2020-09-11 11:15:00",
         8.724124756915707
        ],
        [
         "2020-09-11 11:20:00",
         8.708196721295447
        ],
        [
         "2020-09-11 11:25:00",
         9.198786700010556
        ]
       ],
       "aggError": "",
       "aggOverflow": true,
       "aggSchema": [
        {
         "metadata": "{\"aggRole\":\"groupBy\",\"aggFunc\":null}",
         "name": "timestamp",
         "type": "\"string\""
        },
        {
         "metadata": "{\"aggRole\":\"agg\",\"aggFunc\":\"sum\"}",
         "name": "value",
         "type": "\"double\""
        }
       ],
       "aggSeriesLimitReached": false,
       "aggType": "scalar",
       "arguments": {},
       "columnCustomDisplayInfos": {},
       "data": [
        [
         "2020-09-08 00:00:00",
         3.569324812430564
        ],
        [
         "2020-09-08 00:05:00",
         3.43524590166937
        ],
        [
         "2020-09-08 00:10:00",
         4.18107344632663
        ],
        [
         "2020-09-08 00:15:00",
         4.4329860145721245
        ],
        [
         "2020-09-08 00:20:00",
         4.668259701784014
        ],
        [
         "2020-09-08 00:25:00",
         5.538135593236124
        ],
        [
         "2020-09-08 00:30:00",
         5.103107344648038
        ],
        [
         "2020-09-08 00:35:00",
         6.304621654133174
        ],
        [
         "2020-09-08 00:40:00",
         6.843243493578017
        ],
        [
         "2020-09-08 00:45:00",
         7.64604982864135
        ],
        [
         "2020-09-08 00:50:00",
         9.934356765784065
        ],
        [
         "2020-09-08 00:55:00",
         7.732791516146368
        ],
        [
         "2020-09-08 01:00:00",
         7.566666666651143
        ],
        [
         "2020-09-08 01:05:00",
         7.600004630930743
        ],
        [
         "2020-09-08 01:10:00",
         7.859016393488171
        ],
        [
         "2020-09-08 01:15:00",
         7.464994905961616
        ],
        [
         "2020-09-08 01:20:00",
         7.9740668703959185
        ],
        [
         "2020-09-08 01:25:00",
         8.396045197772205
        ],
        [
         "2020-09-08 01:30:00",
         8.000842826711132
        ],
        [
         "2020-09-08 01:35:00",
         8.231990367679726
        ],
        [
         "2020-09-08 01:40:00",
         8.766666666682188
        ],
        [
         "2020-09-08 01:45:00",
         9.187978142045466
        ],
        [
         "2020-09-08 01:50:00",
         9.347740113056435
        ],
        [
         "2020-09-08 01:55:00",
         10.366666666620084
        ],
        [
         "2020-09-08 02:00:00",
         9.050000000046566
        ],
        [
         "2020-09-08 02:05:00",
         9.831647679911063
        ],
        [
         "2020-09-08 02:10:00",
         11.13333333330228
        ],
        [
         "2020-09-08 02:15:00",
         10.433333333348871
        ],
        [
         "2020-09-08 02:20:00",
         10.473946466579255
        ],
        [
         "2020-09-08 02:25:00",
         11.450000000031059
        ],
        [
         "2020-09-08 02:30:00",
         11.049999999968978
        ],
        [
         "2020-09-08 02:35:00",
         12.08333333333334
        ],
        [
         "2020-09-08 02:40:00",
         11.58333333333334
        ],
        [
         "2020-09-08 02:45:00",
         11.99999999999998
        ],
        [
         "2020-09-08 02:50:00",
         12.16878299527722
        ],
        [
         "2020-09-08 02:55:00",
         12.20989163661126
        ],
        [
         "2020-09-08 03:00:00",
         12.43112438634206
        ],
        [
         "2020-09-08 03:05:00",
         12.21666666671324
        ],
        [
         "2020-09-08 03:10:00",
         12.57322404366954
        ],
        [
         "2020-09-08 03:15:00",
         12.02711864412988
        ],
        [
         "2020-09-08 03:20:00",
         13.0694961563255
        ],
        [
         "2020-09-08 03:25:00",
         13.283333333286759
        ],
        [
         "2020-09-08 03:30:00",
         11.95794665187854
        ],
        [
         "2020-09-08 03:35:00",
         13.06666666665114
        ],
        [
         "2020-09-08 03:40:00",
         12.24078447717008
        ],
        [
         "2020-09-08 03:45:00",
         12.26666666668218
        ],
        [
         "2020-09-08 03:50:00",
         13.326502732270962
        ],
        [
         "2020-09-08 03:55:00",
         13.0813559321568
        ],
        [
         "2020-09-08 04:00:00",
         12.97540983608084
        ],
        [
         "2020-09-08 04:05:00",
         13.1129943502667
        ],
        [
         "2020-09-08 04:10:00",
         13.021191071608461
        ],
        [
         "2020-09-08 04:15:00",
         13.41666666666666
        ],
        [
         "2020-09-08 04:20:00",
         11.983333333317841
        ],
        [
         "2020-09-08 04:25:00",
         13.200000000031043
        ],
        [
         "2020-09-08 04:30:00",
         13.29999999996898
        ],
        [
         "2020-09-08 04:35:00",
         11.71666666671324
        ],
        [
         "2020-09-08 04:40:00",
         12.93952486795602
        ],
        [
         "2020-09-08 04:45:00",
         12.345081967259679
        ],
        [
         "2020-09-08 04:50:00",
         11.804519774026561
        ],
        [
         "2020-09-08 04:55:00",
         12.62119107154764
        ],
        [
         "2020-09-08 05:00:00",
         11.372784106726595
        ],
        [
         "2020-09-08 05:05:00",
         12.533333333286759
        ],
        [
         "2020-09-08 05:10:00",
         10.46994535519125
        ],
        [
         "2020-09-08 05:15:00",
         11.660294526303861
        ],
        [
         "2020-09-08 05:20:00",
         11.81937575250832
        ],
        [
         "2020-09-08 05:25:00",
         11.23316198942598
        ],
        [
         "2020-09-08 05:30:00",
         11.535421876478974
        ],
        [
         "2020-09-08 05:35:00",
         10.205765490367954
        ],
        [
         "2020-09-08 05:40:00",
         12.03447253866738
        ],
        [
         "2020-09-08 05:45:00",
         11.40837732706584
        ],
        [
         "2020-09-08 05:50:00",
         10.383333333302293
        ],
        [
         "2020-09-08 05:55:00",
         11.237278873823335
        ],
        [
         "2020-09-08 06:00:00",
         11.133333333302321
        ],
        [
         "2020-09-08 06:05:00",
         11.233333333317798
        ],
        [
         "2020-09-08 06:10:00",
         11.100000000015541
        ],
        [
         "2020-09-08 06:15:00",
         10.956830601093396
        ],
        [
         "2020-09-08 06:20:00",
         10.85084745761186
        ],
        [
         "2020-09-08 06:25:00",
         10.027720663177178
        ],
        [
         "2020-09-08 06:30:00",
         11.175118088373665
        ],
        [
         "2020-09-08 06:35:00",
         9.399999999984473
        ],
        [
         "2020-09-08 06:40:00",
         10.919991664350684
        ],
        [
         "2020-09-08 06:45:00",
         12.97704918034338
        ],
        [
         "2020-09-08 06:50:00",
         11.2220338982422
        ],
        [
         "2020-09-08 06:55:00",
         12.6166666666977
        ],
        [
         "2020-09-08 07:00:00",
         11.8500000000155
        ],
        [
         "2020-09-08 07:05:00",
         12.21666666663562
        ],
        [
         "2020-09-08 07:10:00",
         13.100000000015521
        ],
        [
         "2020-09-08 07:15:00",
         12.08385662684128
        ],
        [
         "2020-09-08 07:20:00",
         12.27014911551004
        ],
        [
         "2020-09-08 07:25:00",
         11.800393627829061
        ],
        [
         "2020-09-08 07:30:00",
         11.83050847460682
        ],
        [
         "2020-09-08 07:35:00",
         12.07429378526416
        ],
        [
         "2020-09-08 07:40:00",
         12.700000000031059
        ],
        [
         "2020-09-08 07:45:00",
         11.554894878175357
        ],
        [
         "2020-09-08 07:50:00",
         11.26666666668218
        ],
        [
         "2020-09-08 07:55:00",
         10.511628230080202
        ],
        [
         "2020-09-08 08:00:00",
         10.480601092911176
        ],
        [
         "2020-09-08 08:05:00",
         10.58208761689933
        ],
        [
         "2020-09-08 08:10:00",
         10.250000000000007
        ],
        [
         "2020-09-08 08:15:00",
         10.751912568337056
        ],
        [
         "2020-09-08 08:20:00",
         9.465819209055063
        ],
        [
         "2020-09-08 08:25:00",
         10.581420764980999
        ],
        [
         "2020-09-08 08:30:00",
         10.052259887021433
        ],
        [
         "2020-09-08 08:35:00",
         9.666666666666654
        ],
        [
         "2020-09-08 08:40:00",
         9.537431693974309
        ],
        [
         "2020-09-08 08:45:00",
         8.759447068614383
        ],
        [
         "2020-09-08 08:50:00",
         9.800000000046563
        ],
        [
         "2020-09-08 08:55:00",
         8.268782995293547
        ],
        [
         "2020-09-08 09:00:00",
         9.133759377573336
        ],
        [
         "2020-09-08 09:05:00",
         8.716666666635614
        ],
        [
         "2020-09-08 09:10:00",
         9.80000000004657
        ],
        [
         "2020-09-08 09:15:00",
         8.416666666666666
        ],
        [
         "2020-09-08 09:20:00",
         7.839344262248514
        ],
        [
         "2020-09-08 09:25:00",
         8.31440677969206
        ],
        [
         "2020-09-08 09:30:00",
         7.442349726745166
        ],
        [
         "2020-09-08 09:35:00",
         7.993317588265794
        ],
        [
         "2020-09-08 09:40:00",
         8.097892933237476
        ],
        [
         "2020-09-08 09:45:00",
         7.279188663470798
        ],
        [
         "2020-09-08 09:50:00",
         7.200000000031042
        ],
        [
         "2020-09-08 09:55:00",
         7.566666666651146
        ],
        [
         "2020-09-08 10:00:00",
         7.25
        ],
        [
         "2020-09-08 10:05:00",
         7.695350560370592
        ],
        [
         "2020-09-08 10:10:00",
         6.799999999968955
        ],
        [
         "2020-09-08 10:15:00",
         7.149999999984476
        ],
        [
         "2020-09-08 10:20:00",
         7.3833333333799
        ],
        [
         "2020-09-08 10:25:00",
         7.3833333333022875
        ],
        [
         "2020-09-08 10:30:00",
         7.166666666666669
        ],
        [
         "2020-09-08 10:35:00",
         6.833509308140623
        ],
        [
         "2020-09-08 10:40:00",
         7.345623784400354
        ],
        [
         "2020-09-08 10:45:00",
         7.46838010555511
        ],
        [
         "2020-09-08 10:50:00",
         7.25
        ],
        [
         "2020-09-08 10:55:00",
         7.466666666713232
        ],
        [
         "2020-09-08 11:00:00",
         7.916666666666666
        ],
        [
         "2020-09-08 11:05:00",
         8.997165879412488
        ],
        [
         "2020-09-08 11:10:00",
         8.58333333333333
        ],
        [
         "2020-09-08 11:15:00",
         8.687876261861987
        ],
        [
         "2020-09-08 11:20:00",
         8.684843011962503
        ],
        [
         "2020-09-08 11:25:00",
         8.319899046015255
        ],
        [
         "2020-09-08 11:30:00",
         8.816666666728759
        ],
        [
         "2020-09-08 11:35:00",
         8.31835695098887
        ],
        [
         "2020-09-08 11:40:00",
         8.717657682657295
        ],
        [
         "2020-09-08 11:45:00",
         9.053278688524586
        ],
        [
         "2020-09-08 11:50:00",
         8.31073446330709
        ],
        [
         "2020-09-08 11:55:00",
         9.572279336836274
        ],
        [
         "2020-09-08 12:00:00",
         9.183333333348859
        ],
        [
         "2020-09-08 12:05:00",
         8.639617486307483
        ],
        [
         "2020-09-08 12:10:00",
         10.035621005818665
        ],
        [
         "2020-09-08 12:15:00",
         8.561299435060345
        ],
        [
         "2020-09-08 12:20:00",
         9.216666666635614
        ],
        [
         "2020-09-08 12:25:00",
         8.494567935538187
        ],
        [
         "2020-09-08 12:30:00",
         8.732064462413287
        ],
        [
         "2020-09-08 12:35:00",
         8.949999999953432
        ],
        [
         "2020-09-08 12:40:00",
         8.58350467722568
        ],
        [
         "2020-09-08 12:45:00",
         9.316666666651146
        ],
        [
         "2020-09-08 12:50:00",
         8.665726590719135
        ],
        [
         "2020-09-08 12:55:00",
         9.050000000046571
        ],
        [
         "2020-09-08 13:00:00",
         8.399999999984471
        ],
        [
         "2020-09-08 13:05:00",
         8.702584051109552
        ],
        [
         "2020-09-08 13:10:00",
         8.34113179585449
        ],
        [
         "2020-09-08 13:15:00",
         8.76666666668219
        ],
        [
         "2020-09-08 13:20:00",
         8.683333333348852
        ],
        [
         "2020-09-08 13:25:00",
         8.68952486798707
        ],
        [
         "2020-09-08 13:30:00",
         9.296327683631333
        ],
        [
         "2020-09-08 13:35:00",
         9.127174215104745
        ],
        [
         "2020-09-08 13:40:00",
         8.799999999968955
        ],
        [
         "2020-09-08 13:45:00",
         9.37402519216776
        ],
        [
         "2020-09-08 13:50:00",
         8.616101694915518
        ],
        [
         "2020-09-08 13:55:00",
         8.333333333333334
        ],
        [
         "2020-09-08 14:00:00",
         8.533333333364379
        ],
        [
         "2020-09-08 14:05:00",
         8.481147540984146
        ],
        [
         "2020-09-08 14:10:00",
         8.979661016902588
        ],
        [
         "2020-09-08 14:15:00",
         8.327572473834271
        ],
        [
         "2020-09-08 14:20:00",
         9.220399185005622
        ],
        [
         "2020-09-08 14:25:00",
         9.25050013892695
        ],
        [
         "2020-09-08 14:30:00",
         8.335671945910901
        ],
        [
         "2020-09-08 14:35:00",
         9.404644808758695
        ],
        [
         "2020-09-08 14:40:00",
         9.3353616745074
        ],
        [
         "2020-09-08 14:45:00",
         8.816666666651148
        ],
        [
         "2020-09-08 14:50:00",
         10.34147448369891
        ],
        [
         "2020-09-08 14:55:00",
         8.948907103777799
        ],
        [
         "2020-09-08 15:00:00",
         9.909132166388297
        ],
        [
         "2020-09-08 15:05:00",
         9.433333333271246
        ],
        [
         "2020-09-08 15:10:00",
         10.06666666672876
        ],
        [
         "2020-09-08 15:15:00",
         9.983333333317805
        ],
        [
         "2020-09-08 15:20:00",
         10.066666666651146
        ],
        [
         "2020-09-08 15:25:00",
         9.534926368467259
        ],
        [
         "2020-09-08 15:30:00",
         9.138649624898392
        ],
        [
         "2020-09-08 15:35:00",
         9.912230249111722
        ],
        [
         "2020-09-08 15:40:00",
         9.933333333348846
        ],
        [
         "2020-09-08 15:45:00",
         9.6166666666201
        ],
        [
         "2020-09-08 15:50:00",
         8.78546355472061
        ],
        [
         "2020-09-08 15:55:00",
         9.036612021889763
        ],
        [
         "2020-09-08 16:00:00",
         9.437366861100966
        ],
        [
         "2020-09-08 16:05:00",
         8.86987126056587
        ],
        [
         "2020-09-08 16:10:00",
         8.799999999968952
        ],
        [
         "2020-09-08 16:15:00",
         9.22017227012263
        ],
        [
         "2020-09-08 16:20:00",
         8.60000000001552
        ],
        [
         "2020-09-08 16:25:00",
         9.083333333333337
        ],
        [
         "2020-09-08 16:30:00",
         8.499999999999998
        ],
        [
         "2020-09-08 16:35:00",
         8.373497267744801
        ],
        [
         "2020-09-08 16:40:00",
         8.67966101693363
        ],
        [
         "2020-09-08 16:45:00",
         7.916666666666666
        ],
        [
         "2020-09-08 16:50:00",
         8.180707603978822
        ],
        [
         "2020-09-08 16:55:00",
         7.6499999999844785
        ],
        [
         "2020-09-08 17:00:00",
         7.541807909589243
        ],
        [
         "2020-09-08 17:05:00",
         7.599175696969425
        ],
        [
         "2020-09-08 17:10:00",
         7.356779661016423
        ],
        [
         "2020-09-08 17:15:00",
         6.910655737719677
        ],
        [
         "2020-09-08 17:20:00",
         6.419774011283915
        ],
        [
         "2020-09-08 17:25:00",
         6.799999999968955
        ],
        [
         "2020-09-08 17:30:00",
         6.262396962133865
        ],
        [
         "2020-09-08 17:35:00",
         5.82083912196227
        ],
        [
         "2020-09-08 17:40:00",
         6.114207650319792
        ],
        [
         "2020-09-08 17:45:00",
         5.255367231622368
        ],
        [
         "2020-09-08 17:50:00",
         5.416666666666666
        ],
        [
         "2020-09-08 17:55:00",
         5.218634805950116
        ],
        [
         "2020-09-08 18:00:00",
         5.452852644284857
        ],
        [
         "2020-09-08 18:05:00",
         5.616231360577329
        ],
        [
         "2020-09-08 18:10:00",
         5.233333333317812
        ],
        [
         "2020-09-08 18:15:00",
         4.464360470468716
        ],
        [
         "2020-09-08 18:20:00",
         4.114059460993466
        ],
        [
         "2020-09-08 18:25:00",
         22.349481337408257
        ],
        [
         "2020-09-08 18:30:00",
         16.00245901636266
        ],
        [
         "2020-09-08 18:35:00",
         9.97655367233268
        ],
        [
         "2020-09-08 18:40:00",
         24.12326109101379
        ],
        [
         "2020-09-08 18:45:00",
         5.564207650273226
        ],
        [
         "2020-09-08 18:50:00",
         4.4531073446482905
        ],
        [
         "2020-09-08 18:55:00",
         4.1040983606878
        ],
        [
         "2020-09-08 19:00:00",
         3.2796610169649383
        ],
        [
         "2020-09-08 19:05:00",
         4.044642030178823
        ],
        [
         "2020-09-08 19:10:00",
         4.9531073446482905
        ],
        [
         "2020-09-08 19:15:00",
         5.499999999999999
        ],
        [
         "2020-09-08 19:20:00",
         5.31562007963597
        ],
        [
         "2020-09-08 19:25:00",
         4.216666666635624
        ],
        [
         "2020-09-08 19:30:00",
         3.251245716402206
        ],
        [
         "2020-09-08 19:35:00",
         3.4495044920187965
        ],
        [
         "2020-09-08 19:40:00",
         3.449999999953434
        ],
        [
         "2020-09-08 19:45:00",
         4.066666666728754
        ],
        [
         "2020-09-08 19:50:00",
         2.9071038251366117
        ],
        [
         "2020-09-08 19:55:00",
         3.135917384428392
        ],
        [
         "2020-09-08 20:00:00",
         2.85960451978927
        ],
        [
         "2020-09-08 20:05:00",
         2.7333333333178116
        ],
        [
         "2020-09-08 20:10:00",
         2.9500000000310456
        ],
        [
         "2020-09-08 20:15:00",
         2.78333333328677
        ],
        [
         "2020-09-08 20:20:00",
         2.499448920995802
        ],
        [
         "2020-09-08 20:25:00",
         2.6333333333799
        ],
        [
         "2020-09-08 20:30:00",
         2.516666666604578
        ],
        [
         "2020-09-08 20:35:00",
         2.8500000000155223
        ],
        [
         "2020-09-08 20:40:00",
         3.500000000000002
        ],
        [
         "2020-09-08 20:45:00",
         2.454019635129886
        ],
        [
         "2020-09-08 20:50:00",
         2.5098870056497162
        ],
        [
         "2020-09-08 20:55:00",
         2.7666666666045803
        ],
        [
         "2020-09-08 21:00:00",
         2.687204779120056
        ],
        [
         "2020-09-08 21:05:00",
         3.631735667361044
        ],
        [
         "2020-09-08 21:10:00",
         3.6166666666201026
        ],
        [
         "2020-09-08 21:15:00",
         2.683333333348858
        ],
        [
         "2020-09-08 21:20:00",
         2.591279985197116
        ],
        [
         "2020-09-08 21:25:00",
         2.422598870056762
        ],
        [
         "2020-09-08 21:30:00",
         2.4666666666356223
        ],
        [
         "2020-09-08 21:35:00",
         2.583333333333334
        ],
        [
         "2020-09-08 21:40:00",
         2.333333333333332
        ],
        [
         "2020-09-08 21:45:00",
         2.7333333333178116
        ],
        [
         "2020-09-08 21:50:00",
         2.813883486215386
        ],
        [
         "2020-09-08 21:55:00",
         2.2833333332867682
        ],
        [
         "2020-09-08 22:00:00",
         2.623770491849844
        ],
        [
         "2020-09-08 22:05:00",
         3.144720755734182
        ],
        [
         "2020-09-08 22:10:00",
         2.6000000000155223
        ],
        [
         "2020-09-08 22:15:00",
         2.497216819487946
        ],
        [
         "2020-09-08 22:20:00",
         2.5499999999689558
        ],
        [
         "2020-09-08 22:25:00",
         2.416666666666668
        ],
        [
         "2020-09-08 22:30:00",
         2.30765027320776
        ],
        [
         "2020-09-08 22:35:00",
         2.8412568306003196
        ],
        [
         "2020-09-08 22:40:00",
         2.716666666713234
        ],
        [
         "2020-09-08 22:45:00",
         2.783333333286768
        ],
        [
         "2020-09-08 22:50:00",
         2.7686579605590844
        ],
        [
         "2020-09-08 22:55:00",
         2.462471056821334
        ],
        [
         "2020-09-08 23:00:00",
         2.9499999999534343
        ],
        [
         "2020-09-08 23:05:00",
         2.683333333348856
        ],
        [
         "2020-09-08 23:10:00",
         2.600000000015524
        ],
        [
         "2020-09-08 23:15:00",
         2.889617486323786
        ],
        [
         "2020-09-08 23:20:00",
         2.8751412429688976
        ],
        [
         "2020-09-08 23:25:00",
         2.988797814207396
        ],
        [
         "2020-09-08 23:30:00",
         3.0423728813085757
        ],
        [
         "2020-09-08 23:35:00",
         3.050324164166228
        ],
        [
         "2020-09-08 23:40:00",
         3.00117162174757
        ],
        [
         "2020-09-08 23:45:00",
         3.399999999984478
        ],
        [
         "2020-09-08 23:50:00",
         2.90029637860946
        ],
        [
         "2020-09-08 23:55:00",
         3.5333333333643764
        ],
        [
         "2020-09-09 00:00:00",
         3.3666666666201004
        ],
        [
         "2020-09-09 00:05:00",
         4.052357136227578
        ],
        [
         "2020-09-09 00:10:00",
         4.264406779661281
        ],
        [
         "2020-09-09 00:15:00",
         4.033333333364376
        ],
        [
         "2020-09-09 00:20:00",
         3.883333333302288
        ],
        [
         "2020-09-09 00:25:00",
         4.47019079378583
        ],
        [
         "2020-09-09 00:30:00",
         5.683333333348854
        ],
        [
         "2020-09-09 00:35:00",
         5.7333333333178125
        ],
        [
         "2020-09-09 00:40:00",
         6.166666666666666
        ],
        [
         "2020-09-09 00:45:00",
         7.302727609489338
        ],
        [
         "2020-09-09 00:50:00",
         8.899999999984486
        ],
        [
         "2020-09-09 00:55:00",
         7.5666666667287545
        ],
        [
         "2020-09-09 01:00:00",
         7.493169398846033
        ],
        [
         "2020-09-09 01:05:00",
         7.808761693095748
        ],
        [
         "2020-09-09 01:10:00",
         8.82113550058598
        ],
        [
         "2020-09-09 01:15:00",
         8.051718069881563
        ],
        [
         "2020-09-09 01:20:00",
         8.679860146275894
        ],
        [
         "2020-09-09 01:25:00",
         9.031179957426616
        ],
        [
         "2020-09-09 01:30:00",
         9.083333333333334
        ],
        [
         "2020-09-09 01:35:00",
         8.71587014908289
        ],
        [
         "2020-09-09 01:40:00",
         8.388797814208413
        ],
        [
         "2020-09-09 01:45:00",
         9.060734463308409
        ],
        [
         "2020-09-09 01:50:00",
         9.005325553394977
        ],
        [
         "2020-09-09 01:55:00",
         9.51860702048367
        ],
        [
         "2020-09-09 02:00:00",
         9.76666666668219
        ],
        [
         "2020-09-09 02:05:00",
         10.416666666666675
        ],
        [
         "2020-09-09 02:10:00",
         10.73936278591248
        ],
        [
         "2020-09-09 02:15:00",
         12.02118644066218
        ],
        [
         "2020-09-09 02:20:00",
         11.02153375939258
        ],
        [
         "2020-09-09 02:25:00",
         11.100000000015498
        ],
        [
         "2020-09-09 02:30:00",
         11.67786885242874
        ],
        [
         "2020-09-09 02:35:00",
         11.70367231638444
        ],
        [
         "2020-09-09 02:40:00",
         11.908196721343021
        ],
        [
         "2020-09-09 02:45:00",
         12.072881355963238
        ],
        [
         "2020-09-09 02:50:00",
         11.91499490594766
        ],
        [
         "2020-09-09 02:55:00",
         11.9854496619271
        ],
        [
         "2020-09-09 03:00:00",
         13.3463276836621
        ],
        [
         "2020-09-09 03:05:00",
         11.933333333348859
        ],
        [
         "2020-09-09 03:10:00",
         13.1166666666201
        ],
        [
         "2020-09-09 03:15:00",
         13.5581967213275
        ],
        [
         "2020-09-09 03:20:00",
         13.513411132737081
        ],
        [
         "2020-09-09 03:25:00",
         13.0577243678942
        ],
        [
         "2020-09-09 03:30:00",
         12.70056960262136
        ],
        [
         "2020-09-09 03:35:00",
         12.933333333348878
        ],
        [
         "2020-09-09 03:40:00",
         12.5276743540167
        ],
        [
         "2020-09-09 03:45:00",
         13.466666666635621
        ],
        [
         "2020-09-09 03:50:00",
         13.774168750564382
        ],
        [
         "2020-09-09 03:55:00",
         12.33954802264542
        ],
        [
         "2020-09-09 04:00:00",
         12.68268500506168
        ],
        [
         "2020-09-09 04:05:00",
         13.019232194097219
        ],
        [
         "2020-09-09 04:10:00",
         12.70000000003104
        ],
        [
         "2020-09-09 04:15:00",
         12.3162684078753
        ],
        [
         "2020-09-09 04:20:00",
         12.16666666666666
        ],
        [
         "2020-09-09 04:25:00",
         12.966666666713241
        ],
        [
         "2020-09-09 04:30:00",
         12.4799527646434
        ],
        [
         "2020-09-09 04:35:00",
         11.8208900620693
        ],
        [
         "2020-09-09 04:40:00",
         12.983310178737819
        ],
        [
         "2020-09-09 04:45:00",
         12.65904417889074
        ],
        [
         "2020-09-09 04:50:00",
         11.98434750399942
        ],
        [
         "2020-09-09 04:55:00",
         12.353306473956382
        ],
        [
         "2020-09-09 05:00:00",
         12.853602852659241
        ],
        [
         "2020-09-09 05:05:00",
         12.78141613414316
        ],
        [
         "2020-09-09 05:10:00",
         13.25
        ],
        [
         "2020-09-09 05:15:00",
         12.82819301658022
        ],
        [
         "2020-09-09 05:20:00",
         11.610864128938937
        ],
        [
         "2020-09-09 05:25:00",
         11.76659720286466
        ],
        [
         "2020-09-09 05:30:00",
         12.06666666672876
        ],
        [
         "2020-09-09 05:35:00",
         11.367013985320218
        ],
        [
         "2020-09-09 05:40:00",
         13.02923497266284
        ],
        [
         "2020-09-09 05:45:00",
         11.406214689296574
        ],
        [
         "2020-09-09 05:50:00",
         10.686241548592761
        ],
        [
         "2020-09-09 05:55:00",
         12.622506251688979
        ],
        [
         "2020-09-09 06:00:00",
         12.08333333333334
        ],
        [
         "2020-09-09 06:05:00",
         11.76787533575566
        ],
        [
         "2020-09-09 06:10:00",
         12.48333333331782
        ],
        [
         "2020-09-09 06:15:00",
         12.831124386404138
        ],
        [
         "2020-09-09 06:20:00",
         12.40227841069964
        ],
        [
         "2020-09-09 06:25:00",
         11.666615726559169
        ],
        [
         "2020-09-09 06:30:00",
         11.216666666713232
        ],
        [
         "2020-09-09 06:35:00",
         10.332342317310859
        ],
        [
         "2020-09-09 06:40:00",
         10.786889876770552
        ],
        [
         "2020-09-09 06:45:00",
         11.050000000046579
        ],
        [
         "2020-09-09 06:50:00",
         10.433333333348841
        ],
        [
         "2020-09-09 06:55:00",
         10.613216634233735
        ],
        [
         "2020-09-09 07:00:00",
         10.181073446312158
        ],
        [
         "2020-09-09 07:05:00",
         10.118579234957153
        ],
        [
         "2020-09-09 07:10:00",
         10.553709363728203
        ],
        [
         "2020-09-09 07:15:00",
         9.66274891173656
        ],
        [
         "2020-09-09 07:20:00",
         10.516666666682175
        ],
        [
         "2020-09-09 07:25:00",
         10.387288135591412
        ],
        [
         "2020-09-09 07:30:00",
         10.155084745716405
        ],
        [
         "2020-09-09 07:35:00",
         10.468681115170634
        ],
        [
         "2020-09-09 07:40:00",
         11.23333333331782
        ],
        [
         "2020-09-09 07:45:00",
         10.841090117655293
        ],
        [
         "2020-09-09 07:50:00",
         10.331073446296626
        ],
        [
         "2020-09-09 07:55:00",
         10.676785218133485
        ],
        [
         "2020-09-09 08:00:00",
         10.69890710377781
        ],
        [
         "2020-09-09 08:05:00",
         10.962021857923759
        ],
        [
         "2020-09-09 08:10:00",
         10.639566546278651
        ],
        [
         "2020-09-09 08:15:00",
         11.01120218580685
        ],
        [
         "2020-09-09 08:20:00",
         9.8777947577723
        ],
        [
         "2020-09-09 08:25:00",
         10.41666666666666
        ],
        [
         "2020-09-09 08:30:00",
         10.112494211385023
        ],
        [
         "2020-09-09 08:35:00",
         10.64978234693142
        ],
        [
         "2020-09-09 08:40:00",
         10.416666666666668
        ],
        [
         "2020-09-09 08:45:00",
         9.66666666666666
        ],
        [
         "2020-09-09 08:50:00",
         10.526229508180435
        ],
        [
         "2020-09-09 08:55:00",
         8.92731777351718
        ],
        [
         "2020-09-09 09:00:00",
         9.266666666604578
        ],
        [
         "2020-09-09 09:05:00",
         9.065990552993195
        ],
        [
         "2020-09-09 09:10:00",
         9.533333333286773
        ],
        [
         "2020-09-09 09:15:00",
         8.466666666713234
        ],
        [
         "2020-09-09 09:20:00",
         8.316666666651145
        ],
        [
         "2020-09-09 09:25:00",
         7.4931693989223715
        ],
        [
         "2020-09-09 09:30:00",
         7.596202648867662
        ],
        [
         "2020-09-09 09:35:00",
         7.6499999999844785
        ],
        [
         "2020-09-09 09:40:00",
         7.87153375940891
        ],
        [
         "2020-09-09 09:45:00",
         7.066666666651145
        ],
        [
         "2020-09-09 09:50:00",
         6.933333333348858
        ],
        [
         "2020-09-09 09:55:00",
         6.983333333317811
        ],
        [
         "2020-09-09 10:00:00",
         6.749999999999997
        ],
        [
         "2020-09-09 10:05:00",
         7.246397147355514
        ],
        [
         "2020-09-09 10:10:00",
         7.044808743153878
        ],
        [
         "2020-09-09 10:15:00",
         6.9545197740268225
        ],
        [
         "2020-09-09 10:20:00",
         7.326502732255703
        ],
        [
         "2020-09-09 10:25:00",
         7.3567750301022325
        ],
        [
         "2020-09-09 10:30:00",
         7.25
        ],
        [
         "2020-09-09 10:35:00",
         7.283333333286768
        ],
        [
         "2020-09-09 10:40:00",
         7.295832175651421
        ],
        [
         "2020-09-09 10:45:00",
         7.916666666666666
        ],
        [
         "2020-09-09 10:50:00",
         8.049532277453414
        ],
        [
         "2020-09-09 10:55:00",
         7.966717606710796
        ],
        [
         "2020-09-09 11:00:00",
         7.916666666666666
        ],
        [
         "2020-09-09 11:05:00",
         8.865453366706209
        ],
        [
         "2020-09-09 11:10:00",
         8.666666666666668
        ],
        [
         "2020-09-09 11:15:00",
         8.683333333348859
        ],
        [
         "2020-09-09 11:20:00",
         8.899999999984477
        ],
        [
         "2020-09-09 11:25:00",
         9.033333333364379
        ],
        [
         "2020-09-09 11:30:00",
         9.129068259670978
        ],
        [
         "2020-09-09 11:35:00",
         8.450000000031045
        ],
        [
         "2020-09-09 11:40:00",
         9.399999999984477
        ],
        [
         "2020-09-09 11:45:00",
         8.741511530996107
        ],
        [
         "2020-09-09 11:50:00",
         8.201417060248462
        ],
        [
         "2020-09-09 11:55:00",
         9.273719551727337
        ],
        [
         "2020-09-09 12:00:00",
         9.306608317109596
        ],
        [
         "2020-09-09 12:05:00",
         8.850000000015523
        ],
        [
         "2020-09-09 12:10:00",
         9.083333333333332
        ],
        [
         "2020-09-09 12:15:00",
         7.73472260811557
        ],
        [
         "2020-09-09 12:20:00",
         7.966666666713235
        ],
        [
         "2020-09-09 12:25:00",
         8.292155228286576
        ],
        [
         "2020-09-09 12:30:00",
         8.396327683646863
        ],
        [
         "2020-09-09 12:35:00",
         8.816666666651146
        ],
        [
         "2020-09-09 12:40:00",
         8.337829952765437
        ],
        [
         "2020-09-09 12:45:00",
         8.5
        ],
        [
         "2020-09-09 12:50:00",
         8.156830601109181
        ],
        [
         "2020-09-09 12:55:00",
         8.713559321971022
        ],
        [
         "2020-09-09 13:00:00",
         8.850000000015513
        ],
        [
         "2020-09-09 13:05:00",
         8.316666666651146
        ],
        [
         "2020-09-09 13:10:00",
         8.411827359452733
        ],
        [
         "2020-09-09 13:15:00",
         7.433333333348855
        ],
        [
         "2020-09-09 13:20:00",
         8.5
        ],
        [
         "2020-09-09 13:25:00",
         8.533333333364379
        ],
        [
         "2020-09-09 13:30:00",
         8.124316939875442
        ],
        [
         "2020-09-09 13:35:00",
         8.15861813463623
        ],
        [
         "2020-09-09 13:40:00",
         7.357103825182923
        ],
        [
         "2020-09-09 13:45:00",
         8.226831527228748
        ],
        [
         "2020-09-09 13:50:00",
         7.470514957905493
        ],
        [
         "2020-09-09 13:55:00",
         8.418204130777593
        ],
        [
         "2020-09-09 14:00:00",
         7.64501250345869
        ],
        [
         "2020-09-09 14:05:00",
         7.466638881139387
        ],
        [
         "2020-09-09 14:10:00",
         8.050000000046566
        ],
        [
         "2020-09-09 14:15:00",
         8.049999999968954
        ],
        [
         "2020-09-09 14:20:00",
         8.392349726776208
        ],
        [
         "2020-09-09 14:25:00",
         8.63721867190039
        ],
        [
         "2020-09-09 14:30:00",
         8.552903584297148
        ],
        [
         "2020-09-09 14:35:00",
         8.90156524959136
        ],
        [
         "2020-09-09 14:40:00",
         8.716666666682983
        ],
        [
         "2020-09-09 14:45:00",
         8.469945355191257
        ],
        [
         "2020-09-09 14:50:00",
         9.082986014633693
        ],
        [
         "2020-09-09 14:55:00",
         7.943317588217914
        ],
        [
         "2020-09-09 15:00:00",
         9.220765027321894
        ],
        [
         "2020-09-09 15:05:00",
         8.446327683615811
        ],
        [
         "2020-09-09 15:10:00",
         8.899999999984479
        ],
        [
         "2020-09-09 15:15:00",
         9.033333333364371
        ],
        [
         "2020-09-09 15:20:00",
         8.972631286470016
        ],
        [
         "2020-09-09 15:25:00",
         9.37823932575311
        ],
        [
         "2020-09-09 15:30:00",
         9.08435213485227
        ],
        [
         "2020-09-09 15:35:00",
         9.483333333317812
        ],
        [
         "2020-09-09 15:40:00",
         9.169380383440103
        ],
        [
         "2020-09-09 15:45:00",
         8.73333333331781
        ],
        [
         "2020-09-09 15:50:00",
         6.983333333317812
        ],
        [
         "2020-09-09 15:55:00",
         9.351018801534469
        ],
        [
         "2020-09-09 16:00:00",
         8.853996480519632
        ],
        [
         "2020-09-09 16:05:00",
         8.609419283151023
        ],
        [
         "2020-09-09 16:10:00",
         8.586612021858716
        ],
        [
         "2020-09-09 16:15:00",
         8.63333333330229
        ],
        [
         "2020-09-09 16:20:00",
         7.784532740607384
        ],
        [
         "2020-09-09 16:25:00",
         8.016666666604575
        ],
        [
         "2020-09-09 16:30:00",
         8.266666666682188
        ],
        [
         "2020-09-09 16:35:00",
         7.696424932882513
        ],
        [
         "2020-09-09 16:40:00",
         7.967866073878634
        ],
        [
         "2020-09-09 16:45:00",
         7.471436510186718
        ],
        [
         "2020-09-09 16:50:00",
         5.683333333271245
        ],
        [
         "2020-09-09 16:55:00",
         5.183333333348854
        ],
        [
         "2020-09-09 17:00:00",
         6.08261554135408
        ],
        [
         "2020-09-09 17:05:00",
         7.350000000015524
        ],
        [
         "2020-09-09 17:10:00",
         7.1499999999844785
        ],
        [
         "2020-09-09 17:15:00",
         6.483333333317812
        ],
        [
         "2020-09-09 17:20:00",
         6.216666666713232
        ],
        [
         "2020-09-09 17:25:00",
         6.1128415300236
        ],
        [
         "2020-09-09 17:30:00",
         5.4287163100874185
        ],
        [
         "2020-09-09 17:35:00",
         4.587431694004341
        ],
        [
         "2020-09-09 17:40:00",
         5.936440677966099
        ],
        [
         "2020-09-09 17:45:00",
         4.850000000030791
        ],
        [
         "2020-09-09 17:50:00",
         4.899435028216752
        ],
        [
         "2020-09-09 17:55:00",
         5.324492914681454
        ],
        [
         "2020-09-09 18:00:00",
         5.152732240421118
        ],
        [
         "2020-09-09 18:05:00",
         4.46939890716566
        ],
        [
         "2020-09-09 18:10:00",
         4.984060387112242
        ],
        [
         "2020-09-09 18:15:00",
         4.666574048360996
        ],
        [
         "2020-09-09 18:20:00",
         4.312994350251704
        ],
        [
         "2020-09-09 18:25:00",
         22.292085764563176
        ],
        [
         "2020-09-09 18:30:00",
         18.0107298323756
        ],
        [
         "2020-09-09 18:35:00",
         11.847540983637362
        ],
        [
         "2020-09-09 18:40:00",
         24.16440677964444
        ],
        [
         "2020-09-09 18:45:00",
         3.899999999984476
        ],
        [
         "2020-09-09 18:50:00",
         3.714152079249966
        ],
        [
         "2020-09-09 18:55:00",
         4.648050384426578
        ],
        [
         "2020-09-09 19:00:00",
         3.13333333330229
        ],
        [
         "2020-09-09 19:05:00",
         3.75
        ],
        [
         "2020-09-09 19:10:00",
         3.5333333333643764
        ],
        [
         "2020-09-09 19:15:00",
         3.3904371584544224
        ],
        [
         "2020-09-09 19:20:00",
         4.37658145778104
        ],
        [
         "2020-09-09 19:25:00",
         3.5989580439008177
        ],
        [
         "2020-09-09 19:30:00",
         3.133333333379902
        ],
        [
         "2020-09-09 19:35:00",
         3.349999999937912
        ],
        [
         "2020-09-09 19:40:00",
         2.733333333395422
        ],
        [
         "2020-09-09 19:45:00",
         3.083657497452994
        ],
        [
         "2020-09-09 19:50:00",
         3.235917384443914
        ],
        [
         "2020-09-09 19:55:00",
         3.117838288366354
        ],
        [
         "2020-09-09 20:00:00",
         3
        ],
        [
         "2020-09-09 20:05:00",
         2.8186579606056497
        ],
        [
         "2020-09-09 20:10:00",
         2.65087061219208
        ],
        [
         "2020-09-09 20:15:00",
         2.3666666666201017
        ],
        [
         "2020-09-09 20:20:00",
         2.6333287024636416
        ],
        [
         "2020-09-09 20:25:00",
         2.7336297119427924
        ],
        [
         "2020-09-09 20:30:00",
         2.416666666666668
        ],
        [
         "2020-09-09 20:35:00",
         2.683912197847218
        ],
        [
         "2020-09-09 20:40:00",
         2.8666666666201
        ],
        [
         "2020-09-09 20:45:00",
         2.233333333395422
        ],
        [
         "2020-09-09 20:50:00",
         2.7833333332867705
        ],
        [
         "2020-09-09 20:55:00",
         2.68506992684705
        ],
        [
         "2020-09-09 21:00:00",
         2.816398073522916
        ],
        [
         "2020-09-09 21:05:00",
         3.0353940909822343
        ],
        [
         "2020-09-09 21:10:00",
         2.338029082152704
        ],
        [
         "2020-09-09 21:15:00",
         2.4584745762398876
        ],
        [
         "2020-09-09 21:20:00",
         2.690677966117482
        ],
        [
         "2020-09-09 21:25:00",
         2.3663702880748003
        ],
        [
         "2020-09-09 21:30:00",
         2.367509493330434
        ],
        [
         "2020-09-09 21:35:00",
         2.3666666666977116
        ],
        [
         "2020-09-09 21:40:00",
         2.3333333333333335
        ],
        [
         "2020-09-09 21:45:00",
         2.601143836267096
        ],
        [
         "2020-09-09 21:50:00",
         2.631096600876862
        ],
        [
         "2020-09-09 21:55:00",
         2.324590163933918
        ],
        [
         "2020-09-09 22:00:00",
         2.69570250997277
        ],
        [
         "2020-09-09 22:05:00",
         2.549999999968958
        ],
        [
         "2020-09-09 22:10:00",
         2.316666666651146
        ],
        [
         "2020-09-09 22:15:00",
         2.51666666668219
        ],
        [
         "2020-09-09 22:20:00",
         2.716143373206302
        ],
        [
         "2020-09-09 22:25:00",
         2.465295915500784
        ],
        [
         "2020-09-09 22:30:00",
         2.358469945386236
        ],
        [
         "2020-09-09 22:35:00",
         2.5242937852478557
        ],
        [
         "2020-09-09 22:40:00",
         2.900000000062088
        ],
        [
         "2020-09-09 22:45:00",
         2.785296841668978
        ],
        [
         "2020-09-09 22:50:00",
         2.8166666666511455
        ],
        [
         "2020-09-09 22:55:00",
         2.2833333333643777
        ],
        [
         "2020-09-09 23:00:00",
         3.166666666666666
        ],
        [
         "2020-09-09 23:05:00",
         2.722946188740858
        ],
        [
         "2020-09-09 23:10:00",
         2.508192090395218
        ],
        [
         "2020-09-09 23:15:00",
         2.600023154596534
        ],
        [
         "2020-09-09 23:20:00",
         2.549999999968958
        ],
        [
         "2020-09-09 23:25:00",
         2.637552097852292
        ],
        [
         "2020-09-09 23:30:00",
         2.682810039841926
        ],
        [
         "2020-09-09 23:35:00",
         2.9631610632298484
        ],
        [
         "2020-09-09 23:40:00",
         3.033365749777386
        ],
        [
         "2020-09-09 23:45:00",
         3.1336574974219498
        ],
        [
         "2020-09-09 23:50:00",
         3.188996943609404
        ],
        [
         "2020-09-09 23:55:00",
         3.3390710382668862
        ],
        [
         "2020-09-10 00:00:00",
         3.361299434966162
        ],
        [
         "2020-09-10 00:05:00",
         3.53333333336438
        ],
        [
         "2020-09-10 00:10:00",
         3.7216912104878097
        ],
        [
         "2020-09-10 00:15:00",
         3.7680929888105306
        ],
        [
         "2020-09-10 00:20:00",
         4.416666666666668
        ],
        [
         "2020-09-10 00:25:00",
         5.350875243154134
        ],
        [
         "2020-09-10 00:30:00",
         4.3129943502517065
        ],
        [
         "2020-09-10 00:35:00",
         5.149999999984478
        ],
        [
         "2020-09-10 00:40:00",
         5.633333333379898
        ],
        [
         "2020-09-10 00:45:00",
         9.615226451792177
        ],
        [
         "2020-09-10 00:50:00",
         7.534745762727129
        ],
        [
         "2020-09-10 00:55:00",
         6.561998703340689
        ],
        [
         "2020-09-10 01:00:00",
         7.196049828610303
        ],
        [
         "2020-09-10 01:05:00",
         7.172825784926029
        ],
        [
         "2020-09-10 01:10:00",
         7.75
        ],
        [
         "2020-09-10 01:15:00",
         7.683055478388108
        ],
        [
         "2020-09-10 01:20:00",
         8.283333333364379
        ],
        [
         "2020-09-10 01:25:00",
         8.502537741965634
        ],
        [
         "2020-09-10 01:30:00",
         8.950199129341737
        ],
        [
         "2020-09-10 01:35:00",
         8.582092247845836
        ],
        [
         "2020-09-10 01:40:00",
         8.816245253371894
        ],
        [
         "2020-09-10 01:45:00",
         8.548212466393514
        ],
        [
         "2020-09-10 01:50:00",
         8.740163934441242
        ],
        [
         "2020-09-10 01:55:00",
         8.931272575697879
        ],
        [
         "2020-09-10 02:00:00",
         10.466666666635629
        ],
        [
         "2020-09-10 02:05:00",
         9.881073446375295
        ],
        [
         "2020-09-10 02:10:00",
         9.76557377046051
        ],
        [
         "2020-09-10 02:15:00",
         10.501694915300556
        ],
        [
         "2020-09-10 02:20:00",
         10.166666666666666
        ],
        [
         "2020-09-10 02:25:00",
         10.30000000000106
        ],
        [
         "2020-09-10 02:30:00",
         11.133801055817028
        ],
        [
         "2020-09-10 02:35:00",
         11.13644067798138
        ],
        [
         "2020-09-10 02:40:00",
         11.324733722313457
        ],
        [
         "2020-09-10 02:45:00",
         11.76666666668222
        ],
        [
         "2020-09-10 02:50:00",
         11.449999999953432
        ],
        [
         "2020-09-10 02:55:00",
         11.3666666666977
        ],
        [
         "2020-09-10 03:00:00",
         13.147939242364561
        ],
        [
         "2020-09-10 03:05:00",
         12
        ],
        [
         "2020-09-10 03:10:00",
         12.081003982586939
        ],
        [
         "2020-09-10 03:15:00",
         12.522603500987
        ],
        [
         "2020-09-10 03:20:00",
         12.18142076499652
        ],
        [
         "2020-09-10 03:25:00",
         12.5287904048044
        ],
        [
         "2020-09-10 03:30:00",
         12.21666666663562
        ],
        [
         "2020-09-10 03:35:00",
         12.833384273410582
        ],
        [
         "2020-09-10 03:40:00",
         12.665972029267921
        ],
        [
         "2020-09-10 03:45:00",
         12.56666666665116
        ],
        [
         "2020-09-10 03:50:00",
         13.479234972722859
        ],
        [
         "2020-09-10 03:55:00",
         12.26177178842872
        ],
        [
         "2020-09-10 04:00:00",
         13.109322033883041
        ],
        [
         "2020-09-10 04:05:00",
         13.70000000003104
        ],
        [
         "2020-09-10 04:10:00",
         13.01256830598064
        ],
        [
         "2020-09-10 04:15:00",
         12.974293785326239
        ],
        [
         "2020-09-10 04:20:00",
         12.929012688726399
        ],
        [
         "2020-09-10 04:25:00",
         12.6166666666201
        ],
        [
         "2020-09-10 04:30:00",
         12.61319347970186
        ],
        [
         "2020-09-10 04:35:00",
         10.99734185421902
        ],
        [
         "2020-09-10 04:40:00",
         12.16448550523214
        ],
        [
         "2020-09-10 04:45:00",
         12.314110401020761
        ],
        [
         "2020-09-10 04:50:00",
         11.274793924253744
        ],
        [
         "2020-09-10 04:55:00",
         12.76174863384876
        ],
        [
         "2020-09-10 05:00:00",
         11.885417245548
        ],
        [
         "2020-09-10 05:05:00",
         12
        ],
        [
         "2020-09-10 05:10:00",
         11.983333333317798
        ],
        [
         "2020-09-10 05:15:00",
         12.533333333364359
        ],
        [
         "2020-09-10 05:20:00",
         11.484083541708522
        ],
        [
         "2020-09-10 05:25:00",
         10.833333333333341
        ],
        [
         "2020-09-10 05:30:00",
         11.100000000015502
        ],
        [
         "2020-09-10 05:35:00",
         11.133333333302279
        ],
        [
         "2020-09-10 05:40:00",
         11.862568306072522
        ],
        [
         "2020-09-10 05:45:00",
         11.05815504303646
        ],
        [
         "2020-09-10 05:50:00",
         10.690020376015628
        ],
        [
         "2020-09-10 05:55:00",
         12.170834491062319
        ],
        [
         "2020-09-10 06:00:00",
         11.40412614615196
        ],
        [
         "2020-09-10 06:05:00",
         10.565573770507081
        ],
        [
         "2020-09-10 06:10:00",
         11.181392979546622
        ],
        [
         "2020-09-10 06:15:00",
         10.014406779645507
        ],
        [
         "2020-09-10 06:20:00",
         10.487635454309686
        ],
        [
         "2020-09-10 06:25:00",
         10.90282485870996
        ],
        [
         "2020-09-10 06:30:00",
         10.383333333379891
        ],
        [
         "2020-09-10 06:35:00",
         10.23333333331782
        ],
        [
         "2020-09-10 06:40:00",
         10.96666666663562
        ],
        [
         "2020-09-10 06:45:00",
         11.10286190610084
        ],
        [
         "2020-09-10 06:50:00",
         10.812568305994375
        ],
        [
         "2020-09-10 06:55:00",
         10.885245901639344
        ],
        [
         "2020-09-10 07:00:00",
         10.91420765027504
        ],
        [
         "2020-09-10 07:05:00",
         10.871186440679029
        ],
        [
         "2020-09-10 07:10:00",
         11.415573770522618
        ],
        [
         "2020-09-10 07:15:00",
         11.22203389832114
        ],
        [
         "2020-09-10 07:20:00",
         11.549999999968941
        ],
        [
         "2020-09-10 07:25:00",
         11.6333333333799
        ],
        [
         "2020-09-10 07:30:00",
         10.648342132058222
        ],
        [
         "2020-09-10 07:35:00",
         10.6333333333023
        ],
        [
         "2020-09-10 07:40:00",
         10.567907752136572
        ],
        [
         "2020-09-10 07:45:00",
         10.482786885261692
        ],
        [
         "2020-09-10 07:50:00",
         10.056131332794724
        ],
        [
         "2020-09-10 07:55:00",
         11.133333333302302
        ],
        [
         "2020-09-10 08:00:00",
         10.162549782379017
        ],
        [
         "2020-09-10 08:05:00",
         10.380508474591272
        ],
        [
         "2020-09-10 08:10:00",
         11.45101417055612
        ],
        [
         "2020-09-10 08:15:00",
         10.301639344263318
        ],
        [
         "2020-09-10 08:20:00",
         10.153098082830798
        ],
        [
         "2020-09-10 08:25:00",
         10.68333333334887
        ],
        [
         "2020-09-10 08:30:00",
         9.639617486339052
        ],
        [
         "2020-09-10 08:35:00",
         10.07086690745903
        ],
        [
         "2020-09-10 08:40:00",
         9.735593220370284
        ],
        [
         "2020-09-10 08:45:00",
         9.449032138508874
        ],
        [
         "2020-09-10 08:50:00",
         10.731647679895545
        ],
        [
         "2020-09-10 08:55:00",
         10.573719551743377
        ],
        [
         "2020-09-10 09:00:00",
         9.756923219410742
        ],
        [
         "2020-09-10 09:05:00",
         9.37513661200736
        ],
        [
         "2020-09-10 09:10:00",
         9.38808002224419
        ],
        [
         "2020-09-10 09:15:00",
         8.550000000046566
        ],
        [
         "2020-09-10 09:20:00",
         8.416666666666666
        ],
        [
         "2020-09-10 09:25:00",
         8.583333333333332
        ],
        [
         "2020-09-10 09:30:00",
         8
        ],
        [
         "2020-09-10 09:35:00",
         7.702208946884417
        ],
        [
         "2020-09-10 09:40:00",
         8.149999999984477
        ],
        [
         "2020-09-10 09:45:00",
         7.416666666666666
        ],
        [
         "2020-09-10 09:50:00",
         7.201125312616831
        ],
        [
         "2020-09-10 09:55:00",
         7.565541354063804
        ],
        [
         "2020-09-10 10:00:00",
         7.254987496526821
        ],
        [
         "2020-09-10 10:05:00",
         7.300023154627063
        ],
        [
         "2020-09-10 10:10:00",
         7.5765027321793665
        ],
        [
         "2020-09-10 10:15:00",
         7.383333333379899
        ],
        [
         "2020-09-10 10:20:00",
         7.404519773980255
        ],
        [
         "2020-09-10 10:25:00",
         7.815092155214852
        ],
        [
         "2020-09-10 10:30:00",
         7.45685375573497
        ],
        [
         "2020-09-10 10:35:00",
         7.805932203343263
        ],
        [
         "2020-09-10 10:40:00",
         7.461651384690176
        ],
        [
         "2020-09-10 10:45:00",
         7.59999999993791
        ],
        [
         "2020-09-10 10:50:00",
         7.883333333379897
        ],
        [
         "2020-09-10 10:55:00",
         7.544808743153877
        ],
        [
         "2020-09-10 11:00:00",
         8.39378531076577
        ],
        [
         "2020-09-10 11:05:00",
         9.26844956929533
        ],
        [
         "2020-09-10 11:10:00",
         8.84999999998395
        ],
        [
         "2020-09-10 11:15:00",
         9.301792164536188
        ],
        [
         "2020-09-10 11:20:00",
         8.737978142014414
        ],
        [
         "2020-09-10 11:25:00",
         9.436866722300298
        ],
        [
         "2020-09-10 11:30:00",
         9.433333333271229
        ],
        [
         "2020-09-10 11:35:00",
         8.416666666666666
        ],
        [
         "2020-09-10 11:40:00",
         9.979753635330642
        ],
        [
         "2020-09-10 11:45:00",
         9.216666666635629
        ],
        [
         "2020-09-10 11:50:00",
         7.947434472570494
        ],
        [
         "2020-09-10 11:55:00",
         9.768426414683265
        ],
        [
         "2020-09-10 12:00:00",
         9.747860516811006
        ],
        [
         "2020-09-10 12:05:00",
         8.816666666728755
        ],
        [
         "2020-09-10 12:10:00",
         9.304816152603951
        ],
        [
         "2020-09-10 12:15:00",
         8.446860238986837
        ],
        [
         "2020-09-10 12:20:00",
         8.23333333331781
        ],
        [
         "2020-09-10 12:25:00",
         8.183333333348852
        ],
        [
         "2020-09-10 12:30:00",
         8.283333333286768
        ],
        [
         "2020-09-10 12:35:00",
         8.450000000031043
        ],
        [
         "2020-09-10 12:40:00",
         8.816666666651148
        ],
        [
         "2020-09-10 12:45:00",
         8.683333333348855
        ],
        [
         "2020-09-10 12:50:00",
         8.585718255070852
        ],
        [
         "2020-09-10 12:55:00",
         8.949999999953437
        ],
        [
         "2020-09-10 13:00:00",
         8.288797814269227
        ],
        [
         "2020-09-10 13:05:00",
         8.714971751350868
        ],
        [
         "2020-09-10 13:10:00",
         8.683333333348855
        ],
        [
         "2020-09-10 13:15:00",
         8.583333333333334
        ],
        [
         "2020-09-10 13:20:00",
         9.085171806982911
        ],
        [
         "2020-09-10 13:25:00",
         8.633333333379898
        ],
        [
         "2020-09-10 13:30:00",
         8.333333333333332
        ],
        [
         "2020-09-10 13:35:00",
         8.398758914498295
        ],
        [
         "2020-09-10 13:40:00",
         7.833333333333334
        ],
        [
         "2020-09-10 13:45:00",
         8.416666666666668
        ],
        [
         "2020-09-10 13:50:00",
         7.916666666666666
        ],
        [
         "2020-09-10 13:55:00",
         8.283333333286768
        ],
        [
         "2020-09-10 14:00:00",
         8.26666666668219
        ],
        [
         "2020-09-10 14:05:00",
         8.23333333331781
        ],
        [
         "2020-09-10 14:10:00",
         8.15000000006208
        ],
        [
         "2020-09-10 14:15:00",
         8.5
        ],
        [
         "2020-09-10 14:20:00",
         8.049999999968955
        ],
        [
         "2020-09-10 14:25:00",
         8.633333333302291
        ],
        [
         "2020-09-10 14:30:00",
         8.184768917305295
        ],
        [
         "2020-09-10 14:35:00",
         9.134379920394796
        ],
        [
         "2020-09-10 14:40:00",
         8.791530054628783
        ],
        [
         "2020-09-10 14:45:00",
         8.65677966098537
        ],
        [
         "2020-09-10 14:50:00",
         9.566666666651134
        ],
        [
         "2020-09-10 14:55:00",
         8.6333333333799
        ],
        [
         "2020-09-10 15:00:00",
         9.184153005433691
        ],
        [
         "2020-09-10 15:05:00",
         9.062994350313533
        ],
        [
         "2020-09-10 15:10:00",
         8.605464480844038
        ],
        [
         "2020-09-10 15:15:00",
         8.893220339013837
        ],
        [
         "2020-09-10 15:20:00",
         9.234153005480257
        ],
        [
         "2020-09-10 15:25:00",
         9.469774011237089
        ],
        [
         "2020-09-10 15:30:00",
         8.900000000062079
        ],
        [
         "2020-09-10 15:35:00",
         8.919945355144693
        ],
        [
         "2020-09-10 15:40:00",
         9.24774011304091
        ],
        [
         "2020-09-10 15:45:00",
         8.899999999984479
        ],
        [
         "2020-09-10 15:50:00",
         9.133333333302279
        ],
        [
         "2020-09-10 15:55:00",
         8.55000000004656
        ],
        [
         "2020-09-10 16:00:00",
         8.504644808696606
        ],
        [
         "2020-09-10 16:05:00",
         8.600944706879819
        ],
        [
         "2020-09-10 16:10:00",
         7.944632768361318
        ],
        [
         "2020-09-10 16:15:00",
         8.850000000015523
        ],
        [
         "2020-09-10 16:20:00",
         8.199999999953434
        ],
        [
         "2020-09-10 16:25:00",
         7.8631193850451355
        ],
        [
         "2020-09-10 16:30:00",
         8.445651569911828
        ],
        [
         "2020-09-10 16:35:00",
         7.883333333302289
        ],
        [
         "2020-09-10 16:40:00",
         7.963137908645732
        ],
        [
         "2020-09-10 16:45:00",
         7.781916273070385
        ],
        [
         "2020-09-10 16:50:00",
         7.516666666682188
        ],
        [
         "2020-09-10 16:55:00",
         7.447666018307908
        ],
        [
         "2020-09-10 17:00:00",
         7.414406779707585
        ],
        [
         "2020-09-10 17:05:00",
         7.649999999984478
        ],
        [
         "2020-09-10 17:10:00",
         7.128118921907752
        ],
        [
         "2020-09-10 17:15:00",
         6.825581179924535
        ],
        [
         "2020-09-10 17:20:00",
         6.428961748665687
        ],
        [
         "2020-09-10 17:25:00",
         6.348462535904358
        ],
        [
         "2020-09-10 17:30:00",
         6.416916736115392
        ],
        [
         "2020-09-10 17:35:00",
         5.951166990862358
        ],
        [
         "2020-09-10 17:40:00",
         5.733333333317808
        ],
        [
         "2020-09-10 17:45:00",
         5.45113920528875
        ],
        [
         "2020-09-10 17:50:00",
         5.600000000015522
        ],
        [
         "2020-09-10 17:55:00",
         5.692354357706945
        ],
        [
         "2020-09-10 18:00:00",
         5.666666666666666
        ],
        [
         "2020-09-10 18:05:00",
         4.836065573769976
        ],
        [
         "2020-09-10 18:10:00",
         5.147513198096092
        ],
        [
         "2020-09-10 18:15:00",
         4.922478466239072
        ],
        [
         "2020-09-10 18:20:00",
         4.551366120204074
        ],
        [
         "2020-09-10 18:25:00",
         24.39090951191722
        ],
        [
         "2020-09-10 18:30:00",
         19.83588959894742
        ],
        [
         "2020-09-10 18:35:00",
         11.554519774012087
        ],
        [
         "2020-09-10 18:40:00",
         24.58609335931329
        ],
        [
         "2020-09-10 18:45:00",
         4.649999999984478
        ],
        [
         "2020-09-10 18:50:00",
         4.516666666682189
        ],
        [
         "2020-09-10 18:55:00",
         4.750000000000001
        ],
        [
         "2020-09-10 19:00:00",
         3.615370010139896
        ],
        [
         "2020-09-10 19:05:00",
         3.817884597636278
        ],
        [
         "2020-09-10 19:10:00",
         3.7999999999689544
        ],
        [
         "2020-09-10 19:15:00",
         3.616666666697712
        ],
        [
         "2020-09-10 19:20:00",
         3.6333333333022906
        ],
        [
         "2020-09-10 19:25:00",
         3.218968231885756
        ],
        [
         "2020-09-10 19:30:00",
         3.61666666669771
        ],
        [
         "2020-09-10 19:35:00",
         3.400916921352034
        ],
        [
         "2020-09-10 19:40:00",
         3.0399879596642156
        ],
        [
         "2020-09-10 19:45:00",
         3.365254237225784
        ],
        [
         "2020-09-10 19:50:00",
         3.050000000046568
        ],
        [
         "2020-09-10 19:55:00",
         2.865031953274566
        ],
        [
         "2020-09-10 20:00:00",
         3.1703713994607443
        ],
        [
         "2020-09-10 20:05:00",
         2.9071038251366117
        ],
        [
         "2020-09-10 20:10:00",
         2.723742706353628
        ],
        [
         "2020-09-10 20:15:00",
         2.966990830755286
        ],
        [
         "2020-09-10 20:20:00",
         2.633333333379902
        ],
        [
         "2020-09-10 20:25:00",
         2.9508428266637656
        ],
        [
         "2020-09-10 20:30:00",
         2.6333333333799
        ],
        [
         "2020-09-10 20:35:00",
         2.5999999999379138
        ],
        [
         "2020-09-10 20:40:00",
         2.999995369083742
        ],
        [
         "2020-09-10 20:45:00",
         2.5519449847660978
        ],
        [
         "2020-09-10 20:50:00",
         2.6000000000155237
        ],
        [
         "2020-09-10 20:55:00",
         2.5499999999689584
        ],
        [
         "2020-09-10 21:00:00",
         2.627618782963696
        ],
        [
         "2020-09-10 21:05:00",
         2.9265536723163836
        ],
        [
         "2020-09-10 21:10:00",
         2.500041678245008
        ],
        [
         "2020-09-10 21:15:00",
         2.5458321756519355
        ],
        [
         "2020-09-10 21:20:00",
         2.599698990476352
        ],
        [
         "2020-09-10 21:25:00",
         2.685250532493506
        ],
        [
         "2020-09-10 21:30:00",
         2.716944521672942
        ],
        [
         "2020-09-10 21:35:00",
         2.825136612021858
        ],
        [
         "2020-09-10 21:40:00",
         2.679776789863528
        ],
        [
         "2020-09-10 21:45:00",
         2.7186996387562097
        ],
        [
         "2020-09-10 21:50:00",
         2.6110308419181303
        ],
        [
         "2020-09-10 21:55:00",
         2.4655506158808
        ],
        [
         "2020-09-10 22:00:00",
         2.633333333379902
        ],
        [
         "2020-09-10 22:05:00",
         2.604149300670612
        ],
        [
         "2020-09-10 22:10:00",
         2.498036491618544
        ],
        [
         "2020-09-10 22:15:00",
         2.416666666666668
        ],
        [
         "2020-09-10 22:20:00",
         2.9166666666666696
        ],
        [
         "2020-09-10 22:25:00",
         2.6310966009544723
        ],
        [
         "2020-09-10 22:30:00",
         2.466662035719364
        ],
        [
         "2020-09-10 22:35:00",
         4.188029082183492
        ],
        [
         "2020-09-10 22:40:00",
         3.0423728813085757
        ],
        [
         "2020-09-10 22:45:00",
         3.00003241641301
        ],
        [
         "2020-09-10 22:50:00",
         3.131545799806296
        ],
        [
         "2020-09-10 22:55:00",
         2.682810039841926
        ],
        [
         "2020-09-10 23:00:00",
         3.315578401392276
        ],
        [
         "2020-09-10 23:05:00",
         3.033333333286768
        ],
        [
         "2020-09-10 23:10:00",
         2.834504955080904
        ],
        [
         "2020-09-10 23:15:00",
         3.083333333333334
        ],
        [
         "2020-09-10 23:20:00",
         2.716666666713234
        ],
        [
         "2020-09-10 23:25:00",
         2.957650273193508
        ],
        [
         "2020-09-10 23:30:00",
         2.959887005680762
        ],
        [
         "2020-09-10 23:35:00",
         3.2166666666356223
        ],
        [
         "2020-09-10 23:40:00",
         3.2161896823662537
        ],
        [
         "2020-09-10 23:45:00",
         3.316666666651146
        ],
        [
         "2020-09-10 23:50:00",
         3.1804575345163824
        ],
        [
         "2020-09-10 23:55:00",
         3.7352459016383235
        ],
        [
         "2020-09-11 00:00:00",
         3.8612531258056917
        ],
        [
         "2020-09-11 00:05:00",
         3.8890432528017143
        ],
        [
         "2020-09-11 00:10:00",
         3.9833333333178103
        ],
        [
         "2020-09-11 00:15:00",
         4.951366120188554
        ],
        [
         "2020-09-11 00:20:00",
         4.9485968324708
        ],
        [
         "2020-09-11 00:25:00",
         5.71624988427263
        ],
        [
         "2020-09-11 00:30:00",
         5.366666666620103
        ],
        [
         "2020-09-11 00:35:00",
         6.05116699087788
        ],
        [
         "2020-09-11 00:40:00",
         6.699999999953434
        ],
        [
         "2020-09-11 00:45:00",
         8.499999999999991
        ],
        [
         "2020-09-11 00:50:00",
         8.650476984363545
        ],
        [
         "2020-09-11 00:55:00",
         7.3833333333022875
        ],
        [
         "2020-09-11 01:00:00",
         6.878243956702212
        ],
        [
         "2020-09-11 01:05:00",
         7.24743447253945
        ],
        [
         "2020-09-11 01:10:00",
         7.383333333302289
        ],
        [
         "2020-09-11 01:15:00",
         7.350000000015522
        ],
        [
         "2020-09-11 01:20:00",
         7.866666666697709
        ],
        [
         "2020-09-11 01:25:00",
         7.602236732363577
        ],
        [
         "2020-09-11 01:30:00",
         7.916171158656491
        ],
        [
         "2020-09-11 01:35:00",
         7.966666666713232
        ],
        [
         "2020-09-11 01:40:00",
         8.01666666668219
        ],
        [
         "2020-09-11 01:45:00",
         8.766666666604578
        ],
        [
         "2020-09-11 01:50:00",
         8.183333333348854
        ],
        [
         "2020-09-11 01:55:00",
         9.21738445869352
        ],
        [
         "2020-09-11 02:00:00",
         8.816666666651145
        ],
        [
         "2020-09-11 02:05:00",
         10.066666666651129
        ],
        [
         "2020-09-11 02:10:00",
         10.3795267203853
        ],
        [
         "2020-09-11 02:15:00",
         9.887232564616273
        ],
        [
         "2020-09-11 02:20:00",
         10.692118180991217
        ],
        [
         "2020-09-11 02:25:00",
         10.298833009138677
        ],
        [
         "2020-09-11 02:30:00",
         11.10000000001552
        ],
        [
         "2020-09-11 02:35:00",
         11.993613966827642
        ],
        [
         "2020-09-11 02:40:00",
         11.68333333334886
        ],
        [
         "2020-09-11 02:45:00",
         12.03333333328676
        ],
        [
         "2020-09-11 02:50:00",
         12.033333333364359
        ],
        [
         "2020-09-11 02:55:00",
         11.950000000031041
        ],
        [
         "2020-09-11 03:00:00",
         13.0332685004794
        ],
        [
         "2020-09-11 03:05:00",
         12.27442345097362
        ],
        [
         "2020-09-11 03:10:00",
         12.51666666668218
        ],
        [
         "2020-09-11 03:15:00",
         12.71189682316006
        ],
        [
         "2020-09-11 03:20:00",
         12.700000000031041
        ],
        [
         "2020-09-11 03:25:00",
         13.518055941403139
        ],
        [
         "2020-09-11 03:30:00",
         12.2718810780757
        ],
        [
         "2020-09-11 03:35:00",
         13.7833333333644
        ],
        [
         "2020-09-11 03:40:00",
         12.40219042324966
        ],
        [
         "2020-09-11 03:45:00",
         12.56666666665116
        ],
        [
         "2020-09-11 03:50:00",
         13.1166666666977
        ],
        [
         "2020-09-11 03:55:00",
         12.700000000031041
        ],
        [
         "2020-09-11 04:00:00",
         12.799999999968959
        ],
        [
         "2020-09-11 04:05:00",
         13.41666666666666
        ],
        [
         "2020-09-11 04:10:00",
         13.385079188634041
        ],
        [
         "2020-09-11 04:15:00",
         13.2721311476023
        ],
        [
         "2020-09-11 04:20:00",
         12.48272205240332
        ],
        [
         "2020-09-11 04:25:00",
         13.643553764951259
        ],
        [
         "2020-09-11 04:30:00",
         13.11666666662012
        ],
        [
         "2020-09-11 04:35:00",
         11.19028433822736
        ],
        [
         "2020-09-11 04:40:00",
         13.27905436698716
        ],
        [
         "2020-09-11 04:45:00",
         12.20621468926554
        ],
        [
         "2020-09-11 04:50:00",
         11.82322867461604
        ],
        [
         "2020-09-11 04:55:00",
         11.8500000000155
        ],
        [
         "2020-09-11 05:00:00",
         11.2333333333178
        ],
        [
         "2020-09-11 05:05:00",
         11.642896174879422
        ],
        [
         "2020-09-11 05:10:00",
         11.52740112992824
        ],
        [
         "2020-09-11 05:15:00",
         12.5333333333644
        ],
        [
         "2020-09-11 05:20:00",
         11.86999629525038
        ],
        [
         "2020-09-11 05:25:00",
         11.359322033883062
        ],
        [
         "2020-09-11 05:30:00",
         11.964754098360899
        ],
        [
         "2020-09-11 05:35:00",
         10.999087709580005
        ],
        [
         "2020-09-11 05:40:00",
         12.766208205985219
        ],
        [
         "2020-09-11 05:45:00",
         11.36666666662008
        ],
        [
         "2020-09-11 05:50:00",
         10.91666666666668
        ],
        [
         "2020-09-11 05:55:00",
         11.992349726807
        ],
        [
         "2020-09-11 06:00:00",
         11.189172918418006
        ],
        [
         "2020-09-11 06:05:00",
         10.88455589512498
        ],
        [
         "2020-09-11 06:10:00",
         12.52330276927146
        ],
        [
         "2020-09-11 06:15:00",
         10.733333333395418
        ],
        [
         "2020-09-11 06:20:00",
         11.04756876907199
        ],
        [
         "2020-09-11 06:25:00",
         11.04999999996896
        ],
        [
         "2020-09-11 06:30:00",
         11.266666666682202
        ],
        [
         "2020-09-11 06:35:00",
         9.905237565973746
        ],
        [
         "2020-09-11 06:40:00",
         10.882879503567619
        ],
        [
         "2020-09-11 06:45:00",
         10.71949152544003
        ],
        [
         "2020-09-11 06:50:00",
         10.833333333333325
        ],
        [
         "2020-09-11 06:55:00",
         11.133333333379905
        ],
        [
         "2020-09-11 07:00:00",
         10.014499397919582
        ],
        [
         "2020-09-11 07:05:00",
         10.566666666728763
        ],
        [
         "2020-09-11 07:10:00",
         10.56693989064932
        ],
        [
         "2020-09-11 07:15:00",
         10.278077243678785
        ],
        [
         "2020-09-11 07:20:00",
         10.423738075391848
        ],
        [
         "2020-09-11 07:25:00",
         10.701787533604396
        ],
        [
         "2020-09-11 07:30:00",
         10.653079559121778
        ],
        [
         "2020-09-11 07:35:00",
         10.95000000003103
        ],
        [
         "2020-09-11 07:40:00",
         10.56542095024871
        ],
        [
         "2020-09-11 07:45:00",
         10.548462535858544
        ],
        [
         "2020-09-11 07:50:00",
         10.51666666668218
        ],
        [
         "2020-09-11 07:55:00",
         10.166666666666657
        ],
        [
         "2020-09-11 08:00:00",
         10.830601092926706
        ],
        [
         "2020-09-11 08:05:00",
         10.152259886959344
        ],
        [
         "2020-09-11 08:10:00",
         10.547522459987073
        ],
        [
         "2020-09-11 08:15:00",
         10.698115217174959
        ],
        [
         "2020-09-11 08:20:00",
         10.013841807893554
        ],
        [
         "2020-09-11 08:25:00",
         10.966666666713222
        ],
        [
         "2020-09-11 08:30:00",
         9.829387792904685
        ],
        [
         "2020-09-11 08:35:00",
         10.516666666604586
        ],
        [
         "2020-09-11 08:40:00",
         10.483606557392312
        ],
        [
         "2020-09-11 08:45:00",
         9.831920904002157
        ],
        [
         "2020-09-11 08:50:00",
         10.698087431678704
        ],
        [
         "2020-09-11 08:55:00",
         8.922307122333287
        ],
        [
         "2020-09-11 09:00:00",
         10.333333333333327
        ],
        [
         "2020-09-11 09:05:00",
         9.666666666666652
        ],
        [
         "2020-09-11 09:10:00",
         9.483333333317805
        ],
        [
         "2020-09-11 09:15:00",
         8.969945355191257
        ],
        [
         "2020-09-11 09:20:00",
         8.828813559369127
        ],
        [
         "2020-09-11 09:25:00",
         9.368250439890982
        ],
        [
         "2020-09-11 09:30:00",
         9.700000000031043
        ],
        [
         "2020-09-11 09:35:00",
         9.818306010944237
        ],
        [
         "2020-09-11 09:40:00",
         9.464406779598923
        ],
        [
         "2020-09-11 09:45:00",
         8.90000000006209
        ],
        [
         "2020-09-11 09:50:00",
         8.631471705072219
        ],
        [
         "2020-09-11 09:55:00",
         8.73529684169847
        ],
        [
         "2020-09-11 10:00:00",
         8.586690747428289
        ],
        [
         "2020-09-11 10:05:00",
         8.456900064863346
        ],
        [
         "2020-09-11 10:10:00",
         8.649999999984479
        ],
        [
         "2020-09-11 10:15:00",
         8.507103825167402
        ],
        [
         "2020-09-11 10:20:00",
         8.397740112947782
        ],
        [
         "2020-09-11 10:25:00",
         8.182638695948027
        ],
        [
         "2020-09-11 10:30:00",
         8.733504677210158
        ],
        [
         "2020-09-11 10:35:00",
         8.55546448087508
        ],
        [
         "2020-09-11 10:40:00",
         8.07742428457109
        ],
        [
         "2020-09-11 10:50:00",
         9.033333333364379
        ],
        [
         "2020-09-11 10:55:00",
         8.233333333317809
        ],
        [
         "2020-09-11 11:00:00",
         8.71395758085656
        ],
        [
         "2020-09-11 11:05:00",
         8.36815782156976
        ],
        [
         "2020-09-11 11:15:00",
         8.724124756915707
        ],
        [
         "2020-09-11 11:20:00",
         8.708196721295447
        ],
        [
         "2020-09-11 11:25:00",
         9.198786700010556
        ]
       ],
       "datasetInfos": [],
       "dbfsResultPath": null,
       "isJsonSchema": true,
       "overflow": true,
       "plotOptions": {
        "customPlotOptions": {
         "areaChart": [
          {
           "key": "grouped",
           "value": true
          },
          {
           "key": "stacked",
           "value": false
          },
          {
           "key": "100_stacked",
           "value": false
          }
         ],
         "plotlyBar": [
          {
           "key": "grouped",
           "value": true
          },
          {
           "key": "stacked",
           "value": false
          },
          {
           "key": "100_stacked",
           "value": false
          }
         ],
         "plotlyLine": [
          {
           "key": "yRange",
           "value": ""
          },
          {
           "key": "showPoints",
           "value": false
          },
          {
           "key": "logScale",
           "value": false
          }
         ]
        },
        "displayType": "plotlyLine",
        "pivotAggregation": "sum",
        "pivotColumns": [],
        "xColumns": [
         "timestamp"
        ],
        "yColumns": [
         "value"
        ]
       },
       "removedWidgets": [],
       "schema": [
        {
         "metadata": "{}",
         "name": "timestamp",
         "type": "\"string\""
        },
        {
         "metadata": "{}",
         "name": "value",
         "type": "\"double\""
        }
       ],
       "type": "table"
      }
     },
     "output_type": "display_data"
    }
   ],
   "source": [
    "#hide\n",
    "%sql\n",
    "select timestamp, value from data_ec2 where metric_name = 'CPUUtilization';"
   ]
  },
  {
   "cell_type": "code",
   "execution_count": 0,
   "metadata": {
    "application/vnd.databricks.v1+cell": {
     "inputWidgets": {},
     "nuid": "00ee72ab-3be0-43c3-a66a-53441b953198",
     "showTitle": false,
     "title": ""
    }
   },
   "outputs": [
    {
     "data": {
      "text/html": [
       "<style scoped>\n",
       "  .ansiout {\n",
       "    display: block;\n",
       "    unicode-bidi: embed;\n",
       "    white-space: pre-wrap;\n",
       "    word-wrap: break-word;\n",
       "    word-break: break-all;\n",
       "    font-family: \"Source Code Pro\", \"Menlo\", monospace;;\n",
       "    font-size: 13px;\n",
       "    color: #555;\n",
       "    margin-left: 4px;\n",
       "    line-height: 19px;\n",
       "  }\n",
       "</style>\n",
       "<div class=\"ansiout\">Out[32]: DataFrame[_c0: int, provider: string, service_name: string, account_id: bigint, region: string, resource_id: string, asset_id: string, timestamp: string, value: double, unit: string, metric_name: string, statistic: string]</div>"
      ]
     },
     "metadata": {
      "application/vnd.databricks.v1+output": {
       "addedWidgets": {},
       "arguments": {},
       "data": "<div class=\"ansiout\">Out[32]: DataFrame[_c0: int, provider: string, service_name: string, account_id: bigint, region: string, resource_id: string, asset_id: string, timestamp: string, value: double, unit: string, metric_name: string, statistic: string]</div>",
       "datasetInfos": [],
       "removedWidgets": [],
       "type": "html"
      }
     },
     "output_type": "display_data"
    }
   ],
   "source": [
    "df1"
   ]
  },
  {
   "cell_type": "markdown",
   "metadata": {},
   "source": [
    "## Training the model"
   ]
  },
  {
   "cell_type": "markdown",
   "metadata": {},
   "source": [
    " Initializing the spark configuration and spark session."
   ]
  },
  {
   "cell_type": "code",
   "execution_count": 0,
   "metadata": {
    "application/vnd.databricks.v1+cell": {
     "inputWidgets": {},
     "nuid": "883f10d3-12dd-4acf-8d97-d3a62e6bdf4c",
     "showTitle": false,
     "title": ""
    }
   },
   "outputs": [
    {
     "data": {
      "text/html": [
       "<style scoped>\n",
       "  .ansiout {\n",
       "    display: block;\n",
       "    unicode-bidi: embed;\n",
       "    white-space: pre-wrap;\n",
       "    word-wrap: break-word;\n",
       "    word-break: break-all;\n",
       "    font-family: \"Source Code Pro\", \"Menlo\", monospace;;\n",
       "    font-size: 13px;\n",
       "    color: #555;\n",
       "    margin-left: 4px;\n",
       "    line-height: 19px;\n",
       "  }\n",
       "</style>\n",
       "<div class=\"ansiout\"></div>"
      ]
     },
     "metadata": {
      "application/vnd.databricks.v1+output": {
       "addedWidgets": {},
       "arguments": {},
       "data": "<div class=\"ansiout\"></div>",
       "datasetInfos": [],
       "removedWidgets": [],
       "type": "html"
      }
     },
     "output_type": "display_data"
    }
   ],
   "source": [
    "conf = (SparkConf()\n",
    "        .setMaster(\"local[*]\")\n",
    "        .setAppName(\"EC2 Training\"))\n",
    "\n",
    "spark = (SparkSession\n",
    "         .builder\n",
    "         .config(conf=conf)\n",
    "         .getOrCreate())"
   ]
  },
  {
   "cell_type": "code",
   "execution_count": 0,
   "metadata": {
    "application/vnd.databricks.v1+cell": {
     "inputWidgets": {},
     "nuid": "7b45cc83-0353-4a67-af02-a9c4ad7cd827",
     "showTitle": false,
     "title": ""
    }
   },
   "outputs": [
    {
     "data": {
      "text/html": [
       "<style scoped>\n",
       "  .ansiout {\n",
       "    display: block;\n",
       "    unicode-bidi: embed;\n",
       "    white-space: pre-wrap;\n",
       "    word-wrap: break-word;\n",
       "    word-break: break-all;\n",
       "    font-family: \"Source Code Pro\", \"Menlo\", monospace;;\n",
       "    font-size: 13px;\n",
       "    color: #555;\n",
       "    margin-left: 4px;\n",
       "    line-height: 19px;\n",
       "  }\n",
       "</style>\n",
       "<div class=\"ansiout\"></div>"
      ]
     },
     "metadata": {
      "application/vnd.databricks.v1+output": {
       "addedWidgets": {},
       "arguments": {},
       "data": "<div class=\"ansiout\"></div>",
       "datasetInfos": [],
       "removedWidgets": [],
       "type": "html"
      }
     },
     "output_type": "display_data"
    }
   ],
   "source": [
    "sc = spark.sparkContext\n",
    "sc.setLogLevel(\"INFO\")"
   ]
  },
  {
   "cell_type": "markdown",
   "metadata": {},
   "source": [
    "Retrieve data from dbfs"
   ]
  },
  {
   "cell_type": "code",
   "execution_count": 0,
   "metadata": {
    "application/vnd.databricks.v1+cell": {
     "inputWidgets": {},
     "nuid": "786e9207-9830-4a4d-a9ea-0811f3457329",
     "showTitle": false,
     "title": ""
    }
   },
   "outputs": [
    {
     "data": {
      "text/html": [
       "<style scoped>\n",
       "  .ansiout {\n",
       "    display: block;\n",
       "    unicode-bidi: embed;\n",
       "    white-space: pre-wrap;\n",
       "    word-wrap: break-word;\n",
       "    word-break: break-all;\n",
       "    font-family: \"Source Code Pro\", \"Menlo\", monospace;;\n",
       "    font-size: 13px;\n",
       "    color: #555;\n",
       "    margin-left: 4px;\n",
       "    line-height: 19px;\n",
       "  }\n",
       "</style>\n",
       "<div class=\"ansiout\"></div>"
      ]
     },
     "metadata": {
      "application/vnd.databricks.v1+output": {
       "addedWidgets": {},
       "arguments": {},
       "data": "<div class=\"ansiout\"></div>",
       "datasetInfos": [
        {
         "name": "df",
         "schema": {
          "fields": [
           {
            "metadata": {},
            "name": "ds",
            "nullable": true,
            "type": "string"
           },
           {
            "metadata": {},
            "name": "service_name",
            "nullable": true,
            "type": "string"
           },
           {
            "metadata": {},
            "name": "y",
            "nullable": true,
            "type": "float"
           },
           {
            "metadata": {},
            "name": "metric_name",
            "nullable": true,
            "type": "string"
           }
          ],
          "type": "struct"
         },
         "tableIdentifier": null,
         "typeStr": "pyspark.sql.dataframe.DataFrame"
        }
       ],
       "removedWidgets": [],
       "type": "html"
      }
     },
     "output_type": "display_data"
    }
   ],
   "source": [
    "df = retrieve_data(file_name)"
   ]
  },
  {
   "cell_type": "markdown",
   "metadata": {},
   "source": [
    "Group data by app and metric_type to aggregate data for each app-metric combo."
   ]
  },
  {
   "cell_type": "code",
   "execution_count": null,
   "metadata": {
    "application/vnd.databricks.v1+cell": {
     "inputWidgets": {},
     "nuid": "252f941f-d71c-435d-8b31-c53a51e0ffae",
     "showTitle": false,
     "title": ""
    }
   },
   "outputs": [],
   "source": [
    "df = df.groupBy('service_name', 'metric_name')\n",
    "df = df.agg(collect_list(struct('ds', 'y')).alias('data'))"
   ]
  },
  {
   "cell_type": "markdown",
   "metadata": {},
   "source": [
    "Using the previously defined functions with lambda functions to execute the RDDs and provide our prophet model."
   ]
  },
  {
   "cell_type": "code",
   "execution_count": 0,
   "metadata": {
    "application/vnd.databricks.v1+cell": {
     "inputWidgets": {},
     "nuid": "de23ada9-d523-4177-94c4-9426232fafd3",
     "showTitle": false,
     "title": ""
    }
   },
   "outputs": [
    {
     "data": {
      "text/html": [
       "<style scoped>\n",
       "  .ansiout {\n",
       "    display: block;\n",
       "    unicode-bidi: embed;\n",
       "    white-space: pre-wrap;\n",
       "    word-wrap: break-word;\n",
       "    word-break: break-all;\n",
       "    font-family: \"Source Code Pro\", \"Menlo\", monospace;;\n",
       "    font-size: 13px;\n",
       "    color: #555;\n",
       "    margin-left: 4px;\n",
       "    line-height: 19px;\n",
       "  }\n",
       "</style>\n",
       "<div class=\"ansiout\"></div>"
      ]
     },
     "metadata": {
      "application/vnd.databricks.v1+output": {
       "addedWidgets": {},
       "arguments": {},
       "data": "<div class=\"ansiout\"></div>",
       "datasetInfos": [],
       "removedWidgets": [],
       "type": "html"
      }
     },
     "output_type": "display_data"
    }
   ],
   "source": [
    "df = (df.rdd\n",
    "      .map(lambda r: transform_data(r))\n",
    "      .map(lambda d: partition_data(d))\n",
    "      # prophet cant handle data with < 2 training examples\n",
    "      .filter(lambda d: len(d['train_data']) > 2)\n",
    "      .map(lambda d: create_model(d))\n",
    "      .map(lambda d: train_model(d))\n",
    "      .map(lambda d: test_model(d))\n",
    "      .map(lambda d: make_forecast(d))\n",
    "      .map(lambda d: normalize_forecast(d))\n",
    "      .map(lambda d: normalize_predictions(d))\n",
    "      .map(lambda d: calc_error(d))\n",
    "      .map(lambda d: reduce_data_scope(d))\n",
    "      .flatMap(lambda d: expand_predictions(d)))"
   ]
  },
  {
   "cell_type": "markdown",
   "metadata": {},
   "source": [
    "Defining the schema of the rdd."
   ]
  },
  {
   "cell_type": "code",
   "execution_count": 0,
   "metadata": {
    "application/vnd.databricks.v1+cell": {
     "inputWidgets": {},
     "nuid": "c55d9ef2-a210-4a76-ac61-163937857713",
     "showTitle": false,
     "title": ""
    }
   },
   "outputs": [
    {
     "data": {
      "text/html": [
       "<style scoped>\n",
       "  .ansiout {\n",
       "    display: block;\n",
       "    unicode-bidi: embed;\n",
       "    white-space: pre-wrap;\n",
       "    word-wrap: break-word;\n",
       "    word-break: break-all;\n",
       "    font-family: \"Source Code Pro\", \"Menlo\", monospace;;\n",
       "    font-size: 13px;\n",
       "    color: #555;\n",
       "    margin-left: 4px;\n",
       "    line-height: 19px;\n",
       "  }\n",
       "</style>\n",
       "<div class=\"ansiout\"></div>"
      ]
     },
     "metadata": {
      "application/vnd.databricks.v1+output": {
       "addedWidgets": {},
       "arguments": {},
       "data": "<div class=\"ansiout\"></div>",
       "datasetInfos": [],
       "removedWidgets": [],
       "type": "html"
      }
     },
     "output_type": "display_data"
    }
   ],
   "source": [
    "schema = StructType([\n",
    "    StructField(\"service_name\", StringType(), True),\n",
    "    StructField(\"metric_name\", StringType(), True),\n",
    "    StructField(\"ds\", TimestampType(), True),\n",
    "    StructField(\"yhat\", FloatType(), True),\n",
    "    StructField(\"yhat_lower\", FloatType(), True),\n",
    "    StructField(\"yhat_upper\", FloatType(), True),\n",
    "    StructField(\"mse\", FloatType(), True)\n",
    "])"
   ]
  },
  {
   "cell_type": "code",
   "execution_count": 0,
   "metadata": {
    "application/vnd.databricks.v1+cell": {
     "inputWidgets": {},
     "nuid": "547ce954-1cd1-4e40-bb35-43f40faf6d65",
     "showTitle": false,
     "title": ""
    }
   },
   "outputs": [
    {
     "data": {
      "text/html": [
       "<style scoped>\n",
       "  .ansiout {\n",
       "    display: block;\n",
       "    unicode-bidi: embed;\n",
       "    white-space: pre-wrap;\n",
       "    word-wrap: break-word;\n",
       "    word-break: break-all;\n",
       "    font-family: \"Source Code Pro\", \"Menlo\", monospace;;\n",
       "    font-size: 13px;\n",
       "    color: #555;\n",
       "    margin-left: 4px;\n",
       "    line-height: 19px;\n",
       "  }\n",
       "</style>\n",
       "<div class=\"ansiout\"></div>"
      ]
     },
     "metadata": {
      "application/vnd.databricks.v1+output": {
       "addedWidgets": {},
       "arguments": {},
       "data": "<div class=\"ansiout\"></div>",
       "datasetInfos": [
        {
         "name": "df",
         "schema": {
          "fields": [
           {
            "metadata": {},
            "name": "service_name",
            "nullable": true,
            "type": "string"
           },
           {
            "metadata": {},
            "name": "metric_name",
            "nullable": true,
            "type": "string"
           },
           {
            "metadata": {},
            "name": "ds",
            "nullable": true,
            "type": "timestamp"
           },
           {
            "metadata": {},
            "name": "yhat",
            "nullable": true,
            "type": "float"
           },
           {
            "metadata": {},
            "name": "yhat_lower",
            "nullable": true,
            "type": "float"
           },
           {
            "metadata": {},
            "name": "yhat_upper",
            "nullable": true,
            "type": "float"
           },
           {
            "metadata": {},
            "name": "mse",
            "nullable": true,
            "type": "float"
           }
          ],
          "type": "struct"
         },
         "tableIdentifier": null,
         "typeStr": "pyspark.sql.dataframe.DataFrame"
        }
       ],
       "removedWidgets": [],
       "type": "html"
      }
     },
     "output_type": "display_data"
    }
   ],
   "source": [
    "df = spark.createDataFrame(df, schema)"
   ]
  },
  {
   "cell_type": "code",
   "execution_count": 0,
   "metadata": {
    "application/vnd.databricks.v1+cell": {
     "inputWidgets": {},
     "nuid": "bbf2592f-dfc1-4880-b1fd-c9734a9ea920",
     "showTitle": false,
     "title": ""
    }
   },
   "outputs": [
    {
     "data": {
      "text/html": [
       "<style scoped>\n",
       "  .ansiout {\n",
       "    display: block;\n",
       "    unicode-bidi: embed;\n",
       "    white-space: pre-wrap;\n",
       "    word-wrap: break-word;\n",
       "    word-break: break-all;\n",
       "    font-family: \"Source Code Pro\", \"Menlo\", monospace;;\n",
       "    font-size: 13px;\n",
       "    color: #555;\n",
       "    margin-left: 4px;\n",
       "    line-height: 19px;\n",
       "  }\n",
       "</style>\n",
       "<div class=\"ansiout\">Out[46]: DataFrame[service_name: string, metric_name: string, ds: timestamp, yhat: float, yhat_lower: float, yhat_upper: float, mse: float]</div>"
      ]
     },
     "metadata": {
      "application/vnd.databricks.v1+output": {
       "addedWidgets": {},
       "arguments": {},
       "data": "<div class=\"ansiout\">Out[46]: DataFrame[service_name: string, metric_name: string, ds: timestamp, yhat: float, yhat_lower: float, yhat_upper: float, mse: float]</div>",
       "datasetInfos": [],
       "removedWidgets": [],
       "type": "html"
      }
     },
     "output_type": "display_data"
    }
   ],
   "source": [
    "df"
   ]
  },
  {
   "cell_type": "code",
   "execution_count": null,
   "metadata": {},
   "outputs": [],
   "source": [
    "%sql\n",
    "select ds, yhat from forecasts"
   ]
  },
  {
   "cell_type": "markdown",
   "metadata": {},
   "source": [
    "![](my_icons/qqplot.png)"
   ]
  },
  {
   "cell_type": "code",
   "execution_count": 0,
   "metadata": {
    "application/vnd.databricks.v1+cell": {
     "inputWidgets": {},
     "nuid": "9f7c5974-e179-45b2-bde8-8fe67391de02",
     "showTitle": false,
     "title": ""
    }
   },
   "outputs": [
    {
     "data": {
      "text/html": [
       "<style scoped>\n",
       "  .table-result-container {\n",
       "    max-height: 300px;\n",
       "    overflow: auto;\n",
       "  }\n",
       "  table, th, td {\n",
       "    border: 1px solid black;\n",
       "    border-collapse: collapse;\n",
       "  }\n",
       "  th, td {\n",
       "    padding: 5px;\n",
       "  }\n",
       "  th {\n",
       "    text-align: left;\n",
       "  }\n",
       "</style><div class='table-result-container'><table class='table-result'><thead style='background-color: white'><tr><th>ds</th><th>yhat</th></tr></thead><tbody><tr><td>2020-10-11T00:00:00.000+0000</td><td>4.619425</td></tr><tr><td>2020-10-11T00:05:00.000+0000</td><td>4.8191323</td></tr><tr><td>2020-10-11T00:10:00.000+0000</td><td>5.02556</td></tr><tr><td>2020-10-11T00:15:00.000+0000</td><td>5.238224</td></tr><tr><td>2020-10-11T00:20:00.000+0000</td><td>5.4566207</td></tr><tr><td>2020-10-11T00:25:00.000+0000</td><td>5.6802278</td></tr><tr><td>2020-10-11T00:30:00.000+0000</td><td>5.908505</td></tr><tr><td>2020-10-11T00:35:00.000+0000</td><td>6.1408997</td></tr><tr><td>2020-10-11T00:40:00.000+0000</td><td>6.376847</td></tr><tr><td>2020-10-11T00:45:00.000+0000</td><td>6.6157713</td></tr><tr><td>2020-10-11T00:50:00.000+0000</td><td>6.857092</td></tr><tr><td>2020-10-11T00:55:00.000+0000</td><td>7.1002235</td></tr><tr><td>2020-10-11T01:00:00.000+0000</td><td>7.3445783</td></tr><tr><td>2020-10-11T01:05:00.000+0000</td><td>7.5895686</td></tr><tr><td>2020-10-11T01:10:00.000+0000</td><td>7.8346105</td></tr><tr><td>2020-10-11T01:15:00.000+0000</td><td>8.079126</td></tr><tr><td>2020-10-11T01:20:00.000+0000</td><td>8.322544</td></tr><tr><td>2020-10-11T01:25:00.000+0000</td><td>8.564303</td></tr><tr><td>2020-10-11T01:30:00.000+0000</td><td>8.803857</td></tr><tr><td>2020-10-11T01:35:00.000+0000</td><td>9.04067</td></tr><tr><td>2020-10-11T01:40:00.000+0000</td><td>9.274226</td></tr><tr><td>2020-10-11T01:45:00.000+0000</td><td>9.504026</td></tr><tr><td>2020-10-11T01:50:00.000+0000</td><td>9.729593</td></tr><tr><td>2020-10-11T01:55:00.000+0000</td><td>9.95047</td></tr><tr><td>2020-10-11T02:00:00.000+0000</td><td>10.166224</td></tr><tr><td>2020-10-11T02:05:00.000+0000</td><td>10.376447</td></tr><tr><td>2020-10-11T02:10:00.000+0000</td><td>10.58076</td></tr><tr><td>2020-10-11T02:15:00.000+0000</td><td>10.778807</td></tr><tr><td>2020-10-11T02:20:00.000+0000</td><td>10.9702635</td></tr><tr><td>2020-10-11T02:25:00.000+0000</td><td>11.154834</td></tr><tr><td>2020-10-11T02:30:00.000+0000</td><td>11.332251</td></tr><tr><td>2020-10-11T02:35:00.000+0000</td><td>11.502276</td></tr><tr><td>2020-10-11T02:40:00.000+0000</td><td>11.664706</td></tr><tr><td>2020-10-11T02:45:00.000+0000</td><td>11.8193655</td></tr><tr><td>2020-10-11T02:50:00.000+0000</td><td>11.966107</td></tr><tr><td>2020-10-11T02:55:00.000+0000</td><td>12.104818</td></tr><tr><td>2020-10-11T03:00:00.000+0000</td><td>12.235414</td></tr><tr><td>2020-10-11T03:05:00.000+0000</td><td>12.357837</td></tr><tr><td>2020-10-11T03:10:00.000+0000</td><td>12.472061</td></tr><tr><td>2020-10-11T03:15:00.000+0000</td><td>12.57809</td></tr><tr><td>2020-10-11T03:20:00.000+0000</td><td>12.675948</td></tr><tr><td>2020-10-11T03:25:00.000+0000</td><td>12.765692</td></tr><tr><td>2020-10-11T03:30:00.000+0000</td><td>12.847399</td></tr><tr><td>2020-10-11T03:35:00.000+0000</td><td>12.921171</td></tr><tr><td>2020-10-11T03:40:00.000+0000</td><td>12.987133</td></tr><tr><td>2020-10-11T03:45:00.000+0000</td><td>13.045428</td></tr><tr><td>2020-10-11T03:50:00.000+0000</td><td>13.096221</td></tr><tr><td>2020-10-11T03:55:00.000+0000</td><td>13.139691</td></tr><tr><td>2020-10-11T04:00:00.000+0000</td><td>13.176037</td></tr><tr><td>2020-10-11T04:05:00.000+0000</td><td>13.205468</td></tr><tr><td>2020-10-11T04:10:00.000+0000</td><td>13.228209</td></tr><tr><td>2020-10-11T04:15:00.000+0000</td><td>13.244491</td></tr><tr><td>2020-10-11T04:20:00.000+0000</td><td>13.254559</td></tr><tr><td>2020-10-11T04:25:00.000+0000</td><td>13.258662</td></tr><tr><td>2020-10-11T04:30:00.000+0000</td><td>13.257056</td></tr><tr><td>2020-10-11T04:35:00.000+0000</td><td>13.250001</td></tr><tr><td>2020-10-11T04:40:00.000+0000</td><td>13.237758</td></tr><tr><td>2020-10-11T04:45:00.000+0000</td><td>13.22059</td></tr><tr><td>2020-10-11T04:50:00.000+0000</td><td>13.198758</td></tr><tr><td>2020-10-11T04:55:00.000+0000</td><td>13.1725235</td></tr><tr><td>2020-10-11T05:00:00.000+0000</td><td>13.142142</td></tr><tr><td>2020-10-11T05:05:00.000+0000</td><td>13.107865</td></tr><tr><td>2020-10-11T05:10:00.000+0000</td><td>13.06994</td></tr><tr><td>2020-10-11T05:15:00.000+0000</td><td>13.028604</td></tr><tr><td>2020-10-11T05:20:00.000+0000</td><td>12.984089</td></tr><tr><td>2020-10-11T05:25:00.000+0000</td><td>12.936617</td></tr><tr><td>2020-10-11T05:30:00.000+0000</td><td>12.886403</td></tr><tr><td>2020-10-11T05:35:00.000+0000</td><td>12.833649</td></tr><tr><td>2020-10-11T05:40:00.000+0000</td><td>12.778548</td></tr><tr><td>2020-10-11T05:45:00.000+0000</td><td>12.721283</td></tr><tr><td>2020-10-11T05:50:00.000+0000</td><td>12.662024</td></tr><tr><td>2020-10-11T05:55:00.000+0000</td><td>12.600931</td></tr><tr><td>2020-10-11T06:00:00.000+0000</td><td>12.538155</td></tr><tr><td>2020-10-11T06:05:00.000+0000</td><td>12.473829</td></tr><tr><td>2020-10-11T06:10:00.000+0000</td><td>12.408084</td></tr><tr><td>2020-10-11T06:15:00.000+0000</td><td>12.341033</td></tr><tr><td>2020-10-11T06:20:00.000+0000</td><td>12.272783</td></tr><tr><td>2020-10-11T06:25:00.000+0000</td><td>12.203429</td></tr><tr><td>2020-10-11T06:30:00.000+0000</td><td>12.133059</td></tr><tr><td>2020-10-11T06:35:00.000+0000</td><td>12.061748</td></tr><tr><td>2020-10-11T06:40:00.000+0000</td><td>11.989568</td></tr><tr><td>2020-10-11T06:45:00.000+0000</td><td>11.91658</td></tr><tr><td>2020-10-11T06:50:00.000+0000</td><td>11.842841</td></tr><tr><td>2020-10-11T06:55:00.000+0000</td><td>11.768402</td></tr><tr><td>2020-10-11T07:00:00.000+0000</td><td>11.693307</td></tr><tr><td>2020-10-11T07:05:00.000+0000</td><td>11.617599</td></tr><tr><td>2020-10-11T07:10:00.000+0000</td><td>11.541314</td></tr><tr><td>2020-10-11T07:15:00.000+0000</td><td>11.464492</td></tr><tr><td>2020-10-11T07:20:00.000+0000</td><td>11.387165</td></tr><tr><td>2020-10-11T07:25:00.000+0000</td><td>11.30937</td></tr><tr><td>2020-10-11T07:30:00.000+0000</td><td>11.231141</td></tr><tr><td>2020-10-11T07:35:00.000+0000</td><td>11.152515</td></tr><tr><td>2020-10-11T07:40:00.000+0000</td><td>11.07353</td></tr><tr><td>2020-10-11T07:45:00.000+0000</td><td>10.994226</td></tr><tr><td>2020-10-11T07:50:00.000+0000</td><td>10.914651</td></tr><tr><td>2020-10-11T07:55:00.000+0000</td><td>10.83485</td></tr><tr><td>2020-10-11T08:00:00.000+0000</td><td>10.754879</td></tr><tr><td>2020-10-11T08:05:00.000+0000</td><td>10.674793</td></tr><tr><td>2020-10-11T08:10:00.000+0000</td><td>10.594659</td></tr><tr><td>2020-10-11T08:15:00.000+0000</td><td>10.5145445</td></tr><tr><td>2020-10-11T08:20:00.000+0000</td><td>10.434525</td></tr><tr><td>2020-10-11T08:25:00.000+0000</td><td>10.35468</td></tr><tr><td>2020-10-11T08:30:00.000+0000</td><td>10.275101</td></tr><tr><td>2020-10-11T08:35:00.000+0000</td><td>10.195878</td></tr><tr><td>2020-10-11T08:40:00.000+0000</td><td>10.117112</td></tr><tr><td>2020-10-11T08:45:00.000+0000</td><td>10.038909</td></tr><tr><td>2020-10-11T08:50:00.000+0000</td><td>9.961379</td></tr><tr><td>2020-10-11T08:55:00.000+0000</td><td>9.884637</td></tr><tr><td>2020-10-11T09:00:00.000+0000</td><td>9.808805</td></tr><tr><td>2020-10-11T09:05:00.000+0000</td><td>9.734008</td></tr><tr><td>2020-10-11T09:10:00.000+0000</td><td>9.660373</td></tr><tr><td>2020-10-11T09:15:00.000+0000</td><td>9.588032</td></tr><tr><td>2020-10-11T09:20:00.000+0000</td><td>9.517118</td></tr><tr><td>2020-10-11T09:25:00.000+0000</td><td>9.447766</td></tr><tr><td>2020-10-11T09:30:00.000+0000</td><td>9.380112</td></tr><tr><td>2020-10-11T09:35:00.000+0000</td><td>9.314289</td></tr><tr><td>2020-10-11T09:40:00.000+0000</td><td>9.250432</td></tr><tr><td>2020-10-11T09:45:00.000+0000</td><td>9.188674</td></tr><tr><td>2020-10-11T09:50:00.000+0000</td><td>9.129142</td></tr><tr><td>2020-10-11T09:55:00.000+0000</td><td>9.07196</td></tr><tr><td>2020-10-11T10:00:00.000+0000</td><td>9.017251</td></tr><tr><td>2020-10-11T10:05:00.000+0000</td><td>8.965128</td></tr><tr><td>2020-10-11T10:10:00.000+0000</td><td>8.915697</td></tr><tr><td>2020-10-11T10:15:00.000+0000</td><td>8.86906</td></tr><tr><td>2020-10-11T10:20:00.000+0000</td><td>8.825306</td></tr><tr><td>2020-10-11T10:25:00.000+0000</td><td>8.78452</td></tr><tr><td>2020-10-11T10:30:00.000+0000</td><td>8.746773</td></tr><tr><td>2020-10-11T10:35:00.000+0000</td><td>8.712127</td></tr><tr><td>2020-10-11T10:40:00.000+0000</td><td>8.680632</td></tr><tr><td>2020-10-11T10:45:00.000+0000</td><td>8.652327</td></tr><tr><td>2020-10-11T10:50:00.000+0000</td><td>8.627237</td></tr><tr><td>2020-10-11T10:55:00.000+0000</td><td>8.605377</td></tr><tr><td>2020-10-11T11:00:00.000+0000</td><td>8.586747</td></tr><tr><td>2020-10-11T11:05:00.000+0000</td><td>8.571334</td></tr><tr><td>2020-10-11T11:10:00.000+0000</td><td>8.559111</td></tr><tr><td>2020-10-11T11:15:00.000+0000</td><td>8.550037</td></tr><tr><td>2020-10-11T11:20:00.000+0000</td><td>8.544062</td></tr><tr><td>2020-10-11T11:25:00.000+0000</td><td>8.541114</td></tr><tr><td>2020-10-11T11:30:00.000+0000</td><td>8.541116</td></tr><tr><td>2020-10-11T11:35:00.000+0000</td><td>8.543974</td></tr><tr><td>2020-10-11T11:40:00.000+0000</td><td>8.5495825</td></tr><tr><td>2020-10-11T11:45:00.000+0000</td><td>8.557823</td></tr><tr><td>2020-10-11T11:50:00.000+0000</td><td>8.568567</td></tr><tr><td>2020-10-11T11:55:00.000+0000</td><td>8.581674</td></tr><tr><td>2020-10-11T12:00:00.000+0000</td><td>8.596993</td></tr><tr><td>2020-10-11T12:05:00.000+0000</td><td>8.614367</td></tr><tr><td>2020-10-11T12:10:00.000+0000</td><td>8.633625</td></tr><tr><td>2020-10-11T12:15:00.000+0000</td><td>8.6545925</td></tr><tr><td>2020-10-11T12:20:00.000+0000</td><td>8.677088</td></tr><tr><td>2020-10-11T12:25:00.000+0000</td><td>8.700922</td></tr><tr><td>2020-10-11T12:30:00.000+0000</td><td>8.725903</td></tr><tr><td>2020-10-11T12:35:00.000+0000</td><td>8.751834</td></tr><tr><td>2020-10-11T12:40:00.000+0000</td><td>8.778519</td></tr><tr><td>2020-10-11T12:45:00.000+0000</td><td>8.805755</td></tr><tr><td>2020-10-11T12:50:00.000+0000</td><td>8.8333435</td></tr><tr><td>2020-10-11T12:55:00.000+0000</td><td>8.861086</td></tr><tr><td>2020-10-11T13:00:00.000+0000</td><td>8.888784</td></tr><tr><td>2020-10-11T13:05:00.000+0000</td><td>8.916245</td></tr><tr><td>2020-10-11T13:10:00.000+0000</td><td>8.943277</td></tr><tr><td>2020-10-11T13:15:00.000+0000</td><td>8.969697</td></tr><tr><td>2020-10-11T13:20:00.000+0000</td><td>8.995323</td></tr><tr><td>2020-10-11T13:25:00.000+0000</td><td>9.019986</td></tr><tr><td>2020-10-11T13:30:00.000+0000</td><td>9.043519</td></tr><tr><td>2020-10-11T13:35:00.000+0000</td><td>9.065768</td></tr><tr><td>2020-10-11T13:40:00.000+0000</td><td>9.086585</td></tr><tr><td>2020-10-11T13:45:00.000+0000</td><td>9.105833</td></tr><tr><td>2020-10-11T13:50:00.000+0000</td><td>9.123386</td></tr><tr><td>2020-10-11T13:55:00.000+0000</td><td>9.139128</td></tr><tr><td>2020-10-11T14:00:00.000+0000</td><td>9.152954</td></tr><tr><td>2020-10-11T14:05:00.000+0000</td><td>9.164771</td></tr><tr><td>2020-10-11T14:10:00.000+0000</td><td>9.174499</td></tr><tr><td>2020-10-11T14:15:00.000+0000</td><td>9.182065</td></tr><tr><td>2020-10-11T14:20:00.000+0000</td><td>9.187412</td></tr><tr><td>2020-10-11T14:25:00.000+0000</td><td>9.190495</td></tr><tr><td>2020-10-11T14:30:00.000+0000</td><td>9.191277</td></tr><tr><td>2020-10-11T14:35:00.000+0000</td><td>9.189734</td></tr><tr><td>2020-10-11T14:40:00.000+0000</td><td>9.185853</td></tr><tr><td>2020-10-11T14:45:00.000+0000</td><td>9.179631</td></tr><tr><td>2020-10-11T14:50:00.000+0000</td><td>9.171075</td></tr><tr><td>2020-10-11T14:55:00.000+0000</td><td>9.160199</td></tr><tr><td>2020-10-11T15:00:00.000+0000</td><td>9.147029</td></tr><tr><td>2020-10-11T15:05:00.000+0000</td><td>9.131596</td></tr><tr><td>2020-10-11T15:10:00.000+0000</td><td>9.113937</td></tr><tr><td>2020-10-11T15:15:00.000+0000</td><td>9.094101</td></tr><tr><td>2020-10-11T15:20:00.000+0000</td><td>9.072133</td></tr><tr><td>2020-10-11T15:25:00.000+0000</td><td>9.048091</td></tr><tr><td>2020-10-11T15:30:00.000+0000</td><td>9.022031</td></tr><tr><td>2020-10-11T15:35:00.000+0000</td><td>8.994012</td></tr><tr><td>2020-10-11T15:40:00.000+0000</td><td>8.964096</td></tr><tr><td>2020-10-11T15:45:00.000+0000</td><td>8.932344</td></tr><tr><td>2020-10-11T15:50:00.000+0000</td><td>8.898819</td></tr><tr><td>2020-10-11T15:55:00.000+0000</td><td>8.863579</td></tr><tr><td>2020-10-11T16:00:00.000+0000</td><td>8.826681</td></tr><tr><td>2020-10-11T16:05:00.000+0000</td><td>8.78818</td></tr><tr><td>2020-10-11T16:10:00.000+0000</td><td>8.748127</td></tr><tr><td>2020-10-11T16:15:00.000+0000</td><td>8.706565</td></tr><tr><td>2020-10-11T16:20:00.000+0000</td><td>8.663536</td></tr><tr><td>2020-10-11T16:25:00.000+0000</td><td>8.619073</td></tr><tr><td>2020-10-11T16:30:00.000+0000</td><td>8.573204</td></tr><tr><td>2020-10-11T16:35:00.000+0000</td><td>8.525948</td></tr><tr><td>2020-10-11T16:40:00.000+0000</td><td>8.477319</td></tr><tr><td>2020-10-11T16:45:00.000+0000</td><td>8.427321</td></tr><tr><td>2020-10-11T16:50:00.000+0000</td><td>8.375954</td></tr><tr><td>2020-10-11T16:55:00.000+0000</td><td>8.323204</td></tr><tr><td>2020-10-11T17:00:00.000+0000</td><td>8.269053</td></tr><tr><td>2020-10-11T17:05:00.000+0000</td><td>8.213476</td></tr><tr><td>2020-10-11T17:10:00.000+0000</td><td>8.156439</td></tr><tr><td>2020-10-11T17:15:00.000+0000</td><td>8.0978985</td></tr><tr><td>2020-10-11T17:20:00.000+0000</td><td>8.037807</td></tr><tr><td>2020-10-11T17:25:00.000+0000</td><td>7.9761114</td></tr><tr><td>2020-10-11T17:30:00.000+0000</td><td>7.9127507</td></tr><tr><td>2020-10-11T17:35:00.000+0000</td><td>7.8476596</td></tr><tr><td>2020-10-11T17:40:00.000+0000</td><td>7.78077</td></tr><tr><td>2020-10-11T17:45:00.000+0000</td><td>7.7120085</td></tr><tr><td>2020-10-11T17:50:00.000+0000</td><td>7.6413007</td></tr><tr><td>2020-10-11T17:55:00.000+0000</td><td>7.5685716</td></tr><tr><td>2020-10-11T18:00:00.000+0000</td><td>7.4937444</td></tr><tr><td>2020-10-11T18:05:00.000+0000</td><td>7.4167457</td></tr><tr><td>2020-10-11T18:10:00.000+0000</td><td>7.337502</td></tr><tr><td>2020-10-11T18:15:00.000+0000</td><td>7.255945</td></tr><tr><td>2020-10-11T18:20:00.000+0000</td><td>7.1720114</td></tr><tr><td>2020-10-11T18:25:00.000+0000</td><td>7.085643</td></tr><tr><td>2020-10-11T18:30:00.000+0000</td><td>6.9967895</td></tr><tr><td>2020-10-11T18:35:00.000+0000</td><td>6.9054093</td></tr><tr><td>2020-10-11T18:40:00.000+0000</td><td>6.811472</td></tr><tr><td>2020-10-11T18:45:00.000+0000</td><td>6.7149563</td></tr><tr><td>2020-10-11T18:50:00.000+0000</td><td>6.615855</td></tr><tr><td>2020-10-11T18:55:00.000+0000</td><td>6.5141754</td></tr><tr><td>2020-10-11T19:00:00.000+0000</td><td>6.4099374</td></tr><tr><td>2020-10-11T19:05:00.000+0000</td><td>6.3031783</td></tr><tr><td>2020-10-11T19:10:00.000+0000</td><td>6.193952</td></tr><tr><td>2020-10-11T19:15:00.000+0000</td><td>6.0823298</td></tr><tr><td>2020-10-11T19:20:00.000+0000</td><td>5.9684014</td></tr><tr><td>2020-10-11T19:25:00.000+0000</td><td>5.852277</td></tr><tr><td>2020-10-11T19:30:00.000+0000</td><td>5.734084</td></tr><tr><td>2020-10-11T19:35:00.000+0000</td><td>5.6139736</td></tr><tr><td>2020-10-11T19:40:00.000+0000</td><td>5.4921136</td></tr><tr><td>2020-10-11T19:45:00.000+0000</td><td>5.3686957</td></tr><tr><td>2020-10-11T19:50:00.000+0000</td><td>5.2439303</td></tr><tr><td>2020-10-11T19:55:00.000+0000</td><td>5.1180496</td></tr><tr><td>2020-10-11T20:00:00.000+0000</td><td>4.991306</td></tr><tr><td>2020-10-11T20:05:00.000+0000</td><td>4.8639708</td></tr><tr><td>2020-10-11T20:10:00.000+0000</td><td>4.736336</td></tr><tr><td>2020-10-11T20:15:00.000+0000</td><td>4.6087127</td></tr><tr><td>2020-10-11T20:20:00.000+0000</td><td>4.4814286</td></tr><tr><td>2020-10-11T20:25:00.000+0000</td><td>4.35483</td></tr><tr><td>2020-10-11T20:30:00.000+0000</td><td>4.229277</td></tr><tr><td>2020-10-11T20:35:00.000+0000</td><td>4.1051474</td></tr><tr><td>2020-10-11T20:40:00.000+0000</td><td>3.9828293</td></tr><tr><td>2020-10-11T20:45:00.000+0000</td><td>3.8627243</td></tr><tr><td>2020-10-11T20:50:00.000+0000</td><td>3.7452438</td></tr><tr><td>2020-10-11T20:55:00.000+0000</td><td>3.6308076</td></tr><tr><td>2020-10-11T21:00:00.000+0000</td><td>3.5198424</td></tr><tr><td>2020-10-11T21:05:00.000+0000</td><td>3.4127793</td></tr><tr><td>2020-10-11T21:10:00.000+0000</td><td>3.3100526</td></tr><tr><td>2020-10-11T21:15:00.000+0000</td><td>3.2120967</td></tr><tr><td>2020-10-11T21:20:00.000+0000</td><td>3.1193457</td></tr><tr><td>2020-10-11T21:25:00.000+0000</td><td>3.0322287</td></tr><tr><td>2020-10-11T21:30:00.000+0000</td><td>2.9511707</td></tr><tr><td>2020-10-11T21:35:00.000+0000</td><td>2.8765874</td></tr><tr><td>2020-10-11T21:40:00.000+0000</td><td>2.8088853</td></tr><tr><td>2020-10-11T21:45:00.000+0000</td><td>2.7484586</td></tr><tr><td>2020-10-11T21:50:00.000+0000</td><td>2.6956868</td></tr><tr><td>2020-10-11T21:55:00.000+0000</td><td>2.6509326</td></tr><tr><td>2020-10-11T22:00:00.000+0000</td><td>2.6145403</td></tr><tr><td>2020-10-11T22:05:00.000+0000</td><td>2.5868337</td></tr><tr><td>2020-10-11T22:10:00.000+0000</td><td>2.568114</td></tr><tr><td>2020-10-11T22:15:00.000+0000</td><td>2.558658</td></tr><tr><td>2020-10-11T22:20:00.000+0000</td><td>2.5587156</td></tr><tr><td>2020-10-11T22:25:00.000+0000</td><td>2.5685098</td></tr><tr><td>2020-10-11T22:30:00.000+0000</td><td>2.588234</td></tr><tr><td>2020-10-11T22:35:00.000+0000</td><td>2.6180508</td></tr><tr><td>2020-10-11T22:40:00.000+0000</td><td>2.6580906</td></tr><tr><td>2020-10-11T22:45:00.000+0000</td><td>2.7084513</td></tr><tr><td>2020-10-11T22:50:00.000+0000</td><td>2.7691967</td></tr><tr><td>2020-10-11T22:55:00.000+0000</td><td>2.8403556</td></tr><tr><td>2020-10-11T23:00:00.000+0000</td><td>2.9219224</td></tr><tr><td>2020-10-11T23:05:00.000+0000</td><td>3.0138547</td></tr><tr><td>2020-10-11T23:10:00.000+0000</td><td>3.1160748</td></tr><tr><td>2020-10-11T23:15:00.000+0000</td><td>3.2284694</td></tr><tr><td>2020-10-11T23:20:00.000+0000</td><td>3.3508885</td></tr><tr><td>2020-10-11T23:25:00.000+0000</td><td>3.4831476</td></tr><tr><td>2020-10-11T23:30:00.000+0000</td><td>3.6250267</td></tr><tr><td>2020-10-11T23:35:00.000+0000</td><td>3.7762716</td></tr><tr><td>2020-10-11T23:40:00.000+0000</td><td>3.9365947</td></tr><tr><td>2020-10-11T23:45:00.000+0000</td><td>4.105676</td></tr><tr><td>2020-10-11T23:50:00.000+0000</td><td>4.283165</td></tr><tr><td>2020-10-11T23:55:00.000+0000</td><td>4.4686804</td></tr><tr><td>2020-10-12T00:00:00.000+0000</td><td>4.6618133</td></tr><tr><td>2020-10-12T00:05:00.000+0000</td><td>4.862128</td></tr><tr><td>2020-10-12T00:10:00.000+0000</td><td>5.069164</td></tr><tr><td>2020-10-12T00:15:00.000+0000</td><td>5.282438</td></tr><tr><td>2020-10-12T00:20:00.000+0000</td><td>5.5014453</td></tr><tr><td>2020-10-12T00:25:00.000+0000</td><td>5.725664</td></tr><tr><td>2020-10-12T00:30:00.000+0000</td><td>5.954555</td></tr><tr><td>2020-10-12T00:35:00.000+0000</td><td>6.187564</td></tr><tr><td>2020-10-12T00:40:00.000+0000</td><td>6.4241257</td></tr><tr><td>2020-10-12T00:45:00.000+0000</td><td>6.6636667</td></tr><tr><td>2020-10-12T00:50:00.000+0000</td><td>6.905605</td></tr><tr><td>2020-10-12T00:55:00.000+0000</td><td>7.1493545</td></tr><tr><td>2020-10-12T01:00:00.000+0000</td><td>7.3943286</td></tr><tr><td>2020-10-12T01:05:00.000+0000</td><td>7.639939</td></tr><tr><td>2020-10-12T01:10:00.000+0000</td><td>7.885602</td></tr><tr><td>2020-10-12T01:15:00.000+0000</td><td>8.130739</td></tr><tr><td>2020-10-12T01:20:00.000+0000</td><td>8.374781</td></tr><tr><td>2020-10-12T01:25:00.000+0000</td><td>8.617164</td></tr><tr><td>2020-10-12T01:30:00.000+0000</td><td>8.857342</td></tr><tr><td>2020-10-12T01:35:00.000+0000</td><td>9.09478</td></tr><tr><td>2020-10-12T01:40:00.000+0000</td><td>9.328962</td></tr><tr><td>2020-10-12T01:45:00.000+0000</td><td>9.559389</td></tr><tr><td>2020-10-12T01:50:00.000+0000</td><td>9.7855835</td></tr><tr><td>2020-10-12T01:55:00.000+0000</td><td>10.007089</td></tr><tr><td>2020-10-12T02:00:00.000+0000</td><td>10.223471</td></tr><tr><td>2020-10-12T02:05:00.000+0000</td><td>10.434324</td></tr><tr><td>2020-10-12T02:10:00.000+0000</td><td>10.639267</td></tr><tr><td>2020-10-12T02:15:00.000+0000</td><td>10.837945</td></tr><tr><td>2020-10-12T02:20:00.000+0000</td><td>11.030034</td></tr><tr><td>2020-10-12T02:25:00.000+0000</td><td>11.215236</td></tr><tr><td>2020-10-12T02:30:00.000+0000</td><td>11.393285</td></tr><tr><td>2020-10-12T02:35:00.000+0000</td><td>11.563944</td></tr><tr><td>2020-10-12T02:40:00.000+0000</td><td>11.727008</td></tr><tr><td>2020-10-12T02:45:00.000+0000</td><td>11.8823</td></tr><tr><td>2020-10-12T02:50:00.000+0000</td><td>12.029676</td></tr><tr><td>2020-10-12T02:55:00.000+0000</td><td>12.169023</td></tr><tr><td>2020-10-12T03:00:00.000+0000</td><td>12.300253</td></tr><tr><td>2020-10-12T03:05:00.000+0000</td><td>12.423312</td></tr><tr><td>2020-10-12T03:10:00.000+0000</td><td>12.538173</td></tr><tr><td>2020-10-12T03:15:00.000+0000</td><td>12.644837</td></tr><tr><td>2020-10-12T03:20:00.000+0000</td><td>12.743333</td></tr><tr><td>2020-10-12T03:25:00.000+0000</td><td>12.833714</td></tr><tr><td>2020-10-12T03:30:00.000+0000</td><td>12.916058</td></tr><tr><td>2020-10-12T03:35:00.000+0000</td><td>12.990467</td></tr><tr><td>2020-10-12T03:40:00.000+0000</td><td>13.057067</td></tr><tr><td>2020-10-12T03:45:00.000+0000</td><td>13.116</td></tr><tr><td>2020-10-12T03:50:00.000+0000</td><td>13.167431</td></tr><tr><td>2020-10-12T03:55:00.000+0000</td><td>13.21154</td></tr><tr><td>2020-10-12T04:00:00.000+0000</td><td>13.248525</td></tr><tr><td>2020-10-12T04:05:00.000+0000</td><td>13.278594</td></tr><tr><td>2020-10-12T04:10:00.000+0000</td><td>13.301973</td></tr><tr><td>2020-10-12T04:15:00.000+0000</td><td>13.318894</td></tr><tr><td>2020-10-12T04:20:00.000+0000</td><td>13.329601</td></tr><tr><td>2020-10-12T04:25:00.000+0000</td><td>13.334344</td></tr><tr><td>2020-10-12T04:30:00.000+0000</td><td>13.333377</td></tr><tr><td>2020-10-12T04:35:00.000+0000</td><td>13.326961</td></tr><tr><td>2020-10-12T04:40:00.000+0000</td><td>13.315356</td></tr><tr><td>2020-10-12T04:45:00.000+0000</td><td>13.298827</td></tr><tr><td>2020-10-12T04:50:00.000+0000</td><td>13.277635</td></tr><tr><td>2020-10-12T04:55:00.000+0000</td><td>13.252039</td></tr><tr><td>2020-10-12T05:00:00.000+0000</td><td>13.222296</td></tr><tr><td>2020-10-12T05:05:00.000+0000</td><td>13.188658</td></tr><tr><td>2020-10-12T05:10:00.000+0000</td><td>13.151371</td></tr><tr><td>2020-10-12T05:15:00.000+0000</td><td>13.110673</td></tr><tr><td>2020-10-12T05:20:00.000+0000</td><td>13.066796</td></tr><tr><td>2020-10-12T05:25:00.000+0000</td><td>13.019963</td></tr><tr><td>2020-10-12T05:30:00.000+0000</td><td>12.9703865</td></tr><tr><td>2020-10-12T05:35:00.000+0000</td><td>12.91827</td></tr><tr><td>2020-10-12T05:40:00.000+0000</td><td>12.863807</td></tr><tr><td>2020-10-12T05:45:00.000+0000</td><td>12.8071785</td></tr><tr><td>2020-10-12T05:50:00.000+0000</td><td>12.748556</td></tr><tr><td>2020-10-12T05:55:00.000+0000</td><td>12.688101</td></tr><tr><td>2020-10-12T06:00:00.000+0000</td><td>12.625959</td></tr><tr><td>2020-10-12T06:05:00.000+0000</td><td>12.56227</td></tr><tr><td>2020-10-12T06:10:00.000+0000</td><td>12.497161</td></tr><tr><td>2020-10-12T06:15:00.000+0000</td><td>12.430745</td></tr><tr><td>2020-10-12T06:20:00.000+0000</td><td>12.36313</td></tr><tr><td>2020-10-12T06:25:00.000+0000</td><td>12.294411</td></tr><tr><td>2020-10-12T06:30:00.000+0000</td><td>12.224673</td></tr><tr><td>2020-10-12T06:35:00.000+0000</td><td>12.153996</td></tr><tr><td>2020-10-12T06:40:00.000+0000</td><td>12.08245</td></tr><tr><td>2020-10-12T06:45:00.000+0000</td><td>12.010095</td></tr><tr><td>2020-10-12T06:50:00.000+0000</td><td>11.936989</td></tr><tr><td>2020-10-12T06:55:00.000+0000</td><td>11.863181</td></tr><tr><td>2020-10-12T07:00:00.000+0000</td><td>11.788717</td></tr><tr><td>2020-10-12T07:05:00.000+0000</td><td>11.713639</td></tr><tr><td>2020-10-12T07:10:00.000+0000</td><td>11.637985</td></tr><tr><td>2020-10-12T07:15:00.000+0000</td><td>11.561792</td></tr><tr><td>2020-10-12T07:20:00.000+0000</td><td>11.485095</td></tr><tr><td>2020-10-12T07:25:00.000+0000</td><td>11.4079275</td></tr><tr><td>2020-10-12T07:30:00.000+0000</td><td>11.330327</td></tr><tr><td>2020-10-12T07:35:00.000+0000</td><td>11.252328</td></tr><tr><td>2020-10-12T07:40:00.000+0000</td><td>11.173969</td></tr><tr><td>2020-10-12T07:45:00.000+0000</td><td>11.095292</td></tr><tr><td>2020-10-12T07:50:00.000+0000</td><td>11.016341</td></tr><tr><td>2020-10-12T07:55:00.000+0000</td><td>10.937165</td></tr><tr><td>2020-10-12T08:00:00.000+0000</td><td>10.857818</td></tr><tr><td>2020-10-12T08:05:00.000+0000</td><td>10.778356</td></tr><tr><td>2020-10-12T08:10:00.000+0000</td><td>10.698843</td></tr><tr><td>2020-10-12T08:15:00.000+0000</td><td>10.61935</td></tr><tr><td>2020-10-12T08:20:00.000+0000</td><td>10.539951</td></tr><tr><td>2020-10-12T08:25:00.000+0000</td><td>10.460728</td></tr><tr><td>2020-10-12T08:30:00.000+0000</td><td>10.381767</td></tr><tr><td>2020-10-12T08:35:00.000+0000</td><td>10.303164</td></tr><tr><td>2020-10-12T08:40:00.000+0000</td><td>10.225016</td></tr><tr><td>2020-10-12T08:45:00.000+0000</td><td>10.1474285</td></tr><tr><td>2020-10-12T08:50:00.000+0000</td><td>10.070515</td></tr><tr><td>2020-10-12T08:55:00.000+0000</td><td>9.994389</td></tr><tr><td>2020-10-12T09:00:00.000+0000</td><td>9.919171</td></tr><tr><td>2020-10-12T09:05:00.000+0000</td><td>9.844988</td></tr><tr><td>2020-10-12T09:10:00.000+0000</td><td>9.771965</td></tr><tr><td>2020-10-12T09:15:00.000+0000</td><td>9.700236</td></tr><tr><td>2020-10-12T09:20:00.000+0000</td><td>9.629933</td></tr><tr><td>2020-10-12T09:25:00.000+0000</td><td>9.561192</td></tr><tr><td>2020-10-12T09:30:00.000+0000</td><td>9.494145</td></tr><tr><td>2020-10-12T09:35:00.000+0000</td><td>9.428931</td></tr><tr><td>2020-10-12T09:40:00.000+0000</td><td>9.365682</td></tr><tr><td>2020-10-12T09:45:00.000+0000</td><td>9.304529</td></tr><tr><td>2020-10-12T09:50:00.000+0000</td><td>9.245603</td></tr><tr><td>2020-10-12T09:55:00.000+0000</td><td>9.189026</td></tr><tr><td>2020-10-12T10:00:00.000+0000</td><td>9.13492</td></tr><tr><td>2020-10-12T10:05:00.000+0000</td><td>9.083398</td></tr><tr><td>2020-10-12T10:10:00.000+0000</td><td>9.034569</td></tr><tr><td>2020-10-12T10:15:00.000+0000</td><td>8.988531</td></tr><tr><td>2020-10-12T10:20:00.000+0000</td><td>8.945377</td></tr><tr><td>2020-10-12T10:25:00.000+0000</td><td>8.9051895</td></tr><tr><td>2020-10-12T10:30:00.000+0000</td><td>8.868039</td></tr><tr><td>2020-10-12T10:35:00.000+0000</td><td>8.833989</td></tr><tr><td>2020-10-12T10:40:00.000+0000</td><td>8.803089</td></tr><tr><td>2020-10-12T10:45:00.000+0000</td><td>8.775377</td></tr><tr><td>2020-10-12T10:50:00.000+0000</td><td>8.750881</td></tr><tr><td>2020-10-12T10:55:00.000+0000</td><td>8.729612</td></tr><tr><td>2020-10-12T11:00:00.000+0000</td><td>8.711574</td></tr><tr><td>2020-10-12T11:05:00.000+0000</td><td>8.69675</td></tr><tr><td>2020-10-12T11:10:00.000+0000</td><td>8.685115</td></tr><tr><td>2020-10-12T11:15:00.000+0000</td><td>8.676628</td></tr><tr><td>2020-10-12T11:20:00.000+0000</td><td>8.671238</td></tr><tr><td>2020-10-12T11:25:00.000+0000</td><td>8.668876</td></tr><tr><td>2020-10-12T11:30:00.000+0000</td><td>8.669461</td></tr><tr><td>2020-10-12T11:35:00.000+0000</td><td>8.672902</td></tr><tr><td>2020-10-12T11:40:00.000+0000</td><td>8.679091</td></tr><tr><td>2020-10-12T11:45:00.000+0000</td><td>8.687912</td></tr><tr><td>2020-10-12T11:50:00.000+0000</td><td>8.699235</td></tr><tr><td>2020-10-12T11:55:00.000+0000</td><td>8.712919</td></tr><tr><td>2020-10-12T12:00:00.000+0000</td><td>8.728815</td></tr><tr><td>2020-10-12T12:05:00.000+0000</td><td>8.746763</td></tr><tr><td>2020-10-12T12:10:00.000+0000</td><td>8.766596</td></tr><tr><td>2020-10-12T12:15:00.000+0000</td><td>8.7881365</td></tr><tr><td>2020-10-12T12:20:00.000+0000</td><td>8.811203</td></tr><tr><td>2020-10-12T12:25:00.000+0000</td><td>8.835607</td></tr><tr><td>2020-10-12T12:30:00.000+0000</td><td>8.861156</td></tr><tr><td>2020-10-12T12:35:00.000+0000</td><td>8.887656</td></tr><tr><td>2020-10-12T12:40:00.000+0000</td><td>8.9149065</td></tr><tr><td>2020-10-12T12:45:00.000+0000</td><td>8.942708</td></tr><tr><td>2020-10-12T12:50:00.000+0000</td><td>8.970861</td></tr><tr><td>2020-10-12T12:55:00.000+0000</td><td>8.9991665</td></tr><tr><td>2020-10-12T13:00:00.000+0000</td><td>9.027426</td></tr><tr><td>2020-10-12T13:05:00.000+0000</td><td>9.055447</td></tr><tr><td>2020-10-12T13:10:00.000+0000</td><td>9.083037</td></tr><tr><td>2020-10-12T13:15:00.000+0000</td><td>9.110014</td></tr><tr><td>2020-10-12T13:20:00.000+0000</td><td>9.136197</td></tr><tr><td>2020-10-12T13:25:00.000+0000</td><td>9.161414</td></tr><tr><td>2020-10-12T13:30:00.000+0000</td><td>9.1855</td></tr><tr><td>2020-10-12T13:35:00.000+0000</td><td>9.208301</td></tr><tr><td>2020-10-12T13:40:00.000+0000</td><td>9.229669</td></tr><tr><td>2020-10-12T13:45:00.000+0000</td><td>9.249466</td></tr><tr><td>2020-10-12T13:50:00.000+0000</td><td>9.267567</td></tr><tr><td>2020-10-12T13:55:00.000+0000</td><td>9.283855</td></tr><tr><td>2020-10-12T14:00:00.000+0000</td><td>9.298227</td></tr><tr><td>2020-10-12T14:05:00.000+0000</td><td>9.310588</td></tr><tr><td>2020-10-12T14:10:00.000+0000</td><td>9.320857</td></tr><tr><td>2020-10-12T14:15:00.000+0000</td><td>9.328964</td></tr><tr><td>2020-10-12T14:20:00.000+0000</td><td>9.334852</td></tr><tr><td>2020-10-12T14:25:00.000+0000</td><td>9.338472</td></tr><tr><td>2020-10-12T14:30:00.000+0000</td><td>9.339791</td></tr><tr><td>2020-10-12T14:35:00.000+0000</td><td>9.338784</td></tr><tr><td>2020-10-12T14:40:00.000+0000</td><td>9.335438</td></tr><tr><td>2020-10-12T14:45:00.000+0000</td><td>9.329748</td></tr><tr><td>2020-10-12T14:50:00.000+0000</td><td>9.321723</td></tr><tr><td>2020-10-12T14:55:00.000+0000</td><td>9.311378</td></tr><tr><td>2020-10-12T15:00:00.000+0000</td><td>9.298736</td></tr><tr><td>2020-10-12T15:05:00.000+0000</td><td>9.28383</td></tr><tr><td>2020-10-12T15:10:00.000+0000</td><td>9.266697</td></tr><tr><td>2020-10-12T15:15:00.000+0000</td><td>9.247384</td></tr><tr><td>2020-10-12T15:20:00.000+0000</td><td>9.22594</td></tr><tr><td>2020-10-12T15:25:00.000+0000</td><td>9.202419</td></tr><tr><td>2020-10-12T15:30:00.000+0000</td><td>9.176878</td></tr><tr><td>2020-10-12T15:35:00.000+0000</td><td>9.149378</td></tr><tr><td>2020-10-12T15:40:00.000+0000</td><td>9.119979</td></tr><tr><td>2020-10-12T15:45:00.000+0000</td><td>9.088743</td></tr><tr><td>2020-10-12T15:50:00.000+0000</td><td>9.055732</td></tr><tr><td>2020-10-12T15:55:00.000+0000</td><td>9.021005</td></tr><tr><td>2020-10-12T16:00:00.000+0000</td><td>8.984618</td></tr><tr><td>2020-10-12T16:05:00.000+0000</td><td>8.946628</td></tr><tr><td>2020-10-12T16:10:00.000+0000</td><td>8.907082</td></tr><tr><td>2020-10-12T16:15:00.000+0000</td><td>8.866027</td></tr><tr><td>2020-10-12T16:20:00.000+0000</td><td>8.8235035</td></tr><tr><td>2020-10-12T16:25:00.000+0000</td><td>8.779545</td></tr><tr><td>2020-10-12T16:30:00.000+0000</td><td>8.734178</td></tr><tr><td>2020-10-12T16:35:00.000+0000</td><td>8.687423</td></tr><tr><td>2020-10-12T16:40:00.000+0000</td><td>8.639294</td></tr><tr><td>2020-10-12T16:45:00.000+0000</td><td>8.589794</td></tr><tr><td>2020-10-12T16:50:00.000+0000</td><td>8.538923</td></tr><tr><td>2020-10-12T16:55:00.000+0000</td><td>8.486669</td></tr><tr><td>2020-10-12T17:00:00.000+0000</td><td>8.433012</td></tr><tr><td>2020-10-12T17:05:00.000+0000</td><td>8.377927</td></tr><tr><td>2020-10-12T17:10:00.000+0000</td><td>8.32138</td></tr><tr><td>2020-10-12T17:15:00.000+0000</td><td>8.263329</td></tr><tr><td>2020-10-12T17:20:00.000+0000</td><td>8.203726</td></tr><tr><td>2020-10-12T17:25:00.000+0000</td><td>8.142516</td></tr><tr><td>2020-10-12T17:30:00.000+0000</td><td>8.07964</td></tr><tr><td>2020-10-12T17:35:00.000+0000</td><td>8.015033</td></tr><tr><td>2020-10-12T17:40:00.000+0000</td><td>7.948624</td></tr><tr><td>2020-10-12T17:45:00.000+0000</td><td>7.8803434</td></tr><tr><td>2020-10-12T17:50:00.000+0000</td><td>7.8101144</td></tr><tr><td>2020-10-12T17:55:00.000+0000</td><td>7.7378626</td></tr><tr><td>2020-10-12T18:00:00.000+0000</td><td>7.6635118</td></tr><tr><td>2020-10-12T18:05:00.000+0000</td><td>7.586987</td></tr><tr><td>2020-10-12T18:10:00.000+0000</td><td>7.508217</td></tr><tr><td>2020-10-12T18:15:00.000+0000</td><td>7.427131</td></tr><tr><td>2020-10-12T18:20:00.000+0000</td><td>7.3436675</td></tr><tr><td>2020-10-12T18:25:00.000+0000</td><td>7.257767</td></tr><tr><td>2020-10-12T18:30:00.000+0000</td><td>7.169381</td></tr><tr><td>2020-10-12T18:35:00.000+0000</td><td>7.0784664</td></tr><tr><td>2020-10-12T18:40:00.000+0000</td><td>6.984993</td></tr><tr><td>2020-10-12T18:45:00.000+0000</td><td>6.88894</td></tr><tr><td>2020-10-12T18:50:00.000+0000</td><td>6.7903</td></tr><tr><td>2020-10-12T18:55:00.000+0000</td><td>6.6890798</td></tr><tr><td>2020-10-12T19:00:00.000+0000</td><td>6.5853</td></tr><tr><td>2020-10-12T19:05:00.000+0000</td><td>6.478997</td></tr><tr><td>2020-10-12T19:10:00.000+0000</td><td>6.370226</td></tr><tr><td>2020-10-12T19:15:00.000+0000</td><td>6.259057</td></tr><tr><td>2020-10-12T19:20:00.000+0000</td><td>6.1455812</td></tr><tr><td>2020-10-12T19:25:00.000+0000</td><td>6.029907</td></tr><tr><td>2020-10-12T19:30:00.000+0000</td><td>5.9121637</td></tr><tr><td>2020-10-12T19:35:00.000+0000</td><td>5.7925005</td></tr><tr><td>2020-10-12T19:40:00.000+0000</td><td>5.6710873</td></tr><tr><td>2020-10-12T19:45:00.000+0000</td><td>5.548114</td></tr><tr><td>2020-10-12T19:50:00.000+0000</td><td>5.423792</td></tr><tr><td>2020-10-12T19:55:00.000+0000</td><td>5.2983527</td></tr><tr><td>2020-10-12T20:00:00.000+0000</td><td>5.172049</td></tr><tr><td>2020-10-12T20:05:00.000+0000</td><td>5.045152</td></tr><tr><td>2020-10-12T20:10:00.000+0000</td><td>4.917955</td></tr><tr><td>2020-10-12T20:15:00.000+0000</td><td>4.790767</td></tr><tr><td>2020-10-12T20:20:00.000+0000</td><td>4.6639175</td></tr><tr><td>2020-10-12T20:25:00.000+0000</td><td>4.5377517</td></tr><tr><td>2020-10-12T20:30:00.000+0000</td><td>4.4126306</td></tr><tr><td>2020-10-12T20:35:00.000+0000</td><td>4.2889304</td></tr><tr><td>2020-10-12T20:40:00.000+0000</td><td>4.1670403</td></tr><tr><td>2020-10-12T20:45:00.000+0000</td><td>4.0473623</td></tr><tr><td>2020-10-12T20:50:00.000+0000</td><td>3.9303074</td></tr><tr><td>2020-10-12T20:55:00.000+0000</td><td>3.816295</td></tr><tr><td>2020-10-12T21:00:00.000+0000</td><td>3.7057521</td></tr><tr><td>2020-10-12T21:05:00.000+0000</td><td>3.5991101</td></tr><tr><td>2020-10-12T21:10:00.000+0000</td><td>3.4968026</td></tr><tr><td>2020-10-12T21:15:00.000+0000</td><td>3.3992648</td></tr><tr><td>2020-10-12T21:20:00.000+0000</td><td>3.30693</td></tr><tr><td>2020-10-12T21:25:00.000+0000</td><td>3.2202282</td></tr><tr><td>2020-10-12T21:30:00.000+0000</td><td>3.1395836</td></tr><tr><td>2020-10-12T21:35:00.000+0000</td><td>3.0654125</td></tr><tr><td>2020-10-12T21:40:00.000+0000</td><td>2.998121</td></tr><tr><td>2020-10-12T21:45:00.000+0000</td><td>2.9381034</td></tr><tr><td>2020-10-12T21:50:00.000+0000</td><td>2.885739</td></tr><tr><td>2020-10-12T21:55:00.000+0000</td><td>2.8413908</td></tr><tr><td>2020-10-12T22:00:00.000+0000</td><td>2.8054032</td></tr><tr><td>2020-10-12T22:05:00.000+0000</td><td>2.7781</td></tr><tr><td>2020-10-12T22:10:00.000+0000</td><td>2.759782</td></tr><tr><td>2020-10-12T22:15:00.000+0000</td><td>2.750726</td></tr><tr><td>2020-10-12T22:20:00.000+0000</td><td>2.7511826</td></tr><tr><td>2020-10-12T22:25:00.000+0000</td><td>2.761374</td></tr><tr><td>2020-10-12T22:30:00.000+0000</td><td>2.781494</td></tr><tr><td>2020-10-12T22:35:00.000+0000</td><td>2.8117049</td></tr><tr><td>2020-10-12T22:40:00.000+0000</td><td>2.8521376</td></tr><tr><td>2020-10-12T22:45:00.000+0000</td><td>2.9028897</td></tr><tr><td>2020-10-12T22:50:00.000+0000</td><td>2.964025</td></tr><tr><td>2020-10-12T22:55:00.000+0000</td><td>3.0355725</td></tr><tr><td>2020-10-12T23:00:00.000+0000</td><td>3.117526</td></tr><tr><td>2020-10-12T23:05:00.000+0000</td><td>3.2098439</td></tr><tr><td>2020-10-12T23:10:00.000+0000</td><td>3.312448</td></tr><tr><td>2020-10-12T23:15:00.000+0000</td><td>3.425225</td></tr><tr><td>2020-10-12T23:20:00.000+0000</td><td>3.5480254</td></tr><tr><td>2020-10-12T23:25:00.000+0000</td><td>3.680664</td></tr><tr><td>2020-10-12T23:30:00.000+0000</td><td>3.8229213</td></tr><tr><td>2020-10-12T23:35:00.000+0000</td><td>3.9745429</td></tr><tr><td>2020-10-12T23:40:00.000+0000</td><td>4.1352415</td></tr><tr><td>2020-10-12T23:45:00.000+0000</td><td>4.3046966</td></tr><tr><td>2020-10-12T23:50:00.000+0000</td><td>4.482558</td></tr><tr><td>2020-10-12T23:55:00.000+0000</td><td>4.668444</td></tr></tbody></table></div>"
      ]
     },
     "metadata": {
      "application/vnd.databricks.v1+output": {
       "addedWidgets": {},
       "aggData": [],
       "aggError": "",
       "aggOverflow": false,
       "aggSchema": [],
       "aggSeriesLimitReached": false,
       "aggType": "",
       "arguments": {},
       "columnCustomDisplayInfos": {},
       "data": [
        [
         "2020-10-11T00:00:00.000+0000",
         4.619425
        ],
        [
         "2020-10-11T00:05:00.000+0000",
         4.8191323
        ],
        [
         "2020-10-11T00:10:00.000+0000",
         5.02556
        ],
        [
         "2020-10-11T00:15:00.000+0000",
         5.238224
        ],
        [
         "2020-10-11T00:20:00.000+0000",
         5.4566207
        ],
        [
         "2020-10-11T00:25:00.000+0000",
         5.6802278
        ],
        [
         "2020-10-11T00:30:00.000+0000",
         5.908505
        ],
        [
         "2020-10-11T00:35:00.000+0000",
         6.1408997
        ],
        [
         "2020-10-11T00:40:00.000+0000",
         6.376847
        ],
        [
         "2020-10-11T00:45:00.000+0000",
         6.6157713
        ],
        [
         "2020-10-11T00:50:00.000+0000",
         6.857092
        ],
        [
         "2020-10-11T00:55:00.000+0000",
         7.1002235
        ],
        [
         "2020-10-11T01:00:00.000+0000",
         7.3445783
        ],
        [
         "2020-10-11T01:05:00.000+0000",
         7.5895686
        ],
        [
         "2020-10-11T01:10:00.000+0000",
         7.8346105
        ],
        [
         "2020-10-11T01:15:00.000+0000",
         8.079126
        ],
        [
         "2020-10-11T01:20:00.000+0000",
         8.322544
        ],
        [
         "2020-10-11T01:25:00.000+0000",
         8.564303
        ],
        [
         "2020-10-11T01:30:00.000+0000",
         8.803857
        ],
        [
         "2020-10-11T01:35:00.000+0000",
         9.04067
        ],
        [
         "2020-10-11T01:40:00.000+0000",
         9.274226
        ],
        [
         "2020-10-11T01:45:00.000+0000",
         9.504026
        ],
        [
         "2020-10-11T01:50:00.000+0000",
         9.729593
        ],
        [
         "2020-10-11T01:55:00.000+0000",
         9.95047
        ],
        [
         "2020-10-11T02:00:00.000+0000",
         10.166224
        ],
        [
         "2020-10-11T02:05:00.000+0000",
         10.376447
        ],
        [
         "2020-10-11T02:10:00.000+0000",
         10.58076
        ],
        [
         "2020-10-11T02:15:00.000+0000",
         10.778807
        ],
        [
         "2020-10-11T02:20:00.000+0000",
         10.9702635
        ],
        [
         "2020-10-11T02:25:00.000+0000",
         11.154834
        ],
        [
         "2020-10-11T02:30:00.000+0000",
         11.332251
        ],
        [
         "2020-10-11T02:35:00.000+0000",
         11.502276
        ],
        [
         "2020-10-11T02:40:00.000+0000",
         11.664706
        ],
        [
         "2020-10-11T02:45:00.000+0000",
         11.8193655
        ],
        [
         "2020-10-11T02:50:00.000+0000",
         11.966107
        ],
        [
         "2020-10-11T02:55:00.000+0000",
         12.104818
        ],
        [
         "2020-10-11T03:00:00.000+0000",
         12.235414
        ],
        [
         "2020-10-11T03:05:00.000+0000",
         12.357837
        ],
        [
         "2020-10-11T03:10:00.000+0000",
         12.472061
        ],
        [
         "2020-10-11T03:15:00.000+0000",
         12.57809
        ],
        [
         "2020-10-11T03:20:00.000+0000",
         12.675948
        ],
        [
         "2020-10-11T03:25:00.000+0000",
         12.765692
        ],
        [
         "2020-10-11T03:30:00.000+0000",
         12.847399
        ],
        [
         "2020-10-11T03:35:00.000+0000",
         12.921171
        ],
        [
         "2020-10-11T03:40:00.000+0000",
         12.987133
        ],
        [
         "2020-10-11T03:45:00.000+0000",
         13.045428
        ],
        [
         "2020-10-11T03:50:00.000+0000",
         13.096221
        ],
        [
         "2020-10-11T03:55:00.000+0000",
         13.139691
        ],
        [
         "2020-10-11T04:00:00.000+0000",
         13.176037
        ],
        [
         "2020-10-11T04:05:00.000+0000",
         13.205468
        ],
        [
         "2020-10-11T04:10:00.000+0000",
         13.228209
        ],
        [
         "2020-10-11T04:15:00.000+0000",
         13.244491
        ],
        [
         "2020-10-11T04:20:00.000+0000",
         13.254559
        ],
        [
         "2020-10-11T04:25:00.000+0000",
         13.258662
        ],
        [
         "2020-10-11T04:30:00.000+0000",
         13.257056
        ],
        [
         "2020-10-11T04:35:00.000+0000",
         13.250001
        ],
        [
         "2020-10-11T04:40:00.000+0000",
         13.237758
        ],
        [
         "2020-10-11T04:45:00.000+0000",
         13.22059
        ],
        [
         "2020-10-11T04:50:00.000+0000",
         13.198758
        ],
        [
         "2020-10-11T04:55:00.000+0000",
         13.1725235
        ],
        [
         "2020-10-11T05:00:00.000+0000",
         13.142142
        ],
        [
         "2020-10-11T05:05:00.000+0000",
         13.107865
        ],
        [
         "2020-10-11T05:10:00.000+0000",
         13.06994
        ],
        [
         "2020-10-11T05:15:00.000+0000",
         13.028604
        ],
        [
         "2020-10-11T05:20:00.000+0000",
         12.984089
        ],
        [
         "2020-10-11T05:25:00.000+0000",
         12.936617
        ],
        [
         "2020-10-11T05:30:00.000+0000",
         12.886403
        ],
        [
         "2020-10-11T05:35:00.000+0000",
         12.833649
        ],
        [
         "2020-10-11T05:40:00.000+0000",
         12.778548
        ],
        [
         "2020-10-11T05:45:00.000+0000",
         12.721283
        ],
        [
         "2020-10-11T05:50:00.000+0000",
         12.662024
        ],
        [
         "2020-10-11T05:55:00.000+0000",
         12.600931
        ],
        [
         "2020-10-11T06:00:00.000+0000",
         12.538155
        ],
        [
         "2020-10-11T06:05:00.000+0000",
         12.473829
        ],
        [
         "2020-10-11T06:10:00.000+0000",
         12.408084
        ],
        [
         "2020-10-11T06:15:00.000+0000",
         12.341033
        ],
        [
         "2020-10-11T06:20:00.000+0000",
         12.272783
        ],
        [
         "2020-10-11T06:25:00.000+0000",
         12.203429
        ],
        [
         "2020-10-11T06:30:00.000+0000",
         12.133059
        ],
        [
         "2020-10-11T06:35:00.000+0000",
         12.061748
        ],
        [
         "2020-10-11T06:40:00.000+0000",
         11.989568
        ],
        [
         "2020-10-11T06:45:00.000+0000",
         11.91658
        ],
        [
         "2020-10-11T06:50:00.000+0000",
         11.842841
        ],
        [
         "2020-10-11T06:55:00.000+0000",
         11.768402
        ],
        [
         "2020-10-11T07:00:00.000+0000",
         11.693307
        ],
        [
         "2020-10-11T07:05:00.000+0000",
         11.617599
        ],
        [
         "2020-10-11T07:10:00.000+0000",
         11.541314
        ],
        [
         "2020-10-11T07:15:00.000+0000",
         11.464492
        ],
        [
         "2020-10-11T07:20:00.000+0000",
         11.387165
        ],
        [
         "2020-10-11T07:25:00.000+0000",
         11.30937
        ],
        [
         "2020-10-11T07:30:00.000+0000",
         11.231141
        ],
        [
         "2020-10-11T07:35:00.000+0000",
         11.152515
        ],
        [
         "2020-10-11T07:40:00.000+0000",
         11.07353
        ],
        [
         "2020-10-11T07:45:00.000+0000",
         10.994226
        ],
        [
         "2020-10-11T07:50:00.000+0000",
         10.914651
        ],
        [
         "2020-10-11T07:55:00.000+0000",
         10.83485
        ],
        [
         "2020-10-11T08:00:00.000+0000",
         10.754879
        ],
        [
         "2020-10-11T08:05:00.000+0000",
         10.674793
        ],
        [
         "2020-10-11T08:10:00.000+0000",
         10.594659
        ],
        [
         "2020-10-11T08:15:00.000+0000",
         10.5145445
        ],
        [
         "2020-10-11T08:20:00.000+0000",
         10.434525
        ],
        [
         "2020-10-11T08:25:00.000+0000",
         10.35468
        ],
        [
         "2020-10-11T08:30:00.000+0000",
         10.275101
        ],
        [
         "2020-10-11T08:35:00.000+0000",
         10.195878
        ],
        [
         "2020-10-11T08:40:00.000+0000",
         10.117112
        ],
        [
         "2020-10-11T08:45:00.000+0000",
         10.038909
        ],
        [
         "2020-10-11T08:50:00.000+0000",
         9.961379
        ],
        [
         "2020-10-11T08:55:00.000+0000",
         9.884637
        ],
        [
         "2020-10-11T09:00:00.000+0000",
         9.808805
        ],
        [
         "2020-10-11T09:05:00.000+0000",
         9.734008
        ],
        [
         "2020-10-11T09:10:00.000+0000",
         9.660373
        ],
        [
         "2020-10-11T09:15:00.000+0000",
         9.588032
        ],
        [
         "2020-10-11T09:20:00.000+0000",
         9.517118
        ],
        [
         "2020-10-11T09:25:00.000+0000",
         9.447766
        ],
        [
         "2020-10-11T09:30:00.000+0000",
         9.380112
        ],
        [
         "2020-10-11T09:35:00.000+0000",
         9.314289
        ],
        [
         "2020-10-11T09:40:00.000+0000",
         9.250432
        ],
        [
         "2020-10-11T09:45:00.000+0000",
         9.188674
        ],
        [
         "2020-10-11T09:50:00.000+0000",
         9.129142
        ],
        [
         "2020-10-11T09:55:00.000+0000",
         9.07196
        ],
        [
         "2020-10-11T10:00:00.000+0000",
         9.017251
        ],
        [
         "2020-10-11T10:05:00.000+0000",
         8.965128
        ],
        [
         "2020-10-11T10:10:00.000+0000",
         8.915697
        ],
        [
         "2020-10-11T10:15:00.000+0000",
         8.86906
        ],
        [
         "2020-10-11T10:20:00.000+0000",
         8.825306
        ],
        [
         "2020-10-11T10:25:00.000+0000",
         8.78452
        ],
        [
         "2020-10-11T10:30:00.000+0000",
         8.746773
        ],
        [
         "2020-10-11T10:35:00.000+0000",
         8.712127
        ],
        [
         "2020-10-11T10:40:00.000+0000",
         8.680632
        ],
        [
         "2020-10-11T10:45:00.000+0000",
         8.652327
        ],
        [
         "2020-10-11T10:50:00.000+0000",
         8.627237
        ],
        [
         "2020-10-11T10:55:00.000+0000",
         8.605377
        ],
        [
         "2020-10-11T11:00:00.000+0000",
         8.586747
        ],
        [
         "2020-10-11T11:05:00.000+0000",
         8.571334
        ],
        [
         "2020-10-11T11:10:00.000+0000",
         8.559111
        ],
        [
         "2020-10-11T11:15:00.000+0000",
         8.550037
        ],
        [
         "2020-10-11T11:20:00.000+0000",
         8.544062
        ],
        [
         "2020-10-11T11:25:00.000+0000",
         8.541114
        ],
        [
         "2020-10-11T11:30:00.000+0000",
         8.541116
        ],
        [
         "2020-10-11T11:35:00.000+0000",
         8.543974
        ],
        [
         "2020-10-11T11:40:00.000+0000",
         8.5495825
        ],
        [
         "2020-10-11T11:45:00.000+0000",
         8.557823
        ],
        [
         "2020-10-11T11:50:00.000+0000",
         8.568567
        ],
        [
         "2020-10-11T11:55:00.000+0000",
         8.581674
        ],
        [
         "2020-10-11T12:00:00.000+0000",
         8.596993
        ],
        [
         "2020-10-11T12:05:00.000+0000",
         8.614367
        ],
        [
         "2020-10-11T12:10:00.000+0000",
         8.633625
        ],
        [
         "2020-10-11T12:15:00.000+0000",
         8.6545925
        ],
        [
         "2020-10-11T12:20:00.000+0000",
         8.677088
        ],
        [
         "2020-10-11T12:25:00.000+0000",
         8.700922
        ],
        [
         "2020-10-11T12:30:00.000+0000",
         8.725903
        ],
        [
         "2020-10-11T12:35:00.000+0000",
         8.751834
        ],
        [
         "2020-10-11T12:40:00.000+0000",
         8.778519
        ],
        [
         "2020-10-11T12:45:00.000+0000",
         8.805755
        ],
        [
         "2020-10-11T12:50:00.000+0000",
         8.8333435
        ],
        [
         "2020-10-11T12:55:00.000+0000",
         8.861086
        ],
        [
         "2020-10-11T13:00:00.000+0000",
         8.888784
        ],
        [
         "2020-10-11T13:05:00.000+0000",
         8.916245
        ],
        [
         "2020-10-11T13:10:00.000+0000",
         8.943277
        ],
        [
         "2020-10-11T13:15:00.000+0000",
         8.969697
        ],
        [
         "2020-10-11T13:20:00.000+0000",
         8.995323
        ],
        [
         "2020-10-11T13:25:00.000+0000",
         9.019986
        ],
        [
         "2020-10-11T13:30:00.000+0000",
         9.043519
        ],
        [
         "2020-10-11T13:35:00.000+0000",
         9.065768
        ],
        [
         "2020-10-11T13:40:00.000+0000",
         9.086585
        ],
        [
         "2020-10-11T13:45:00.000+0000",
         9.105833
        ],
        [
         "2020-10-11T13:50:00.000+0000",
         9.123386
        ],
        [
         "2020-10-11T13:55:00.000+0000",
         9.139128
        ],
        [
         "2020-10-11T14:00:00.000+0000",
         9.152954
        ],
        [
         "2020-10-11T14:05:00.000+0000",
         9.164771
        ],
        [
         "2020-10-11T14:10:00.000+0000",
         9.174499
        ],
        [
         "2020-10-11T14:15:00.000+0000",
         9.182065
        ],
        [
         "2020-10-11T14:20:00.000+0000",
         9.187412
        ],
        [
         "2020-10-11T14:25:00.000+0000",
         9.190495
        ],
        [
         "2020-10-11T14:30:00.000+0000",
         9.191277
        ],
        [
         "2020-10-11T14:35:00.000+0000",
         9.189734
        ],
        [
         "2020-10-11T14:40:00.000+0000",
         9.185853
        ],
        [
         "2020-10-11T14:45:00.000+0000",
         9.179631
        ],
        [
         "2020-10-11T14:50:00.000+0000",
         9.171075
        ],
        [
         "2020-10-11T14:55:00.000+0000",
         9.160199
        ],
        [
         "2020-10-11T15:00:00.000+0000",
         9.147029
        ],
        [
         "2020-10-11T15:05:00.000+0000",
         9.131596
        ],
        [
         "2020-10-11T15:10:00.000+0000",
         9.113937
        ],
        [
         "2020-10-11T15:15:00.000+0000",
         9.094101
        ],
        [
         "2020-10-11T15:20:00.000+0000",
         9.072133
        ],
        [
         "2020-10-11T15:25:00.000+0000",
         9.048091
        ],
        [
         "2020-10-11T15:30:00.000+0000",
         9.022031
        ],
        [
         "2020-10-11T15:35:00.000+0000",
         8.994012
        ],
        [
         "2020-10-11T15:40:00.000+0000",
         8.964096
        ],
        [
         "2020-10-11T15:45:00.000+0000",
         8.932344
        ],
        [
         "2020-10-11T15:50:00.000+0000",
         8.898819
        ],
        [
         "2020-10-11T15:55:00.000+0000",
         8.863579
        ],
        [
         "2020-10-11T16:00:00.000+0000",
         8.826681
        ],
        [
         "2020-10-11T16:05:00.000+0000",
         8.78818
        ],
        [
         "2020-10-11T16:10:00.000+0000",
         8.748127
        ],
        [
         "2020-10-11T16:15:00.000+0000",
         8.706565
        ],
        [
         "2020-10-11T16:20:00.000+0000",
         8.663536
        ],
        [
         "2020-10-11T16:25:00.000+0000",
         8.619073
        ],
        [
         "2020-10-11T16:30:00.000+0000",
         8.573204
        ],
        [
         "2020-10-11T16:35:00.000+0000",
         8.525948
        ],
        [
         "2020-10-11T16:40:00.000+0000",
         8.477319
        ],
        [
         "2020-10-11T16:45:00.000+0000",
         8.427321
        ],
        [
         "2020-10-11T16:50:00.000+0000",
         8.375954
        ],
        [
         "2020-10-11T16:55:00.000+0000",
         8.323204
        ],
        [
         "2020-10-11T17:00:00.000+0000",
         8.269053
        ],
        [
         "2020-10-11T17:05:00.000+0000",
         8.213476
        ],
        [
         "2020-10-11T17:10:00.000+0000",
         8.156439
        ],
        [
         "2020-10-11T17:15:00.000+0000",
         8.0978985
        ],
        [
         "2020-10-11T17:20:00.000+0000",
         8.037807
        ],
        [
         "2020-10-11T17:25:00.000+0000",
         7.9761114
        ],
        [
         "2020-10-11T17:30:00.000+0000",
         7.9127507
        ],
        [
         "2020-10-11T17:35:00.000+0000",
         7.8476596
        ],
        [
         "2020-10-11T17:40:00.000+0000",
         7.78077
        ],
        [
         "2020-10-11T17:45:00.000+0000",
         7.7120085
        ],
        [
         "2020-10-11T17:50:00.000+0000",
         7.6413007
        ],
        [
         "2020-10-11T17:55:00.000+0000",
         7.5685716
        ],
        [
         "2020-10-11T18:00:00.000+0000",
         7.4937444
        ],
        [
         "2020-10-11T18:05:00.000+0000",
         7.4167457
        ],
        [
         "2020-10-11T18:10:00.000+0000",
         7.337502
        ],
        [
         "2020-10-11T18:15:00.000+0000",
         7.255945
        ],
        [
         "2020-10-11T18:20:00.000+0000",
         7.1720114
        ],
        [
         "2020-10-11T18:25:00.000+0000",
         7.085643
        ],
        [
         "2020-10-11T18:30:00.000+0000",
         6.9967895
        ],
        [
         "2020-10-11T18:35:00.000+0000",
         6.9054093
        ],
        [
         "2020-10-11T18:40:00.000+0000",
         6.811472
        ],
        [
         "2020-10-11T18:45:00.000+0000",
         6.7149563
        ],
        [
         "2020-10-11T18:50:00.000+0000",
         6.615855
        ],
        [
         "2020-10-11T18:55:00.000+0000",
         6.5141754
        ],
        [
         "2020-10-11T19:00:00.000+0000",
         6.4099374
        ],
        [
         "2020-10-11T19:05:00.000+0000",
         6.3031783
        ],
        [
         "2020-10-11T19:10:00.000+0000",
         6.193952
        ],
        [
         "2020-10-11T19:15:00.000+0000",
         6.0823298
        ],
        [
         "2020-10-11T19:20:00.000+0000",
         5.9684014
        ],
        [
         "2020-10-11T19:25:00.000+0000",
         5.852277
        ],
        [
         "2020-10-11T19:30:00.000+0000",
         5.734084
        ],
        [
         "2020-10-11T19:35:00.000+0000",
         5.6139736
        ],
        [
         "2020-10-11T19:40:00.000+0000",
         5.4921136
        ],
        [
         "2020-10-11T19:45:00.000+0000",
         5.3686957
        ],
        [
         "2020-10-11T19:50:00.000+0000",
         5.2439303
        ],
        [
         "2020-10-11T19:55:00.000+0000",
         5.1180496
        ],
        [
         "2020-10-11T20:00:00.000+0000",
         4.991306
        ],
        [
         "2020-10-11T20:05:00.000+0000",
         4.8639708
        ],
        [
         "2020-10-11T20:10:00.000+0000",
         4.736336
        ],
        [
         "2020-10-11T20:15:00.000+0000",
         4.6087127
        ],
        [
         "2020-10-11T20:20:00.000+0000",
         4.4814286
        ],
        [
         "2020-10-11T20:25:00.000+0000",
         4.35483
        ],
        [
         "2020-10-11T20:30:00.000+0000",
         4.229277
        ],
        [
         "2020-10-11T20:35:00.000+0000",
         4.1051474
        ],
        [
         "2020-10-11T20:40:00.000+0000",
         3.9828293
        ],
        [
         "2020-10-11T20:45:00.000+0000",
         3.8627243
        ],
        [
         "2020-10-11T20:50:00.000+0000",
         3.7452438
        ],
        [
         "2020-10-11T20:55:00.000+0000",
         3.6308076
        ],
        [
         "2020-10-11T21:00:00.000+0000",
         3.5198424
        ],
        [
         "2020-10-11T21:05:00.000+0000",
         3.4127793
        ],
        [
         "2020-10-11T21:10:00.000+0000",
         3.3100526
        ],
        [
         "2020-10-11T21:15:00.000+0000",
         3.2120967
        ],
        [
         "2020-10-11T21:20:00.000+0000",
         3.1193457
        ],
        [
         "2020-10-11T21:25:00.000+0000",
         3.0322287
        ],
        [
         "2020-10-11T21:30:00.000+0000",
         2.9511707
        ],
        [
         "2020-10-11T21:35:00.000+0000",
         2.8765874
        ],
        [
         "2020-10-11T21:40:00.000+0000",
         2.8088853
        ],
        [
         "2020-10-11T21:45:00.000+0000",
         2.7484586
        ],
        [
         "2020-10-11T21:50:00.000+0000",
         2.6956868
        ],
        [
         "2020-10-11T21:55:00.000+0000",
         2.6509326
        ],
        [
         "2020-10-11T22:00:00.000+0000",
         2.6145403
        ],
        [
         "2020-10-11T22:05:00.000+0000",
         2.5868337
        ],
        [
         "2020-10-11T22:10:00.000+0000",
         2.568114
        ],
        [
         "2020-10-11T22:15:00.000+0000",
         2.558658
        ],
        [
         "2020-10-11T22:20:00.000+0000",
         2.5587156
        ],
        [
         "2020-10-11T22:25:00.000+0000",
         2.5685098
        ],
        [
         "2020-10-11T22:30:00.000+0000",
         2.588234
        ],
        [
         "2020-10-11T22:35:00.000+0000",
         2.6180508
        ],
        [
         "2020-10-11T22:40:00.000+0000",
         2.6580906
        ],
        [
         "2020-10-11T22:45:00.000+0000",
         2.7084513
        ],
        [
         "2020-10-11T22:50:00.000+0000",
         2.7691967
        ],
        [
         "2020-10-11T22:55:00.000+0000",
         2.8403556
        ],
        [
         "2020-10-11T23:00:00.000+0000",
         2.9219224
        ],
        [
         "2020-10-11T23:05:00.000+0000",
         3.0138547
        ],
        [
         "2020-10-11T23:10:00.000+0000",
         3.1160748
        ],
        [
         "2020-10-11T23:15:00.000+0000",
         3.2284694
        ],
        [
         "2020-10-11T23:20:00.000+0000",
         3.3508885
        ],
        [
         "2020-10-11T23:25:00.000+0000",
         3.4831476
        ],
        [
         "2020-10-11T23:30:00.000+0000",
         3.6250267
        ],
        [
         "2020-10-11T23:35:00.000+0000",
         3.7762716
        ],
        [
         "2020-10-11T23:40:00.000+0000",
         3.9365947
        ],
        [
         "2020-10-11T23:45:00.000+0000",
         4.105676
        ],
        [
         "2020-10-11T23:50:00.000+0000",
         4.283165
        ],
        [
         "2020-10-11T23:55:00.000+0000",
         4.4686804
        ],
        [
         "2020-10-12T00:00:00.000+0000",
         4.6618133
        ],
        [
         "2020-10-12T00:05:00.000+0000",
         4.862128
        ],
        [
         "2020-10-12T00:10:00.000+0000",
         5.069164
        ],
        [
         "2020-10-12T00:15:00.000+0000",
         5.282438
        ],
        [
         "2020-10-12T00:20:00.000+0000",
         5.5014453
        ],
        [
         "2020-10-12T00:25:00.000+0000",
         5.725664
        ],
        [
         "2020-10-12T00:30:00.000+0000",
         5.954555
        ],
        [
         "2020-10-12T00:35:00.000+0000",
         6.187564
        ],
        [
         "2020-10-12T00:40:00.000+0000",
         6.4241257
        ],
        [
         "2020-10-12T00:45:00.000+0000",
         6.6636667
        ],
        [
         "2020-10-12T00:50:00.000+0000",
         6.905605
        ],
        [
         "2020-10-12T00:55:00.000+0000",
         7.1493545
        ],
        [
         "2020-10-12T01:00:00.000+0000",
         7.3943286
        ],
        [
         "2020-10-12T01:05:00.000+0000",
         7.639939
        ],
        [
         "2020-10-12T01:10:00.000+0000",
         7.885602
        ],
        [
         "2020-10-12T01:15:00.000+0000",
         8.130739
        ],
        [
         "2020-10-12T01:20:00.000+0000",
         8.374781
        ],
        [
         "2020-10-12T01:25:00.000+0000",
         8.617164
        ],
        [
         "2020-10-12T01:30:00.000+0000",
         8.857342
        ],
        [
         "2020-10-12T01:35:00.000+0000",
         9.09478
        ],
        [
         "2020-10-12T01:40:00.000+0000",
         9.328962
        ],
        [
         "2020-10-12T01:45:00.000+0000",
         9.559389
        ],
        [
         "2020-10-12T01:50:00.000+0000",
         9.7855835
        ],
        [
         "2020-10-12T01:55:00.000+0000",
         10.007089
        ],
        [
         "2020-10-12T02:00:00.000+0000",
         10.223471
        ],
        [
         "2020-10-12T02:05:00.000+0000",
         10.434324
        ],
        [
         "2020-10-12T02:10:00.000+0000",
         10.639267
        ],
        [
         "2020-10-12T02:15:00.000+0000",
         10.837945
        ],
        [
         "2020-10-12T02:20:00.000+0000",
         11.030034
        ],
        [
         "2020-10-12T02:25:00.000+0000",
         11.215236
        ],
        [
         "2020-10-12T02:30:00.000+0000",
         11.393285
        ],
        [
         "2020-10-12T02:35:00.000+0000",
         11.563944
        ],
        [
         "2020-10-12T02:40:00.000+0000",
         11.727008
        ],
        [
         "2020-10-12T02:45:00.000+0000",
         11.8823
        ],
        [
         "2020-10-12T02:50:00.000+0000",
         12.029676
        ],
        [
         "2020-10-12T02:55:00.000+0000",
         12.169023
        ],
        [
         "2020-10-12T03:00:00.000+0000",
         12.300253
        ],
        [
         "2020-10-12T03:05:00.000+0000",
         12.423312
        ],
        [
         "2020-10-12T03:10:00.000+0000",
         12.538173
        ],
        [
         "2020-10-12T03:15:00.000+0000",
         12.644837
        ],
        [
         "2020-10-12T03:20:00.000+0000",
         12.743333
        ],
        [
         "2020-10-12T03:25:00.000+0000",
         12.833714
        ],
        [
         "2020-10-12T03:30:00.000+0000",
         12.916058
        ],
        [
         "2020-10-12T03:35:00.000+0000",
         12.990467
        ],
        [
         "2020-10-12T03:40:00.000+0000",
         13.057067
        ],
        [
         "2020-10-12T03:45:00.000+0000",
         13.116
        ],
        [
         "2020-10-12T03:50:00.000+0000",
         13.167431
        ],
        [
         "2020-10-12T03:55:00.000+0000",
         13.21154
        ],
        [
         "2020-10-12T04:00:00.000+0000",
         13.248525
        ],
        [
         "2020-10-12T04:05:00.000+0000",
         13.278594
        ],
        [
         "2020-10-12T04:10:00.000+0000",
         13.301973
        ],
        [
         "2020-10-12T04:15:00.000+0000",
         13.318894
        ],
        [
         "2020-10-12T04:20:00.000+0000",
         13.329601
        ],
        [
         "2020-10-12T04:25:00.000+0000",
         13.334344
        ],
        [
         "2020-10-12T04:30:00.000+0000",
         13.333377
        ],
        [
         "2020-10-12T04:35:00.000+0000",
         13.326961
        ],
        [
         "2020-10-12T04:40:00.000+0000",
         13.315356
        ],
        [
         "2020-10-12T04:45:00.000+0000",
         13.298827
        ],
        [
         "2020-10-12T04:50:00.000+0000",
         13.277635
        ],
        [
         "2020-10-12T04:55:00.000+0000",
         13.252039
        ],
        [
         "2020-10-12T05:00:00.000+0000",
         13.222296
        ],
        [
         "2020-10-12T05:05:00.000+0000",
         13.188658
        ],
        [
         "2020-10-12T05:10:00.000+0000",
         13.151371
        ],
        [
         "2020-10-12T05:15:00.000+0000",
         13.110673
        ],
        [
         "2020-10-12T05:20:00.000+0000",
         13.066796
        ],
        [
         "2020-10-12T05:25:00.000+0000",
         13.019963
        ],
        [
         "2020-10-12T05:30:00.000+0000",
         12.9703865
        ],
        [
         "2020-10-12T05:35:00.000+0000",
         12.91827
        ],
        [
         "2020-10-12T05:40:00.000+0000",
         12.863807
        ],
        [
         "2020-10-12T05:45:00.000+0000",
         12.8071785
        ],
        [
         "2020-10-12T05:50:00.000+0000",
         12.748556
        ],
        [
         "2020-10-12T05:55:00.000+0000",
         12.688101
        ],
        [
         "2020-10-12T06:00:00.000+0000",
         12.625959
        ],
        [
         "2020-10-12T06:05:00.000+0000",
         12.56227
        ],
        [
         "2020-10-12T06:10:00.000+0000",
         12.497161
        ],
        [
         "2020-10-12T06:15:00.000+0000",
         12.430745
        ],
        [
         "2020-10-12T06:20:00.000+0000",
         12.36313
        ],
        [
         "2020-10-12T06:25:00.000+0000",
         12.294411
        ],
        [
         "2020-10-12T06:30:00.000+0000",
         12.224673
        ],
        [
         "2020-10-12T06:35:00.000+0000",
         12.153996
        ],
        [
         "2020-10-12T06:40:00.000+0000",
         12.08245
        ],
        [
         "2020-10-12T06:45:00.000+0000",
         12.010095
        ],
        [
         "2020-10-12T06:50:00.000+0000",
         11.936989
        ],
        [
         "2020-10-12T06:55:00.000+0000",
         11.863181
        ],
        [
         "2020-10-12T07:00:00.000+0000",
         11.788717
        ],
        [
         "2020-10-12T07:05:00.000+0000",
         11.713639
        ],
        [
         "2020-10-12T07:10:00.000+0000",
         11.637985
        ],
        [
         "2020-10-12T07:15:00.000+0000",
         11.561792
        ],
        [
         "2020-10-12T07:20:00.000+0000",
         11.485095
        ],
        [
         "2020-10-12T07:25:00.000+0000",
         11.4079275
        ],
        [
         "2020-10-12T07:30:00.000+0000",
         11.330327
        ],
        [
         "2020-10-12T07:35:00.000+0000",
         11.252328
        ],
        [
         "2020-10-12T07:40:00.000+0000",
         11.173969
        ],
        [
         "2020-10-12T07:45:00.000+0000",
         11.095292
        ],
        [
         "2020-10-12T07:50:00.000+0000",
         11.016341
        ],
        [
         "2020-10-12T07:55:00.000+0000",
         10.937165
        ],
        [
         "2020-10-12T08:00:00.000+0000",
         10.857818
        ],
        [
         "2020-10-12T08:05:00.000+0000",
         10.778356
        ],
        [
         "2020-10-12T08:10:00.000+0000",
         10.698843
        ],
        [
         "2020-10-12T08:15:00.000+0000",
         10.61935
        ],
        [
         "2020-10-12T08:20:00.000+0000",
         10.539951
        ],
        [
         "2020-10-12T08:25:00.000+0000",
         10.460728
        ],
        [
         "2020-10-12T08:30:00.000+0000",
         10.381767
        ],
        [
         "2020-10-12T08:35:00.000+0000",
         10.303164
        ],
        [
         "2020-10-12T08:40:00.000+0000",
         10.225016
        ],
        [
         "2020-10-12T08:45:00.000+0000",
         10.1474285
        ],
        [
         "2020-10-12T08:50:00.000+0000",
         10.070515
        ],
        [
         "2020-10-12T08:55:00.000+0000",
         9.994389
        ],
        [
         "2020-10-12T09:00:00.000+0000",
         9.919171
        ],
        [
         "2020-10-12T09:05:00.000+0000",
         9.844988
        ],
        [
         "2020-10-12T09:10:00.000+0000",
         9.771965
        ],
        [
         "2020-10-12T09:15:00.000+0000",
         9.700236
        ],
        [
         "2020-10-12T09:20:00.000+0000",
         9.629933
        ],
        [
         "2020-10-12T09:25:00.000+0000",
         9.561192
        ],
        [
         "2020-10-12T09:30:00.000+0000",
         9.494145
        ],
        [
         "2020-10-12T09:35:00.000+0000",
         9.428931
        ],
        [
         "2020-10-12T09:40:00.000+0000",
         9.365682
        ],
        [
         "2020-10-12T09:45:00.000+0000",
         9.304529
        ],
        [
         "2020-10-12T09:50:00.000+0000",
         9.245603
        ],
        [
         "2020-10-12T09:55:00.000+0000",
         9.189026
        ],
        [
         "2020-10-12T10:00:00.000+0000",
         9.13492
        ],
        [
         "2020-10-12T10:05:00.000+0000",
         9.083398
        ],
        [
         "2020-10-12T10:10:00.000+0000",
         9.034569
        ],
        [
         "2020-10-12T10:15:00.000+0000",
         8.988531
        ],
        [
         "2020-10-12T10:20:00.000+0000",
         8.945377
        ],
        [
         "2020-10-12T10:25:00.000+0000",
         8.9051895
        ],
        [
         "2020-10-12T10:30:00.000+0000",
         8.868039
        ],
        [
         "2020-10-12T10:35:00.000+0000",
         8.833989
        ],
        [
         "2020-10-12T10:40:00.000+0000",
         8.803089
        ],
        [
         "2020-10-12T10:45:00.000+0000",
         8.775377
        ],
        [
         "2020-10-12T10:50:00.000+0000",
         8.750881
        ],
        [
         "2020-10-12T10:55:00.000+0000",
         8.729612
        ],
        [
         "2020-10-12T11:00:00.000+0000",
         8.711574
        ],
        [
         "2020-10-12T11:05:00.000+0000",
         8.69675
        ],
        [
         "2020-10-12T11:10:00.000+0000",
         8.685115
        ],
        [
         "2020-10-12T11:15:00.000+0000",
         8.676628
        ],
        [
         "2020-10-12T11:20:00.000+0000",
         8.671238
        ],
        [
         "2020-10-12T11:25:00.000+0000",
         8.668876
        ],
        [
         "2020-10-12T11:30:00.000+0000",
         8.669461
        ],
        [
         "2020-10-12T11:35:00.000+0000",
         8.672902
        ],
        [
         "2020-10-12T11:40:00.000+0000",
         8.679091
        ],
        [
         "2020-10-12T11:45:00.000+0000",
         8.687912
        ],
        [
         "2020-10-12T11:50:00.000+0000",
         8.699235
        ],
        [
         "2020-10-12T11:55:00.000+0000",
         8.712919
        ],
        [
         "2020-10-12T12:00:00.000+0000",
         8.728815
        ],
        [
         "2020-10-12T12:05:00.000+0000",
         8.746763
        ],
        [
         "2020-10-12T12:10:00.000+0000",
         8.766596
        ],
        [
         "2020-10-12T12:15:00.000+0000",
         8.7881365
        ],
        [
         "2020-10-12T12:20:00.000+0000",
         8.811203
        ],
        [
         "2020-10-12T12:25:00.000+0000",
         8.835607
        ],
        [
         "2020-10-12T12:30:00.000+0000",
         8.861156
        ],
        [
         "2020-10-12T12:35:00.000+0000",
         8.887656
        ],
        [
         "2020-10-12T12:40:00.000+0000",
         8.9149065
        ],
        [
         "2020-10-12T12:45:00.000+0000",
         8.942708
        ],
        [
         "2020-10-12T12:50:00.000+0000",
         8.970861
        ],
        [
         "2020-10-12T12:55:00.000+0000",
         8.9991665
        ],
        [
         "2020-10-12T13:00:00.000+0000",
         9.027426
        ],
        [
         "2020-10-12T13:05:00.000+0000",
         9.055447
        ],
        [
         "2020-10-12T13:10:00.000+0000",
         9.083037
        ],
        [
         "2020-10-12T13:15:00.000+0000",
         9.110014
        ],
        [
         "2020-10-12T13:20:00.000+0000",
         9.136197
        ],
        [
         "2020-10-12T13:25:00.000+0000",
         9.161414
        ],
        [
         "2020-10-12T13:30:00.000+0000",
         9.1855
        ],
        [
         "2020-10-12T13:35:00.000+0000",
         9.208301
        ],
        [
         "2020-10-12T13:40:00.000+0000",
         9.229669
        ],
        [
         "2020-10-12T13:45:00.000+0000",
         9.249466
        ],
        [
         "2020-10-12T13:50:00.000+0000",
         9.267567
        ],
        [
         "2020-10-12T13:55:00.000+0000",
         9.283855
        ],
        [
         "2020-10-12T14:00:00.000+0000",
         9.298227
        ],
        [
         "2020-10-12T14:05:00.000+0000",
         9.310588
        ],
        [
         "2020-10-12T14:10:00.000+0000",
         9.320857
        ],
        [
         "2020-10-12T14:15:00.000+0000",
         9.328964
        ],
        [
         "2020-10-12T14:20:00.000+0000",
         9.334852
        ],
        [
         "2020-10-12T14:25:00.000+0000",
         9.338472
        ],
        [
         "2020-10-12T14:30:00.000+0000",
         9.339791
        ],
        [
         "2020-10-12T14:35:00.000+0000",
         9.338784
        ],
        [
         "2020-10-12T14:40:00.000+0000",
         9.335438
        ],
        [
         "2020-10-12T14:45:00.000+0000",
         9.329748
        ],
        [
         "2020-10-12T14:50:00.000+0000",
         9.321723
        ],
        [
         "2020-10-12T14:55:00.000+0000",
         9.311378
        ],
        [
         "2020-10-12T15:00:00.000+0000",
         9.298736
        ],
        [
         "2020-10-12T15:05:00.000+0000",
         9.28383
        ],
        [
         "2020-10-12T15:10:00.000+0000",
         9.266697
        ],
        [
         "2020-10-12T15:15:00.000+0000",
         9.247384
        ],
        [
         "2020-10-12T15:20:00.000+0000",
         9.22594
        ],
        [
         "2020-10-12T15:25:00.000+0000",
         9.202419
        ],
        [
         "2020-10-12T15:30:00.000+0000",
         9.176878
        ],
        [
         "2020-10-12T15:35:00.000+0000",
         9.149378
        ],
        [
         "2020-10-12T15:40:00.000+0000",
         9.119979
        ],
        [
         "2020-10-12T15:45:00.000+0000",
         9.088743
        ],
        [
         "2020-10-12T15:50:00.000+0000",
         9.055732
        ],
        [
         "2020-10-12T15:55:00.000+0000",
         9.021005
        ],
        [
         "2020-10-12T16:00:00.000+0000",
         8.984618
        ],
        [
         "2020-10-12T16:05:00.000+0000",
         8.946628
        ],
        [
         "2020-10-12T16:10:00.000+0000",
         8.907082
        ],
        [
         "2020-10-12T16:15:00.000+0000",
         8.866027
        ],
        [
         "2020-10-12T16:20:00.000+0000",
         8.8235035
        ],
        [
         "2020-10-12T16:25:00.000+0000",
         8.779545
        ],
        [
         "2020-10-12T16:30:00.000+0000",
         8.734178
        ],
        [
         "2020-10-12T16:35:00.000+0000",
         8.687423
        ],
        [
         "2020-10-12T16:40:00.000+0000",
         8.639294
        ],
        [
         "2020-10-12T16:45:00.000+0000",
         8.589794
        ],
        [
         "2020-10-12T16:50:00.000+0000",
         8.538923
        ],
        [
         "2020-10-12T16:55:00.000+0000",
         8.486669
        ],
        [
         "2020-10-12T17:00:00.000+0000",
         8.433012
        ],
        [
         "2020-10-12T17:05:00.000+0000",
         8.377927
        ],
        [
         "2020-10-12T17:10:00.000+0000",
         8.32138
        ],
        [
         "2020-10-12T17:15:00.000+0000",
         8.263329
        ],
        [
         "2020-10-12T17:20:00.000+0000",
         8.203726
        ],
        [
         "2020-10-12T17:25:00.000+0000",
         8.142516
        ],
        [
         "2020-10-12T17:30:00.000+0000",
         8.07964
        ],
        [
         "2020-10-12T17:35:00.000+0000",
         8.015033
        ],
        [
         "2020-10-12T17:40:00.000+0000",
         7.948624
        ],
        [
         "2020-10-12T17:45:00.000+0000",
         7.8803434
        ],
        [
         "2020-10-12T17:50:00.000+0000",
         7.8101144
        ],
        [
         "2020-10-12T17:55:00.000+0000",
         7.7378626
        ],
        [
         "2020-10-12T18:00:00.000+0000",
         7.6635118
        ],
        [
         "2020-10-12T18:05:00.000+0000",
         7.586987
        ],
        [
         "2020-10-12T18:10:00.000+0000",
         7.508217
        ],
        [
         "2020-10-12T18:15:00.000+0000",
         7.427131
        ],
        [
         "2020-10-12T18:20:00.000+0000",
         7.3436675
        ],
        [
         "2020-10-12T18:25:00.000+0000",
         7.257767
        ],
        [
         "2020-10-12T18:30:00.000+0000",
         7.169381
        ],
        [
         "2020-10-12T18:35:00.000+0000",
         7.0784664
        ],
        [
         "2020-10-12T18:40:00.000+0000",
         6.984993
        ],
        [
         "2020-10-12T18:45:00.000+0000",
         6.88894
        ],
        [
         "2020-10-12T18:50:00.000+0000",
         6.7903
        ],
        [
         "2020-10-12T18:55:00.000+0000",
         6.6890798
        ],
        [
         "2020-10-12T19:00:00.000+0000",
         6.5853
        ],
        [
         "2020-10-12T19:05:00.000+0000",
         6.478997
        ],
        [
         "2020-10-12T19:10:00.000+0000",
         6.370226
        ],
        [
         "2020-10-12T19:15:00.000+0000",
         6.259057
        ],
        [
         "2020-10-12T19:20:00.000+0000",
         6.1455812
        ],
        [
         "2020-10-12T19:25:00.000+0000",
         6.029907
        ],
        [
         "2020-10-12T19:30:00.000+0000",
         5.9121637
        ],
        [
         "2020-10-12T19:35:00.000+0000",
         5.7925005
        ],
        [
         "2020-10-12T19:40:00.000+0000",
         5.6710873
        ],
        [
         "2020-10-12T19:45:00.000+0000",
         5.548114
        ],
        [
         "2020-10-12T19:50:00.000+0000",
         5.423792
        ],
        [
         "2020-10-12T19:55:00.000+0000",
         5.2983527
        ],
        [
         "2020-10-12T20:00:00.000+0000",
         5.172049
        ],
        [
         "2020-10-12T20:05:00.000+0000",
         5.045152
        ],
        [
         "2020-10-12T20:10:00.000+0000",
         4.917955
        ],
        [
         "2020-10-12T20:15:00.000+0000",
         4.790767
        ],
        [
         "2020-10-12T20:20:00.000+0000",
         4.6639175
        ],
        [
         "2020-10-12T20:25:00.000+0000",
         4.5377517
        ],
        [
         "2020-10-12T20:30:00.000+0000",
         4.4126306
        ],
        [
         "2020-10-12T20:35:00.000+0000",
         4.2889304
        ],
        [
         "2020-10-12T20:40:00.000+0000",
         4.1670403
        ],
        [
         "2020-10-12T20:45:00.000+0000",
         4.0473623
        ],
        [
         "2020-10-12T20:50:00.000+0000",
         3.9303074
        ],
        [
         "2020-10-12T20:55:00.000+0000",
         3.816295
        ],
        [
         "2020-10-12T21:00:00.000+0000",
         3.7057521
        ],
        [
         "2020-10-12T21:05:00.000+0000",
         3.5991101
        ],
        [
         "2020-10-12T21:10:00.000+0000",
         3.4968026
        ],
        [
         "2020-10-12T21:15:00.000+0000",
         3.3992648
        ],
        [
         "2020-10-12T21:20:00.000+0000",
         3.30693
        ],
        [
         "2020-10-12T21:25:00.000+0000",
         3.2202282
        ],
        [
         "2020-10-12T21:30:00.000+0000",
         3.1395836
        ],
        [
         "2020-10-12T21:35:00.000+0000",
         3.0654125
        ],
        [
         "2020-10-12T21:40:00.000+0000",
         2.998121
        ],
        [
         "2020-10-12T21:45:00.000+0000",
         2.9381034
        ],
        [
         "2020-10-12T21:50:00.000+0000",
         2.885739
        ],
        [
         "2020-10-12T21:55:00.000+0000",
         2.8413908
        ],
        [
         "2020-10-12T22:00:00.000+0000",
         2.8054032
        ],
        [
         "2020-10-12T22:05:00.000+0000",
         2.7781
        ],
        [
         "2020-10-12T22:10:00.000+0000",
         2.759782
        ],
        [
         "2020-10-12T22:15:00.000+0000",
         2.750726
        ],
        [
         "2020-10-12T22:20:00.000+0000",
         2.7511826
        ],
        [
         "2020-10-12T22:25:00.000+0000",
         2.761374
        ],
        [
         "2020-10-12T22:30:00.000+0000",
         2.781494
        ],
        [
         "2020-10-12T22:35:00.000+0000",
         2.8117049
        ],
        [
         "2020-10-12T22:40:00.000+0000",
         2.8521376
        ],
        [
         "2020-10-12T22:45:00.000+0000",
         2.9028897
        ],
        [
         "2020-10-12T22:50:00.000+0000",
         2.964025
        ],
        [
         "2020-10-12T22:55:00.000+0000",
         3.0355725
        ],
        [
         "2020-10-12T23:00:00.000+0000",
         3.117526
        ],
        [
         "2020-10-12T23:05:00.000+0000",
         3.2098439
        ],
        [
         "2020-10-12T23:10:00.000+0000",
         3.312448
        ],
        [
         "2020-10-12T23:15:00.000+0000",
         3.425225
        ],
        [
         "2020-10-12T23:20:00.000+0000",
         3.5480254
        ],
        [
         "2020-10-12T23:25:00.000+0000",
         3.680664
        ],
        [
         "2020-10-12T23:30:00.000+0000",
         3.8229213
        ],
        [
         "2020-10-12T23:35:00.000+0000",
         3.9745429
        ],
        [
         "2020-10-12T23:40:00.000+0000",
         4.1352415
        ],
        [
         "2020-10-12T23:45:00.000+0000",
         4.3046966
        ],
        [
         "2020-10-12T23:50:00.000+0000",
         4.482558
        ],
        [
         "2020-10-12T23:55:00.000+0000",
         4.668444
        ]
       ],
       "datasetInfos": [],
       "dbfsResultPath": null,
       "isJsonSchema": true,
       "overflow": false,
       "plotOptions": {
        "customPlotOptions": {},
        "displayType": "qqPlot",
        "pivotAggregation": null,
        "pivotColumns": null,
        "xColumns": null,
        "yColumns": null
       },
       "removedWidgets": [],
       "schema": [
        {
         "metadata": "{}",
         "name": "ds",
         "type": "\"timestamp\""
        },
        {
         "metadata": "{}",
         "name": "yhat",
         "type": "\"float\""
        }
       ],
       "type": "table"
      }
     },
     "output_type": "display_data"
    }
   ],
   "source": [
    "#hide\n",
    "%sql\n",
    "select ds, yhat from forecasts"
   ]
  },
  {
   "cell_type": "markdown",
   "metadata": {},
   "source": [
    "![](my_icons/sqltable1.png)"
   ]
  },
  {
   "cell_type": "code",
   "execution_count": null,
   "metadata": {
    "application/vnd.databricks.v1+cell": {
     "inputWidgets": {},
     "nuid": "a72c9ea3-56da-4b11-8f89-cfb6aa8a7d58",
     "showTitle": false,
     "title": ""
    }
   },
   "outputs": [],
   "source": [
    "df.show(n=5)"
   ]
  },
  {
   "cell_type": "markdown",
   "metadata": {},
   "source": [
    "![](my_icons/dfshow.png)"
   ]
  },
  {
   "cell_type": "code",
   "execution_count": 0,
   "metadata": {
    "application/vnd.databricks.v1+cell": {
     "inputWidgets": {},
     "nuid": "927541ef-3a45-4c8a-89ba-80f1c9355d1b",
     "showTitle": false,
     "title": ""
    }
   },
   "outputs": [
    {
     "data": {
      "text/html": [
       "<style scoped>\n",
       "  .ansiout {\n",
       "    display: block;\n",
       "    unicode-bidi: embed;\n",
       "    white-space: pre-wrap;\n",
       "    word-wrap: break-word;\n",
       "    word-break: break-all;\n",
       "    font-family: \"Source Code Pro\", \"Menlo\", monospace;;\n",
       "    font-size: 13px;\n",
       "    color: #555;\n",
       "    margin-left: 4px;\n",
       "    line-height: 19px;\n",
       "  }\n",
       "</style>\n",
       "<div class=\"ansiout\"></div>"
      ]
     },
     "metadata": {
      "application/vnd.databricks.v1+output": {
       "addedWidgets": {},
       "arguments": {},
       "data": "<div class=\"ansiout\"></div>",
       "datasetInfos": [],
       "removedWidgets": [],
       "type": "html"
      }
     },
     "output_type": "display_data"
    }
   ],
   "source": [
    "df.createOrReplaceTempView(\"forecasts\")"
   ]
  },
  {
   "cell_type": "markdown",
   "metadata": {},
   "source": [
    "We create a temporary variable to store the pandas dataframe and slice to show the the output."
   ]
  },
  {
   "cell_type": "code",
   "execution_count": 0,
   "metadata": {
    "application/vnd.databricks.v1+cell": {
     "inputWidgets": {},
     "nuid": "e1ce8286-0a45-42b3-9cb8-8bbe71c2c302",
     "showTitle": false,
     "title": ""
    }
   },
   "outputs": [
    {
     "data": {
      "text/html": [
       "<style scoped>\n",
       "  .ansiout {\n",
       "    display: block;\n",
       "    unicode-bidi: embed;\n",
       "    white-space: pre-wrap;\n",
       "    word-wrap: break-word;\n",
       "    word-break: break-all;\n",
       "    font-family: \"Source Code Pro\", \"Menlo\", monospace;;\n",
       "    font-size: 13px;\n",
       "    color: #555;\n",
       "    margin-left: 4px;\n",
       "    line-height: 19px;\n",
       "  }\n",
       "</style>\n",
       "<div class=\"ansiout\">/databricks/spark/python/pyspark/sql/pandas/conversion.py:88: UserWarning: toPandas attempted Arrow optimization because &#39;spark.sql.execution.arrow.pyspark.enabled&#39; is set to true; however, failed by the reason below:\n",
       "  PyArrow &gt;= 0.15.1 must be installed; however, your version was 0.14.1.\n",
       "Attempting non-optimization as &#39;spark.sql.execution.arrow.pyspark.fallback.enabled&#39; is set to true.\n",
       "  warnings.warn(msg)\n",
       "</div>"
      ]
     },
     "metadata": {
      "application/vnd.databricks.v1+output": {
       "addedWidgets": {},
       "arguments": {},
       "data": "<div class=\"ansiout\">/databricks/spark/python/pyspark/sql/pandas/conversion.py:88: UserWarning: toPandas attempted Arrow optimization because &#39;spark.sql.execution.arrow.pyspark.enabled&#39; is set to true; however, failed by the reason below:\n  PyArrow &gt;= 0.15.1 must be installed; however, your version was 0.14.1.\nAttempting non-optimization as &#39;spark.sql.execution.arrow.pyspark.fallback.enabled&#39; is set to true.\n  warnings.warn(msg)\n</div>",
       "datasetInfos": [],
       "removedWidgets": [],
       "type": "html"
      }
     },
     "output_type": "display_data"
    }
   ],
   "source": [
    "temp = df.toPandas()"
   ]
  },
  {
   "cell_type": "code",
   "execution_count": 0,
   "metadata": {
    "application/vnd.databricks.v1+cell": {
     "inputWidgets": {},
     "nuid": "52506460-809f-4122-8ee1-1a678a7e1ea2",
     "showTitle": false,
     "title": ""
    }
   },
   "outputs": [
    {
     "data": {
      "text/html": [
       "<div>\n",
       "<style scoped>\n",
       "    .dataframe tbody tr th:only-of-type {\n",
       "        vertical-align: middle;\n",
       "    }\n",
       "\n",
       "    .dataframe tbody tr th {\n",
       "        vertical-align: top;\n",
       "    }\n",
       "\n",
       "    .dataframe thead th {\n",
       "        text-align: right;\n",
       "    }\n",
       "</style>\n",
       "<table border=\"1\" class=\"dataframe\">\n",
       "  <thead>\n",
       "    <tr style=\"text-align: right;\">\n",
       "      <th></th>\n",
       "      <th>service_name</th>\n",
       "      <th>metric_name</th>\n",
       "      <th>ds</th>\n",
       "      <th>yhat</th>\n",
       "      <th>yhat_lower</th>\n",
       "      <th>yhat_upper</th>\n",
       "      <th>mse</th>\n",
       "    </tr>\n",
       "  </thead>\n",
       "  <tbody>\n",
       "    <tr>\n",
       "      <th>0</th>\n",
       "      <td>ec2</td>\n",
       "      <td>CPUUtilization</td>\n",
       "      <td>2020-10-11 00:00:00</td>\n",
       "      <td>4.619425</td>\n",
       "      <td>2.152688</td>\n",
       "      <td>7.399229</td>\n",
       "      <td>14.689586</td>\n",
       "    </tr>\n",
       "    <tr>\n",
       "      <th>1</th>\n",
       "      <td>ec2</td>\n",
       "      <td>CPUUtilization</td>\n",
       "      <td>2020-10-11 00:05:00</td>\n",
       "      <td>4.819132</td>\n",
       "      <td>2.049825</td>\n",
       "      <td>7.313528</td>\n",
       "      <td>14.689586</td>\n",
       "    </tr>\n",
       "    <tr>\n",
       "      <th>2</th>\n",
       "      <td>ec2</td>\n",
       "      <td>CPUUtilization</td>\n",
       "      <td>2020-10-11 00:10:00</td>\n",
       "      <td>5.025560</td>\n",
       "      <td>2.346648</td>\n",
       "      <td>7.663989</td>\n",
       "      <td>14.689586</td>\n",
       "    </tr>\n",
       "    <tr>\n",
       "      <th>3</th>\n",
       "      <td>ec2</td>\n",
       "      <td>CPUUtilization</td>\n",
       "      <td>2020-10-11 00:15:00</td>\n",
       "      <td>5.238224</td>\n",
       "      <td>2.600470</td>\n",
       "      <td>8.062807</td>\n",
       "      <td>14.689586</td>\n",
       "    </tr>\n",
       "    <tr>\n",
       "      <th>4</th>\n",
       "      <td>ec2</td>\n",
       "      <td>CPUUtilization</td>\n",
       "      <td>2020-10-11 00:20:00</td>\n",
       "      <td>5.456621</td>\n",
       "      <td>2.759909</td>\n",
       "      <td>8.302505</td>\n",
       "      <td>14.689586</td>\n",
       "    </tr>\n",
       "    <tr>\n",
       "      <th>5</th>\n",
       "      <td>ec2</td>\n",
       "      <td>CPUUtilization</td>\n",
       "      <td>2020-10-11 00:25:00</td>\n",
       "      <td>5.680228</td>\n",
       "      <td>3.041043</td>\n",
       "      <td>8.384025</td>\n",
       "      <td>14.689586</td>\n",
       "    </tr>\n",
       "    <tr>\n",
       "      <th>6</th>\n",
       "      <td>ec2</td>\n",
       "      <td>CPUUtilization</td>\n",
       "      <td>2020-10-11 00:30:00</td>\n",
       "      <td>5.908505</td>\n",
       "      <td>3.247892</td>\n",
       "      <td>8.670483</td>\n",
       "      <td>14.689586</td>\n",
       "    </tr>\n",
       "    <tr>\n",
       "      <th>7</th>\n",
       "      <td>ec2</td>\n",
       "      <td>CPUUtilization</td>\n",
       "      <td>2020-10-11 00:35:00</td>\n",
       "      <td>6.140900</td>\n",
       "      <td>3.661118</td>\n",
       "      <td>8.664343</td>\n",
       "      <td>14.689586</td>\n",
       "    </tr>\n",
       "    <tr>\n",
       "      <th>8</th>\n",
       "      <td>ec2</td>\n",
       "      <td>CPUUtilization</td>\n",
       "      <td>2020-10-11 00:40:00</td>\n",
       "      <td>6.376847</td>\n",
       "      <td>3.758875</td>\n",
       "      <td>8.888179</td>\n",
       "      <td>14.689586</td>\n",
       "    </tr>\n",
       "    <tr>\n",
       "      <th>9</th>\n",
       "      <td>ec2</td>\n",
       "      <td>CPUUtilization</td>\n",
       "      <td>2020-10-11 00:45:00</td>\n",
       "      <td>6.615771</td>\n",
       "      <td>3.907142</td>\n",
       "      <td>9.169059</td>\n",
       "      <td>14.689586</td>\n",
       "    </tr>\n",
       "    <tr>\n",
       "      <th>10</th>\n",
       "      <td>ec2</td>\n",
       "      <td>CPUUtilization</td>\n",
       "      <td>2020-10-11 00:50:00</td>\n",
       "      <td>6.857092</td>\n",
       "      <td>4.183938</td>\n",
       "      <td>9.378720</td>\n",
       "      <td>14.689586</td>\n",
       "    </tr>\n",
       "    <tr>\n",
       "      <th>11</th>\n",
       "      <td>ec2</td>\n",
       "      <td>CPUUtilization</td>\n",
       "      <td>2020-10-11 00:55:00</td>\n",
       "      <td>7.100224</td>\n",
       "      <td>4.212289</td>\n",
       "      <td>9.687737</td>\n",
       "      <td>14.689586</td>\n",
       "    </tr>\n",
       "    <tr>\n",
       "      <th>12</th>\n",
       "      <td>ec2</td>\n",
       "      <td>CPUUtilization</td>\n",
       "      <td>2020-10-11 01:00:00</td>\n",
       "      <td>7.344578</td>\n",
       "      <td>4.710319</td>\n",
       "      <td>10.216467</td>\n",
       "      <td>14.689586</td>\n",
       "    </tr>\n",
       "    <tr>\n",
       "      <th>13</th>\n",
       "      <td>ec2</td>\n",
       "      <td>CPUUtilization</td>\n",
       "      <td>2020-10-11 01:05:00</td>\n",
       "      <td>7.589569</td>\n",
       "      <td>5.146057</td>\n",
       "      <td>10.505490</td>\n",
       "      <td>14.689586</td>\n",
       "    </tr>\n",
       "    <tr>\n",
       "      <th>14</th>\n",
       "      <td>ec2</td>\n",
       "      <td>CPUUtilization</td>\n",
       "      <td>2020-10-11 01:10:00</td>\n",
       "      <td>7.834610</td>\n",
       "      <td>5.086944</td>\n",
       "      <td>10.616975</td>\n",
       "      <td>14.689586</td>\n",
       "    </tr>\n",
       "    <tr>\n",
       "      <th>15</th>\n",
       "      <td>ec2</td>\n",
       "      <td>CPUUtilization</td>\n",
       "      <td>2020-10-11 01:15:00</td>\n",
       "      <td>8.079126</td>\n",
       "      <td>5.313694</td>\n",
       "      <td>10.592289</td>\n",
       "      <td>14.689586</td>\n",
       "    </tr>\n",
       "    <tr>\n",
       "      <th>16</th>\n",
       "      <td>ec2</td>\n",
       "      <td>CPUUtilization</td>\n",
       "      <td>2020-10-11 01:20:00</td>\n",
       "      <td>8.322544</td>\n",
       "      <td>5.868225</td>\n",
       "      <td>11.002398</td>\n",
       "      <td>14.689586</td>\n",
       "    </tr>\n",
       "    <tr>\n",
       "      <th>17</th>\n",
       "      <td>ec2</td>\n",
       "      <td>CPUUtilization</td>\n",
       "      <td>2020-10-11 01:25:00</td>\n",
       "      <td>8.564303</td>\n",
       "      <td>5.880727</td>\n",
       "      <td>11.178074</td>\n",
       "      <td>14.689586</td>\n",
       "    </tr>\n",
       "    <tr>\n",
       "      <th>18</th>\n",
       "      <td>ec2</td>\n",
       "      <td>CPUUtilization</td>\n",
       "      <td>2020-10-11 01:30:00</td>\n",
       "      <td>8.803857</td>\n",
       "      <td>6.183046</td>\n",
       "      <td>11.552999</td>\n",
       "      <td>14.689586</td>\n",
       "    </tr>\n",
       "    <tr>\n",
       "      <th>19</th>\n",
       "      <td>ec2</td>\n",
       "      <td>CPUUtilization</td>\n",
       "      <td>2020-10-11 01:35:00</td>\n",
       "      <td>9.040670</td>\n",
       "      <td>6.286131</td>\n",
       "      <td>11.792228</td>\n",
       "      <td>14.689586</td>\n",
       "    </tr>\n",
       "    <tr>\n",
       "      <th>20</th>\n",
       "      <td>ec2</td>\n",
       "      <td>CPUUtilization</td>\n",
       "      <td>2020-10-11 01:40:00</td>\n",
       "      <td>9.274226</td>\n",
       "      <td>6.631486</td>\n",
       "      <td>11.928005</td>\n",
       "      <td>14.689586</td>\n",
       "    </tr>\n",
       "    <tr>\n",
       "      <th>21</th>\n",
       "      <td>ec2</td>\n",
       "      <td>CPUUtilization</td>\n",
       "      <td>2020-10-11 01:45:00</td>\n",
       "      <td>9.504026</td>\n",
       "      <td>6.949830</td>\n",
       "      <td>12.192855</td>\n",
       "      <td>14.689586</td>\n",
       "    </tr>\n",
       "    <tr>\n",
       "      <th>22</th>\n",
       "      <td>ec2</td>\n",
       "      <td>CPUUtilization</td>\n",
       "      <td>2020-10-11 01:50:00</td>\n",
       "      <td>9.729593</td>\n",
       "      <td>7.086974</td>\n",
       "      <td>12.337980</td>\n",
       "      <td>14.689586</td>\n",
       "    </tr>\n",
       "    <tr>\n",
       "      <th>23</th>\n",
       "      <td>ec2</td>\n",
       "      <td>CPUUtilization</td>\n",
       "      <td>2020-10-11 01:55:00</td>\n",
       "      <td>9.950470</td>\n",
       "      <td>7.122755</td>\n",
       "      <td>12.677289</td>\n",
       "      <td>14.689586</td>\n",
       "    </tr>\n",
       "    <tr>\n",
       "      <th>24</th>\n",
       "      <td>ec2</td>\n",
       "      <td>CPUUtilization</td>\n",
       "      <td>2020-10-11 02:00:00</td>\n",
       "      <td>10.166224</td>\n",
       "      <td>7.448644</td>\n",
       "      <td>12.650644</td>\n",
       "      <td>14.689586</td>\n",
       "    </tr>\n",
       "    <tr>\n",
       "      <th>25</th>\n",
       "      <td>ec2</td>\n",
       "      <td>CPUUtilization</td>\n",
       "      <td>2020-10-11 02:05:00</td>\n",
       "      <td>10.376447</td>\n",
       "      <td>7.896529</td>\n",
       "      <td>13.116122</td>\n",
       "      <td>14.689586</td>\n",
       "    </tr>\n",
       "    <tr>\n",
       "      <th>26</th>\n",
       "      <td>ec2</td>\n",
       "      <td>CPUUtilization</td>\n",
       "      <td>2020-10-11 02:10:00</td>\n",
       "      <td>10.580760</td>\n",
       "      <td>7.970045</td>\n",
       "      <td>13.270639</td>\n",
       "      <td>14.689586</td>\n",
       "    </tr>\n",
       "    <tr>\n",
       "      <th>27</th>\n",
       "      <td>ec2</td>\n",
       "      <td>CPUUtilization</td>\n",
       "      <td>2020-10-11 02:15:00</td>\n",
       "      <td>10.778807</td>\n",
       "      <td>8.094746</td>\n",
       "      <td>13.579990</td>\n",
       "      <td>14.689586</td>\n",
       "    </tr>\n",
       "    <tr>\n",
       "      <th>28</th>\n",
       "      <td>ec2</td>\n",
       "      <td>CPUUtilization</td>\n",
       "      <td>2020-10-11 02:20:00</td>\n",
       "      <td>10.970263</td>\n",
       "      <td>8.249172</td>\n",
       "      <td>13.512366</td>\n",
       "      <td>14.689586</td>\n",
       "    </tr>\n",
       "    <tr>\n",
       "      <th>29</th>\n",
       "      <td>ec2</td>\n",
       "      <td>CPUUtilization</td>\n",
       "      <td>2020-10-11 02:25:00</td>\n",
       "      <td>11.154834</td>\n",
       "      <td>8.614250</td>\n",
       "      <td>13.950434</td>\n",
       "      <td>14.689586</td>\n",
       "    </tr>\n",
       "  </tbody>\n",
       "</table>\n",
       "</div>"
      ]
     },
     "metadata": {
      "application/vnd.databricks.v1+output": {
       "addedWidgets": {},
       "arguments": {},
       "data": "<div>\n<style scoped>\n    .dataframe tbody tr th:only-of-type {\n        vertical-align: middle;\n    }\n\n    .dataframe tbody tr th {\n        vertical-align: top;\n    }\n\n    .dataframe thead th {\n        text-align: right;\n    }\n</style>\n<table border=\"1\" class=\"dataframe\">\n  <thead>\n    <tr style=\"text-align: right;\">\n      <th></th>\n      <th>service_name</th>\n      <th>metric_name</th>\n      <th>ds</th>\n      <th>yhat</th>\n      <th>yhat_lower</th>\n      <th>yhat_upper</th>\n      <th>mse</th>\n    </tr>\n  </thead>\n  <tbody>\n    <tr>\n      <th>0</th>\n      <td>ec2</td>\n      <td>CPUUtilization</td>\n      <td>2020-10-11 00:00:00</td>\n      <td>4.619425</td>\n      <td>2.152688</td>\n      <td>7.399229</td>\n      <td>14.689586</td>\n    </tr>\n    <tr>\n      <th>1</th>\n      <td>ec2</td>\n      <td>CPUUtilization</td>\n      <td>2020-10-11 00:05:00</td>\n      <td>4.819132</td>\n      <td>2.049825</td>\n      <td>7.313528</td>\n      <td>14.689586</td>\n    </tr>\n    <tr>\n      <th>2</th>\n      <td>ec2</td>\n      <td>CPUUtilization</td>\n      <td>2020-10-11 00:10:00</td>\n      <td>5.025560</td>\n      <td>2.346648</td>\n      <td>7.663989</td>\n      <td>14.689586</td>\n    </tr>\n    <tr>\n      <th>3</th>\n      <td>ec2</td>\n      <td>CPUUtilization</td>\n      <td>2020-10-11 00:15:00</td>\n      <td>5.238224</td>\n      <td>2.600470</td>\n      <td>8.062807</td>\n      <td>14.689586</td>\n    </tr>\n    <tr>\n      <th>4</th>\n      <td>ec2</td>\n      <td>CPUUtilization</td>\n      <td>2020-10-11 00:20:00</td>\n      <td>5.456621</td>\n      <td>2.759909</td>\n      <td>8.302505</td>\n      <td>14.689586</td>\n    </tr>\n    <tr>\n      <th>5</th>\n      <td>ec2</td>\n      <td>CPUUtilization</td>\n      <td>2020-10-11 00:25:00</td>\n      <td>5.680228</td>\n      <td>3.041043</td>\n      <td>8.384025</td>\n      <td>14.689586</td>\n    </tr>\n    <tr>\n      <th>6</th>\n      <td>ec2</td>\n      <td>CPUUtilization</td>\n      <td>2020-10-11 00:30:00</td>\n      <td>5.908505</td>\n      <td>3.247892</td>\n      <td>8.670483</td>\n      <td>14.689586</td>\n    </tr>\n    <tr>\n      <th>7</th>\n      <td>ec2</td>\n      <td>CPUUtilization</td>\n      <td>2020-10-11 00:35:00</td>\n      <td>6.140900</td>\n      <td>3.661118</td>\n      <td>8.664343</td>\n      <td>14.689586</td>\n    </tr>\n    <tr>\n      <th>8</th>\n      <td>ec2</td>\n      <td>CPUUtilization</td>\n      <td>2020-10-11 00:40:00</td>\n      <td>6.376847</td>\n      <td>3.758875</td>\n      <td>8.888179</td>\n      <td>14.689586</td>\n    </tr>\n    <tr>\n      <th>9</th>\n      <td>ec2</td>\n      <td>CPUUtilization</td>\n      <td>2020-10-11 00:45:00</td>\n      <td>6.615771</td>\n      <td>3.907142</td>\n      <td>9.169059</td>\n      <td>14.689586</td>\n    </tr>\n    <tr>\n      <th>10</th>\n      <td>ec2</td>\n      <td>CPUUtilization</td>\n      <td>2020-10-11 00:50:00</td>\n      <td>6.857092</td>\n      <td>4.183938</td>\n      <td>9.378720</td>\n      <td>14.689586</td>\n    </tr>\n    <tr>\n      <th>11</th>\n      <td>ec2</td>\n      <td>CPUUtilization</td>\n      <td>2020-10-11 00:55:00</td>\n      <td>7.100224</td>\n      <td>4.212289</td>\n      <td>9.687737</td>\n      <td>14.689586</td>\n    </tr>\n    <tr>\n      <th>12</th>\n      <td>ec2</td>\n      <td>CPUUtilization</td>\n      <td>2020-10-11 01:00:00</td>\n      <td>7.344578</td>\n      <td>4.710319</td>\n      <td>10.216467</td>\n      <td>14.689586</td>\n    </tr>\n    <tr>\n      <th>13</th>\n      <td>ec2</td>\n      <td>CPUUtilization</td>\n      <td>2020-10-11 01:05:00</td>\n      <td>7.589569</td>\n      <td>5.146057</td>\n      <td>10.505490</td>\n      <td>14.689586</td>\n    </tr>\n    <tr>\n      <th>14</th>\n      <td>ec2</td>\n      <td>CPUUtilization</td>\n      <td>2020-10-11 01:10:00</td>\n      <td>7.834610</td>\n      <td>5.086944</td>\n      <td>10.616975</td>\n      <td>14.689586</td>\n    </tr>\n    <tr>\n      <th>15</th>\n      <td>ec2</td>\n      <td>CPUUtilization</td>\n      <td>2020-10-11 01:15:00</td>\n      <td>8.079126</td>\n      <td>5.313694</td>\n      <td>10.592289</td>\n      <td>14.689586</td>\n    </tr>\n    <tr>\n      <th>16</th>\n      <td>ec2</td>\n      <td>CPUUtilization</td>\n      <td>2020-10-11 01:20:00</td>\n      <td>8.322544</td>\n      <td>5.868225</td>\n      <td>11.002398</td>\n      <td>14.689586</td>\n    </tr>\n    <tr>\n      <th>17</th>\n      <td>ec2</td>\n      <td>CPUUtilization</td>\n      <td>2020-10-11 01:25:00</td>\n      <td>8.564303</td>\n      <td>5.880727</td>\n      <td>11.178074</td>\n      <td>14.689586</td>\n    </tr>\n    <tr>\n      <th>18</th>\n      <td>ec2</td>\n      <td>CPUUtilization</td>\n      <td>2020-10-11 01:30:00</td>\n      <td>8.803857</td>\n      <td>6.183046</td>\n      <td>11.552999</td>\n      <td>14.689586</td>\n    </tr>\n    <tr>\n      <th>19</th>\n      <td>ec2</td>\n      <td>CPUUtilization</td>\n      <td>2020-10-11 01:35:00</td>\n      <td>9.040670</td>\n      <td>6.286131</td>\n      <td>11.792228</td>\n      <td>14.689586</td>\n    </tr>\n    <tr>\n      <th>20</th>\n      <td>ec2</td>\n      <td>CPUUtilization</td>\n      <td>2020-10-11 01:40:00</td>\n      <td>9.274226</td>\n      <td>6.631486</td>\n      <td>11.928005</td>\n      <td>14.689586</td>\n    </tr>\n    <tr>\n      <th>21</th>\n      <td>ec2</td>\n      <td>CPUUtilization</td>\n      <td>2020-10-11 01:45:00</td>\n      <td>9.504026</td>\n      <td>6.949830</td>\n      <td>12.192855</td>\n      <td>14.689586</td>\n    </tr>\n    <tr>\n      <th>22</th>\n      <td>ec2</td>\n      <td>CPUUtilization</td>\n      <td>2020-10-11 01:50:00</td>\n      <td>9.729593</td>\n      <td>7.086974</td>\n      <td>12.337980</td>\n      <td>14.689586</td>\n    </tr>\n    <tr>\n      <th>23</th>\n      <td>ec2</td>\n      <td>CPUUtilization</td>\n      <td>2020-10-11 01:55:00</td>\n      <td>9.950470</td>\n      <td>7.122755</td>\n      <td>12.677289</td>\n      <td>14.689586</td>\n    </tr>\n    <tr>\n      <th>24</th>\n      <td>ec2</td>\n      <td>CPUUtilization</td>\n      <td>2020-10-11 02:00:00</td>\n      <td>10.166224</td>\n      <td>7.448644</td>\n      <td>12.650644</td>\n      <td>14.689586</td>\n    </tr>\n    <tr>\n      <th>25</th>\n      <td>ec2</td>\n      <td>CPUUtilization</td>\n      <td>2020-10-11 02:05:00</td>\n      <td>10.376447</td>\n      <td>7.896529</td>\n      <td>13.116122</td>\n      <td>14.689586</td>\n    </tr>\n    <tr>\n      <th>26</th>\n      <td>ec2</td>\n      <td>CPUUtilization</td>\n      <td>2020-10-11 02:10:00</td>\n      <td>10.580760</td>\n      <td>7.970045</td>\n      <td>13.270639</td>\n      <td>14.689586</td>\n    </tr>\n    <tr>\n      <th>27</th>\n      <td>ec2</td>\n      <td>CPUUtilization</td>\n      <td>2020-10-11 02:15:00</td>\n      <td>10.778807</td>\n      <td>8.094746</td>\n      <td>13.579990</td>\n      <td>14.689586</td>\n    </tr>\n    <tr>\n      <th>28</th>\n      <td>ec2</td>\n      <td>CPUUtilization</td>\n      <td>2020-10-11 02:20:00</td>\n      <td>10.970263</td>\n      <td>8.249172</td>\n      <td>13.512366</td>\n      <td>14.689586</td>\n    </tr>\n    <tr>\n      <th>29</th>\n      <td>ec2</td>\n      <td>CPUUtilization</td>\n      <td>2020-10-11 02:25:00</td>\n      <td>11.154834</td>\n      <td>8.614250</td>\n      <td>13.950434</td>\n      <td>14.689586</td>\n    </tr>\n  </tbody>\n</table>\n</div>",
       "datasetInfos": [],
       "removedWidgets": [],
       "textData": "<div class=\"ansiout\">Out[59]: </div>",
       "type": "htmlSandbox"
      }
     },
     "output_type": "display_data"
    }
   ],
   "source": [
    "temp[:30]"
   ]
  },
  {
   "cell_type": "markdown",
   "metadata": {},
   "source": [
    "Writing the output forecasts to a parquet file stored in dbfs."
   ]
  },
  {
   "cell_type": "code",
   "execution_count": 0,
   "metadata": {
    "application/vnd.databricks.v1+cell": {
     "inputWidgets": {},
     "nuid": "4d33be8a-f703-4289-b8c4-18d0719744f7",
     "showTitle": false,
     "title": ""
    }
   },
   "outputs": [
    {
     "data": {
      "text/html": [
       "<style scoped>\n",
       "  .ansiout {\n",
       "    display: block;\n",
       "    unicode-bidi: embed;\n",
       "    white-space: pre-wrap;\n",
       "    word-wrap: break-word;\n",
       "    word-break: break-all;\n",
       "    font-family: \"Source Code Pro\", \"Menlo\", monospace;;\n",
       "    font-size: 13px;\n",
       "    color: #555;\n",
       "    margin-left: 4px;\n",
       "    line-height: 19px;\n",
       "  }\n",
       "</style>\n",
       "<div class=\"ansiout\"></div>"
      ]
     },
     "metadata": {
      "application/vnd.databricks.v1+output": {
       "addedWidgets": {},
       "arguments": {},
       "data": "<div class=\"ansiout\"></div>",
       "datasetInfos": [],
       "removedWidgets": [],
       "type": "html"
      }
     },
     "output_type": "display_data"
    }
   ],
   "source": [
    "df.write.options(header=True).parquet(f'{file_name}_output.parquet', mode='overwrite')"
   ]
  },
  {
   "cell_type": "markdown",
   "metadata": {},
   "source": [
    "## Streaming data"
   ]
  },
  {
   "cell_type": "markdown",
   "metadata": {},
   "source": [
    "The input path has been defined where the new data gets added. Structured streaming has been performed for testing our model."
   ]
  },
  {
   "cell_type": "code",
   "execution_count": 0,
   "metadata": {
    "application/vnd.databricks.v1+cell": {
     "inputWidgets": {},
     "nuid": "cba12e15-e3c9-4436-a84e-9a542cbb862e",
     "showTitle": false,
     "title": ""
    }
   },
   "outputs": [
    {
     "data": {
      "text/html": [
       "<style scoped>\n",
       "  .ansiout {\n",
       "    display: block;\n",
       "    unicode-bidi: embed;\n",
       "    white-space: pre-wrap;\n",
       "    word-wrap: break-word;\n",
       "    word-break: break-all;\n",
       "    font-family: \"Source Code Pro\", \"Menlo\", monospace;;\n",
       "    font-size: 13px;\n",
       "    color: #555;\n",
       "    margin-left: 4px;\n",
       "    line-height: 19px;\n",
       "  }\n",
       "</style>\n",
       "<div class=\"ansiout\"></div>"
      ]
     },
     "metadata": {
      "application/vnd.databricks.v1+output": {
       "addedWidgets": {},
       "arguments": {},
       "data": "<div class=\"ansiout\"></div>",
       "datasetInfos": [
        {
         "name": "streamingInputDF",
         "schema": {
          "fields": [
           {
            "metadata": {},
            "name": "_c0",
            "nullable": true,
            "type": "integer"
           },
           {
            "metadata": {},
            "name": "provider",
            "nullable": true,
            "type": "string"
           },
           {
            "metadata": {},
            "name": "service_name",
            "nullable": true,
            "type": "string"
           },
           {
            "metadata": {},
            "name": "account_id",
            "nullable": true,
            "type": "long"
           },
           {
            "metadata": {},
            "name": "region",
            "nullable": true,
            "type": "string"
           },
           {
            "metadata": {},
            "name": "resource_id",
            "nullable": true,
            "type": "string"
           },
           {
            "metadata": {},
            "name": "asset_id",
            "nullable": true,
            "type": "string"
           },
           {
            "metadata": {},
            "name": "timestamp",
            "nullable": true,
            "type": "string"
           },
           {
            "metadata": {},
            "name": "value",
            "nullable": true,
            "type": "double"
           },
           {
            "metadata": {},
            "name": "unit",
            "nullable": true,
            "type": "string"
           },
           {
            "metadata": {},
            "name": "metric_name",
            "nullable": true,
            "type": "string"
           },
           {
            "metadata": {},
            "name": "statistic",
            "nullable": true,
            "type": "string"
           }
          ],
          "type": "struct"
         },
         "tableIdentifier": null,
         "typeStr": "pyspark.sql.dataframe.DataFrame"
        },
        {
         "name": "streamingCountsDF",
         "schema": {
          "fields": [
           {
            "metadata": {},
            "name": "value",
            "nullable": true,
            "type": "double"
           },
           {
            "metadata": {},
            "name": "window",
            "nullable": false,
            "type": {
             "fields": [
              {
               "metadata": {},
               "name": "start",
               "nullable": true,
               "type": "timestamp"
              },
              {
               "metadata": {},
               "name": "end",
               "nullable": true,
               "type": "timestamp"
              }
             ],
             "type": "struct"
            }
           },
           {
            "metadata": {},
            "name": "count",
            "nullable": false,
            "type": "long"
           }
          ],
          "type": "struct"
         },
         "tableIdentifier": null,
         "typeStr": "pyspark.sql.dataframe.DataFrame"
        }
       ],
       "removedWidgets": [],
       "type": "html"
      }
     },
     "output_type": "display_data"
    }
   ],
   "source": [
    "from pyspark.sql.types import *\n",
    "from pyspark.sql.functions import *\n",
    "\n",
    "inputPath = \"/FileStore/tables/\"\n",
    "name = \"i_0a1c7dc126cb6ac8b_CPUUtilization.csv\"\n",
    "\n",
    "schema = spark.read.option(\"header\", \"true\").option(\"inferSchema\", value=True).format(\"csv\").load(inputPath+name).schema\n",
    "\n",
    "streamingInputDF = (\n",
    "  spark\n",
    "    .readStream\n",
    "    .schema(schema)\n",
    "    .option(\"header\", \"true\").format(\"csv\").load(inputPath+'*.csv'))\n",
    "\n",
    "\n",
    "streamingCountsDF = (\n",
    "  streamingInputDF\n",
    "    .groupBy(\n",
    "      streamingInputDF.value,\n",
    "      window(streamingInputDF.timestamp, \"1 hour\"))\n",
    "    .count()\n",
    ")"
   ]
  },
  {
   "cell_type": "code",
   "execution_count": 0,
   "metadata": {
    "application/vnd.databricks.v1+cell": {
     "inputWidgets": {},
     "nuid": "c615a660-b296-4214-9eff-c527a6557097",
     "showTitle": false,
     "title": ""
    }
   },
   "outputs": [
    {
     "data": {
      "text/html": [
       "<style scoped>\n",
       "  .ansiout {\n",
       "    display: block;\n",
       "    unicode-bidi: embed;\n",
       "    white-space: pre-wrap;\n",
       "    word-wrap: break-word;\n",
       "    word-break: break-all;\n",
       "    font-family: \"Source Code Pro\", \"Menlo\", monospace;;\n",
       "    font-size: 13px;\n",
       "    color: #555;\n",
       "    margin-left: 4px;\n",
       "    line-height: 19px;\n",
       "  }\n",
       "</style>\n",
       "<div class=\"ansiout\"></div>"
      ]
     },
     "metadata": {
      "application/vnd.databricks.v1+output": {
       "addedWidgets": {},
       "arguments": {},
       "data": "<div class=\"ansiout\"></div>",
       "datasetInfos": [],
       "removedWidgets": [],
       "type": "html"
      }
     },
     "output_type": "display_data"
    }
   ],
   "source": [
    "query = (\n",
    "  streamingCountsDF\n",
    "    .writeStream\n",
    "    .format(\"memory\")        # memory = store in-memory table (for testing only)\n",
    "    .queryName(\"count\")     # counts = name of the in-memory table\n",
    "    .outputMode(\"complete\")  # complete = all the counts should be in the table\n",
    "    .start()\n",
    ")"
   ]
  },
  {
   "cell_type": "markdown",
   "metadata": {},
   "source": [
    "![](my_icons/dag.png)"
   ]
  },
  {
   "cell_type": "code",
   "execution_count": 0,
   "metadata": {
    "application/vnd.databricks.v1+cell": {
     "inputWidgets": {},
     "nuid": "1dba5807-dafa-4b3b-88d6-12042798b6ab",
     "showTitle": false,
     "title": ""
    }
   },
   "outputs": [
    {
     "data": {
      "text/html": [
       "<style scoped>\n",
       "  .table-result-container {\n",
       "    max-height: 300px;\n",
       "    overflow: auto;\n",
       "  }\n",
       "  table, th, td {\n",
       "    border: 1px solid black;\n",
       "    border-collapse: collapse;\n",
       "  }\n",
       "  th, td {\n",
       "    padding: 5px;\n",
       "  }\n",
       "  th {\n",
       "    text-align: left;\n",
       "  }\n",
       "</style><div class='table-result-container'><table class='table-result'><thead style='background-color: white'><tr><th>value</th><th>time</th><th>count</th></tr></thead><tbody><tr><td>3.614851347628106</td><td>Dec-01 00:00</td><td>1</td></tr><tr><td>3.1143280541199054</td><td>Dec-01 00:00</td><td>1</td></tr><tr><td>3.2558071686745165</td><td>Dec-01 00:00</td><td>1</td></tr><tr><td>3.5833333333333335</td><td>Dec-01 00:00</td><td>1</td></tr><tr><td>3.14051125309327</td><td>Dec-01 00:00</td><td>1</td></tr><tr><td>4.015573770445236</td><td>Dec-01 00:00</td><td>1</td></tr><tr><td>3.0732240437153395</td><td>Dec-01 00:00</td><td>1</td></tr><tr><td>3.5</td><td>Dec-01 00:00</td><td>1</td></tr><tr><td>3.01190608502388</td><td>Dec-01 00:00</td><td>1</td></tr><tr><td>3.049999999968958</td><td>Dec-01 00:00</td><td>1</td></tr><tr><td>2.7331110493495343</td><td>Dec-01 00:00</td><td>1</td></tr><tr><td>5.852361767174616</td><td>Dec-01 01:00</td><td>1</td></tr><tr><td>7.100000000015524</td><td>Dec-01 01:00</td><td>1</td></tr><tr><td>5.347175141242676</td><td>Dec-01 01:00</td><td>1</td></tr><tr><td>6.1023895526693</td><td>Dec-01 01:00</td><td>1</td></tr><tr><td>5.816666666651142</td><td>Dec-01 01:00</td><td>1</td></tr><tr><td>8.539367416907119</td><td>Dec-01 01:00</td><td>1</td></tr><tr><td>7.1166666666977125</td><td>Dec-01 01:00</td><td>1</td></tr><tr><td>6.942326572147337</td><td>Dec-01 01:00</td><td>1</td></tr><tr><td>6.3160507548237925</td><td>Dec-01 01:00</td><td>1</td></tr><tr><td>5.84790682598776</td><td>Dec-01 01:00</td><td>1</td></tr><tr><td>5.698161526317568</td><td>Dec-01 01:00</td><td>1</td></tr><tr><td>5.82009354448758</td><td>Dec-01 01:00</td><td>1</td></tr><tr><td>7.1513429656235985</td><td>Dec-01 02:00</td><td>1</td></tr><tr><td>9.751319811058906</td><td>Dec-01 02:00</td><td>1</td></tr><tr><td>9.221584699453807</td><td>Dec-01 02:00</td><td>1</td></tr><tr><td>8.366666666697709</td><td>Dec-01 02:00</td><td>1</td></tr><tr><td>8.000944706863033</td><td>Dec-01 02:00</td><td>1</td></tr><tr><td>9.80358895991103</td><td>Dec-01 02:00</td><td>1</td></tr><tr><td>7.299101602266907</td><td>Dec-01 02:00</td><td>1</td></tr><tr><td>7.7335834027823225</td><td>Dec-01 02:00</td><td>1</td></tr><tr><td>9.343822358077702</td><td>Dec-01 02:00</td><td>1</td></tr><tr><td>7.973622302460916</td><td>Dec-01 02:00</td><td>1</td></tr><tr><td>7.480276928837566</td><td>Dec-01 02:00</td><td>1</td></tr><tr><td>8.873233305501255</td><td>Dec-01 02:00</td><td>1</td></tr><tr><td>12.44463739923126</td><td>Dec-01 03:00</td><td>1</td></tr><tr><td>10.384426229475874</td><td>Dec-01 03:00</td><td>1</td></tr><tr><td>10.421686579605195</td><td>Dec-01 03:00</td><td>1</td></tr><tr><td>12.204603130530801</td><td>Dec-01 03:00</td><td>1</td></tr><tr><td>11.09316939895442</td><td>Dec-01 03:00</td><td>1</td></tr><tr><td>11.46247568764212</td><td>Dec-01 03:00</td><td>1</td></tr><tr><td>12.79265536723192</td><td>Dec-01 03:00</td><td>1</td></tr><tr><td>12.8530841900686</td><td>Dec-01 03:00</td><td>1</td></tr><tr><td>11.364684634650228</td><td>Dec-01 03:00</td><td>1</td></tr><tr><td>12.216314717019701</td><td>Dec-01 03:00</td><td>1</td></tr><tr><td>34.730415856210556</td><td>Dec-01 03:00</td><td>1</td></tr><tr><td>12.967088080070601</td><td>Dec-01 03:00</td><td>1</td></tr><tr><td>13.436190608517899</td><td>Dec-01 04:00</td><td>1</td></tr><tr><td>13.01415671021176</td><td>Dec-01 04:00</td><td>1</td></tr><tr><td>12.61666666669772</td><td>Dec-01 04:00</td><td>1</td></tr><tr><td>12.29880059272648</td><td>Dec-01 04:00</td><td>1</td></tr><tr><td>13.433333333348841</td><td>Dec-01 04:00</td><td>1</td></tr><tr><td>13.033333333286759</td><td>Dec-01 04:00</td><td>1</td></tr><tr><td>13.32711864409884</td><td>Dec-01 04:00</td><td>1</td></tr><tr><td>12.69999999995342</td><td>Dec-01 04:00</td><td>1</td></tr><tr><td>12.92893859406918</td><td>Dec-01 04:00</td><td>1</td></tr><tr><td>12.709562841530559</td><td>Dec-01 04:00</td><td>1</td></tr><tr><td>11.983944614258899</td><td>Dec-01 04:00</td><td>1</td></tr><tr><td>15.11420765030324</td><td>Dec-01 04:00</td><td>1</td></tr><tr><td>12.56666666665114</td><td>Dec-01 05:00</td><td>1</td></tr><tr><td>12.571936649068899</td><td>Dec-01 05:00</td><td>1</td></tr><tr><td>13.64963415762034</td><td>Dec-01 05:00</td><td>1</td></tr><tr><td>12.8386033157369</td><td>Dec-01 05:00</td><td>1</td></tr><tr><td>14.899999999984482</td><td>Dec-01 05:00</td><td>1</td></tr><tr><td>12.93333333334886</td><td>Dec-01 05:00</td><td>1</td></tr><tr><td>13.103056404496261</td><td>Dec-01 05:00</td><td>1</td></tr><tr><td>12.5391497638546</td><td>Dec-01 05:00</td><td>1</td></tr><tr><td>12.85730295454016</td><td>Dec-01 05:00</td><td>1</td></tr><tr><td>13.41518014263194</td><td>Dec-01 05:00</td><td>1</td></tr><tr><td>12.51870890063686</td><td>Dec-01 05:00</td><td>1</td></tr><tr><td>13.683333333348878</td><td>Dec-01 05:00</td><td>1</td></tr><tr><td>12.396725942405883</td><td>Dec-01 06:00</td><td>1</td></tr><tr><td>11.050000000046559</td><td>Dec-01 06:00</td><td>1</td></tr><tr><td>12.67376586085702</td><td>Dec-01 06:00</td><td>1</td></tr><tr><td>12.293044364220501</td><td>Dec-01 06:00</td><td>1</td></tr><tr><td>12.616666666620091</td><td>Dec-01 06:00</td><td>1</td></tr><tr><td>12.06893118462092</td><td>Dec-01 06:00</td><td>1</td></tr><tr><td>11.69553116604832</td><td>Dec-01 06:00</td><td>1</td></tr><tr><td>12.47966101688678</td><td>Dec-01 06:00</td><td>1</td></tr><tr><td>12.449337778966902</td><td>Dec-01 06:00</td><td>1</td></tr><tr><td>12.79802259887004</td><td>Dec-01 06:00</td><td>1</td></tr><tr><td>11.939265536786298</td><td>Dec-01 06:00</td><td>1</td></tr><tr><td>11.76437899413398</td><td>Dec-01 06:00</td><td>1</td></tr><tr><td>12.812748911736838</td><td>Dec-01 07:00</td><td>1</td></tr><tr><td>12.61875520981232</td><td>Dec-01 07:00</td><td>1</td></tr><tr><td>12.114059460991399</td><td>Dec-01 07:00</td><td>1</td></tr><tr><td>11.63008243035232</td><td>Dec-01 07:00</td><td>1</td></tr><tr><td>12.22078818187136</td><td>Dec-01 07:00</td><td>1</td></tr><tr><td>11.936963971456999</td><td>Dec-01 07:00</td><td>1</td></tr><tr><td>12.25</td><td>Dec-01 07:00</td><td>1</td></tr><tr><td>11.8661943132186</td><td>Dec-01 07:00</td><td>1</td></tr><tr><td>10.837061220664697</td><td>Dec-01 07:00</td><td>1</td></tr><tr><td>12.395355191272602</td><td>Dec-01 07:00</td><td>1</td></tr><tr><td>11.949999999953441</td><td>Dec-01 07:00</td><td>1</td></tr><tr><td>12.30313976106002</td><td>Dec-01 07:00</td><td>1</td></tr><tr><td>12.3885245901797</td><td>Dec-01 08:00</td><td>1</td></tr><tr><td>11.2685282948812</td><td>Dec-01 08:00</td><td>1</td></tr><tr><td>11.233333333317812</td><td>Dec-01 08:00</td><td>1</td></tr><tr><td>11.55161618968206</td><td>Dec-01 08:00</td><td>1</td></tr><tr><td>12.183333333348841</td><td>Dec-01 08:00</td><td>1</td></tr><tr><td>11.806214689281038</td><td>Dec-01 08:00</td><td>1</td></tr><tr><td>11.555784014029868</td><td>Dec-01 08:00</td><td>1</td></tr><tr><td>10.330429749004608</td><td>Dec-01 08:00</td><td>1</td></tr><tr><td>11.013934426275567</td><td>Dec-01 08:00</td><td>1</td></tr><tr><td>12.83082337686422</td><td>Dec-01 08:00</td><td>1</td></tr><tr><td>11.57704918032733</td><td>Dec-01 08:00</td><td>1</td></tr><tr><td>11.99582291377234</td><td>Dec-01 08:00</td><td>1</td></tr><tr><td>10.69952764659929</td><td>Dec-01 09:00</td><td>1</td></tr><tr><td>11.009956469359626</td><td>Dec-01 09:00</td><td>1</td></tr><tr><td>10.619894415097441</td><td>Dec-01 09:00</td><td>1</td></tr><tr><td>12.654519774043381</td><td>Dec-01 09:00</td><td>1</td></tr><tr><td>10.696350838226333</td><td>Dec-01 09:00</td><td>1</td></tr><tr><td>11.083680652033467</td><td>Dec-01 09:00</td><td>1</td></tr><tr><td>9.482768361613235</td><td>Dec-01 09:00</td><td>1</td></tr><tr><td>12.014726312849438</td><td>Dec-01 09:00</td><td>1</td></tr><tr><td>9.133333333302293</td><td>Dec-01 09:00</td><td>1</td></tr><tr><td>10.24965268130038</td><td>Dec-01 09:00</td><td>1</td></tr><tr><td>11.316666666651141</td><td>Dec-01 09:00</td><td>1</td></tr><tr><td>11.3633879781268</td><td>Dec-01 09:00</td><td>1</td></tr><tr><td>8.398457905035938</td><td>Dec-01 10:00</td><td>1</td></tr><tr><td>9.133333333379891</td><td>Dec-01 10:00</td><td>1</td></tr><tr><td>8.57310363983865</td><td>Dec-01 10:00</td><td>1</td></tr><tr><td>9.246244327098426</td><td>Dec-01 10:00</td><td>1</td></tr><tr><td>7.71024821711339</td><td>Dec-01 10:00</td><td>1</td></tr><tr><td>8.505936834306585</td><td>Dec-01 10:00</td><td>1</td></tr><tr><td>10.063387978157852</td><td>Dec-01 10:00</td><td>1</td></tr><tr><td>9.430207465052098</td><td>Dec-01 10:00</td><td>1</td></tr><tr><td>8.89999999998448</td><td>Dec-01 10:00</td><td>1</td></tr><tr><td>8.573492636856766</td><td>Dec-01 10:00</td><td>1</td></tr><tr><td>9.214605909016214</td><td>Dec-01 10:00</td><td>1</td></tr><tr><td>9.75310734460146</td><td>Dec-01 10:00</td><td>1</td></tr><tr><td>9.312346022106803</td><td>Dec-01 11:00</td><td>1</td></tr><tr><td>9.217685468154563</td><td>Dec-01 11:00</td><td>1</td></tr><tr><td>9.533333333364371</td><td>Dec-01 11:00</td><td>1</td></tr><tr><td>9.396054459555826</td><td>Dec-01 11:00</td><td>1</td></tr><tr><td>9.217393720448147</td><td>Dec-01 11:00</td><td>1</td></tr><tr><td>9.452431230928502</td><td>Dec-01 11:00</td><td>1</td></tr><tr><td>8.36666666669771</td><td>Dec-01 11:00</td><td>1</td></tr><tr><td>8.368648698664478</td><td>Dec-01 11:00</td><td>1</td></tr><tr><td>9.433532462659553</td><td>Dec-01 11:00</td><td>1</td></tr><tr><td>9.649087709611827</td><td>Dec-01 11:00</td><td>1</td></tr><tr><td>9.305719181223532</td><td>Dec-01 11:00</td><td>1</td></tr><tr><td>9.752486801887073</td><td>Dec-01 11:00</td><td>1</td></tr><tr><td>8.283333333364377</td><td>Dec-01 12:00</td><td>1</td></tr><tr><td>8.78624617955769</td><td>Dec-01 12:00</td><td>1</td></tr><tr><td>7.881971843998931</td><td>Dec-01 12:00</td><td>1</td></tr><tr><td>6.935746040580538</td><td>Dec-01 12:00</td><td>1</td></tr><tr><td>7.861776419405778</td><td>Dec-01 12:00</td><td>1</td></tr><tr><td>9.250000000000002</td><td>Dec-01 12:00</td><td>1</td></tr><tr><td>7.625136612006083</td><td>Dec-01 12:00</td><td>1</td></tr><tr><td>8.233333333317812</td><td>Dec-01 12:00</td><td>1</td></tr><tr><td>8.016666666604577</td><td>Dec-01 12:00</td><td>1</td></tr><tr><td>8.215870149130243</td><td>Dec-01 12:00</td><td>1</td></tr><tr><td>8.253380568660182</td><td>Dec-01 12:00</td><td>1</td></tr><tr><td>7.866666666697711</td><td>Dec-01 12:00</td><td>1</td></tr><tr><td>9.167884597575231</td><td>Dec-01 13:00</td><td>1</td></tr><tr><td>8.737158469960118</td><td>Dec-01 13:00</td><td>1</td></tr><tr><td>7.964101139218525</td><td>Dec-01 13:00</td><td>1</td></tr><tr><td>8.15846994537046</td><td>Dec-01 13:00</td><td>1</td></tr><tr><td>8.85000000001553</td><td>Dec-01 13:00</td><td>1</td></tr><tr><td>8.248513475949498</td><td>Dec-01 13:00</td><td>1</td></tr><tr><td>8.60052329347693</td><td>Dec-01 13:00</td><td>1</td></tr><tr><td>9.298694081628799</td><td>Dec-01 13:00</td><td>1</td></tr><tr><td>8.706830601078135</td><td>Dec-01 13:00</td><td>1</td></tr><tr><td>9.190589978713044</td><td>Dec-01 13:00</td><td>1</td></tr><tr><td>9.51601833841232</td><td>Dec-01 13:00</td><td>1</td></tr><tr><td>8.580652032971349</td><td>Dec-01 13:00</td><td>1</td></tr><tr><td>8.346045197803253</td><td>Dec-01 14:00</td><td>1</td></tr><tr><td>8.569125682998529</td><td>Dec-01 14:00</td><td>1</td></tr><tr><td>8.471584699453805</td><td>Dec-01 14:00</td><td>1</td></tr><tr><td>8.899999999984479</td><td>Dec-01 14:00</td><td>1</td></tr><tr><td>8.015731221649878</td><td>Dec-01 14:00</td><td>1</td></tr><tr><td>7.832888765397016</td><td>Dec-01 14:00</td><td>1</td></tr><tr><td>8.400171343954435</td><td>Dec-01 14:00</td><td>1</td></tr><tr><td>7.999999999999997</td><td>Dec-01 14:00</td><td>1</td></tr><tr><td>7.733333333317811</td><td>Dec-01 14:00</td><td>1</td></tr><tr><td>8.134796702836192</td><td>Dec-01 14:00</td><td>1</td></tr><tr><td>8.607603964001735</td><td>Dec-01 14:00</td><td>1</td></tr><tr><td>7.912994350251442</td><td>Dec-01 14:00</td><td>1</td></tr><tr><td>7.9333333332712455</td><td>Dec-01 15:00</td><td>1</td></tr><tr><td>9.032620172224814</td><td>Dec-01 15:00</td><td>1</td></tr><tr><td>9.39916180426647</td><td>Dec-01 15:00</td><td>1</td></tr><tr><td>8.200000000031045</td><td>Dec-01 15:00</td><td>1</td></tr><tr><td>8.342595165388392</td><td>Dec-01 15:00</td><td>1</td></tr><tr><td>9.083333333333334</td><td>Dec-01 15:00</td><td>1</td></tr><tr><td>9.399999999984468</td><td>Dec-01 15:00</td><td>1</td></tr><tr><td>8.04505881260312</td><td>Dec-01 15:00</td><td>1</td></tr><tr><td>8.340288969187844</td><td>Dec-01 15:00</td><td>1</td></tr><tr><td>8.587190886356556</td><td>Dec-01 15:00</td><td>1</td></tr><tr><td>8.448430119508938</td><td>Dec-01 15:00</td><td>1</td></tr><tr><td>8.692937853106809</td><td>Dec-01 15:00</td><td>1</td></tr><tr><td>10.03497267757986</td><td>Dec-01 16:00</td><td>1</td></tr><tr><td>9.219306288751842</td><td>Dec-01 16:00</td><td>1</td></tr><tr><td>9.30000000004656</td><td>Dec-01 16:00</td><td>1</td></tr><tr><td>9.741844956931981</td><td>Dec-01 16:00</td><td>1</td></tr><tr><td>8.49570714087142</td><td>Dec-01 16:00</td><td>1</td></tr><tr><td>8.928419931447449</td><td>Dec-01 16:00</td><td>1</td></tr><tr><td>8.654070575130273</td><td>Dec-01 16:00</td><td>1</td></tr><tr><td>9.401018801503417</td><td>Dec-01 16:00</td><td>1</td></tr><tr><td>9.453917754962955</td><td>Dec-01 16:00</td><td>1</td></tr><tr><td>8.501296656478136</td><td>Dec-01 16:00</td><td>1</td></tr><tr><td>9.138251366119203</td><td>Dec-01 16:00</td><td>1</td></tr><tr><td>8.763420394570854</td><td>Dec-01 16:00</td><td>1</td></tr><tr><td>8.891752338646217</td><td>Dec-01 17:00</td><td>1</td></tr><tr><td>8.056728720987838</td><td>Dec-01 17:00</td><td>1</td></tr><tr><td>8.365379272051575</td><td>Dec-01 17:00</td><td>1</td></tr><tr><td>8.134231731006643</td><td>Dec-01 17:00</td><td>1</td></tr><tr><td>8.588376400852344</td><td>Dec-01 17:00</td><td>1</td></tr><tr><td>8.049999999968957</td><td>Dec-01 17:00</td><td>1</td></tr><tr><td>7.197763267527487</td><td>Dec-01 17:00</td><td>1</td></tr><tr><td>9.132337686393345</td><td>Dec-01 17:00</td><td>1</td></tr><tr><td>8.760734463260516</td><td>Dec-01 17:00</td><td>1</td></tr><tr><td>8.150277854943672</td><td>Dec-01 17:00</td><td>1</td></tr><tr><td>8.68661202182688</td><td>Dec-01 17:00</td><td>1</td></tr><tr><td>9.537413170356391</td><td>Dec-01 17:00</td><td>1</td></tr><tr><td>6.40000000006209</td><td>Dec-01 18:00</td><td>1</td></tr><tr><td>6.399999999984476</td><td>Dec-01 18:00</td><td>1</td></tr><tr><td>6.1315411688136985</td><td>Dec-01 18:00</td><td>1</td></tr><tr><td>5.6000000000155215</td><td>Dec-01 18:00</td><td>1</td></tr><tr><td>5.3225803463762045</td><td>Dec-01 18:00</td><td>1</td></tr><tr><td>5.181240159318507</td><td>Dec-01 18:00</td><td>1</td></tr><tr><td>7.702727609554016</td><td>Dec-01 18:00</td><td>1</td></tr><tr><td>6.799999999968956</td><td>Dec-01 18:00</td><td>1</td></tr><tr><td>6.48645457069623</td><td>Dec-01 18:00</td><td>1</td></tr><tr><td>7.515870149130772</td><td>Dec-01 18:00</td><td>1</td></tr><tr><td>7.0634574418646565</td><td>Dec-01 18:00</td><td>1</td></tr><tr><td>6.083333333333334</td><td>Dec-01 18:00</td><td>1</td></tr><tr><td>4.61666666669771</td><td>Dec-01 19:00</td><td>1</td></tr><tr><td>5.067731777330553</td><td>Dec-01 19:00</td><td>1</td></tr><tr><td>4.774715198699946</td><td>Dec-01 19:00</td><td>1</td></tr><tr><td>4.663568583849335</td><td>Dec-01 19:00</td><td>1</td></tr><tr><td>4.765846994566818</td><td>Dec-01 19:00</td><td>1</td></tr><tr><td>4.799059924037212</td><td>Dec-01 19:00</td><td>1</td></tr><tr><td>5.997587292766246</td><td>Dec-01 19:00</td><td>1</td></tr><tr><td>5.815846994519986</td><td>Dec-01 19:00</td><td>1</td></tr><tr><td>4.517657682706446</td><td>Dec-01 19:00</td><td>1</td></tr><tr><td>22.22796610167834</td><td>Dec-01 19:00</td><td>1</td></tr><tr><td>16.94999999995344</td><td>Dec-01 19:00</td><td>1</td></tr><tr><td>26.47103825139638</td><td>Dec-01 19:00</td><td>1</td></tr><tr><td>3.2666666666821884</td><td>Dec-01 20:00</td><td>1</td></tr><tr><td>3.4162174678775123</td><td>Dec-01 20:00</td><td>1</td></tr><tr><td>4.179661016949414</td><td>Dec-01 20:00</td><td>1</td></tr><tr><td>3.4500000000310416</td><td>Dec-01 20:00</td><td>1</td></tr><tr><td>3.533333333286764</td><td>Dec-01 20:00</td><td>1</td></tr><tr><td>4.747809576734523</td><td>Dec-01 20:00</td><td>1</td></tr><tr><td>3.3396869500181814</td><td>Dec-01 20:00</td><td>1</td></tr><tr><td>4.12076502735293</td><td>Dec-01 20:00</td><td>1</td></tr><tr><td>4.385352412675934</td><td>Dec-01 20:00</td><td>1</td></tr><tr><td>3.461132722005355</td><td>Dec-01 20:00</td><td>1</td></tr><tr><td>3.805288506113354</td><td>Dec-01 20:00</td><td>1</td></tr><tr><td>3.2491479114724178</td><td>Dec-01 20:00</td><td>1</td></tr><tr><td>2.9183569510049074</td><td>Dec-01 21:00</td><td>1</td></tr><tr><td>3.083333333333334</td><td>Dec-01 21:00</td><td>1</td></tr><tr><td>3.0305964619333503</td><td>Dec-01 21:00</td><td>1</td></tr><tr><td>3.1664443826983897</td><td>Dec-01 21:00</td><td>1</td></tr><tr><td>2.78333333336438</td><td>Dec-01 21:00</td><td>1</td></tr><tr><td>3.089927757709694</td><td>Dec-01 21:00</td><td>1</td></tr><tr><td>3.444484579066046</td><td>Dec-01 21:00</td><td>1</td></tr><tr><td>3.215879410995604</td><td>Dec-01 21:00</td><td>1</td></tr><tr><td>2.683333333271246</td><td>Dec-01 21:00</td><td>1</td></tr><tr><td>2.507650273238804</td><td>Dec-01 21:00</td><td>1</td></tr><tr><td>3.354918032740828</td><td>Dec-01 21:00</td><td>1</td></tr><tr><td>3.302398814532342</td><td>Dec-01 21:00</td><td>1</td></tr><tr><td>2.81594887474823</td><td>Dec-01 22:00</td><td>1</td></tr><tr><td>2.65032416410414</td><td>Dec-01 22:00</td><td>1</td></tr><tr><td>4.669051588404189</td><td>Dec-01 22:00</td><td>1</td></tr><tr><td>2.68226359167506</td><td>Dec-01 22:00</td><td>1</td></tr><tr><td>3.2666666666821884</td><td>Dec-01 22:00</td><td>1</td></tr><tr><td>2.716171158623374</td><td>Dec-01 22:00</td><td>1</td></tr><tr><td>2.732810039809564</td><td>Dec-01 22:00</td><td>1</td></tr><tr><td>3.6666666666666665</td><td>Dec-01 22:00</td><td>1</td></tr><tr><td>2.845332036691588</td><td>Dec-01 22:00</td><td>1</td></tr><tr><td>3.25128739464717</td><td>Dec-01 22:00</td><td>1</td></tr><tr><td>2.7019912938303303</td><td>Dec-01 22:00</td><td>1</td></tr><tr><td>2.598629248882</td><td>Dec-01 22:00</td><td>1</td></tr><tr><td>3.3183106419091146</td><td>Dec-01 23:00</td><td>1</td></tr><tr><td>3.516689821202128</td><td>Dec-01 23:00</td><td>1</td></tr><tr><td>3.26673613034554</td><td>Dec-01 23:00</td><td>1</td></tr><tr><td>4.514351208686667</td><td>Dec-01 23:00</td><td>1</td></tr><tr><td>2.906256367571844</td><td>Dec-01 23:00</td><td>1</td></tr><tr><td>3.1894692970414384</td><td>Dec-01 23:00</td><td>1</td></tr><tr><td>2.625734000154448</td><td>Dec-01 23:00</td><td>1</td></tr><tr><td>2.7909604520089735</td><td>Dec-01 23:00</td><td>1</td></tr><tr><td>3.3148050384203183</td><td>Dec-01 23:00</td><td>1</td></tr><tr><td>3.4833333333178116</td><td>Dec-01 23:00</td><td>1</td></tr><tr><td>2.6333564879583222</td><td>Dec-01 23:00</td><td>1</td></tr><tr><td>3.264504028833784</td><td>Dec-01 23:00</td><td>1</td></tr><tr><td>5.15000000006209</td><td>Dec-02 00:00</td><td>1</td></tr><tr><td>4.933333333334389</td><td>Dec-02 00:00</td><td>1</td></tr><tr><td>4.520501065126711</td><td>Dec-02 00:00</td><td>1</td></tr><tr><td>4.571913494472926</td><td>Dec-02 00:00</td><td>1</td></tr><tr><td>3.30531629154617</td><td>Dec-02 00:00</td><td>1</td></tr><tr><td>3.2757062147053118</td><td>Dec-02 00:00</td><td>1</td></tr><tr><td>4.786093359218844</td><td>Dec-02 00:00</td><td>1</td></tr><tr><td>3.1328378253676497</td><td>Dec-02 00:00</td><td>1</td></tr><tr><td>3.0822913772344163</td><td>Dec-02 00:00</td><td>1</td></tr><tr><td>3.0000000000000018</td><td>Dec-02 00:00</td><td>1</td></tr><tr><td>5.0800824302426</td><td>Dec-02 00:00</td><td>1</td></tr><tr><td>6.616666666697711</td><td>Dec-02 01:00</td><td>1</td></tr><tr><td>5.71428174489655</td><td>Dec-02 01:00</td><td>1</td></tr><tr><td>5.846642585840888</td><td>Dec-02 01:00</td><td>1</td></tr><tr><td>5.895355191257337</td><td>Dec-02 01:00</td><td>1</td></tr><tr><td>6.447564138217833</td><td>Dec-02 01:00</td><td>1</td></tr><tr><td>6.049999999968956</td><td>Dec-02 01:00</td><td>1</td></tr><tr><td>6.502755395078205</td><td>Dec-02 01:00</td><td>1</td></tr><tr><td>8.30480225983938</td><td>Dec-02 01:00</td><td>1</td></tr><tr><td>7.516666666682188</td><td>Dec-02 01:00</td><td>1</td></tr><tr><td>6.7727563212143025</td><td>Dec-02 01:00</td><td>1</td></tr><tr><td>6.676604612422612</td><td>Dec-02 01:00</td><td>1</td></tr><tr><td>6.30039362782958</td><td>Dec-02 01:00</td><td>1</td></tr><tr><td>13.186686116497304</td><td>Dec-02 02:00</td><td>1</td></tr><tr><td>10.149999999952904</td><td>Dec-02 02:00</td><td>1</td></tr><tr><td>8.117685468200865</td><td>Dec-02 02:00</td><td>1</td></tr><tr><td>8.421455033835956</td><td>Dec-02 02:00</td><td>1</td></tr><tr><td>9.00869686027028</td><td>Dec-02 02:00</td><td>1</td></tr><tr><td>6.982712790576272</td><td>Dec-02 02:00</td><td>1</td></tr><tr><td>10.96177641934548</td><td>Dec-02 02:00</td><td>1</td></tr><tr><td>9.982814670757922</td><td>Dec-02 02:00</td><td>1</td></tr><tr><td>8.310734463229483</td><td>Dec-02 02:00</td><td>1</td></tr><tr><td>9.216666666635632</td><td>Dec-02 02:00</td><td>1</td></tr><tr><td>8.95360285267557</td><td>Dec-02 02:00</td><td>1</td></tr><tr><td>7.494341020669424</td><td>Dec-02 02:00</td><td>1</td></tr><tr><td>10.91383717699386</td><td>Dec-02 03:00</td><td>1</td></tr><tr><td>12.54705473745786</td><td>Dec-02 03:00</td><td>1</td></tr><tr><td>12.16972307122246</td><td>Dec-02 03:00</td><td>1</td></tr><tr><td>13.233333333317798</td><td>Dec-02 03:00</td><td>1</td></tr><tr><td>12.973302769257742</td><td>Dec-02 03:00</td><td>1</td></tr><tr><td>12.80000000004656</td><td>Dec-02 03:00</td><td>1</td></tr><tr><td>35.8301796795872</td><td>Dec-02 03:00</td><td>1</td></tr><tr><td>14.06060479759844</td><td>Dec-02 03:00</td><td>1</td></tr><tr><td>13.836908400479562</td><td>Dec-02 03:00</td><td>1</td></tr><tr><td>11.35995646937256</td><td>Dec-02 03:00</td><td>1</td></tr><tr><td>11.669449847227122</td><td>Dec-02 03:00</td><td>1</td></tr><tr><td>11.27941557838564</td><td>Dec-02 03:00</td><td>1</td></tr><tr><td>14.62715106048104</td><td>Dec-02 04:00</td><td>1</td></tr><tr><td>15.299999999968957</td><td>Dec-02 04:00</td><td>1</td></tr><tr><td>13.24353987213986</td><td>Dec-02 04:00</td><td>1</td></tr><tr><td>14.129378531074261</td><td>Dec-02 04:00</td><td>1</td></tr><tr><td>13.209433175882461</td><td>Dec-02 04:00</td><td>1</td></tr><tr><td>13.22957766044598</td><td>Dec-02 04:00</td><td>1</td></tr><tr><td>12.6166666666977</td><td>Dec-02 04:00</td><td>1</td></tr><tr><td>14.591530054614278</td><td>Dec-02 04:00</td><td>1</td></tr><tr><td>14.3192692415165</td><td>Dec-02 04:00</td><td>1</td></tr><tr><td>13.91666666666666</td><td>Dec-02 04:00</td><td>1</td></tr><tr><td>14.857159396143839</td><td>Dec-02 04:00</td><td>1</td></tr><tr><td>14.064689265552241</td><td>Dec-02 04:00</td><td>1</td></tr><tr><td>13.751819949985062</td><td>Dec-02 05:00</td><td>1</td></tr><tr><td>13.6333333333023</td><td>Dec-02 05:00</td><td>1</td></tr><tr><td>14.152384921721481</td><td>Dec-02 05:00</td><td>1</td></tr><tr><td>13.55342224688862</td><td>Dec-02 05:00</td><td>1</td></tr><tr><td>12.801792164538261</td><td>Dec-02 05:00</td><td>1</td></tr><tr><td>12.88633879782922</td><td>Dec-02 05:00</td><td>1</td></tr><tr><td>13.70552468273672</td><td>Dec-02 05:00</td><td>1</td></tr><tr><td>13.0593220339141</td><td>Dec-02 05:00</td><td>1</td></tr><tr><td>14.93293970545954</td><td>Dec-02 05:00</td><td>1</td></tr><tr><td>13.18333333334886</td><td>Dec-02 05:00</td><td>1</td></tr><tr><td>13.954723534345082</td><td>Dec-02 05:00</td><td>1</td></tr><tr><td>13.918458831158379</td><td>Dec-02 05:00</td><td>1</td></tr><tr><td>13.70121793086118</td><td>Dec-02 06:00</td><td>1</td></tr><tr><td>13.021468926538159</td><td>Dec-02 06:00</td><td>1</td></tr><tr><td>12.47118644069456</td><td>Dec-02 06:00</td><td>1</td></tr><tr><td>13.065772899894842</td><td>Dec-02 06:00</td><td>1</td></tr><tr><td>12.573126794508658</td><td>Dec-02 06:00</td><td>1</td></tr><tr><td>11.729554505848157</td><td>Dec-02 06:00</td><td>1</td></tr><tr><td>12.43333333334886</td><td>Dec-02 06:00</td><td>1</td></tr><tr><td>11.278688524590681</td><td>Dec-02 06:00</td><td>1</td></tr><tr><td>12.74353524122516</td><td>Dec-02 06:00</td><td>1</td></tr><tr><td>12.70225988700592</td><td>Dec-02 06:00</td><td>1</td></tr><tr><td>13.3392747985541</td><td>Dec-02 06:00</td><td>1</td></tr><tr><td>12.114652218239298</td><td>Dec-02 06:00</td><td>1</td></tr><tr><td>12.113207372450098</td><td>Dec-02 07:00</td><td>1</td></tr><tr><td>11.062021857939277</td><td>Dec-02 07:00</td><td>1</td></tr><tr><td>11.937755858123232</td><td>Dec-02 07:00</td><td>1</td></tr><tr><td>10.91993146240962</td><td>Dec-02 07:00</td><td>1</td></tr><tr><td>12.1243262016743</td><td>Dec-02 07:00</td><td>1</td></tr><tr><td>11.41666666666666</td><td>Dec-02 07:00</td><td>1</td></tr><tr><td>12.25000000000002</td><td>Dec-02 07:00</td><td>1</td></tr><tr><td>12.25</td><td>Dec-02 07:00</td><td>1</td></tr><tr><td>11.3715337593318</td><td>Dec-02 07:00</td><td>1</td></tr><tr><td>10.919602667407858</td><td>Dec-02 07:00</td><td>1</td></tr><tr><td>11.683333333348859</td><td>Dec-02 07:00</td><td>1</td></tr><tr><td>12.14164119667654</td><td>Dec-02 07:00</td><td>1</td></tr><tr><td>12.13494026122918</td><td>Dec-02 08:00</td><td>1</td></tr><tr><td>13.01361489307266</td><td>Dec-02 08:00</td><td>1</td></tr><tr><td>12.483333333317841</td><td>Dec-02 08:00</td><td>1</td></tr><tr><td>14.949999999953459</td><td>Dec-02 08:00</td><td>1</td></tr><tr><td>12.16381865332962</td><td>Dec-02 08:00</td><td>1</td></tr><tr><td>11.45000000003104</td><td>Dec-02 08:00</td><td>1</td></tr><tr><td>11.591775493195419</td><td>Dec-02 08:00</td><td>1</td></tr><tr><td>13.06666666665114</td><td>Dec-02 08:00</td><td>1</td></tr><tr><td>12.57486338793208</td><td>Dec-02 08:00</td><td>1</td></tr><tr><td>13.329485042141561</td><td>Dec-02 08:00</td><td>1</td></tr><tr><td>10.260285264425052</td><td>Dec-02 08:00</td><td>1</td></tr><tr><td>13.100000000015502</td><td>Dec-02 08:00</td><td>1</td></tr><tr><td>12.944192831325461</td><td>Dec-02 09:00</td><td>1</td></tr><tr><td>13.07377975361974</td><td>Dec-02 09:00</td><td>1</td></tr><tr><td>12.33934426226376</td><td>Dec-02 09:00</td><td>1</td></tr><tr><td>12.70000000003102</td><td>Dec-02 09:00</td><td>1</td></tr><tr><td>11.6376586089184</td><td>Dec-02 09:00</td><td>1</td></tr><tr><td>12.390960451915301</td><td>Dec-02 09:00</td><td>1</td></tr><tr><td>12.1333333333023</td><td>Dec-02 09:00</td><td>1</td></tr><tr><td>12.264184495709038</td><td>Dec-02 09:00</td><td>1</td></tr><tr><td>11.99230804856304</td><td>Dec-02 09:00</td><td>1</td></tr><tr><td>14.122409002545979</td><td>Dec-02 09:00</td><td>1</td></tr><tr><td>12.24999999999998</td><td>Dec-02 09:00</td><td>1</td></tr><tr><td>10.19883300912213</td><td>Dec-02 09:00</td><td>1</td></tr><tr><td>11.13450032421068</td><td>Dec-02 10:00</td><td>1</td></tr><tr><td>9.866666666667452</td><td>Dec-02 10:00</td><td>1</td></tr><tr><td>9.12716958417322</td><td>Dec-02 10:00</td><td>1</td></tr><tr><td>9.116666666697713</td><td>Dec-02 10:00</td><td>1</td></tr><tr><td>9.749999999999991</td><td>Dec-02 10:00</td><td>1</td></tr><tr><td>10.262614615139563</td><td>Dec-02 10:00</td><td>1</td></tr><tr><td>8.685690469589106</td><td>Dec-02 10:00</td><td>1</td></tr><tr><td>9.795308882066877</td><td>Dec-02 10:00</td><td>1</td></tr><tr><td>8.649999999984479</td><td>Dec-02 10:00</td><td>1</td></tr><tr><td>9.348342132090533</td><td>Dec-02 10:00</td><td>1</td></tr><tr><td>8.549203482416225</td><td>Dec-02 10:00</td><td>1</td></tr><tr><td>9.483333333317805</td><td>Dec-02 10:00</td><td>1</td></tr><tr><td>8.017282578507984</td><td>Dec-02 11:00</td><td>1</td></tr><tr><td>8.196221172500065</td><td>Dec-02 11:00</td><td>1</td></tr><tr><td>7.841803278719314</td><td>Dec-02 11:00</td><td>1</td></tr><tr><td>9.433532462735888</td><td>Dec-02 11:00</td><td>1</td></tr><tr><td>9.564680003688952</td><td>Dec-02 11:00</td><td>1</td></tr><tr><td>8.154570714071212</td><td>Dec-02 11:00</td><td>1</td></tr><tr><td>8.491849587849511</td><td>Dec-02 11:00</td><td>1</td></tr><tr><td>8.54724460502995</td><td>Dec-02 11:00</td><td>1</td></tr><tr><td>8.18176345282675</td><td>Dec-02 11:00</td><td>1</td></tr><tr><td>8.713809391513422</td><td>Dec-02 11:00</td><td>1</td></tr><tr><td>8.153301843044268</td><td>Dec-02 11:00</td><td>1</td></tr><tr><td>8.661132722100295</td><td>Dec-02 11:00</td><td>1</td></tr><tr><td>8.899999999984479</td><td>Dec-02 12:00</td><td>1</td></tr><tr><td>8.5</td><td>Dec-02 12:00</td><td>1</td></tr><tr><td>8.81994535520678</td><td>Dec-02 12:00</td><td>1</td></tr><tr><td>8.68278225434569</td><td>Dec-02 12:00</td><td>1</td></tr><tr><td>9.081527276095201</td><td>Dec-02 12:00</td><td>1</td></tr><tr><td>9.354380846547457</td><td>Dec-02 12:00</td><td>1</td></tr><tr><td>9.666666666666673</td><td>Dec-02 12:00</td><td>1</td></tr><tr><td>8.709887005587365</td><td>Dec-02 12:00</td><td>1</td></tr><tr><td>8.235792349665196</td><td>Dec-02 12:00</td><td>1</td></tr><tr><td>9.267685468201128</td><td>Dec-02 12:00</td><td>1</td></tr><tr><td>9.849379457271924</td><td>Dec-02 12:00</td><td>1</td></tr><tr><td>9.197740112994353</td><td>Dec-02 12:00</td><td>1</td></tr><tr><td>9.354172455327438</td><td>Dec-02 13:00</td><td>1</td></tr><tr><td>9.085593220308189</td><td>Dec-02 13:00</td><td>1</td></tr><tr><td>8.68743169395879</td><td>Dec-02 13:00</td><td>1</td></tr><tr><td>10.016666666682193</td><td>Dec-02 13:00</td><td>1</td></tr><tr><td>9.450000000031046</td><td>Dec-02 13:00</td><td>1</td></tr><tr><td>9.696892655367762</td><td>Dec-02 13:00</td><td>1</td></tr><tr><td>9.829188663519194</td><td>Dec-02 13:00</td><td>1</td></tr><tr><td>9.47218208760194</td><td>Dec-02 13:00</td><td>1</td></tr><tr><td>8.860752986956866</td><td>Dec-02 13:00</td><td>1</td></tr><tr><td>8.814860609490633</td><td>Dec-02 13:00</td><td>1</td></tr><tr><td>9.666666666666659</td><td>Dec-02 13:00</td><td>1</td></tr><tr><td>9.848041122504787</td><td>Dec-02 13:00</td><td>1</td></tr><tr><td>9.033333333364379</td><td>Dec-02 14:00</td><td>1</td></tr><tr><td>8.62960544600326</td><td>Dec-02 14:00</td><td>1</td></tr><tr><td>9.844933777838653</td><td>Dec-02 14:00</td><td>1</td></tr><tr><td>9.323423173120464</td><td>Dec-02 14:00</td><td>1</td></tr><tr><td>8.63333333330229</td><td>Dec-02 14:00</td><td>1</td></tr><tr><td>10.066666666651152</td><td>Dec-02 14:00</td><td>1</td></tr><tr><td>8.920250995647185</td><td>Dec-02 14:00</td><td>1</td></tr><tr><td>9.799999999968948</td><td>Dec-02 14:00</td><td>1</td></tr><tr><td>9.801375382098696</td><td>Dec-02 14:00</td><td>1</td></tr><tr><td>9.61879688805394</td><td>Dec-02 14:00</td><td>1</td></tr><tr><td>9.96442530334079</td><td>Dec-02 14:00</td><td>1</td></tr><tr><td>10.366666666620103</td><td>Dec-02 14:00</td><td>1</td></tr><tr><td>9.133333333379904</td><td>Dec-02 15:00</td><td>1</td></tr><tr><td>9.98753357412442</td><td>Dec-02 15:00</td><td>1</td></tr><tr><td>8.333333333333334</td><td>Dec-02 15:00</td><td>1</td></tr><tr><td>8.983333333395422</td><td>Dec-02 15:00</td><td>1</td></tr><tr><td>9.566611095658159</td><td>Dec-02 15:00</td><td>1</td></tr><tr><td>8.804241919019772</td><td>Dec-02 15:00</td><td>1</td></tr><tr><td>9.09242382143162</td><td>Dec-02 15:00</td><td>1</td></tr><tr><td>9.480726127613277</td><td>Dec-02 15:00</td><td>1</td></tr><tr><td>8.147865147710435</td><td>Dec-02 15:00</td><td>1</td></tr><tr><td>9.099925905391668</td><td>Dec-02 15:00</td><td>1</td></tr><tr><td>9.69831434653248</td><td>Dec-02 15:00</td><td>1</td></tr><tr><td>9.083333333333336</td><td>Dec-02 15:00</td><td>1</td></tr><tr><td>9.486612021873439</td><td>Dec-02 16:00</td><td>1</td></tr><tr><td>9.633333333379884</td><td>Dec-02 16:00</td><td>1</td></tr><tr><td>9.636047050074406</td><td>Dec-02 16:00</td><td>1</td></tr><tr><td>8.93268500510798</td><td>Dec-02 16:00</td><td>1</td></tr><tr><td>10.384227100090381</td><td>Dec-02 16:00</td><td>1</td></tr><tr><td>8.694359544364705</td><td>Dec-02 16:00</td><td>1</td></tr><tr><td>9.66666666666665</td><td>Dec-02 16:00</td><td>1</td></tr><tr><td>10.230526998193424</td><td>Dec-02 16:00</td><td>1</td></tr><tr><td>8.933560248231839</td><td>Dec-02 16:00</td><td>1</td></tr><tr><td>10.147522459927567</td><td>Dec-02 16:00</td><td>1</td></tr><tr><td>9.53161989436752</td><td>Dec-02 16:00</td><td>1</td></tr><tr><td>9.567514124325077</td><td>Dec-02 16:00</td><td>1</td></tr><tr><td>7.6831573585552775</td><td>Dec-02 17:00</td><td>1</td></tr><tr><td>8.732337686408863</td><td>Dec-02 17:00</td><td>1</td></tr><tr><td>8.210998425474322</td><td>Dec-02 17:00</td><td>1</td></tr><tr><td>8.933333333348864</td><td>Dec-02 17:00</td><td>1</td></tr><tr><td>8.104496619447627</td><td>Dec-02 17:00</td><td>1</td></tr><tr><td>8.704769843537655</td><td>Dec-02 17:00</td><td>1</td></tr><tr><td>7.990960451945307</td><td>Dec-02 17:00</td><td>1</td></tr><tr><td>8.76666666668219</td><td>Dec-02 17:00</td><td>1</td></tr><tr><td>8.794915254175198</td><td>Dec-02 17:00</td><td>1</td></tr><tr><td>8.97871167912174</td><td>Dec-02 17:00</td><td>1</td></tr><tr><td>8.718102250563067</td><td>Dec-02 17:00</td><td>1</td></tr><tr><td>9.5363665833407</td><td>Dec-02 17:00</td><td>1</td></tr><tr><td>5.183333333348856</td><td>Dec-02 18:00</td><td>1</td></tr><tr><td>6.083208298600698</td><td>Dec-02 18:00</td><td>1</td></tr><tr><td>6.483333333317812</td><td>Dec-02 18:00</td><td>1</td></tr><tr><td>5.814281744914658</td><td>Dec-02 18:00</td><td>1</td></tr><tr><td>6.133333333379899</td><td>Dec-02 18:00</td><td>1</td></tr><tr><td>7.786436047080633</td><td>Dec-02 18:00</td><td>1</td></tr><tr><td>6.741488376399308</td><td>Dec-02 18:00</td><td>1</td></tr><tr><td>7.005598777421611</td><td>Dec-02 18:00</td><td>1</td></tr><tr><td>6.753181439287147</td><td>Dec-02 18:00</td><td>1</td></tr><tr><td>6.6663147170512875</td><td>Dec-02 18:00</td><td>1</td></tr><tr><td>6.0</td><td>Dec-02 18:00</td><td>1</td></tr><tr><td>6.899976845405019</td><td>Dec-02 18:00</td><td>1</td></tr><tr><td>6.21863943685007</td><td>Dec-02 19:00</td><td>1</td></tr><tr><td>5.264754098390936</td><td>Dec-02 19:00</td><td>1</td></tr><tr><td>5.982661850498511</td><td>Dec-02 19:00</td><td>1</td></tr><tr><td>4.833333333333334</td><td>Dec-02 19:00</td><td>1</td></tr><tr><td>22.000852088480997</td><td>Dec-02 19:00</td><td>1</td></tr><tr><td>5.145035658037115</td><td>Dec-02 19:00</td><td>1</td></tr><tr><td>15.469824951436712</td><td>Dec-02 19:00</td><td>1</td></tr><tr><td>26.24843475040811</td><td>Dec-02 19:00</td><td>1</td></tr><tr><td>4.615254237304712</td><td>Dec-02 19:00</td><td>1</td></tr><tr><td>5.127002871153448</td><td>Dec-02 19:00</td><td>1</td></tr><tr><td>4.892817449242562</td><td>Dec-02 19:00</td><td>1</td></tr><tr><td>5.35054644811873</td><td>Dec-02 19:00</td><td>1</td></tr><tr><td>3.9833333333178116</td><td>Dec-02 20:00</td><td>1</td></tr><tr><td>3.2690562192570405</td><td>Dec-02 20:00</td><td>1</td></tr><tr><td>4.147165879410165</td><td>Dec-02 20:00</td><td>1</td></tr><tr><td>3.5417338149014883</td><td>Dec-02 20:00</td><td>1</td></tr><tr><td>3.2666666666821884</td><td>Dec-02 20:00</td><td>1</td></tr><tr><td>3.471955172794492</td><td>Dec-02 20:00</td><td>1</td></tr><tr><td>4.814754098361164</td><td>Dec-02 20:00</td><td>1</td></tr><tr><td>3.9784106696783184</td><td>Dec-02 20:00</td><td>1</td></tr><tr><td>3.4003982588389716</td><td>Dec-02 20:00</td><td>1</td></tr><tr><td>3.350916921381804</td><td>Dec-02 20:00</td><td>1</td></tr><tr><td>3.814059460945584</td><td>Dec-02 20:00</td><td>1</td></tr><tr><td>3.200606649933282</td><td>Dec-02 20:00</td><td>1</td></tr><tr><td>3.002838751504802</td><td>Dec-02 21:00</td><td>1</td></tr><tr><td>3.18669074744433</td><td>Dec-02 21:00</td><td>1</td></tr><tr><td>2.8645040289269157</td><td>Dec-02 21:00</td><td>1</td></tr><tr><td>3.1831666202961917</td><td>Dec-02 21:00</td><td>1</td></tr><tr><td>3.0000694637409637</td><td>Dec-02 21:00</td><td>1</td></tr><tr><td>2.983333333317814</td><td>Dec-02 21:00</td><td>1</td></tr><tr><td>3.084504955080902</td><td>Dec-02 21:00</td><td>1</td></tr><tr><td>3.30258405109374</td><td>Dec-02 21:00</td><td>1</td></tr><tr><td>2.9087941094748517</td><td>Dec-02 21:00</td><td>1</td></tr><tr><td>3.229165508983732</td><td>Dec-02 21:00</td><td>1</td></tr><tr><td>3.166666666666666</td><td>Dec-02 21:00</td><td>1</td></tr><tr><td>3.099573955744238</td><td>Dec-02 21:00</td><td>1</td></tr><tr><td>3.010280633510342</td><td>Dec-02 22:00</td><td>1</td></tr><tr><td>3.0</td><td>Dec-02 22:00</td><td>1</td></tr><tr><td>2.784768917321332</td><td>Dec-02 22:00</td><td>1</td></tr><tr><td>3.409322033882256</td><td>Dec-02 22:00</td><td>1</td></tr><tr><td>3.026229508227512</td><td>Dec-02 22:00</td><td>1</td></tr><tr><td>3.107377049210354</td><td>Dec-02 22:00</td><td>1</td></tr><tr><td>2.76666666668219</td><td>Dec-02 22:00</td><td>1</td></tr><tr><td>3.9291284616283413</td><td>Dec-02 22:00</td><td>1</td></tr><tr><td>2.8694498471342214</td><td>Dec-02 22:00</td><td>1</td></tr><tr><td>4.7754098360192705</td><td>Dec-02 22:00</td><td>1</td></tr><tr><td>2.9999999999999996</td><td>Dec-02 22:00</td><td>1</td></tr><tr><td>2.9237704918016982</td><td>Dec-02 22:00</td><td>1</td></tr><tr><td>3.66494859683271</td><td>Dec-02 23:00</td><td>1</td></tr><tr><td>3.082291377234416</td><td>Dec-02 23:00</td><td>1</td></tr><tr><td>3.366666666620104</td><td>Dec-02 23:00</td><td>1</td></tr><tr><td>2.9539223858784576</td><td>Dec-02 23:00</td><td>1</td></tr><tr><td>3.49830971566331</td><td>Dec-02 23:00</td><td>1</td></tr><tr><td>2.7833333333643777</td><td>Dec-02 23:00</td><td>1</td></tr><tr><td>3.0822635917371484</td><td>Dec-02 23:00</td><td>1</td></tr><tr><td>3.43648235622558</td><td>Dec-02 23:00</td><td>1</td></tr><tr><td>3.7106094285154816</td><td>Dec-02 23:00</td><td>1</td></tr><tr><td>2.8594100213182623</td><td>Dec-02 23:00</td><td>1</td></tr><tr><td>3.083333333333334</td><td>Dec-02 23:00</td><td>1</td></tr><tr><td>3.5</td><td>Dec-02 23:00</td><td>1</td></tr><tr><td>3.5</td><td>Dec-03 00:00</td><td>1</td></tr><tr><td>3.502357136242084</td><td>Dec-03 00:00</td><td>1</td></tr><tr><td>3.085986848199084</td><td>Dec-03 00:00</td><td>1</td></tr><tr><td>3.45102343246883</td><td>Dec-03 00:00</td><td>1</td></tr><tr><td>3.6531027137165184</td><td>Dec-03 00:00</td><td>1</td></tr><tr><td>3.4848430119319866</td><td>Dec-03 00:00</td><td>1</td></tr><tr><td>3.9833333333178125</td><td>Dec-03 00:00</td><td>1</td></tr><tr><td>3.678813559321506</td><td>Dec-03 00:00</td><td>1</td></tr><tr><td>3.349999999937912</td><td>Dec-03 00:00</td><td>1</td></tr><tr><td>3.800000000046566</td><td>Dec-03 00:00</td><td>1</td></tr><tr><td>3.9289108085724203</td><td>Dec-03 00:00</td><td>1</td></tr><tr><td>6.153107344679334</td><td>Dec-03 01:00</td><td>1</td></tr><tr><td>4.74836065573952</td><td>Dec-03 01:00</td><td>1</td></tr><tr><td>6.616022969296752</td><td>Dec-03 01:00</td><td>1</td></tr><tr><td>4.433333333348854</td><td>Dec-03 01:00</td><td>1</td></tr><tr><td>4.167393720478156</td><td>Dec-03 01:00</td><td>1</td></tr><tr><td>7.916022969390444</td><td>Dec-03 01:00</td><td>1</td></tr><tr><td>4.633879781405499</td><td>Dec-03 01:00</td><td>1</td></tr><tr><td>5.118926553688366</td><td>Dec-03 01:00</td><td>1</td></tr><tr><td>7.016666666682188</td><td>Dec-03 01:00</td><td>1</td></tr><tr><td>6.50536723162237</td><td>Dec-03 01:00</td><td>1</td></tr><tr><td>5.251393905651672</td><td>Dec-03 01:00</td><td>1</td></tr><tr><td>6.581768083726175</td><td>Dec-03 01:00</td><td>1</td></tr><tr><td>8.783333333364377</td><td>Dec-03 02:00</td><td>1</td></tr><tr><td>9.19689265536644</td><td>Dec-03 02:00</td><td>1</td></tr><tr><td>8.686709271062009</td><td>Dec-03 02:00</td><td>1</td></tr><tr><td>8.655436695393615</td><td>Dec-03 02:00</td><td>1</td></tr><tr><td>7.088700564955701</td><td>Dec-03 02:00</td><td>1</td></tr><tr><td>7.163892747984777</td><td>Dec-03 02:00</td><td>1</td></tr><tr><td>9.801092896145132</td><td>Dec-03 02:00</td><td>1</td></tr><tr><td>9.415819209008507</td><td>Dec-03 02:00</td><td>1</td></tr><tr><td>9.672459942575868</td><td>Dec-03 02:00</td><td>1</td></tr><tr><td>6.278563489828265</td><td>Dec-03 02:00</td><td>1</td></tr><tr><td>9.135917384504449</td><td>Dec-03 02:00</td><td>1</td></tr><tr><td>8.683333333348854</td><td>Dec-03 02:00</td><td>1</td></tr><tr><td>13.30000000004656</td><td>Dec-03 03:00</td><td>1</td></tr><tr><td>11.63745484853802</td><td>Dec-03 03:00</td><td>1</td></tr><tr><td>12.07108919142552</td><td>Dec-03 03:00</td><td>1</td></tr><tr><td>11.686463832558221</td><td>Dec-03 03:00</td><td>1</td></tr><tr><td>10.754292859159637</td><td>Dec-03 03:00</td><td>1</td></tr><tr><td>13.233333333317821</td><td>Dec-03 03:00</td><td>1</td></tr><tr><td>10.535593220339246</td><td>Dec-03 03:00</td><td>1</td></tr><tr><td>12.491409650813141</td><td>Dec-03 03:00</td><td>1</td></tr><tr><td>10.687533574123899</td><td>Dec-03 03:00</td><td>1</td></tr><tr><td>35.49243771422644</td><td>Dec-03 03:00</td><td>1</td></tr><tr><td>11.899083078616638</td><td>Dec-03 03:00</td><td>1</td></tr><tr><td>11.064207650288491</td><td>Dec-03 03:00</td><td>1</td></tr><tr><td>13.11471242010118</td><td>Dec-03 04:00</td><td>1</td></tr><tr><td>13.86666666669772</td><td>Dec-03 04:00</td><td>1</td></tr><tr><td>12.22163563949794</td><td>Dec-03 04:00</td><td>1</td></tr><tr><td>14.04979623974358</td><td>Dec-03 04:00</td><td>1</td></tr><tr><td>12.991460590887801</td><td>Dec-03 04:00</td><td>1</td></tr><tr><td>12.75635361674616</td><td>Dec-03 04:00</td><td>1</td></tr><tr><td>13.67297397426816</td><td>Dec-03 04:00</td><td>1</td></tr><tr><td>13.599999999937898</td><td>Dec-03 04:00</td><td>1</td></tr><tr><td>13.655191256814541</td><td>Dec-03 04:00</td><td>1</td></tr><tr><td>12.216666666635641</td><td>Dec-03 04:00</td><td>1</td></tr><tr><td>13.51060479764528</td><td>Dec-03 04:00</td><td>1</td></tr><tr><td>14.750273224089762</td><td>Dec-03 04:00</td><td>1</td></tr><tr><td>13.283333333286759</td><td>Dec-03 05:00</td><td>1</td></tr><tr><td>12.38566268409212</td><td>Dec-03 05:00</td><td>1</td></tr><tr><td>13.78333333328678</td><td>Dec-03 05:00</td><td>1</td></tr><tr><td>14.149999999984479</td><td>Dec-03 05:00</td><td>1</td></tr><tr><td>13.41666666666666</td><td>Dec-03 05:00</td><td>1</td></tr><tr><td>13.768055941481759</td><td>Dec-03 05:00</td><td>1</td></tr><tr><td>12.875706214689279</td><td>Dec-03 05:00</td><td>1</td></tr><tr><td>13.112892470160599</td><td>Dec-03 05:00</td><td>1</td></tr><tr><td>15.29051588408844</td><td>Dec-03 05:00</td><td>1</td></tr><tr><td>13.772603500956441</td><td>Dec-03 05:00</td><td>1</td></tr><tr><td>12.71073446327712</td><td>Dec-03 05:00</td><td>1</td></tr><tr><td>13.202116328641358</td><td>Dec-03 05:00</td><td>1</td></tr><tr><td>12.39327590996102</td><td>Dec-03 06:00</td><td>1</td></tr><tr><td>12.04046494399594</td><td>Dec-03 06:00</td><td>1</td></tr><tr><td>13.90524219693656</td><td>Dec-03 06:00</td><td>1</td></tr><tr><td>12.533333333286759</td><td>Dec-03 06:00</td><td>1</td></tr><tr><td>12.66666666666664</td><td>Dec-03 06:00</td><td>1</td></tr><tr><td>12.533333333364379</td><td>Dec-03 06:00</td><td>1</td></tr><tr><td>12.654644808773961</td><td>Dec-03 06:00</td><td>1</td></tr><tr><td>12.116268407923199</td><td>Dec-03 06:00</td><td>1</td></tr><tr><td>12.75855330181152</td><td>Dec-03 06:00</td><td>1</td></tr><tr><td>11.983333333317805</td><td>Dec-03 06:00</td><td>1</td></tr><tr><td>12.43323608403406</td><td>Dec-03 06:00</td><td>1</td></tr><tr><td>12.76035935908304</td><td>Dec-03 06:00</td><td>1</td></tr><tr><td>13.780531629187058</td><td>Dec-03 07:00</td><td>1</td></tr><tr><td>12.25</td><td>Dec-03 07:00</td><td>1</td></tr><tr><td>13.1166666666201</td><td>Dec-03 07:00</td><td>1</td></tr><tr><td>12.43333333327124</td><td>Dec-03 07:00</td><td>1</td></tr><tr><td>10.31355932206546</td><td>Dec-03 07:00</td><td>1</td></tr><tr><td>12.74604982865636</td><td>Dec-03 07:00</td><td>1</td></tr><tr><td>12.331939427603242</td><td>Dec-03 07:00</td><td>1</td></tr><tr><td>12.98920070388138</td><td>Dec-03 07:00</td><td>1</td></tr><tr><td>11.183801055866201</td><td>Dec-03 07:00</td><td>1</td></tr><tr><td>12.80332499765142</td><td>Dec-03 07:00</td><td>1</td></tr><tr><td>12.965152357181259</td><td>Dec-03 07:00</td><td>1</td></tr><tr><td>13.33363897378928</td><td>Dec-03 07:00</td><td>1</td></tr><tr><td>12.2533759377623</td><td>Dec-03 08:00</td><td>1</td></tr><tr><td>10.283333333364363</td><td>Dec-03 08:00</td><td>1</td></tr><tr><td>11.0805779382836</td><td>Dec-03 08:00</td><td>1</td></tr><tr><td>10.700000000031043</td><td>Dec-03 08:00</td><td>1</td></tr><tr><td>11.049828656078441</td><td>Dec-03 08:00</td><td>1</td></tr><tr><td>11.103172177472734</td><td>Dec-03 08:00</td><td>1</td></tr><tr><td>11.84111327214394</td><td>Dec-03 08:00</td><td>1</td></tr><tr><td>10.918607020469421</td><td>Dec-03 08:00</td><td>1</td></tr><tr><td>12.66664351208668</td><td>Dec-03 08:00</td><td>1</td></tr><tr><td>11.317680837253821</td><td>Dec-03 08:00</td><td>1</td></tr><tr><td>11.511748633926379</td><td>Dec-03 08:00</td><td>1</td></tr><tr><td>12.4293831620052</td><td>Dec-03 08:00</td><td>1</td></tr><tr><td>10.433333333348854</td><td>Dec-03 09:00</td><td>1</td></tr><tr><td>10.92689172918224</td><td>Dec-03 09:00</td><td>1</td></tr><tr><td>10.914425303325775</td><td>Dec-03 09:00</td><td>1</td></tr><tr><td>10.884968046679642</td><td>Dec-03 09:00</td><td>1</td></tr><tr><td>10.149999999984466</td><td>Dec-03 09:00</td><td>1</td></tr><tr><td>10.101412429362473</td><td>Dec-03 09:00</td><td>1</td></tr><tr><td>10.831749560062988</td><td>Dec-03 09:00</td><td>1</td></tr><tr><td>11.50486709270914</td><td>Dec-03 09:00</td><td>1</td></tr><tr><td>9.875289432297047</td><td>Dec-03 09:00</td><td>1</td></tr><tr><td>10.473946466579246</td><td>Dec-03 09:00</td><td>1</td></tr><tr><td>9.58333333333334</td><td>Dec-03 09:00</td><td>1</td></tr><tr><td>11.81030841905108</td><td>Dec-03 09:00</td><td>1</td></tr><tr><td>8.09813837178545</td><td>Dec-03 10:00</td><td>1</td></tr><tr><td>9.283240714997635</td><td>Dec-03 10:00</td><td>1</td></tr><tr><td>7.999175696953901</td><td>Dec-03 10:00</td><td>1</td></tr><tr><td>9.96666666663563</td><td>Dec-03 10:00</td><td>1</td></tr><tr><td>9.115925720135895</td><td>Dec-03 10:00</td><td>1</td></tr><tr><td>8.546762989765918</td><td>Dec-03 10:00</td><td>1</td></tr><tr><td>8.283333333364379</td><td>Dec-03 10:00</td><td>1</td></tr><tr><td>8.79449384089595</td><td>Dec-03 10:00</td><td>1</td></tr><tr><td>8.901662498829072</td><td>Dec-03 10:00</td><td>1</td></tr><tr><td>8.083430582568457</td><td>Dec-03 10:00</td><td>1</td></tr><tr><td>9.857404834613948</td><td>Dec-03 10:00</td><td>1</td></tr><tr><td>8.422858201353273</td><td>Dec-03 10:00</td><td>1</td></tr><tr><td>9.483333333317812</td><td>Dec-03 11:00</td><td>1</td></tr><tr><td>9.545725664553</td><td>Dec-03 11:00</td><td>1</td></tr><tr><td>9.488496804652438</td><td>Dec-03 11:00</td><td>1</td></tr><tr><td>9.48519959246335</td><td>Dec-03 11:00</td><td>1</td></tr><tr><td>9.433333333348855</td><td>Dec-03 11:00</td><td>1</td></tr><tr><td>9.291530054628769</td><td>Dec-03 11:00</td><td>1</td></tr><tr><td>8.149351671743602</td><td>Dec-03 11:00</td><td>1</td></tr><tr><td>9.0671204964655</td><td>Dec-03 11:00</td><td>1</td></tr><tr><td>9.684972677564335</td><td>Dec-03 11:00</td><td>1</td></tr><tr><td>7.703903862137646</td><td>Dec-03 11:00</td><td>1</td></tr><tr><td>9.268505140331767</td><td>Dec-03 11:00</td><td>1</td></tr><tr><td>7.733333333395424</td><td>Dec-03 11:00</td><td>1</td></tr><tr><td>9.716939890678548</td><td>Dec-03 12:00</td><td>1</td></tr><tr><td>10.7459016393748</td><td>Dec-03 12:00</td><td>1</td></tr><tr><td>8.292530332486306</td><td>Dec-03 12:00</td><td>1</td></tr><tr><td>9.535519125714107</td><td>Dec-03 12:00</td><td>1</td></tr><tr><td>10.419774011268135</td><td>Dec-03 12:00</td><td>1</td></tr><tr><td>9.632786885246166</td><td>Dec-03 12:00</td><td>1</td></tr><tr><td>9.330943780646441</td><td>Dec-03 12:00</td><td>1</td></tr><tr><td>10.428915439487138</td><td>Dec-03 12:00</td><td>1</td></tr><tr><td>10.670283412107263</td><td>Dec-03 12:00</td><td>1</td></tr><tr><td>9.904098360593137</td><td>Dec-03 12:00</td><td>1</td></tr><tr><td>8.853649161819718</td><td>Dec-03 12:00</td><td>1</td></tr><tr><td>8.707627118659858</td><td>Dec-03 12:00</td><td>1</td></tr><tr><td>8.867986477757896</td><td>Dec-03 13:00</td><td>1</td></tr><tr><td>9.225757154811523</td><td>Dec-03 13:00</td><td>1</td></tr><tr><td>8.844262295037723</td><td>Dec-03 13:00</td><td>1</td></tr><tr><td>8.79406779662622</td><td>Dec-03 13:00</td><td>1</td></tr><tr><td>8.555464480875083</td><td>Dec-03 13:00</td><td>1</td></tr><tr><td>9.249087709518168</td><td>Dec-03 13:00</td><td>1</td></tr><tr><td>8.983333333317812</td><td>Dec-03 13:00</td><td>1</td></tr><tr><td>9.168861720848113</td><td>Dec-03 13:00</td><td>1</td></tr><tr><td>9.237978142092025</td><td>Dec-03 13:00</td><td>1</td></tr><tr><td>9.165453366675166</td><td>Dec-03 13:00</td><td>1</td></tr><tr><td>9.07767435403353</td><td>Dec-03 13:00</td><td>1</td></tr><tr><td>8.946318421736745</td><td>Dec-03 13:00</td><td>1</td></tr><tr><td>8.266666666682188</td><td>Dec-03 14:00</td><td>1</td></tr><tr><td>8.950000000031043</td><td>Dec-03 14:00</td><td>1</td></tr><tr><td>8.183333333348854</td><td>Dec-03 14:00</td><td>1</td></tr><tr><td>8.449999999953437</td><td>Dec-03 14:00</td><td>1</td></tr><tr><td>8.229239603579883</td><td>Dec-03 14:00</td><td>1</td></tr><tr><td>8.267416875072382</td><td>Dec-03 14:00</td><td>1</td></tr><tr><td>9.499634157637683</td><td>Dec-03 14:00</td><td>1</td></tr><tr><td>9.097017690083314</td><td>Dec-03 14:00</td><td>1</td></tr><tr><td>8.342947114937527</td><td>Dec-03 14:00</td><td>1</td></tr><tr><td>8.000023154580497</td><td>Dec-03 14:00</td><td>1</td></tr><tr><td>8.549999999968957</td><td>Dec-03 14:00</td><td>1</td></tr><tr><td>7.988330091708439</td><td>Dec-03 14:00</td><td>1</td></tr><tr><td>9.425386681501882</td><td>Dec-03 15:00</td><td>1</td></tr><tr><td>8.77513661195899</td><td>Dec-03 15:00</td><td>1</td></tr><tr><td>9.163193479671316</td><td>Dec-03 15:00</td><td>1</td></tr><tr><td>8.234278040179529</td><td>Dec-03 15:00</td><td>1</td></tr><tr><td>8.254769843505336</td><td>Dec-03 15:00</td><td>1</td></tr><tr><td>8.527118644066746</td><td>Dec-03 15:00</td><td>1</td></tr><tr><td>9.34793924239612</td><td>Dec-03 15:00</td><td>1</td></tr><tr><td>8.647883671407515</td><td>Dec-03 15:00</td><td>1</td></tr><tr><td>8.950000000031045</td><td>Dec-03 15:00</td><td>1</td></tr><tr><td>8.798587570637778</td><td>Dec-03 15:00</td><td>1</td></tr><tr><td>9.56599055291559</td><td>Dec-03 15:00</td><td>1</td></tr><tr><td>8.861924608641296</td><td>Dec-03 15:00</td><td>1</td></tr><tr><td>9.220765027321894</td><td>Dec-03 16:00</td><td>1</td></tr><tr><td>8.999013614892508</td><td>Dec-03 16:00</td><td>1</td></tr><tr><td>8.927118644052541</td><td>Dec-03 16:00</td><td>1</td></tr><tr><td>9.349999999937918</td><td>Dec-03 16:00</td><td>1</td></tr><tr><td>9.726877836483656</td><td>Dec-03 16:00</td><td>1</td></tr><tr><td>9.259766601851434</td><td>Dec-03 16:00</td><td>1</td></tr><tr><td>9.806612948010086</td><td>Dec-03 16:00</td><td>1</td></tr><tr><td>9.116666666697707</td><td>Dec-03 16:00</td><td>1</td></tr><tr><td>8.98333333331781</td><td>Dec-03 16:00</td><td>1</td></tr><tr><td>9.68243956659181</td><td>Dec-03 16:00</td><td>1</td></tr><tr><td>8.973154580006447</td><td>Dec-03 16:00</td><td>1</td></tr><tr><td>9.095007872555898</td><td>Dec-03 16:00</td><td>1</td></tr><tr><td>8.869945355175734</td><td>Dec-03 17:00</td><td>1</td></tr><tr><td>7.117954061343608</td><td>Dec-03 17:00</td><td>1</td></tr><tr><td>8.897119570234429</td><td>Dec-03 17:00</td><td>1</td></tr><tr><td>8.256284153035491</td><td>Dec-03 17:00</td><td>1</td></tr><tr><td>8.888302306180385</td><td>Dec-03 17:00</td><td>1</td></tr><tr><td>7.535644160431477</td><td>Dec-03 17:00</td><td>1</td></tr><tr><td>7.649999999984478</td><td>Dec-03 17:00</td><td>1</td></tr><tr><td>9.002292303419166</td><td>Dec-03 17:00</td><td>1</td></tr><tr><td>9.490464943950904</td><td>Dec-03 17:00</td><td>1</td></tr><tr><td>8.5259887005655</td><td>Dec-03 17:00</td><td>1</td></tr><tr><td>8.76798647773978</td><td>Dec-03 17:00</td><td>1</td></tr><tr><td>7.643391682858825</td><td>Dec-03 17:00</td><td>1</td></tr><tr><td>5.950495508043057</td><td>Dec-03 18:00</td><td>1</td></tr><tr><td>5.233333333317811</td><td>Dec-03 18:00</td><td>1</td></tr><tr><td>6.08261554135408</td><td>Dec-03 18:00</td><td>1</td></tr><tr><td>7.30328331940928</td><td>Dec-03 18:00</td><td>1</td></tr><tr><td>5.900055570977184</td><td>Dec-03 18:00</td><td>1</td></tr><tr><td>6.666666666666666</td><td>Dec-03 18:00</td><td>1</td></tr><tr><td>6.18854774474391</td><td>Dec-03 18:00</td><td>1</td></tr><tr><td>6.565231082708425</td><td>Dec-03 18:00</td><td>1</td></tr><tr><td>5.635319996343124</td><td>Dec-03 18:00</td><td>1</td></tr><tr><td>6.565721959789147</td><td>Dec-03 18:00</td><td>1</td></tr><tr><td>6.22967490968472</td><td>Dec-03 18:00</td><td>1</td></tr><tr><td>7.066666666651145</td><td>Dec-03 18:00</td><td>1</td></tr><tr><td>4.417213114769874</td><td>Dec-03 19:00</td><td>1</td></tr><tr><td>5.674293785373086</td><td>Dec-03 19:00</td><td>1</td></tr><tr><td>4.513531536552168</td><td>Dec-03 19:00</td><td>1</td></tr><tr><td>22.15017597487044</td><td>Dec-03 19:00</td><td>1</td></tr><tr><td>4.833333333333334</td><td>Dec-03 19:00</td><td>2</td></tr><tr><td>26.81354542925436</td><td>Dec-03 19:00</td><td>1</td></tr><tr><td>4.962466425827463</td><td>Dec-03 19:00</td><td>1</td></tr><tr><td>4.916092433081696</td><td>Dec-03 19:00</td><td>1</td></tr><tr><td>4.199999999953435</td><td>Dec-03 19:00</td><td>1</td></tr><tr><td>14.978271742089259</td><td>Dec-03 19:00</td><td>1</td></tr><tr><td>4.436913031413404</td><td>Dec-03 19:00</td><td>1</td></tr><tr><td>4.942798925643556</td><td>Dec-03 20:00</td><td>1</td></tr><tr><td>2.985759933314056</td><td>Dec-03 20:00</td><td>1</td></tr><tr><td>3.15710382513661</td><td>Dec-03 20:00</td><td>1</td></tr><tr><td>4.06453181437969</td><td>Dec-03 20:00</td><td>1</td></tr><tr><td>3.26729184034309</td><td>Dec-03 20:00</td><td>1</td></tr><tr><td>3.7876122997278783</td><td>Dec-03 20:00</td><td>1</td></tr><tr><td>4.025761785633606</td><td>Dec-03 20:00</td><td>1</td></tr><tr><td>3.6667639159023127</td><td>Dec-03 20:00</td><td>1</td></tr><tr><td>3.2411781050291744</td><td>Dec-03 20:00</td><td>1</td></tr><tr><td>4.051199407274305</td><td>Dec-03 20:00</td><td>1</td></tr><tr><td>3.3625173658723684</td><td>Dec-03 20:00</td><td>1</td></tr><tr><td>3.847272390496176</td><td>Dec-03 20:00</td><td>1</td></tr><tr><td>2.78250903023987</td><td>Dec-03 21:00</td><td>1</td></tr><tr><td>2.9946327684236698</td><td>Dec-03 21:00</td><td>1</td></tr><tr><td>3.1333333333799</td><td>Dec-03 21:00</td><td>1</td></tr><tr><td>3.000000000000002</td><td>Dec-03 21:00</td><td>1</td></tr><tr><td>2.8666666666977116</td><td>Dec-03 21:00</td><td>1</td></tr><tr><td>3.125409836034786</td><td>Dec-03 21:00</td><td>1</td></tr><tr><td>3.0333333333643777</td><td>Dec-03 21:00</td><td>1</td></tr><tr><td>2.768065203312462</td><td>Dec-03 21:00</td><td>1</td></tr><tr><td>2.686662961949648</td><td>Dec-03 21:00</td><td>1</td></tr><tr><td>3.09980550146559</td><td>Dec-03 21:00</td><td>1</td></tr><tr><td>3.114754098377476</td><td>Dec-03 21:00</td><td>1</td></tr><tr><td>2.890437158454424</td><td>Dec-03 21:00</td><td>1</td></tr><tr><td>2.717305733119284</td><td>Dec-03 22:00</td><td>1</td></tr><tr><td>2.817555802600356</td><td>Dec-03 22:00</td><td>1</td></tr><tr><td>2.693220338998574</td><td>Dec-03 22:00</td><td>1</td></tr><tr><td>3.100000000015524</td><td>Dec-03 22:00</td><td>1</td></tr><tr><td>3.706557377095236</td><td>Dec-03 22:00</td><td>1</td></tr><tr><td>2.7423728813409385</td><td>Dec-03 22:00</td><td>1</td></tr><tr><td>2.949999999953436</td><td>Dec-03 22:00</td><td>1</td></tr><tr><td>3.617555802569312</td><td>Dec-03 22:00</td><td>1</td></tr><tr><td>3.287482634034736</td><td>Dec-03 22:00</td><td>1</td></tr><tr><td>2.636690747399078</td><td>Dec-03 22:00</td><td>1</td></tr><tr><td>3.357923497221956</td><td>Dec-03 22:00</td><td>1</td></tr><tr><td>2.866990830739762</td><td>Dec-03 22:00</td><td>1</td></tr><tr><td>3.363110123196596</td><td>Dec-03 23:00</td><td>1</td></tr><tr><td>2.7363897378746325</td><td>Dec-03 23:00</td><td>1</td></tr><tr><td>2.6729508196881637</td><td>Dec-03 23:00</td><td>1</td></tr><tr><td>3.3666666666201004</td><td>Dec-03 23:00</td><td>1</td></tr><tr><td>2.999999999999998</td><td>Dec-03 23:00</td><td>1</td></tr><tr><td>3.1333333333798996</td><td>Dec-03 23:00</td><td>1</td></tr><tr><td>3.2506622209862686</td><td>Dec-03 23:00</td><td>1</td></tr><tr><td>4.081772714626644</td><td>Dec-03 23:00</td><td>1</td></tr><tr><td>3.0833333333333344</td><td>Dec-03 23:00</td><td>1</td></tr><tr><td>3.4575345002762945</td><td>Dec-03 23:00</td><td>1</td></tr><tr><td>3.268996017428276</td><td>Dec-03 23:00</td><td>1</td></tr><tr><td>3.3830601092735884</td><td>Dec-03 23:00</td><td>1</td></tr><tr><td>3.7629480411380642</td><td>Dec-04 00:00</td><td>1</td></tr><tr><td>4.799152542326578</td><td>Dec-04 00:00</td><td>1</td></tr><tr><td>5.516666666604578</td><td>Dec-04 00:00</td><td>1</td></tr><tr><td>3.315370010251138</td><td>Dec-04 00:00</td><td>1</td></tr><tr><td>5.100000000015522</td><td>Dec-04 00:00</td><td>1</td></tr><tr><td>3.0336760210703884</td><td>Dec-04 00:00</td><td>1</td></tr><tr><td>4.20347781786608</td><td>Dec-04 00:00</td><td>1</td></tr><tr><td>4.745026396219882</td><td>Dec-04 00:00</td><td>1</td></tr><tr><td>5.397841993207036</td><td>Dec-04 00:00</td><td>1</td></tr><tr><td>3.851907937403996</td><td>Dec-04 00:00</td><td>1</td></tr><tr><td>4.601912568337307</td><td>Dec-04 00:00</td><td>1</td></tr><tr><td>6.424858757046098</td><td>Dec-04 01:00</td><td>1</td></tr><tr><td>6.030054644778206</td><td>Dec-04 01:00</td><td>1</td></tr><tr><td>5.685093081426788</td><td>Dec-04 01:00</td><td>1</td></tr><tr><td>5.947540983638655</td><td>Dec-04 01:00</td><td>1</td></tr><tr><td>5.578114290945444</td><td>Dec-04 01:00</td><td>1</td></tr><tr><td>5.9478883023372555</td><td>Dec-04 01:00</td><td>1</td></tr><tr><td>9.790988237504397</td><td>Dec-04 01:00</td><td>1</td></tr><tr><td>6.080948411596848</td><td>Dec-04 01:00</td><td>1</td></tr><tr><td>5.837005649701203</td><td>Dec-04 01:00</td><td>1</td></tr><tr><td>6.983333333317812</td><td>Dec-04 01:00</td><td>1</td></tr><tr><td>6.1195193109515245</td><td>Dec-04 01:00</td><td>1</td></tr><tr><td>5.4192460868765115</td><td>Dec-04 01:00</td><td>1</td></tr><tr><td>9.214087246503151</td><td>Dec-04 02:00</td><td>1</td></tr><tr><td>7.990163934393886</td><td>Dec-04 02:00</td><td>1</td></tr><tr><td>8.969672131147286</td><td>Dec-04 02:00</td><td>1</td></tr><tr><td>6.21654163190426</td><td>Dec-04 02:00</td><td>1</td></tr><tr><td>9.145980364947224</td><td>Dec-04 02:00</td><td>1</td></tr><tr><td>7.8706168380418715</td><td>Dec-04 02:00</td><td>1</td></tr><tr><td>7.219848105957165</td><td>Dec-04 02:00</td><td>1</td></tr><tr><td>6.933333333348858</td><td>Dec-04 02:00</td><td>1</td></tr><tr><td>6.3179077522147</td><td>Dec-04 02:00</td><td>1</td></tr><tr><td>7.1985366304981735</td><td>Dec-04 02:00</td><td>1</td></tr><tr><td>8.316666666651145</td><td>Dec-04 02:00</td><td>1</td></tr><tr><td>7.299999999968958</td><td>Dec-04 02:00</td><td>1</td></tr><tr><td>11.80478836715456</td><td>Dec-04 03:00</td><td>1</td></tr><tr><td>10.998587570589907</td><td>Dec-04 03:00</td><td>1</td></tr><tr><td>12.802459016362139</td><td>Dec-04 03:00</td><td>1</td></tr><tr><td>13.33058256926374</td><td>Dec-04 03:00</td><td>1</td></tr><tr><td>11.00512179309042</td><td>Dec-04 03:00</td><td>1</td></tr><tr><td>10.416666666666643</td><td>Dec-04 03:00</td><td>1</td></tr><tr><td>11.06557377050708</td><td>Dec-04 03:00</td><td>1</td></tr><tr><td>10.483333333395432</td><td>Dec-04 03:00</td><td>1</td></tr><tr><td>34.27022321013416</td><td>Dec-04 03:00</td><td>1</td></tr><tr><td>11.633333333302259</td><td>Dec-04 03:00</td><td>1</td></tr><tr><td>10.650819672116679</td><td>Dec-04 03:00</td><td>1</td></tr><tr><td>10.01334166892108</td><td>Dec-04 03:00</td><td>1</td></tr><tr><td>13.3642308048845</td><td>Dec-04 04:00</td><td>1</td></tr><tr><td>13.286440677965839</td><td>Dec-04 04:00</td><td>1</td></tr><tr><td>12.82886449943058</td><td>Dec-04 04:00</td><td>1</td></tr><tr><td>13.1534268778201</td><td>Dec-04 04:00</td><td>1</td></tr><tr><td>11.9603825136612</td><td>Dec-04 04:00</td><td>1</td></tr><tr><td>12.88420394550884</td><td>Dec-04 04:00</td><td>1</td></tr><tr><td>13.6326109104231</td><td>Dec-04 04:00</td><td>1</td></tr><tr><td>13.3666666666977</td><td>Dec-04 04:00</td><td>1</td></tr><tr><td>14.989742521068601</td><td>Dec-04 04:00</td><td>1</td></tr><tr><td>13.247119570252039</td><td>Dec-04 04:00</td><td>1</td></tr><tr><td>12.15993794572592</td><td>Dec-04 04:00</td><td>1</td></tr><tr><td>12.30983606559004</td><td>Dec-04 04:00</td><td>1</td></tr><tr><td>12.66497638232946</td><td>Dec-04 05:00</td><td>1</td></tr><tr><td>14.695971103052099</td><td>Dec-04 05:00</td><td>1</td></tr><tr><td>12.84970362139156</td><td>Dec-04 05:00</td><td>1</td></tr><tr><td>13.33333333333336</td><td>Dec-04 05:00</td><td>1</td></tr><tr><td>13.55464480875844</td><td>Dec-04 05:00</td><td>1</td></tr><tr><td>13.81407798461116</td><td>Dec-04 05:00</td><td>1</td></tr><tr><td>12.67052421969168</td><td>Dec-04 05:00</td><td>1</td></tr><tr><td>14.40245901634714</td><td>Dec-04 05:00</td><td>1</td></tr><tr><td>12.7504816153098</td><td>Dec-04 05:00</td><td>1</td></tr><tr><td>13.901463369440261</td><td>Dec-04 05:00</td><td>1</td></tr><tr><td>13.68864962490954</td><td>Dec-04 05:00</td><td>1</td></tr><tr><td>13.600000000015521</td><td>Dec-04 05:00</td><td>1</td></tr><tr><td>12.13167083445974</td><td>Dec-04 06:00</td><td>1</td></tr><tr><td>10.54498008702964</td><td>Dec-04 06:00</td><td>1</td></tr><tr><td>12.51666666668218</td><td>Dec-04 06:00</td><td>1</td></tr><tr><td>11.53670927112564</td><td>Dec-04 06:00</td><td>1</td></tr><tr><td>11.38513939057146</td><td>Dec-04 06:00</td><td>1</td></tr><tr><td>12.66408261554158</td><td>Dec-04 06:00</td><td>1</td></tr><tr><td>11.49783736222972</td><td>Dec-04 06:00</td><td>1</td></tr><tr><td>12.34915717330362</td><td>Dec-04 06:00</td><td>1</td></tr><tr><td>13.7380337130545</td><td>Dec-04 06:00</td><td>1</td></tr><tr><td>13.233333333317798</td><td>Dec-04 06:00</td><td>1</td></tr><tr><td>12.434926368419658</td><td>Dec-04 06:00</td><td>1</td></tr><tr><td>12.666666666666677</td><td>Dec-04 06:00</td><td>1</td></tr><tr><td>11.503676947348302</td><td>Dec-04 07:00</td><td>1</td></tr><tr><td>13.336366583264379</td><td>Dec-04 07:00</td><td>1</td></tr><tr><td>13.238524590117617</td><td>Dec-04 07:00</td><td>1</td></tr><tr><td>13.25427433546226</td><td>Dec-04 07:00</td><td>1</td></tr><tr><td>13.0312586830322</td><td>Dec-04 07:00</td><td>1</td></tr><tr><td>12.74699916643484</td><td>Dec-04 07:00</td><td>1</td></tr><tr><td>13.56666666665114</td><td>Dec-04 07:00</td><td>1</td></tr><tr><td>13.19096045196186</td><td>Dec-04 07:00</td><td>1</td></tr><tr><td>12.38521811619178</td><td>Dec-04 07:00</td><td>1</td></tr><tr><td>13.114485505217138</td><td>Dec-04 07:00</td><td>1</td></tr><tr><td>12.392896174879441</td><td>Dec-04 07:00</td><td>1</td></tr><tr><td>12.88055015282228</td><td>Dec-04 07:00</td><td>1</td></tr><tr><td>11.603783458383319</td><td>Dec-04 08:00</td><td>1</td></tr><tr><td>13.025608965468141</td><td>Dec-04 08:00</td><td>1</td></tr><tr><td>11.273798277284758</td><td>Dec-04 08:00</td><td>1</td></tr><tr><td>11.81666666665114</td><td>Dec-04 08:00</td><td>1</td></tr><tr><td>12.033333333286759</td><td>Dec-04 08:00</td><td>1</td></tr><tr><td>13.643169398922101</td><td>Dec-04 08:00</td><td>1</td></tr><tr><td>11.083333333301761</td><td>Dec-04 08:00</td><td>1</td></tr><tr><td>11.769894415131361</td><td>Dec-04 08:00</td><td>1</td></tr><tr><td>11.58333333333332</td><td>Dec-04 08:00</td><td>1</td></tr><tr><td>11.54538297679912</td><td>Dec-04 08:00</td><td>1</td></tr><tr><td>11.53785310734568</td><td>Dec-04 08:00</td><td>1</td></tr><tr><td>11.843789941666738</td><td>Dec-04 08:00</td><td>1</td></tr><tr><td>11.381050291749</td><td>Dec-04 09:00</td><td>1</td></tr><tr><td>11.76666666668218</td><td>Dec-04 09:00</td><td>1</td></tr><tr><td>9.986440677980356</td><td>Dec-04 09:00</td><td>1</td></tr><tr><td>11.598633879751159</td><td>Dec-04 09:00</td><td>1</td></tr><tr><td>10.60325553396095</td><td>Dec-04 09:00</td><td>1</td></tr><tr><td>10.705094007624195</td><td>Dec-04 09:00</td><td>1</td></tr><tr><td>10.192572010728695</td><td>Dec-04 09:00</td><td>1</td></tr><tr><td>10.759891636548648</td><td>Dec-04 09:00</td><td>1</td></tr><tr><td>11.94999999995342</td><td>Dec-04 09:00</td><td>1</td></tr><tr><td>11.17719736965471</td><td>Dec-04 09:00</td><td>1</td></tr><tr><td>12.12916550893714</td><td>Dec-04 09:00</td><td>1</td></tr><tr><td>11.4884551264556</td><td>Dec-04 09:00</td><td>1</td></tr><tr><td>9.052019079419177</td><td>Dec-04 10:00</td><td>1</td></tr><tr><td>10.371186440677686</td><td>Dec-04 10:00</td><td>1</td></tr><tr><td>9.295406131379625</td><td>Dec-04 10:00</td><td>1</td></tr><tr><td>8.941928313404091</td><td>Dec-04 10:00</td><td>1</td></tr><tr><td>8.865198666251173</td><td>Dec-04 10:00</td><td>1</td></tr><tr><td>7.954769843504531</td><td>Dec-04 10:00</td><td>1</td></tr><tr><td>8.555209780463532</td><td>Dec-04 10:00</td><td>1</td></tr><tr><td>9.291682874841865</td><td>Dec-04 10:00</td><td>1</td></tr><tr><td>9.314504028866642</td><td>Dec-04 10:00</td><td>1</td></tr><tr><td>9.320765027337414</td><td>Dec-04 10:00</td><td>1</td></tr><tr><td>8.36666666669771</td><td>Dec-04 10:00</td><td>1</td></tr><tr><td>8.817430767791388</td><td>Dec-04 10:00</td><td>1</td></tr><tr><td>8.360577012164043</td><td>Dec-04 11:00</td><td>1</td></tr><tr><td>8.292622950803388</td><td>Dec-04 11:00</td><td>1</td></tr><tr><td>7.6973186995914515</td><td>Dec-04 11:00</td><td>1</td></tr><tr><td>9.437459479500824</td><td>Dec-04 11:00</td><td>1</td></tr><tr><td>8.266666666682188</td><td>Dec-04 11:00</td><td>1</td></tr><tr><td>8.952685931307215</td><td>Dec-04 11:00</td><td>1</td></tr><tr><td>7.727401129975073</td><td>Dec-04 11:00</td><td>1</td></tr><tr><td>8.491085486677697</td><td>Dec-04 11:00</td><td>1</td></tr><tr><td>8.663559322002063</td><td>Dec-04 11:00</td><td>1</td></tr></tbody></table>Showing the first 1000 rows.</div>"
      ]
     },
     "metadata": {
      "application/vnd.databricks.v1+output": {
       "addedWidgets": {},
       "aggData": [],
       "aggError": "",
       "aggOverflow": false,
       "aggSchema": [],
       "aggSeriesLimitReached": false,
       "aggType": "",
       "arguments": {},
       "columnCustomDisplayInfos": {},
       "data": [
        [
         3.614851347628106,
         "Dec-01 00:00",
         1
        ],
        [
         3.1143280541199054,
         "Dec-01 00:00",
         1
        ],
        [
         3.2558071686745165,
         "Dec-01 00:00",
         1
        ],
        [
         3.5833333333333335,
         "Dec-01 00:00",
         1
        ],
        [
         3.14051125309327,
         "Dec-01 00:00",
         1
        ],
        [
         4.015573770445236,
         "Dec-01 00:00",
         1
        ],
        [
         3.0732240437153395,
         "Dec-01 00:00",
         1
        ],
        [
         3.5,
         "Dec-01 00:00",
         1
        ],
        [
         3.01190608502388,
         "Dec-01 00:00",
         1
        ],
        [
         3.049999999968958,
         "Dec-01 00:00",
         1
        ],
        [
         2.7331110493495343,
         "Dec-01 00:00",
         1
        ],
        [
         5.852361767174616,
         "Dec-01 01:00",
         1
        ],
        [
         7.100000000015524,
         "Dec-01 01:00",
         1
        ],
        [
         5.347175141242676,
         "Dec-01 01:00",
         1
        ],
        [
         6.1023895526693,
         "Dec-01 01:00",
         1
        ],
        [
         5.816666666651142,
         "Dec-01 01:00",
         1
        ],
        [
         8.539367416907119,
         "Dec-01 01:00",
         1
        ],
        [
         7.1166666666977125,
         "Dec-01 01:00",
         1
        ],
        [
         6.942326572147337,
         "Dec-01 01:00",
         1
        ],
        [
         6.3160507548237925,
         "Dec-01 01:00",
         1
        ],
        [
         5.84790682598776,
         "Dec-01 01:00",
         1
        ],
        [
         5.698161526317568,
         "Dec-01 01:00",
         1
        ],
        [
         5.82009354448758,
         "Dec-01 01:00",
         1
        ],
        [
         7.1513429656235985,
         "Dec-01 02:00",
         1
        ],
        [
         9.751319811058906,
         "Dec-01 02:00",
         1
        ],
        [
         9.221584699453807,
         "Dec-01 02:00",
         1
        ],
        [
         8.366666666697709,
         "Dec-01 02:00",
         1
        ],
        [
         8.000944706863033,
         "Dec-01 02:00",
         1
        ],
        [
         9.80358895991103,
         "Dec-01 02:00",
         1
        ],
        [
         7.299101602266907,
         "Dec-01 02:00",
         1
        ],
        [
         7.7335834027823225,
         "Dec-01 02:00",
         1
        ],
        [
         9.343822358077702,
         "Dec-01 02:00",
         1
        ],
        [
         7.973622302460916,
         "Dec-01 02:00",
         1
        ],
        [
         7.480276928837566,
         "Dec-01 02:00",
         1
        ],
        [
         8.873233305501255,
         "Dec-01 02:00",
         1
        ],
        [
         12.44463739923126,
         "Dec-01 03:00",
         1
        ],
        [
         10.384426229475874,
         "Dec-01 03:00",
         1
        ],
        [
         10.421686579605195,
         "Dec-01 03:00",
         1
        ],
        [
         12.204603130530801,
         "Dec-01 03:00",
         1
        ],
        [
         11.09316939895442,
         "Dec-01 03:00",
         1
        ],
        [
         11.46247568764212,
         "Dec-01 03:00",
         1
        ],
        [
         12.79265536723192,
         "Dec-01 03:00",
         1
        ],
        [
         12.8530841900686,
         "Dec-01 03:00",
         1
        ],
        [
         11.364684634650228,
         "Dec-01 03:00",
         1
        ],
        [
         12.216314717019701,
         "Dec-01 03:00",
         1
        ],
        [
         34.730415856210556,
         "Dec-01 03:00",
         1
        ],
        [
         12.967088080070601,
         "Dec-01 03:00",
         1
        ],
        [
         13.436190608517899,
         "Dec-01 04:00",
         1
        ],
        [
         13.01415671021176,
         "Dec-01 04:00",
         1
        ],
        [
         12.61666666669772,
         "Dec-01 04:00",
         1
        ],
        [
         12.29880059272648,
         "Dec-01 04:00",
         1
        ],
        [
         13.433333333348841,
         "Dec-01 04:00",
         1
        ],
        [
         13.033333333286759,
         "Dec-01 04:00",
         1
        ],
        [
         13.32711864409884,
         "Dec-01 04:00",
         1
        ],
        [
         12.69999999995342,
         "Dec-01 04:00",
         1
        ],
        [
         12.92893859406918,
         "Dec-01 04:00",
         1
        ],
        [
         12.709562841530559,
         "Dec-01 04:00",
         1
        ],
        [
         11.983944614258899,
         "Dec-01 04:00",
         1
        ],
        [
         15.11420765030324,
         "Dec-01 04:00",
         1
        ],
        [
         12.56666666665114,
         "Dec-01 05:00",
         1
        ],
        [
         12.571936649068899,
         "Dec-01 05:00",
         1
        ],
        [
         13.64963415762034,
         "Dec-01 05:00",
         1
        ],
        [
         12.8386033157369,
         "Dec-01 05:00",
         1
        ],
        [
         14.899999999984482,
         "Dec-01 05:00",
         1
        ],
        [
         12.93333333334886,
         "Dec-01 05:00",
         1
        ],
        [
         13.103056404496261,
         "Dec-01 05:00",
         1
        ],
        [
         12.5391497638546,
         "Dec-01 05:00",
         1
        ],
        [
         12.85730295454016,
         "Dec-01 05:00",
         1
        ],
        [
         13.41518014263194,
         "Dec-01 05:00",
         1
        ],
        [
         12.51870890063686,
         "Dec-01 05:00",
         1
        ],
        [
         13.683333333348878,
         "Dec-01 05:00",
         1
        ],
        [
         12.396725942405883,
         "Dec-01 06:00",
         1
        ],
        [
         11.050000000046559,
         "Dec-01 06:00",
         1
        ],
        [
         12.67376586085702,
         "Dec-01 06:00",
         1
        ],
        [
         12.293044364220501,
         "Dec-01 06:00",
         1
        ],
        [
         12.616666666620091,
         "Dec-01 06:00",
         1
        ],
        [
         12.06893118462092,
         "Dec-01 06:00",
         1
        ],
        [
         11.69553116604832,
         "Dec-01 06:00",
         1
        ],
        [
         12.47966101688678,
         "Dec-01 06:00",
         1
        ],
        [
         12.449337778966902,
         "Dec-01 06:00",
         1
        ],
        [
         12.79802259887004,
         "Dec-01 06:00",
         1
        ],
        [
         11.939265536786298,
         "Dec-01 06:00",
         1
        ],
        [
         11.76437899413398,
         "Dec-01 06:00",
         1
        ],
        [
         12.812748911736838,
         "Dec-01 07:00",
         1
        ],
        [
         12.61875520981232,
         "Dec-01 07:00",
         1
        ],
        [
         12.114059460991399,
         "Dec-01 07:00",
         1
        ],
        [
         11.63008243035232,
         "Dec-01 07:00",
         1
        ],
        [
         12.22078818187136,
         "Dec-01 07:00",
         1
        ],
        [
         11.936963971456999,
         "Dec-01 07:00",
         1
        ],
        [
         12.25,
         "Dec-01 07:00",
         1
        ],
        [
         11.8661943132186,
         "Dec-01 07:00",
         1
        ],
        [
         10.837061220664697,
         "Dec-01 07:00",
         1
        ],
        [
         12.395355191272602,
         "Dec-01 07:00",
         1
        ],
        [
         11.949999999953441,
         "Dec-01 07:00",
         1
        ],
        [
         12.30313976106002,
         "Dec-01 07:00",
         1
        ],
        [
         12.3885245901797,
         "Dec-01 08:00",
         1
        ],
        [
         11.2685282948812,
         "Dec-01 08:00",
         1
        ],
        [
         11.233333333317812,
         "Dec-01 08:00",
         1
        ],
        [
         11.55161618968206,
         "Dec-01 08:00",
         1
        ],
        [
         12.183333333348841,
         "Dec-01 08:00",
         1
        ],
        [
         11.806214689281038,
         "Dec-01 08:00",
         1
        ],
        [
         11.555784014029868,
         "Dec-01 08:00",
         1
        ],
        [
         10.330429749004608,
         "Dec-01 08:00",
         1
        ],
        [
         11.013934426275567,
         "Dec-01 08:00",
         1
        ],
        [
         12.83082337686422,
         "Dec-01 08:00",
         1
        ],
        [
         11.57704918032733,
         "Dec-01 08:00",
         1
        ],
        [
         11.99582291377234,
         "Dec-01 08:00",
         1
        ],
        [
         10.69952764659929,
         "Dec-01 09:00",
         1
        ],
        [
         11.009956469359626,
         "Dec-01 09:00",
         1
        ],
        [
         10.619894415097441,
         "Dec-01 09:00",
         1
        ],
        [
         12.654519774043381,
         "Dec-01 09:00",
         1
        ],
        [
         10.696350838226333,
         "Dec-01 09:00",
         1
        ],
        [
         11.083680652033467,
         "Dec-01 09:00",
         1
        ],
        [
         9.482768361613235,
         "Dec-01 09:00",
         1
        ],
        [
         12.014726312849438,
         "Dec-01 09:00",
         1
        ],
        [
         9.133333333302293,
         "Dec-01 09:00",
         1
        ],
        [
         10.24965268130038,
         "Dec-01 09:00",
         1
        ],
        [
         11.316666666651141,
         "Dec-01 09:00",
         1
        ],
        [
         11.3633879781268,
         "Dec-01 09:00",
         1
        ],
        [
         8.398457905035938,
         "Dec-01 10:00",
         1
        ],
        [
         9.133333333379891,
         "Dec-01 10:00",
         1
        ],
        [
         8.57310363983865,
         "Dec-01 10:00",
         1
        ],
        [
         9.246244327098426,
         "Dec-01 10:00",
         1
        ],
        [
         7.71024821711339,
         "Dec-01 10:00",
         1
        ],
        [
         8.505936834306585,
         "Dec-01 10:00",
         1
        ],
        [
         10.063387978157852,
         "Dec-01 10:00",
         1
        ],
        [
         9.430207465052098,
         "Dec-01 10:00",
         1
        ],
        [
         8.89999999998448,
         "Dec-01 10:00",
         1
        ],
        [
         8.573492636856766,
         "Dec-01 10:00",
         1
        ],
        [
         9.214605909016214,
         "Dec-01 10:00",
         1
        ],
        [
         9.75310734460146,
         "Dec-01 10:00",
         1
        ],
        [
         9.312346022106803,
         "Dec-01 11:00",
         1
        ],
        [
         9.217685468154563,
         "Dec-01 11:00",
         1
        ],
        [
         9.533333333364371,
         "Dec-01 11:00",
         1
        ],
        [
         9.396054459555826,
         "Dec-01 11:00",
         1
        ],
        [
         9.217393720448147,
         "Dec-01 11:00",
         1
        ],
        [
         9.452431230928502,
         "Dec-01 11:00",
         1
        ],
        [
         8.36666666669771,
         "Dec-01 11:00",
         1
        ],
        [
         8.368648698664478,
         "Dec-01 11:00",
         1
        ],
        [
         9.433532462659553,
         "Dec-01 11:00",
         1
        ],
        [
         9.649087709611827,
         "Dec-01 11:00",
         1
        ],
        [
         9.305719181223532,
         "Dec-01 11:00",
         1
        ],
        [
         9.752486801887073,
         "Dec-01 11:00",
         1
        ],
        [
         8.283333333364377,
         "Dec-01 12:00",
         1
        ],
        [
         8.78624617955769,
         "Dec-01 12:00",
         1
        ],
        [
         7.881971843998931,
         "Dec-01 12:00",
         1
        ],
        [
         6.935746040580538,
         "Dec-01 12:00",
         1
        ],
        [
         7.861776419405778,
         "Dec-01 12:00",
         1
        ],
        [
         9.250000000000002,
         "Dec-01 12:00",
         1
        ],
        [
         7.625136612006083,
         "Dec-01 12:00",
         1
        ],
        [
         8.233333333317812,
         "Dec-01 12:00",
         1
        ],
        [
         8.016666666604577,
         "Dec-01 12:00",
         1
        ],
        [
         8.215870149130243,
         "Dec-01 12:00",
         1
        ],
        [
         8.253380568660182,
         "Dec-01 12:00",
         1
        ],
        [
         7.866666666697711,
         "Dec-01 12:00",
         1
        ],
        [
         9.167884597575231,
         "Dec-01 13:00",
         1
        ],
        [
         8.737158469960118,
         "Dec-01 13:00",
         1
        ],
        [
         7.964101139218525,
         "Dec-01 13:00",
         1
        ],
        [
         8.15846994537046,
         "Dec-01 13:00",
         1
        ],
        [
         8.85000000001553,
         "Dec-01 13:00",
         1
        ],
        [
         8.248513475949498,
         "Dec-01 13:00",
         1
        ],
        [
         8.60052329347693,
         "Dec-01 13:00",
         1
        ],
        [
         9.298694081628799,
         "Dec-01 13:00",
         1
        ],
        [
         8.706830601078135,
         "Dec-01 13:00",
         1
        ],
        [
         9.190589978713044,
         "Dec-01 13:00",
         1
        ],
        [
         9.51601833841232,
         "Dec-01 13:00",
         1
        ],
        [
         8.580652032971349,
         "Dec-01 13:00",
         1
        ],
        [
         8.346045197803253,
         "Dec-01 14:00",
         1
        ],
        [
         8.569125682998529,
         "Dec-01 14:00",
         1
        ],
        [
         8.471584699453805,
         "Dec-01 14:00",
         1
        ],
        [
         8.899999999984479,
         "Dec-01 14:00",
         1
        ],
        [
         8.015731221649878,
         "Dec-01 14:00",
         1
        ],
        [
         7.832888765397016,
         "Dec-01 14:00",
         1
        ],
        [
         8.400171343954435,
         "Dec-01 14:00",
         1
        ],
        [
         7.999999999999997,
         "Dec-01 14:00",
         1
        ],
        [
         7.733333333317811,
         "Dec-01 14:00",
         1
        ],
        [
         8.134796702836192,
         "Dec-01 14:00",
         1
        ],
        [
         8.607603964001735,
         "Dec-01 14:00",
         1
        ],
        [
         7.912994350251442,
         "Dec-01 14:00",
         1
        ],
        [
         7.9333333332712455,
         "Dec-01 15:00",
         1
        ],
        [
         9.032620172224814,
         "Dec-01 15:00",
         1
        ],
        [
         9.39916180426647,
         "Dec-01 15:00",
         1
        ],
        [
         8.200000000031045,
         "Dec-01 15:00",
         1
        ],
        [
         8.342595165388392,
         "Dec-01 15:00",
         1
        ],
        [
         9.083333333333334,
         "Dec-01 15:00",
         1
        ],
        [
         9.399999999984468,
         "Dec-01 15:00",
         1
        ],
        [
         8.04505881260312,
         "Dec-01 15:00",
         1
        ],
        [
         8.340288969187844,
         "Dec-01 15:00",
         1
        ],
        [
         8.587190886356556,
         "Dec-01 15:00",
         1
        ],
        [
         8.448430119508938,
         "Dec-01 15:00",
         1
        ],
        [
         8.692937853106809,
         "Dec-01 15:00",
         1
        ],
        [
         10.03497267757986,
         "Dec-01 16:00",
         1
        ],
        [
         9.219306288751842,
         "Dec-01 16:00",
         1
        ],
        [
         9.30000000004656,
         "Dec-01 16:00",
         1
        ],
        [
         9.741844956931981,
         "Dec-01 16:00",
         1
        ],
        [
         8.49570714087142,
         "Dec-01 16:00",
         1
        ],
        [
         8.928419931447449,
         "Dec-01 16:00",
         1
        ],
        [
         8.654070575130273,
         "Dec-01 16:00",
         1
        ],
        [
         9.401018801503417,
         "Dec-01 16:00",
         1
        ],
        [
         9.453917754962955,
         "Dec-01 16:00",
         1
        ],
        [
         8.501296656478136,
         "Dec-01 16:00",
         1
        ],
        [
         9.138251366119203,
         "Dec-01 16:00",
         1
        ],
        [
         8.763420394570854,
         "Dec-01 16:00",
         1
        ],
        [
         8.891752338646217,
         "Dec-01 17:00",
         1
        ],
        [
         8.056728720987838,
         "Dec-01 17:00",
         1
        ],
        [
         8.365379272051575,
         "Dec-01 17:00",
         1
        ],
        [
         8.134231731006643,
         "Dec-01 17:00",
         1
        ],
        [
         8.588376400852344,
         "Dec-01 17:00",
         1
        ],
        [
         8.049999999968957,
         "Dec-01 17:00",
         1
        ],
        [
         7.197763267527487,
         "Dec-01 17:00",
         1
        ],
        [
         9.132337686393345,
         "Dec-01 17:00",
         1
        ],
        [
         8.760734463260516,
         "Dec-01 17:00",
         1
        ],
        [
         8.150277854943672,
         "Dec-01 17:00",
         1
        ],
        [
         8.68661202182688,
         "Dec-01 17:00",
         1
        ],
        [
         9.537413170356391,
         "Dec-01 17:00",
         1
        ],
        [
         6.40000000006209,
         "Dec-01 18:00",
         1
        ],
        [
         6.399999999984476,
         "Dec-01 18:00",
         1
        ],
        [
         6.1315411688136985,
         "Dec-01 18:00",
         1
        ],
        [
         5.6000000000155215,
         "Dec-01 18:00",
         1
        ],
        [
         5.3225803463762045,
         "Dec-01 18:00",
         1
        ],
        [
         5.181240159318507,
         "Dec-01 18:00",
         1
        ],
        [
         7.702727609554016,
         "Dec-01 18:00",
         1
        ],
        [
         6.799999999968956,
         "Dec-01 18:00",
         1
        ],
        [
         6.48645457069623,
         "Dec-01 18:00",
         1
        ],
        [
         7.515870149130772,
         "Dec-01 18:00",
         1
        ],
        [
         7.0634574418646565,
         "Dec-01 18:00",
         1
        ],
        [
         6.083333333333334,
         "Dec-01 18:00",
         1
        ],
        [
         4.61666666669771,
         "Dec-01 19:00",
         1
        ],
        [
         5.067731777330553,
         "Dec-01 19:00",
         1
        ],
        [
         4.774715198699946,
         "Dec-01 19:00",
         1
        ],
        [
         4.663568583849335,
         "Dec-01 19:00",
         1
        ],
        [
         4.765846994566818,
         "Dec-01 19:00",
         1
        ],
        [
         4.799059924037212,
         "Dec-01 19:00",
         1
        ],
        [
         5.997587292766246,
         "Dec-01 19:00",
         1
        ],
        [
         5.815846994519986,
         "Dec-01 19:00",
         1
        ],
        [
         4.517657682706446,
         "Dec-01 19:00",
         1
        ],
        [
         22.22796610167834,
         "Dec-01 19:00",
         1
        ],
        [
         16.94999999995344,
         "Dec-01 19:00",
         1
        ],
        [
         26.47103825139638,
         "Dec-01 19:00",
         1
        ],
        [
         3.2666666666821884,
         "Dec-01 20:00",
         1
        ],
        [
         3.4162174678775123,
         "Dec-01 20:00",
         1
        ],
        [
         4.179661016949414,
         "Dec-01 20:00",
         1
        ],
        [
         3.4500000000310416,
         "Dec-01 20:00",
         1
        ],
        [
         3.533333333286764,
         "Dec-01 20:00",
         1
        ],
        [
         4.747809576734523,
         "Dec-01 20:00",
         1
        ],
        [
         3.3396869500181814,
         "Dec-01 20:00",
         1
        ],
        [
         4.12076502735293,
         "Dec-01 20:00",
         1
        ],
        [
         4.385352412675934,
         "Dec-01 20:00",
         1
        ],
        [
         3.461132722005355,
         "Dec-01 20:00",
         1
        ],
        [
         3.805288506113354,
         "Dec-01 20:00",
         1
        ],
        [
         3.2491479114724178,
         "Dec-01 20:00",
         1
        ],
        [
         2.9183569510049074,
         "Dec-01 21:00",
         1
        ],
        [
         3.083333333333334,
         "Dec-01 21:00",
         1
        ],
        [
         3.0305964619333503,
         "Dec-01 21:00",
         1
        ],
        [
         3.1664443826983897,
         "Dec-01 21:00",
         1
        ],
        [
         2.78333333336438,
         "Dec-01 21:00",
         1
        ],
        [
         3.089927757709694,
         "Dec-01 21:00",
         1
        ],
        [
         3.444484579066046,
         "Dec-01 21:00",
         1
        ],
        [
         3.215879410995604,
         "Dec-01 21:00",
         1
        ],
        [
         2.683333333271246,
         "Dec-01 21:00",
         1
        ],
        [
         2.507650273238804,
         "Dec-01 21:00",
         1
        ],
        [
         3.354918032740828,
         "Dec-01 21:00",
         1
        ],
        [
         3.302398814532342,
         "Dec-01 21:00",
         1
        ],
        [
         2.81594887474823,
         "Dec-01 22:00",
         1
        ],
        [
         2.65032416410414,
         "Dec-01 22:00",
         1
        ],
        [
         4.669051588404189,
         "Dec-01 22:00",
         1
        ],
        [
         2.68226359167506,
         "Dec-01 22:00",
         1
        ],
        [
         3.2666666666821884,
         "Dec-01 22:00",
         1
        ],
        [
         2.716171158623374,
         "Dec-01 22:00",
         1
        ],
        [
         2.732810039809564,
         "Dec-01 22:00",
         1
        ],
        [
         3.6666666666666665,
         "Dec-01 22:00",
         1
        ],
        [
         2.845332036691588,
         "Dec-01 22:00",
         1
        ],
        [
         3.25128739464717,
         "Dec-01 22:00",
         1
        ],
        [
         2.7019912938303303,
         "Dec-01 22:00",
         1
        ],
        [
         2.598629248882,
         "Dec-01 22:00",
         1
        ],
        [
         3.3183106419091146,
         "Dec-01 23:00",
         1
        ],
        [
         3.516689821202128,
         "Dec-01 23:00",
         1
        ],
        [
         3.26673613034554,
         "Dec-01 23:00",
         1
        ],
        [
         4.514351208686667,
         "Dec-01 23:00",
         1
        ],
        [
         2.906256367571844,
         "Dec-01 23:00",
         1
        ],
        [
         3.1894692970414384,
         "Dec-01 23:00",
         1
        ],
        [
         2.625734000154448,
         "Dec-01 23:00",
         1
        ],
        [
         2.7909604520089735,
         "Dec-01 23:00",
         1
        ],
        [
         3.3148050384203183,
         "Dec-01 23:00",
         1
        ],
        [
         3.4833333333178116,
         "Dec-01 23:00",
         1
        ],
        [
         2.6333564879583222,
         "Dec-01 23:00",
         1
        ],
        [
         3.264504028833784,
         "Dec-01 23:00",
         1
        ],
        [
         5.15000000006209,
         "Dec-02 00:00",
         1
        ],
        [
         4.933333333334389,
         "Dec-02 00:00",
         1
        ],
        [
         4.520501065126711,
         "Dec-02 00:00",
         1
        ],
        [
         4.571913494472926,
         "Dec-02 00:00",
         1
        ],
        [
         3.30531629154617,
         "Dec-02 00:00",
         1
        ],
        [
         3.2757062147053118,
         "Dec-02 00:00",
         1
        ],
        [
         4.786093359218844,
         "Dec-02 00:00",
         1
        ],
        [
         3.1328378253676497,
         "Dec-02 00:00",
         1
        ],
        [
         3.0822913772344163,
         "Dec-02 00:00",
         1
        ],
        [
         3.0000000000000018,
         "Dec-02 00:00",
         1
        ],
        [
         5.0800824302426,
         "Dec-02 00:00",
         1
        ],
        [
         6.616666666697711,
         "Dec-02 01:00",
         1
        ],
        [
         5.71428174489655,
         "Dec-02 01:00",
         1
        ],
        [
         5.846642585840888,
         "Dec-02 01:00",
         1
        ],
        [
         5.895355191257337,
         "Dec-02 01:00",
         1
        ],
        [
         6.447564138217833,
         "Dec-02 01:00",
         1
        ],
        [
         6.049999999968956,
         "Dec-02 01:00",
         1
        ],
        [
         6.502755395078205,
         "Dec-02 01:00",
         1
        ],
        [
         8.30480225983938,
         "Dec-02 01:00",
         1
        ],
        [
         7.516666666682188,
         "Dec-02 01:00",
         1
        ],
        [
         6.7727563212143025,
         "Dec-02 01:00",
         1
        ],
        [
         6.676604612422612,
         "Dec-02 01:00",
         1
        ],
        [
         6.30039362782958,
         "Dec-02 01:00",
         1
        ],
        [
         13.186686116497304,
         "Dec-02 02:00",
         1
        ],
        [
         10.149999999952904,
         "Dec-02 02:00",
         1
        ],
        [
         8.117685468200865,
         "Dec-02 02:00",
         1
        ],
        [
         8.421455033835956,
         "Dec-02 02:00",
         1
        ],
        [
         9.00869686027028,
         "Dec-02 02:00",
         1
        ],
        [
         6.982712790576272,
         "Dec-02 02:00",
         1
        ],
        [
         10.96177641934548,
         "Dec-02 02:00",
         1
        ],
        [
         9.982814670757922,
         "Dec-02 02:00",
         1
        ],
        [
         8.310734463229483,
         "Dec-02 02:00",
         1
        ],
        [
         9.216666666635632,
         "Dec-02 02:00",
         1
        ],
        [
         8.95360285267557,
         "Dec-02 02:00",
         1
        ],
        [
         7.494341020669424,
         "Dec-02 02:00",
         1
        ],
        [
         10.91383717699386,
         "Dec-02 03:00",
         1
        ],
        [
         12.54705473745786,
         "Dec-02 03:00",
         1
        ],
        [
         12.16972307122246,
         "Dec-02 03:00",
         1
        ],
        [
         13.233333333317798,
         "Dec-02 03:00",
         1
        ],
        [
         12.973302769257742,
         "Dec-02 03:00",
         1
        ],
        [
         12.80000000004656,
         "Dec-02 03:00",
         1
        ],
        [
         35.8301796795872,
         "Dec-02 03:00",
         1
        ],
        [
         14.06060479759844,
         "Dec-02 03:00",
         1
        ],
        [
         13.836908400479562,
         "Dec-02 03:00",
         1
        ],
        [
         11.35995646937256,
         "Dec-02 03:00",
         1
        ],
        [
         11.669449847227122,
         "Dec-02 03:00",
         1
        ],
        [
         11.27941557838564,
         "Dec-02 03:00",
         1
        ],
        [
         14.62715106048104,
         "Dec-02 04:00",
         1
        ],
        [
         15.299999999968957,
         "Dec-02 04:00",
         1
        ],
        [
         13.24353987213986,
         "Dec-02 04:00",
         1
        ],
        [
         14.129378531074261,
         "Dec-02 04:00",
         1
        ],
        [
         13.209433175882461,
         "Dec-02 04:00",
         1
        ],
        [
         13.22957766044598,
         "Dec-02 04:00",
         1
        ],
        [
         12.6166666666977,
         "Dec-02 04:00",
         1
        ],
        [
         14.591530054614278,
         "Dec-02 04:00",
         1
        ],
        [
         14.3192692415165,
         "Dec-02 04:00",
         1
        ],
        [
         13.91666666666666,
         "Dec-02 04:00",
         1
        ],
        [
         14.857159396143839,
         "Dec-02 04:00",
         1
        ],
        [
         14.064689265552241,
         "Dec-02 04:00",
         1
        ],
        [
         13.751819949985062,
         "Dec-02 05:00",
         1
        ],
        [
         13.6333333333023,
         "Dec-02 05:00",
         1
        ],
        [
         14.152384921721481,
         "Dec-02 05:00",
         1
        ],
        [
         13.55342224688862,
         "Dec-02 05:00",
         1
        ],
        [
         12.801792164538261,
         "Dec-02 05:00",
         1
        ],
        [
         12.88633879782922,
         "Dec-02 05:00",
         1
        ],
        [
         13.70552468273672,
         "Dec-02 05:00",
         1
        ],
        [
         13.0593220339141,
         "Dec-02 05:00",
         1
        ],
        [
         14.93293970545954,
         "Dec-02 05:00",
         1
        ],
        [
         13.18333333334886,
         "Dec-02 05:00",
         1
        ],
        [
         13.954723534345082,
         "Dec-02 05:00",
         1
        ],
        [
         13.918458831158379,
         "Dec-02 05:00",
         1
        ],
        [
         13.70121793086118,
         "Dec-02 06:00",
         1
        ],
        [
         13.021468926538159,
         "Dec-02 06:00",
         1
        ],
        [
         12.47118644069456,
         "Dec-02 06:00",
         1
        ],
        [
         13.065772899894842,
         "Dec-02 06:00",
         1
        ],
        [
         12.573126794508658,
         "Dec-02 06:00",
         1
        ],
        [
         11.729554505848157,
         "Dec-02 06:00",
         1
        ],
        [
         12.43333333334886,
         "Dec-02 06:00",
         1
        ],
        [
         11.278688524590681,
         "Dec-02 06:00",
         1
        ],
        [
         12.74353524122516,
         "Dec-02 06:00",
         1
        ],
        [
         12.70225988700592,
         "Dec-02 06:00",
         1
        ],
        [
         13.3392747985541,
         "Dec-02 06:00",
         1
        ],
        [
         12.114652218239298,
         "Dec-02 06:00",
         1
        ],
        [
         12.113207372450098,
         "Dec-02 07:00",
         1
        ],
        [
         11.062021857939277,
         "Dec-02 07:00",
         1
        ],
        [
         11.937755858123232,
         "Dec-02 07:00",
         1
        ],
        [
         10.91993146240962,
         "Dec-02 07:00",
         1
        ],
        [
         12.1243262016743,
         "Dec-02 07:00",
         1
        ],
        [
         11.41666666666666,
         "Dec-02 07:00",
         1
        ],
        [
         12.25000000000002,
         "Dec-02 07:00",
         1
        ],
        [
         12.25,
         "Dec-02 07:00",
         1
        ],
        [
         11.3715337593318,
         "Dec-02 07:00",
         1
        ],
        [
         10.919602667407858,
         "Dec-02 07:00",
         1
        ],
        [
         11.683333333348859,
         "Dec-02 07:00",
         1
        ],
        [
         12.14164119667654,
         "Dec-02 07:00",
         1
        ],
        [
         12.13494026122918,
         "Dec-02 08:00",
         1
        ],
        [
         13.01361489307266,
         "Dec-02 08:00",
         1
        ],
        [
         12.483333333317841,
         "Dec-02 08:00",
         1
        ],
        [
         14.949999999953459,
         "Dec-02 08:00",
         1
        ],
        [
         12.16381865332962,
         "Dec-02 08:00",
         1
        ],
        [
         11.45000000003104,
         "Dec-02 08:00",
         1
        ],
        [
         11.591775493195419,
         "Dec-02 08:00",
         1
        ],
        [
         13.06666666665114,
         "Dec-02 08:00",
         1
        ],
        [
         12.57486338793208,
         "Dec-02 08:00",
         1
        ],
        [
         13.329485042141561,
         "Dec-02 08:00",
         1
        ],
        [
         10.260285264425052,
         "Dec-02 08:00",
         1
        ],
        [
         13.100000000015502,
         "Dec-02 08:00",
         1
        ],
        [
         12.944192831325461,
         "Dec-02 09:00",
         1
        ],
        [
         13.07377975361974,
         "Dec-02 09:00",
         1
        ],
        [
         12.33934426226376,
         "Dec-02 09:00",
         1
        ],
        [
         12.70000000003102,
         "Dec-02 09:00",
         1
        ],
        [
         11.6376586089184,
         "Dec-02 09:00",
         1
        ],
        [
         12.390960451915301,
         "Dec-02 09:00",
         1
        ],
        [
         12.1333333333023,
         "Dec-02 09:00",
         1
        ],
        [
         12.264184495709038,
         "Dec-02 09:00",
         1
        ],
        [
         11.99230804856304,
         "Dec-02 09:00",
         1
        ],
        [
         14.122409002545979,
         "Dec-02 09:00",
         1
        ],
        [
         12.24999999999998,
         "Dec-02 09:00",
         1
        ],
        [
         10.19883300912213,
         "Dec-02 09:00",
         1
        ],
        [
         11.13450032421068,
         "Dec-02 10:00",
         1
        ],
        [
         9.866666666667452,
         "Dec-02 10:00",
         1
        ],
        [
         9.12716958417322,
         "Dec-02 10:00",
         1
        ],
        [
         9.116666666697713,
         "Dec-02 10:00",
         1
        ],
        [
         9.749999999999991,
         "Dec-02 10:00",
         1
        ],
        [
         10.262614615139563,
         "Dec-02 10:00",
         1
        ],
        [
         8.685690469589106,
         "Dec-02 10:00",
         1
        ],
        [
         9.795308882066877,
         "Dec-02 10:00",
         1
        ],
        [
         8.649999999984479,
         "Dec-02 10:00",
         1
        ],
        [
         9.348342132090533,
         "Dec-02 10:00",
         1
        ],
        [
         8.549203482416225,
         "Dec-02 10:00",
         1
        ],
        [
         9.483333333317805,
         "Dec-02 10:00",
         1
        ],
        [
         8.017282578507984,
         "Dec-02 11:00",
         1
        ],
        [
         8.196221172500065,
         "Dec-02 11:00",
         1
        ],
        [
         7.841803278719314,
         "Dec-02 11:00",
         1
        ],
        [
         9.433532462735888,
         "Dec-02 11:00",
         1
        ],
        [
         9.564680003688952,
         "Dec-02 11:00",
         1
        ],
        [
         8.154570714071212,
         "Dec-02 11:00",
         1
        ],
        [
         8.491849587849511,
         "Dec-02 11:00",
         1
        ],
        [
         8.54724460502995,
         "Dec-02 11:00",
         1
        ],
        [
         8.18176345282675,
         "Dec-02 11:00",
         1
        ],
        [
         8.713809391513422,
         "Dec-02 11:00",
         1
        ],
        [
         8.153301843044268,
         "Dec-02 11:00",
         1
        ],
        [
         8.661132722100295,
         "Dec-02 11:00",
         1
        ],
        [
         8.899999999984479,
         "Dec-02 12:00",
         1
        ],
        [
         8.5,
         "Dec-02 12:00",
         1
        ],
        [
         8.81994535520678,
         "Dec-02 12:00",
         1
        ],
        [
         8.68278225434569,
         "Dec-02 12:00",
         1
        ],
        [
         9.081527276095201,
         "Dec-02 12:00",
         1
        ],
        [
         9.354380846547457,
         "Dec-02 12:00",
         1
        ],
        [
         9.666666666666673,
         "Dec-02 12:00",
         1
        ],
        [
         8.709887005587365,
         "Dec-02 12:00",
         1
        ],
        [
         8.235792349665196,
         "Dec-02 12:00",
         1
        ],
        [
         9.267685468201128,
         "Dec-02 12:00",
         1
        ],
        [
         9.849379457271924,
         "Dec-02 12:00",
         1
        ],
        [
         9.197740112994353,
         "Dec-02 12:00",
         1
        ],
        [
         9.354172455327438,
         "Dec-02 13:00",
         1
        ],
        [
         9.085593220308189,
         "Dec-02 13:00",
         1
        ],
        [
         8.68743169395879,
         "Dec-02 13:00",
         1
        ],
        [
         10.016666666682193,
         "Dec-02 13:00",
         1
        ],
        [
         9.450000000031046,
         "Dec-02 13:00",
         1
        ],
        [
         9.696892655367762,
         "Dec-02 13:00",
         1
        ],
        [
         9.829188663519194,
         "Dec-02 13:00",
         1
        ],
        [
         9.47218208760194,
         "Dec-02 13:00",
         1
        ],
        [
         8.860752986956866,
         "Dec-02 13:00",
         1
        ],
        [
         8.814860609490633,
         "Dec-02 13:00",
         1
        ],
        [
         9.666666666666659,
         "Dec-02 13:00",
         1
        ],
        [
         9.848041122504787,
         "Dec-02 13:00",
         1
        ],
        [
         9.033333333364379,
         "Dec-02 14:00",
         1
        ],
        [
         8.62960544600326,
         "Dec-02 14:00",
         1
        ],
        [
         9.844933777838653,
         "Dec-02 14:00",
         1
        ],
        [
         9.323423173120464,
         "Dec-02 14:00",
         1
        ],
        [
         8.63333333330229,
         "Dec-02 14:00",
         1
        ],
        [
         10.066666666651152,
         "Dec-02 14:00",
         1
        ],
        [
         8.920250995647185,
         "Dec-02 14:00",
         1
        ],
        [
         9.799999999968948,
         "Dec-02 14:00",
         1
        ],
        [
         9.801375382098696,
         "Dec-02 14:00",
         1
        ],
        [
         9.61879688805394,
         "Dec-02 14:00",
         1
        ],
        [
         9.96442530334079,
         "Dec-02 14:00",
         1
        ],
        [
         10.366666666620103,
         "Dec-02 14:00",
         1
        ],
        [
         9.133333333379904,
         "Dec-02 15:00",
         1
        ],
        [
         9.98753357412442,
         "Dec-02 15:00",
         1
        ],
        [
         8.333333333333334,
         "Dec-02 15:00",
         1
        ],
        [
         8.983333333395422,
         "Dec-02 15:00",
         1
        ],
        [
         9.566611095658159,
         "Dec-02 15:00",
         1
        ],
        [
         8.804241919019772,
         "Dec-02 15:00",
         1
        ],
        [
         9.09242382143162,
         "Dec-02 15:00",
         1
        ],
        [
         9.480726127613277,
         "Dec-02 15:00",
         1
        ],
        [
         8.147865147710435,
         "Dec-02 15:00",
         1
        ],
        [
         9.099925905391668,
         "Dec-02 15:00",
         1
        ],
        [
         9.69831434653248,
         "Dec-02 15:00",
         1
        ],
        [
         9.083333333333336,
         "Dec-02 15:00",
         1
        ],
        [
         9.486612021873439,
         "Dec-02 16:00",
         1
        ],
        [
         9.633333333379884,
         "Dec-02 16:00",
         1
        ],
        [
         9.636047050074406,
         "Dec-02 16:00",
         1
        ],
        [
         8.93268500510798,
         "Dec-02 16:00",
         1
        ],
        [
         10.384227100090381,
         "Dec-02 16:00",
         1
        ],
        [
         8.694359544364705,
         "Dec-02 16:00",
         1
        ],
        [
         9.66666666666665,
         "Dec-02 16:00",
         1
        ],
        [
         10.230526998193424,
         "Dec-02 16:00",
         1
        ],
        [
         8.933560248231839,
         "Dec-02 16:00",
         1
        ],
        [
         10.147522459927567,
         "Dec-02 16:00",
         1
        ],
        [
         9.53161989436752,
         "Dec-02 16:00",
         1
        ],
        [
         9.567514124325077,
         "Dec-02 16:00",
         1
        ],
        [
         7.6831573585552775,
         "Dec-02 17:00",
         1
        ],
        [
         8.732337686408863,
         "Dec-02 17:00",
         1
        ],
        [
         8.210998425474322,
         "Dec-02 17:00",
         1
        ],
        [
         8.933333333348864,
         "Dec-02 17:00",
         1
        ],
        [
         8.104496619447627,
         "Dec-02 17:00",
         1
        ],
        [
         8.704769843537655,
         "Dec-02 17:00",
         1
        ],
        [
         7.990960451945307,
         "Dec-02 17:00",
         1
        ],
        [
         8.76666666668219,
         "Dec-02 17:00",
         1
        ],
        [
         8.794915254175198,
         "Dec-02 17:00",
         1
        ],
        [
         8.97871167912174,
         "Dec-02 17:00",
         1
        ],
        [
         8.718102250563067,
         "Dec-02 17:00",
         1
        ],
        [
         9.5363665833407,
         "Dec-02 17:00",
         1
        ],
        [
         5.183333333348856,
         "Dec-02 18:00",
         1
        ],
        [
         6.083208298600698,
         "Dec-02 18:00",
         1
        ],
        [
         6.483333333317812,
         "Dec-02 18:00",
         1
        ],
        [
         5.814281744914658,
         "Dec-02 18:00",
         1
        ],
        [
         6.133333333379899,
         "Dec-02 18:00",
         1
        ],
        [
         7.786436047080633,
         "Dec-02 18:00",
         1
        ],
        [
         6.741488376399308,
         "Dec-02 18:00",
         1
        ],
        [
         7.005598777421611,
         "Dec-02 18:00",
         1
        ],
        [
         6.753181439287147,
         "Dec-02 18:00",
         1
        ],
        [
         6.6663147170512875,
         "Dec-02 18:00",
         1
        ],
        [
         6,
         "Dec-02 18:00",
         1
        ],
        [
         6.899976845405019,
         "Dec-02 18:00",
         1
        ],
        [
         6.21863943685007,
         "Dec-02 19:00",
         1
        ],
        [
         5.264754098390936,
         "Dec-02 19:00",
         1
        ],
        [
         5.982661850498511,
         "Dec-02 19:00",
         1
        ],
        [
         4.833333333333334,
         "Dec-02 19:00",
         1
        ],
        [
         22.000852088480997,
         "Dec-02 19:00",
         1
        ],
        [
         5.145035658037115,
         "Dec-02 19:00",
         1
        ],
        [
         15.469824951436712,
         "Dec-02 19:00",
         1
        ],
        [
         26.24843475040811,
         "Dec-02 19:00",
         1
        ],
        [
         4.615254237304712,
         "Dec-02 19:00",
         1
        ],
        [
         5.127002871153448,
         "Dec-02 19:00",
         1
        ],
        [
         4.892817449242562,
         "Dec-02 19:00",
         1
        ],
        [
         5.35054644811873,
         "Dec-02 19:00",
         1
        ],
        [
         3.9833333333178116,
         "Dec-02 20:00",
         1
        ],
        [
         3.2690562192570405,
         "Dec-02 20:00",
         1
        ],
        [
         4.147165879410165,
         "Dec-02 20:00",
         1
        ],
        [
         3.5417338149014883,
         "Dec-02 20:00",
         1
        ],
        [
         3.2666666666821884,
         "Dec-02 20:00",
         1
        ],
        [
         3.471955172794492,
         "Dec-02 20:00",
         1
        ],
        [
         4.814754098361164,
         "Dec-02 20:00",
         1
        ],
        [
         3.9784106696783184,
         "Dec-02 20:00",
         1
        ],
        [
         3.4003982588389716,
         "Dec-02 20:00",
         1
        ],
        [
         3.350916921381804,
         "Dec-02 20:00",
         1
        ],
        [
         3.814059460945584,
         "Dec-02 20:00",
         1
        ],
        [
         3.200606649933282,
         "Dec-02 20:00",
         1
        ],
        [
         3.002838751504802,
         "Dec-02 21:00",
         1
        ],
        [
         3.18669074744433,
         "Dec-02 21:00",
         1
        ],
        [
         2.8645040289269157,
         "Dec-02 21:00",
         1
        ],
        [
         3.1831666202961917,
         "Dec-02 21:00",
         1
        ],
        [
         3.0000694637409637,
         "Dec-02 21:00",
         1
        ],
        [
         2.983333333317814,
         "Dec-02 21:00",
         1
        ],
        [
         3.084504955080902,
         "Dec-02 21:00",
         1
        ],
        [
         3.30258405109374,
         "Dec-02 21:00",
         1
        ],
        [
         2.9087941094748517,
         "Dec-02 21:00",
         1
        ],
        [
         3.229165508983732,
         "Dec-02 21:00",
         1
        ],
        [
         3.166666666666666,
         "Dec-02 21:00",
         1
        ],
        [
         3.099573955744238,
         "Dec-02 21:00",
         1
        ],
        [
         3.010280633510342,
         "Dec-02 22:00",
         1
        ],
        [
         3,
         "Dec-02 22:00",
         1
        ],
        [
         2.784768917321332,
         "Dec-02 22:00",
         1
        ],
        [
         3.409322033882256,
         "Dec-02 22:00",
         1
        ],
        [
         3.026229508227512,
         "Dec-02 22:00",
         1
        ],
        [
         3.107377049210354,
         "Dec-02 22:00",
         1
        ],
        [
         2.76666666668219,
         "Dec-02 22:00",
         1
        ],
        [
         3.9291284616283413,
         "Dec-02 22:00",
         1
        ],
        [
         2.8694498471342214,
         "Dec-02 22:00",
         1
        ],
        [
         4.7754098360192705,
         "Dec-02 22:00",
         1
        ],
        [
         2.9999999999999996,
         "Dec-02 22:00",
         1
        ],
        [
         2.9237704918016982,
         "Dec-02 22:00",
         1
        ],
        [
         3.66494859683271,
         "Dec-02 23:00",
         1
        ],
        [
         3.082291377234416,
         "Dec-02 23:00",
         1
        ],
        [
         3.366666666620104,
         "Dec-02 23:00",
         1
        ],
        [
         2.9539223858784576,
         "Dec-02 23:00",
         1
        ],
        [
         3.49830971566331,
         "Dec-02 23:00",
         1
        ],
        [
         2.7833333333643777,
         "Dec-02 23:00",
         1
        ],
        [
         3.0822635917371484,
         "Dec-02 23:00",
         1
        ],
        [
         3.43648235622558,
         "Dec-02 23:00",
         1
        ],
        [
         3.7106094285154816,
         "Dec-02 23:00",
         1
        ],
        [
         2.8594100213182623,
         "Dec-02 23:00",
         1
        ],
        [
         3.083333333333334,
         "Dec-02 23:00",
         1
        ],
        [
         3.5,
         "Dec-02 23:00",
         1
        ],
        [
         3.5,
         "Dec-03 00:00",
         1
        ],
        [
         3.502357136242084,
         "Dec-03 00:00",
         1
        ],
        [
         3.085986848199084,
         "Dec-03 00:00",
         1
        ],
        [
         3.45102343246883,
         "Dec-03 00:00",
         1
        ],
        [
         3.6531027137165184,
         "Dec-03 00:00",
         1
        ],
        [
         3.4848430119319866,
         "Dec-03 00:00",
         1
        ],
        [
         3.9833333333178125,
         "Dec-03 00:00",
         1
        ],
        [
         3.678813559321506,
         "Dec-03 00:00",
         1
        ],
        [
         3.349999999937912,
         "Dec-03 00:00",
         1
        ],
        [
         3.800000000046566,
         "Dec-03 00:00",
         1
        ],
        [
         3.9289108085724203,
         "Dec-03 00:00",
         1
        ],
        [
         6.153107344679334,
         "Dec-03 01:00",
         1
        ],
        [
         4.74836065573952,
         "Dec-03 01:00",
         1
        ],
        [
         6.616022969296752,
         "Dec-03 01:00",
         1
        ],
        [
         4.433333333348854,
         "Dec-03 01:00",
         1
        ],
        [
         4.167393720478156,
         "Dec-03 01:00",
         1
        ],
        [
         7.916022969390444,
         "Dec-03 01:00",
         1
        ],
        [
         4.633879781405499,
         "Dec-03 01:00",
         1
        ],
        [
         5.118926553688366,
         "Dec-03 01:00",
         1
        ],
        [
         7.016666666682188,
         "Dec-03 01:00",
         1
        ],
        [
         6.50536723162237,
         "Dec-03 01:00",
         1
        ],
        [
         5.251393905651672,
         "Dec-03 01:00",
         1
        ],
        [
         6.581768083726175,
         "Dec-03 01:00",
         1
        ],
        [
         8.783333333364377,
         "Dec-03 02:00",
         1
        ],
        [
         9.19689265536644,
         "Dec-03 02:00",
         1
        ],
        [
         8.686709271062009,
         "Dec-03 02:00",
         1
        ],
        [
         8.655436695393615,
         "Dec-03 02:00",
         1
        ],
        [
         7.088700564955701,
         "Dec-03 02:00",
         1
        ],
        [
         7.163892747984777,
         "Dec-03 02:00",
         1
        ],
        [
         9.801092896145132,
         "Dec-03 02:00",
         1
        ],
        [
         9.415819209008507,
         "Dec-03 02:00",
         1
        ],
        [
         9.672459942575868,
         "Dec-03 02:00",
         1
        ],
        [
         6.278563489828265,
         "Dec-03 02:00",
         1
        ],
        [
         9.135917384504449,
         "Dec-03 02:00",
         1
        ],
        [
         8.683333333348854,
         "Dec-03 02:00",
         1
        ],
        [
         13.30000000004656,
         "Dec-03 03:00",
         1
        ],
        [
         11.63745484853802,
         "Dec-03 03:00",
         1
        ],
        [
         12.07108919142552,
         "Dec-03 03:00",
         1
        ],
        [
         11.686463832558221,
         "Dec-03 03:00",
         1
        ],
        [
         10.754292859159637,
         "Dec-03 03:00",
         1
        ],
        [
         13.233333333317821,
         "Dec-03 03:00",
         1
        ],
        [
         10.535593220339246,
         "Dec-03 03:00",
         1
        ],
        [
         12.491409650813141,
         "Dec-03 03:00",
         1
        ],
        [
         10.687533574123899,
         "Dec-03 03:00",
         1
        ],
        [
         35.49243771422644,
         "Dec-03 03:00",
         1
        ],
        [
         11.899083078616638,
         "Dec-03 03:00",
         1
        ],
        [
         11.064207650288491,
         "Dec-03 03:00",
         1
        ],
        [
         13.11471242010118,
         "Dec-03 04:00",
         1
        ],
        [
         13.86666666669772,
         "Dec-03 04:00",
         1
        ],
        [
         12.22163563949794,
         "Dec-03 04:00",
         1
        ],
        [
         14.04979623974358,
         "Dec-03 04:00",
         1
        ],
        [
         12.991460590887801,
         "Dec-03 04:00",
         1
        ],
        [
         12.75635361674616,
         "Dec-03 04:00",
         1
        ],
        [
         13.67297397426816,
         "Dec-03 04:00",
         1
        ],
        [
         13.599999999937898,
         "Dec-03 04:00",
         1
        ],
        [
         13.655191256814541,
         "Dec-03 04:00",
         1
        ],
        [
         12.216666666635641,
         "Dec-03 04:00",
         1
        ],
        [
         13.51060479764528,
         "Dec-03 04:00",
         1
        ],
        [
         14.750273224089762,
         "Dec-03 04:00",
         1
        ],
        [
         13.283333333286759,
         "Dec-03 05:00",
         1
        ],
        [
         12.38566268409212,
         "Dec-03 05:00",
         1
        ],
        [
         13.78333333328678,
         "Dec-03 05:00",
         1
        ],
        [
         14.149999999984479,
         "Dec-03 05:00",
         1
        ],
        [
         13.41666666666666,
         "Dec-03 05:00",
         1
        ],
        [
         13.768055941481759,
         "Dec-03 05:00",
         1
        ],
        [
         12.875706214689279,
         "Dec-03 05:00",
         1
        ],
        [
         13.112892470160599,
         "Dec-03 05:00",
         1
        ],
        [
         15.29051588408844,
         "Dec-03 05:00",
         1
        ],
        [
         13.772603500956441,
         "Dec-03 05:00",
         1
        ],
        [
         12.71073446327712,
         "Dec-03 05:00",
         1
        ],
        [
         13.202116328641358,
         "Dec-03 05:00",
         1
        ],
        [
         12.39327590996102,
         "Dec-03 06:00",
         1
        ],
        [
         12.04046494399594,
         "Dec-03 06:00",
         1
        ],
        [
         13.90524219693656,
         "Dec-03 06:00",
         1
        ],
        [
         12.533333333286759,
         "Dec-03 06:00",
         1
        ],
        [
         12.66666666666664,
         "Dec-03 06:00",
         1
        ],
        [
         12.533333333364379,
         "Dec-03 06:00",
         1
        ],
        [
         12.654644808773961,
         "Dec-03 06:00",
         1
        ],
        [
         12.116268407923199,
         "Dec-03 06:00",
         1
        ],
        [
         12.75855330181152,
         "Dec-03 06:00",
         1
        ],
        [
         11.983333333317805,
         "Dec-03 06:00",
         1
        ],
        [
         12.43323608403406,
         "Dec-03 06:00",
         1
        ],
        [
         12.76035935908304,
         "Dec-03 06:00",
         1
        ],
        [
         13.780531629187058,
         "Dec-03 07:00",
         1
        ],
        [
         12.25,
         "Dec-03 07:00",
         1
        ],
        [
         13.1166666666201,
         "Dec-03 07:00",
         1
        ],
        [
         12.43333333327124,
         "Dec-03 07:00",
         1
        ],
        [
         10.31355932206546,
         "Dec-03 07:00",
         1
        ],
        [
         12.74604982865636,
         "Dec-03 07:00",
         1
        ],
        [
         12.331939427603242,
         "Dec-03 07:00",
         1
        ],
        [
         12.98920070388138,
         "Dec-03 07:00",
         1
        ],
        [
         11.183801055866201,
         "Dec-03 07:00",
         1
        ],
        [
         12.80332499765142,
         "Dec-03 07:00",
         1
        ],
        [
         12.965152357181259,
         "Dec-03 07:00",
         1
        ],
        [
         13.33363897378928,
         "Dec-03 07:00",
         1
        ],
        [
         12.2533759377623,
         "Dec-03 08:00",
         1
        ],
        [
         10.283333333364363,
         "Dec-03 08:00",
         1
        ],
        [
         11.0805779382836,
         "Dec-03 08:00",
         1
        ],
        [
         10.700000000031043,
         "Dec-03 08:00",
         1
        ],
        [
         11.049828656078441,
         "Dec-03 08:00",
         1
        ],
        [
         11.103172177472734,
         "Dec-03 08:00",
         1
        ],
        [
         11.84111327214394,
         "Dec-03 08:00",
         1
        ],
        [
         10.918607020469421,
         "Dec-03 08:00",
         1
        ],
        [
         12.66664351208668,
         "Dec-03 08:00",
         1
        ],
        [
         11.317680837253821,
         "Dec-03 08:00",
         1
        ],
        [
         11.511748633926379,
         "Dec-03 08:00",
         1
        ],
        [
         12.4293831620052,
         "Dec-03 08:00",
         1
        ],
        [
         10.433333333348854,
         "Dec-03 09:00",
         1
        ],
        [
         10.92689172918224,
         "Dec-03 09:00",
         1
        ],
        [
         10.914425303325775,
         "Dec-03 09:00",
         1
        ],
        [
         10.884968046679642,
         "Dec-03 09:00",
         1
        ],
        [
         10.149999999984466,
         "Dec-03 09:00",
         1
        ],
        [
         10.101412429362473,
         "Dec-03 09:00",
         1
        ],
        [
         10.831749560062988,
         "Dec-03 09:00",
         1
        ],
        [
         11.50486709270914,
         "Dec-03 09:00",
         1
        ],
        [
         9.875289432297047,
         "Dec-03 09:00",
         1
        ],
        [
         10.473946466579246,
         "Dec-03 09:00",
         1
        ],
        [
         9.58333333333334,
         "Dec-03 09:00",
         1
        ],
        [
         11.81030841905108,
         "Dec-03 09:00",
         1
        ],
        [
         8.09813837178545,
         "Dec-03 10:00",
         1
        ],
        [
         9.283240714997635,
         "Dec-03 10:00",
         1
        ],
        [
         7.999175696953901,
         "Dec-03 10:00",
         1
        ],
        [
         9.96666666663563,
         "Dec-03 10:00",
         1
        ],
        [
         9.115925720135895,
         "Dec-03 10:00",
         1
        ],
        [
         8.546762989765918,
         "Dec-03 10:00",
         1
        ],
        [
         8.283333333364379,
         "Dec-03 10:00",
         1
        ],
        [
         8.79449384089595,
         "Dec-03 10:00",
         1
        ],
        [
         8.901662498829072,
         "Dec-03 10:00",
         1
        ],
        [
         8.083430582568457,
         "Dec-03 10:00",
         1
        ],
        [
         9.857404834613948,
         "Dec-03 10:00",
         1
        ],
        [
         8.422858201353273,
         "Dec-03 10:00",
         1
        ],
        [
         9.483333333317812,
         "Dec-03 11:00",
         1
        ],
        [
         9.545725664553,
         "Dec-03 11:00",
         1
        ],
        [
         9.488496804652438,
         "Dec-03 11:00",
         1
        ],
        [
         9.48519959246335,
         "Dec-03 11:00",
         1
        ],
        [
         9.433333333348855,
         "Dec-03 11:00",
         1
        ],
        [
         9.291530054628769,
         "Dec-03 11:00",
         1
        ],
        [
         8.149351671743602,
         "Dec-03 11:00",
         1
        ],
        [
         9.0671204964655,
         "Dec-03 11:00",
         1
        ],
        [
         9.684972677564335,
         "Dec-03 11:00",
         1
        ],
        [
         7.703903862137646,
         "Dec-03 11:00",
         1
        ],
        [
         9.268505140331767,
         "Dec-03 11:00",
         1
        ],
        [
         7.733333333395424,
         "Dec-03 11:00",
         1
        ],
        [
         9.716939890678548,
         "Dec-03 12:00",
         1
        ],
        [
         10.7459016393748,
         "Dec-03 12:00",
         1
        ],
        [
         8.292530332486306,
         "Dec-03 12:00",
         1
        ],
        [
         9.535519125714107,
         "Dec-03 12:00",
         1
        ],
        [
         10.419774011268135,
         "Dec-03 12:00",
         1
        ],
        [
         9.632786885246166,
         "Dec-03 12:00",
         1
        ],
        [
         9.330943780646441,
         "Dec-03 12:00",
         1
        ],
        [
         10.428915439487138,
         "Dec-03 12:00",
         1
        ],
        [
         10.670283412107263,
         "Dec-03 12:00",
         1
        ],
        [
         9.904098360593137,
         "Dec-03 12:00",
         1
        ],
        [
         8.853649161819718,
         "Dec-03 12:00",
         1
        ],
        [
         8.707627118659858,
         "Dec-03 12:00",
         1
        ],
        [
         8.867986477757896,
         "Dec-03 13:00",
         1
        ],
        [
         9.225757154811523,
         "Dec-03 13:00",
         1
        ],
        [
         8.844262295037723,
         "Dec-03 13:00",
         1
        ],
        [
         8.79406779662622,
         "Dec-03 13:00",
         1
        ],
        [
         8.555464480875083,
         "Dec-03 13:00",
         1
        ],
        [
         9.249087709518168,
         "Dec-03 13:00",
         1
        ],
        [
         8.983333333317812,
         "Dec-03 13:00",
         1
        ],
        [
         9.168861720848113,
         "Dec-03 13:00",
         1
        ],
        [
         9.237978142092025,
         "Dec-03 13:00",
         1
        ],
        [
         9.165453366675166,
         "Dec-03 13:00",
         1
        ],
        [
         9.07767435403353,
         "Dec-03 13:00",
         1
        ],
        [
         8.946318421736745,
         "Dec-03 13:00",
         1
        ],
        [
         8.266666666682188,
         "Dec-03 14:00",
         1
        ],
        [
         8.950000000031043,
         "Dec-03 14:00",
         1
        ],
        [
         8.183333333348854,
         "Dec-03 14:00",
         1
        ],
        [
         8.449999999953437,
         "Dec-03 14:00",
         1
        ],
        [
         8.229239603579883,
         "Dec-03 14:00",
         1
        ],
        [
         8.267416875072382,
         "Dec-03 14:00",
         1
        ],
        [
         9.499634157637683,
         "Dec-03 14:00",
         1
        ],
        [
         9.097017690083314,
         "Dec-03 14:00",
         1
        ],
        [
         8.342947114937527,
         "Dec-03 14:00",
         1
        ],
        [
         8.000023154580497,
         "Dec-03 14:00",
         1
        ],
        [
         8.549999999968957,
         "Dec-03 14:00",
         1
        ],
        [
         7.988330091708439,
         "Dec-03 14:00",
         1
        ],
        [
         9.425386681501882,
         "Dec-03 15:00",
         1
        ],
        [
         8.77513661195899,
         "Dec-03 15:00",
         1
        ],
        [
         9.163193479671316,
         "Dec-03 15:00",
         1
        ],
        [
         8.234278040179529,
         "Dec-03 15:00",
         1
        ],
        [
         8.254769843505336,
         "Dec-03 15:00",
         1
        ],
        [
         8.527118644066746,
         "Dec-03 15:00",
         1
        ],
        [
         9.34793924239612,
         "Dec-03 15:00",
         1
        ],
        [
         8.647883671407515,
         "Dec-03 15:00",
         1
        ],
        [
         8.950000000031045,
         "Dec-03 15:00",
         1
        ],
        [
         8.798587570637778,
         "Dec-03 15:00",
         1
        ],
        [
         9.56599055291559,
         "Dec-03 15:00",
         1
        ],
        [
         8.861924608641296,
         "Dec-03 15:00",
         1
        ],
        [
         9.220765027321894,
         "Dec-03 16:00",
         1
        ],
        [
         8.999013614892508,
         "Dec-03 16:00",
         1
        ],
        [
         8.927118644052541,
         "Dec-03 16:00",
         1
        ],
        [
         9.349999999937918,
         "Dec-03 16:00",
         1
        ],
        [
         9.726877836483656,
         "Dec-03 16:00",
         1
        ],
        [
         9.259766601851434,
         "Dec-03 16:00",
         1
        ],
        [
         9.806612948010086,
         "Dec-03 16:00",
         1
        ],
        [
         9.116666666697707,
         "Dec-03 16:00",
         1
        ],
        [
         8.98333333331781,
         "Dec-03 16:00",
         1
        ],
        [
         9.68243956659181,
         "Dec-03 16:00",
         1
        ],
        [
         8.973154580006447,
         "Dec-03 16:00",
         1
        ],
        [
         9.095007872555898,
         "Dec-03 16:00",
         1
        ],
        [
         8.869945355175734,
         "Dec-03 17:00",
         1
        ],
        [
         7.117954061343608,
         "Dec-03 17:00",
         1
        ],
        [
         8.897119570234429,
         "Dec-03 17:00",
         1
        ],
        [
         8.256284153035491,
         "Dec-03 17:00",
         1
        ],
        [
         8.888302306180385,
         "Dec-03 17:00",
         1
        ],
        [
         7.535644160431477,
         "Dec-03 17:00",
         1
        ],
        [
         7.649999999984478,
         "Dec-03 17:00",
         1
        ],
        [
         9.002292303419166,
         "Dec-03 17:00",
         1
        ],
        [
         9.490464943950904,
         "Dec-03 17:00",
         1
        ],
        [
         8.5259887005655,
         "Dec-03 17:00",
         1
        ],
        [
         8.76798647773978,
         "Dec-03 17:00",
         1
        ],
        [
         7.643391682858825,
         "Dec-03 17:00",
         1
        ],
        [
         5.950495508043057,
         "Dec-03 18:00",
         1
        ],
        [
         5.233333333317811,
         "Dec-03 18:00",
         1
        ],
        [
         6.08261554135408,
         "Dec-03 18:00",
         1
        ],
        [
         7.30328331940928,
         "Dec-03 18:00",
         1
        ],
        [
         5.900055570977184,
         "Dec-03 18:00",
         1
        ],
        [
         6.666666666666666,
         "Dec-03 18:00",
         1
        ],
        [
         6.18854774474391,
         "Dec-03 18:00",
         1
        ],
        [
         6.565231082708425,
         "Dec-03 18:00",
         1
        ],
        [
         5.635319996343124,
         "Dec-03 18:00",
         1
        ],
        [
         6.565721959789147,
         "Dec-03 18:00",
         1
        ],
        [
         6.22967490968472,
         "Dec-03 18:00",
         1
        ],
        [
         7.066666666651145,
         "Dec-03 18:00",
         1
        ],
        [
         4.417213114769874,
         "Dec-03 19:00",
         1
        ],
        [
         5.674293785373086,
         "Dec-03 19:00",
         1
        ],
        [
         4.513531536552168,
         "Dec-03 19:00",
         1
        ],
        [
         22.15017597487044,
         "Dec-03 19:00",
         1
        ],
        [
         4.833333333333334,
         "Dec-03 19:00",
         2
        ],
        [
         26.81354542925436,
         "Dec-03 19:00",
         1
        ],
        [
         4.962466425827463,
         "Dec-03 19:00",
         1
        ],
        [
         4.916092433081696,
         "Dec-03 19:00",
         1
        ],
        [
         4.199999999953435,
         "Dec-03 19:00",
         1
        ],
        [
         14.978271742089259,
         "Dec-03 19:00",
         1
        ],
        [
         4.436913031413404,
         "Dec-03 19:00",
         1
        ],
        [
         4.942798925643556,
         "Dec-03 20:00",
         1
        ],
        [
         2.985759933314056,
         "Dec-03 20:00",
         1
        ],
        [
         3.15710382513661,
         "Dec-03 20:00",
         1
        ],
        [
         4.06453181437969,
         "Dec-03 20:00",
         1
        ],
        [
         3.26729184034309,
         "Dec-03 20:00",
         1
        ],
        [
         3.7876122997278783,
         "Dec-03 20:00",
         1
        ],
        [
         4.025761785633606,
         "Dec-03 20:00",
         1
        ],
        [
         3.6667639159023127,
         "Dec-03 20:00",
         1
        ],
        [
         3.2411781050291744,
         "Dec-03 20:00",
         1
        ],
        [
         4.051199407274305,
         "Dec-03 20:00",
         1
        ],
        [
         3.3625173658723684,
         "Dec-03 20:00",
         1
        ],
        [
         3.847272390496176,
         "Dec-03 20:00",
         1
        ],
        [
         2.78250903023987,
         "Dec-03 21:00",
         1
        ],
        [
         2.9946327684236698,
         "Dec-03 21:00",
         1
        ],
        [
         3.1333333333799,
         "Dec-03 21:00",
         1
        ],
        [
         3.000000000000002,
         "Dec-03 21:00",
         1
        ],
        [
         2.8666666666977116,
         "Dec-03 21:00",
         1
        ],
        [
         3.125409836034786,
         "Dec-03 21:00",
         1
        ],
        [
         3.0333333333643777,
         "Dec-03 21:00",
         1
        ],
        [
         2.768065203312462,
         "Dec-03 21:00",
         1
        ],
        [
         2.686662961949648,
         "Dec-03 21:00",
         1
        ],
        [
         3.09980550146559,
         "Dec-03 21:00",
         1
        ],
        [
         3.114754098377476,
         "Dec-03 21:00",
         1
        ],
        [
         2.890437158454424,
         "Dec-03 21:00",
         1
        ],
        [
         2.717305733119284,
         "Dec-03 22:00",
         1
        ],
        [
         2.817555802600356,
         "Dec-03 22:00",
         1
        ],
        [
         2.693220338998574,
         "Dec-03 22:00",
         1
        ],
        [
         3.100000000015524,
         "Dec-03 22:00",
         1
        ],
        [
         3.706557377095236,
         "Dec-03 22:00",
         1
        ],
        [
         2.7423728813409385,
         "Dec-03 22:00",
         1
        ],
        [
         2.949999999953436,
         "Dec-03 22:00",
         1
        ],
        [
         3.617555802569312,
         "Dec-03 22:00",
         1
        ],
        [
         3.287482634034736,
         "Dec-03 22:00",
         1
        ],
        [
         2.636690747399078,
         "Dec-03 22:00",
         1
        ],
        [
         3.357923497221956,
         "Dec-03 22:00",
         1
        ],
        [
         2.866990830739762,
         "Dec-03 22:00",
         1
        ],
        [
         3.363110123196596,
         "Dec-03 23:00",
         1
        ],
        [
         2.7363897378746325,
         "Dec-03 23:00",
         1
        ],
        [
         2.6729508196881637,
         "Dec-03 23:00",
         1
        ],
        [
         3.3666666666201004,
         "Dec-03 23:00",
         1
        ],
        [
         2.999999999999998,
         "Dec-03 23:00",
         1
        ],
        [
         3.1333333333798996,
         "Dec-03 23:00",
         1
        ],
        [
         3.2506622209862686,
         "Dec-03 23:00",
         1
        ],
        [
         4.081772714626644,
         "Dec-03 23:00",
         1
        ],
        [
         3.0833333333333344,
         "Dec-03 23:00",
         1
        ],
        [
         3.4575345002762945,
         "Dec-03 23:00",
         1
        ],
        [
         3.268996017428276,
         "Dec-03 23:00",
         1
        ],
        [
         3.3830601092735884,
         "Dec-03 23:00",
         1
        ],
        [
         3.7629480411380642,
         "Dec-04 00:00",
         1
        ],
        [
         4.799152542326578,
         "Dec-04 00:00",
         1
        ],
        [
         5.516666666604578,
         "Dec-04 00:00",
         1
        ],
        [
         3.315370010251138,
         "Dec-04 00:00",
         1
        ],
        [
         5.100000000015522,
         "Dec-04 00:00",
         1
        ],
        [
         3.0336760210703884,
         "Dec-04 00:00",
         1
        ],
        [
         4.20347781786608,
         "Dec-04 00:00",
         1
        ],
        [
         4.745026396219882,
         "Dec-04 00:00",
         1
        ],
        [
         5.397841993207036,
         "Dec-04 00:00",
         1
        ],
        [
         3.851907937403996,
         "Dec-04 00:00",
         1
        ],
        [
         4.601912568337307,
         "Dec-04 00:00",
         1
        ],
        [
         6.424858757046098,
         "Dec-04 01:00",
         1
        ],
        [
         6.030054644778206,
         "Dec-04 01:00",
         1
        ],
        [
         5.685093081426788,
         "Dec-04 01:00",
         1
        ],
        [
         5.947540983638655,
         "Dec-04 01:00",
         1
        ],
        [
         5.578114290945444,
         "Dec-04 01:00",
         1
        ],
        [
         5.9478883023372555,
         "Dec-04 01:00",
         1
        ],
        [
         9.790988237504397,
         "Dec-04 01:00",
         1
        ],
        [
         6.080948411596848,
         "Dec-04 01:00",
         1
        ],
        [
         5.837005649701203,
         "Dec-04 01:00",
         1
        ],
        [
         6.983333333317812,
         "Dec-04 01:00",
         1
        ],
        [
         6.1195193109515245,
         "Dec-04 01:00",
         1
        ],
        [
         5.4192460868765115,
         "Dec-04 01:00",
         1
        ],
        [
         9.214087246503151,
         "Dec-04 02:00",
         1
        ],
        [
         7.990163934393886,
         "Dec-04 02:00",
         1
        ],
        [
         8.969672131147286,
         "Dec-04 02:00",
         1
        ],
        [
         6.21654163190426,
         "Dec-04 02:00",
         1
        ],
        [
         9.145980364947224,
         "Dec-04 02:00",
         1
        ],
        [
         7.8706168380418715,
         "Dec-04 02:00",
         1
        ],
        [
         7.219848105957165,
         "Dec-04 02:00",
         1
        ],
        [
         6.933333333348858,
         "Dec-04 02:00",
         1
        ],
        [
         6.3179077522147,
         "Dec-04 02:00",
         1
        ],
        [
         7.1985366304981735,
         "Dec-04 02:00",
         1
        ],
        [
         8.316666666651145,
         "Dec-04 02:00",
         1
        ],
        [
         7.299999999968958,
         "Dec-04 02:00",
         1
        ],
        [
         11.80478836715456,
         "Dec-04 03:00",
         1
        ],
        [
         10.998587570589907,
         "Dec-04 03:00",
         1
        ],
        [
         12.802459016362139,
         "Dec-04 03:00",
         1
        ],
        [
         13.33058256926374,
         "Dec-04 03:00",
         1
        ],
        [
         11.00512179309042,
         "Dec-04 03:00",
         1
        ],
        [
         10.416666666666643,
         "Dec-04 03:00",
         1
        ],
        [
         11.06557377050708,
         "Dec-04 03:00",
         1
        ],
        [
         10.483333333395432,
         "Dec-04 03:00",
         1
        ],
        [
         34.27022321013416,
         "Dec-04 03:00",
         1
        ],
        [
         11.633333333302259,
         "Dec-04 03:00",
         1
        ],
        [
         10.650819672116679,
         "Dec-04 03:00",
         1
        ],
        [
         10.01334166892108,
         "Dec-04 03:00",
         1
        ],
        [
         13.3642308048845,
         "Dec-04 04:00",
         1
        ],
        [
         13.286440677965839,
         "Dec-04 04:00",
         1
        ],
        [
         12.82886449943058,
         "Dec-04 04:00",
         1
        ],
        [
         13.1534268778201,
         "Dec-04 04:00",
         1
        ],
        [
         11.9603825136612,
         "Dec-04 04:00",
         1
        ],
        [
         12.88420394550884,
         "Dec-04 04:00",
         1
        ],
        [
         13.6326109104231,
         "Dec-04 04:00",
         1
        ],
        [
         13.3666666666977,
         "Dec-04 04:00",
         1
        ],
        [
         14.989742521068601,
         "Dec-04 04:00",
         1
        ],
        [
         13.247119570252039,
         "Dec-04 04:00",
         1
        ],
        [
         12.15993794572592,
         "Dec-04 04:00",
         1
        ],
        [
         12.30983606559004,
         "Dec-04 04:00",
         1
        ],
        [
         12.66497638232946,
         "Dec-04 05:00",
         1
        ],
        [
         14.695971103052099,
         "Dec-04 05:00",
         1
        ],
        [
         12.84970362139156,
         "Dec-04 05:00",
         1
        ],
        [
         13.33333333333336,
         "Dec-04 05:00",
         1
        ],
        [
         13.55464480875844,
         "Dec-04 05:00",
         1
        ],
        [
         13.81407798461116,
         "Dec-04 05:00",
         1
        ],
        [
         12.67052421969168,
         "Dec-04 05:00",
         1
        ],
        [
         14.40245901634714,
         "Dec-04 05:00",
         1
        ],
        [
         12.7504816153098,
         "Dec-04 05:00",
         1
        ],
        [
         13.901463369440261,
         "Dec-04 05:00",
         1
        ],
        [
         13.68864962490954,
         "Dec-04 05:00",
         1
        ],
        [
         13.600000000015521,
         "Dec-04 05:00",
         1
        ],
        [
         12.13167083445974,
         "Dec-04 06:00",
         1
        ],
        [
         10.54498008702964,
         "Dec-04 06:00",
         1
        ],
        [
         12.51666666668218,
         "Dec-04 06:00",
         1
        ],
        [
         11.53670927112564,
         "Dec-04 06:00",
         1
        ],
        [
         11.38513939057146,
         "Dec-04 06:00",
         1
        ],
        [
         12.66408261554158,
         "Dec-04 06:00",
         1
        ],
        [
         11.49783736222972,
         "Dec-04 06:00",
         1
        ],
        [
         12.34915717330362,
         "Dec-04 06:00",
         1
        ],
        [
         13.7380337130545,
         "Dec-04 06:00",
         1
        ],
        [
         13.233333333317798,
         "Dec-04 06:00",
         1
        ],
        [
         12.434926368419658,
         "Dec-04 06:00",
         1
        ],
        [
         12.666666666666677,
         "Dec-04 06:00",
         1
        ],
        [
         11.503676947348302,
         "Dec-04 07:00",
         1
        ],
        [
         13.336366583264379,
         "Dec-04 07:00",
         1
        ],
        [
         13.238524590117617,
         "Dec-04 07:00",
         1
        ],
        [
         13.25427433546226,
         "Dec-04 07:00",
         1
        ],
        [
         13.0312586830322,
         "Dec-04 07:00",
         1
        ],
        [
         12.74699916643484,
         "Dec-04 07:00",
         1
        ],
        [
         13.56666666665114,
         "Dec-04 07:00",
         1
        ],
        [
         13.19096045196186,
         "Dec-04 07:00",
         1
        ],
        [
         12.38521811619178,
         "Dec-04 07:00",
         1
        ],
        [
         13.114485505217138,
         "Dec-04 07:00",
         1
        ],
        [
         12.392896174879441,
         "Dec-04 07:00",
         1
        ],
        [
         12.88055015282228,
         "Dec-04 07:00",
         1
        ],
        [
         11.603783458383319,
         "Dec-04 08:00",
         1
        ],
        [
         13.025608965468141,
         "Dec-04 08:00",
         1
        ],
        [
         11.273798277284758,
         "Dec-04 08:00",
         1
        ],
        [
         11.81666666665114,
         "Dec-04 08:00",
         1
        ],
        [
         12.033333333286759,
         "Dec-04 08:00",
         1
        ],
        [
         13.643169398922101,
         "Dec-04 08:00",
         1
        ],
        [
         11.083333333301761,
         "Dec-04 08:00",
         1
        ],
        [
         11.769894415131361,
         "Dec-04 08:00",
         1
        ],
        [
         11.58333333333332,
         "Dec-04 08:00",
         1
        ],
        [
         11.54538297679912,
         "Dec-04 08:00",
         1
        ],
        [
         11.53785310734568,
         "Dec-04 08:00",
         1
        ],
        [
         11.843789941666738,
         "Dec-04 08:00",
         1
        ],
        [
         11.381050291749,
         "Dec-04 09:00",
         1
        ],
        [
         11.76666666668218,
         "Dec-04 09:00",
         1
        ],
        [
         9.986440677980356,
         "Dec-04 09:00",
         1
        ],
        [
         11.598633879751159,
         "Dec-04 09:00",
         1
        ],
        [
         10.60325553396095,
         "Dec-04 09:00",
         1
        ],
        [
         10.705094007624195,
         "Dec-04 09:00",
         1
        ],
        [
         10.192572010728695,
         "Dec-04 09:00",
         1
        ],
        [
         10.759891636548648,
         "Dec-04 09:00",
         1
        ],
        [
         11.94999999995342,
         "Dec-04 09:00",
         1
        ],
        [
         11.17719736965471,
         "Dec-04 09:00",
         1
        ],
        [
         12.12916550893714,
         "Dec-04 09:00",
         1
        ],
        [
         11.4884551264556,
         "Dec-04 09:00",
         1
        ],
        [
         9.052019079419177,
         "Dec-04 10:00",
         1
        ],
        [
         10.371186440677686,
         "Dec-04 10:00",
         1
        ],
        [
         9.295406131379625,
         "Dec-04 10:00",
         1
        ],
        [
         8.941928313404091,
         "Dec-04 10:00",
         1
        ],
        [
         8.865198666251173,
         "Dec-04 10:00",
         1
        ],
        [
         7.954769843504531,
         "Dec-04 10:00",
         1
        ],
        [
         8.555209780463532,
         "Dec-04 10:00",
         1
        ],
        [
         9.291682874841865,
         "Dec-04 10:00",
         1
        ],
        [
         9.314504028866642,
         "Dec-04 10:00",
         1
        ],
        [
         9.320765027337414,
         "Dec-04 10:00",
         1
        ],
        [
         8.36666666669771,
         "Dec-04 10:00",
         1
        ],
        [
         8.817430767791388,
         "Dec-04 10:00",
         1
        ],
        [
         8.360577012164043,
         "Dec-04 11:00",
         1
        ],
        [
         8.292622950803388,
         "Dec-04 11:00",
         1
        ],
        [
         7.6973186995914515,
         "Dec-04 11:00",
         1
        ],
        [
         9.437459479500824,
         "Dec-04 11:00",
         1
        ],
        [
         8.266666666682188,
         "Dec-04 11:00",
         1
        ],
        [
         8.952685931307215,
         "Dec-04 11:00",
         1
        ],
        [
         7.727401129975073,
         "Dec-04 11:00",
         1
        ],
        [
         8.491085486677697,
         "Dec-04 11:00",
         1
        ],
        [
         8.663559322002063,
         "Dec-04 11:00",
         1
        ]
       ],
       "datasetInfos": [],
       "dbfsResultPath": null,
       "isJsonSchema": true,
       "overflow": true,
       "plotOptions": {
        "customPlotOptions": {},
        "displayType": "table",
        "pivotAggregation": null,
        "pivotColumns": null,
        "xColumns": null,
        "yColumns": null
       },
       "removedWidgets": [],
       "schema": [
        {
         "metadata": "{}",
         "name": "value",
         "type": "\"double\""
        },
        {
         "metadata": "{}",
         "name": "time",
         "type": "\"string\""
        },
        {
         "metadata": "{}",
         "name": "count",
         "type": "\"long\""
        }
       ],
       "type": "table"
      }
     },
     "output_type": "display_data"
    }
   ],
   "source": [
    "#hide\n",
    "%sql select value, date_format(window.end, \"MMM-dd HH:mm\") as time, count from count order by time"
   ]
  },
  {
   "cell_type": "code",
   "execution_count": 0,
   "metadata": {
    "application/vnd.databricks.v1+cell": {
     "inputWidgets": {},
     "nuid": "864f8205-0def-4278-8e74-e3c5c684fb97",
     "showTitle": false,
     "title": ""
    }
   },
   "outputs": [
    {
     "data": {
      "text/html": [
       "<style scoped>\n",
       "  .ansiout {\n",
       "    display: block;\n",
       "    unicode-bidi: embed;\n",
       "    white-space: pre-wrap;\n",
       "    word-wrap: break-word;\n",
       "    word-break: break-all;\n",
       "    font-family: \"Source Code Pro\", \"Menlo\", monospace;;\n",
       "    font-size: 13px;\n",
       "    color: #555;\n",
       "    margin-left: 4px;\n",
       "    line-height: 19px;\n",
       "  }\n",
       "</style>"
      ]
     },
     "metadata": {
      "application/vnd.databricks.v1+output": {
       "arguments": {},
       "data": "",
       "errorSummary": "",
       "type": "ipynbError"
      }
     },
     "output_type": "display_data"
    }
   ],
   "source": [
    "%sql select value, date_format(window.end, \"MMM-dd HH:mm\") as time, count from count order by time"
   ]
  },
  {
   "cell_type": "markdown",
   "metadata": {},
   "source": [
    "![](my_icons/streamtable.png)"
   ]
  },
  {
   "cell_type": "code",
   "execution_count": null,
   "metadata": {},
   "outputs": [],
   "source": []
  }
 ],
 "metadata": {
  "application/vnd.databricks.v1+notebook": {
   "dashboards": [
    {
     "elements": [
      {
       "elementNUID": "b106098e-e1af-458a-9422-fd3ee53d8551",
       "elementType": "command",
       "guid": "827088ef-4c38-42d9-a752-41dfb15344af",
       "options": null,
       "position": {
        "height": 6,
        "width": 12,
        "x": 0,
        "y": 0,
        "z": null
       }
      },
      {
       "elementNUID": "9f7c5974-e179-45b2-bde8-8fe67391de02",
       "elementType": "command",
       "guid": "af324700-0a69-49bd-ac91-3c42cf0838f6",
       "options": null,
       "position": null
      }
     ],
     "globalVars": {},
     "guid": "627eaf68-426c-4345-b04e-1b5a423aff4b",
     "layoutOption": {
      "grid": true,
      "stack": true
     },
     "nuid": "922449e4-e0a3-4dda-af4c-1cb67b28e996",
     "origId": 1379022347942489,
     "title": "Anomaly Prediction",
     "version": "DashboardViewV1",
     "width": 1024
    }
   ],
   "language": "python",
   "notebookName": "prophet_production",
   "notebookOrigID": 1379022347942464,
   "widgets": {}
  },
  "kernelspec": {
   "display_name": "Python 3",
   "language": "python",
   "name": "python3"
  },
  "language_info": {
   "codemirror_mode": {
    "name": "ipython",
    "version": 3
   },
   "file_extension": ".py",
   "mimetype": "text/x-python",
   "name": "python",
   "nbconvert_exporter": "python",
   "pygments_lexer": "ipython3",
   "version": "3.7.3"
  }
 },
 "nbformat": 4,
 "nbformat_minor": 1
}
